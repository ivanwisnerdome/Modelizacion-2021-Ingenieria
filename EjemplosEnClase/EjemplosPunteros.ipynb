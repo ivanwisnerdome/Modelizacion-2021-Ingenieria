{
 "cells": [
  {
   "cell_type": "markdown",
   "id": "adaptive-joint",
   "metadata": {},
   "source": [
    "# Punteros en Python"
   ]
  },
  {
   "cell_type": "code",
   "execution_count": 2,
   "id": "homeless-oxygen",
   "metadata": {},
   "outputs": [],
   "source": [
    "A  = [ 'uno', 'dos', 'tres', 5, 6, 87.0]"
   ]
  },
  {
   "cell_type": "code",
   "execution_count": 3,
   "id": "permanent-geneva",
   "metadata": {},
   "outputs": [],
   "source": [
    "B = A"
   ]
  },
  {
   "cell_type": "code",
   "execution_count": 4,
   "id": "variable-document",
   "metadata": {},
   "outputs": [],
   "source": [
    "B[0] ='cero'"
   ]
  },
  {
   "cell_type": "code",
   "execution_count": 5,
   "id": "regular-armstrong",
   "metadata": {},
   "outputs": [
    {
     "data": {
      "text/plain": [
       "['cero', 'dos', 'tres', 5, 6, 87.0]"
      ]
     },
     "execution_count": 5,
     "metadata": {},
     "output_type": "execute_result"
    }
   ],
   "source": [
    "B"
   ]
  },
  {
   "cell_type": "code",
   "execution_count": 6,
   "id": "retired-office",
   "metadata": {},
   "outputs": [
    {
     "data": {
      "text/plain": [
       "['cero', 'dos', 'tres', 5, 6, 87.0]"
      ]
     },
     "execution_count": 6,
     "metadata": {},
     "output_type": "execute_result"
    }
   ],
   "source": [
    "A"
   ]
  },
  {
   "cell_type": "code",
   "execution_count": 7,
   "id": "acute-republic",
   "metadata": {},
   "outputs": [],
   "source": [
    "A [1] = 'chau'"
   ]
  },
  {
   "cell_type": "code",
   "execution_count": 8,
   "id": "sacred-quarterly",
   "metadata": {},
   "outputs": [
    {
     "data": {
      "text/plain": [
       "['cero', 'chau', 'tres', 5, 6, 87.0]"
      ]
     },
     "execution_count": 8,
     "metadata": {},
     "output_type": "execute_result"
    }
   ],
   "source": [
    "B"
   ]
  },
  {
   "cell_type": "code",
   "execution_count": 9,
   "id": "respected-parent",
   "metadata": {},
   "outputs": [],
   "source": [
    "import copy"
   ]
  },
  {
   "cell_type": "code",
   "execution_count": 10,
   "id": "featured-fiber",
   "metadata": {},
   "outputs": [],
   "source": [
    "C = copy.copy(A)"
   ]
  },
  {
   "cell_type": "code",
   "execution_count": 11,
   "id": "stretch-helen",
   "metadata": {},
   "outputs": [],
   "source": [
    "C[-1] = C[-1] +3"
   ]
  },
  {
   "cell_type": "code",
   "execution_count": 12,
   "id": "rational-character",
   "metadata": {},
   "outputs": [
    {
     "data": {
      "text/plain": [
       "['cero', 'chau', 'tres', 5, 6, 90.0]"
      ]
     },
     "execution_count": 12,
     "metadata": {},
     "output_type": "execute_result"
    }
   ],
   "source": [
    "C"
   ]
  },
  {
   "cell_type": "code",
   "execution_count": 13,
   "id": "olympic-proof",
   "metadata": {},
   "outputs": [
    {
     "data": {
      "text/plain": [
       "['cero', 'chau', 'tres', 5, 6, 87.0]"
      ]
     },
     "execution_count": 13,
     "metadata": {},
     "output_type": "execute_result"
    }
   ],
   "source": [
    "A"
   ]
  },
  {
   "cell_type": "code",
   "execution_count": null,
   "id": "infrared-official",
   "metadata": {},
   "outputs": [],
   "source": []
  }
 ],
 "metadata": {
  "kernelspec": {
   "display_name": "Python 3",
   "language": "python",
   "name": "python3"
  },
  "language_info": {
   "codemirror_mode": {
    "name": "ipython",
    "version": 3
   },
   "file_extension": ".py",
   "mimetype": "text/x-python",
   "name": "python",
   "nbconvert_exporter": "python",
   "pygments_lexer": "ipython3",
   "version": "3.9.2"
  }
 },
 "nbformat": 4,
 "nbformat_minor": 5
}
