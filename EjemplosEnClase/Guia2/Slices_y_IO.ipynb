{
 "cells": [
  {
   "cell_type": "code",
   "execution_count": 1,
   "id": "compatible-ebony",
   "metadata": {},
   "outputs": [],
   "source": [
    "import numpy as np\n",
    "np.set_printoptions(precision=2, linewidth=100)"
   ]
  },
  {
   "cell_type": "code",
   "execution_count": 2,
   "id": "humanitarian-sunglasses",
   "metadata": {},
   "outputs": [],
   "source": [
    "M = np.random.rand(6,6)"
   ]
  },
  {
   "cell_type": "code",
   "execution_count": 3,
   "id": "statutory-enterprise",
   "metadata": {},
   "outputs": [
    {
     "data": {
      "text/plain": [
       "array([[0.62, 0.4 , 0.59, 0.69, 0.82, 0.81],\n",
       "       [0.49, 0.88, 0.06, 0.41, 1.  , 0.15],\n",
       "       [0.95, 0.52, 0.83, 0.89, 0.34, 0.47],\n",
       "       [0.8 , 0.95, 0.5 , 0.2 , 0.08, 1.  ],\n",
       "       [0.51, 0.08, 0.43, 0.7 , 0.49, 0.83],\n",
       "       [0.37, 0.67, 0.  , 0.12, 0.69, 0.63]])"
      ]
     },
     "execution_count": 3,
     "metadata": {},
     "output_type": "execute_result"
    }
   ],
   "source": [
    "M"
   ]
  },
  {
   "cell_type": "code",
   "execution_count": 4,
   "id": "expired-booth",
   "metadata": {},
   "outputs": [
    {
     "data": {
      "text/plain": [
       "array([[0.59]])"
      ]
     },
     "execution_count": 4,
     "metadata": {},
     "output_type": "execute_result"
    }
   ],
   "source": [
    "M[0:1,2:3]"
   ]
  },
  {
   "cell_type": "code",
   "execution_count": 5,
   "id": "abandoned-nation",
   "metadata": {},
   "outputs": [
    {
     "name": "stdout",
     "output_type": "stream",
     "text": [
      "I :  [0, 1] J:  [0, 1]\n",
      "[[0.62 0.4 ]\n",
      " [0.49 0.88]]\n",
      "-------------------\n",
      "I :  [0, 1] J:  [2, 3]\n",
      "[[0.59 0.69]\n",
      " [0.06 0.41]]\n",
      "-------------------\n",
      "I :  [0, 1] J:  [4, 5]\n",
      "[[0.82 0.81]\n",
      " [1.   0.15]]\n",
      "-------------------\n",
      "I :  [2, 3] J:  [0, 1]\n",
      "[[0.95 0.52]\n",
      " [0.8  0.95]]\n",
      "-------------------\n",
      "I :  [2, 3] J:  [2, 3]\n",
      "[[0.83 0.89]\n",
      " [0.5  0.2 ]]\n",
      "-------------------\n",
      "I :  [2, 3] J:  [4, 5]\n",
      "[[0.34 0.47]\n",
      " [0.08 1.  ]]\n",
      "-------------------\n",
      "I :  [4, 5] J:  [0, 1]\n",
      "[[0.51 0.08]\n",
      " [0.37 0.67]]\n",
      "-------------------\n",
      "I :  [4, 5] J:  [2, 3]\n",
      "[[0.43 0.7 ]\n",
      " [0.   0.12]]\n",
      "-------------------\n",
      "I :  [4, 5] J:  [4, 5]\n",
      "[[0.49 0.83]\n",
      " [0.69 0.63]]\n",
      "-------------------\n"
     ]
    }
   ],
   "source": [
    "for i in [0,1,2]:\n",
    "    for j in [0,1,2]:\n",
    "        I  = [2*i, 2*i+1] #np.linspace(2*i, 2*i+1, 2)#[0,1]\n",
    "        J  = [2*j, 2*j+1]\n",
    "        print('I : ', I, 'J: ', J)\n",
    "        print( M [np.ix_(I, J)] )\n",
    "        print('-------------------')"
   ]
  },
  {
   "cell_type": "code",
   "execution_count": 6,
   "id": "yellow-birmingham",
   "metadata": {},
   "outputs": [
    {
     "data": {
      "text/plain": [
       "array([[0.59, 0.69],\n",
       "       [0.06, 0.41]])"
      ]
     },
     "execution_count": 6,
     "metadata": {},
     "output_type": "execute_result"
    }
   ],
   "source": [
    "M[np.ix_([0,1],[2,3])]"
   ]
  },
  {
   "cell_type": "code",
   "execution_count": 7,
   "id": "seventh-commerce",
   "metadata": {},
   "outputs": [],
   "source": [
    "M3 = np.random.rand(8,8)"
   ]
  },
  {
   "cell_type": "code",
   "execution_count": 8,
   "id": "complex-enclosure",
   "metadata": {},
   "outputs": [
    {
     "data": {
      "text/plain": [
       "array([[0.81, 0.33, 0.6 , 0.4 , 0.91, 0.06, 0.23, 0.58],\n",
       "       [0.6 , 0.07, 0.4 , 0.56, 0.93, 0.86, 0.3 , 0.6 ],\n",
       "       [0.42, 0.05, 0.3 , 0.36, 0.66, 0.44, 0.85, 0.39],\n",
       "       [0.92, 0.95, 0.95, 0.95, 0.56, 0.01, 0.04, 0.44],\n",
       "       [0.26, 0.47, 0.6 , 0.04, 0.24, 0.92, 0.38, 0.92],\n",
       "       [0.34, 0.73, 0.34, 0.26, 0.62, 0.03, 0.73, 0.96],\n",
       "       [0.15, 0.81, 0.92, 0.26, 0.74, 0.89, 0.63, 0.45],\n",
       "       [0.45, 0.26, 0.73, 0.93, 0.29, 0.96, 0.08, 0.9 ]])"
      ]
     },
     "execution_count": 8,
     "metadata": {},
     "output_type": "execute_result"
    }
   ],
   "source": [
    "M3"
   ]
  },
  {
   "cell_type": "code",
   "execution_count": 9,
   "id": "willing-cover",
   "metadata": {},
   "outputs": [
    {
     "name": "stdout",
     "output_type": "stream",
     "text": [
      "I :  [0 1 2 3] ; J:  [0 1 2 3]\n",
      "[[0.81 0.33 0.6  0.4 ]\n",
      " [0.6  0.07 0.4  0.56]\n",
      " [0.42 0.05 0.3  0.36]\n",
      " [0.92 0.95 0.95 0.95]]\n",
      "-------------------\n",
      "I :  [0 1 2 3] ; J:  [4 5 6 7]\n",
      "[[0.91 0.06 0.23 0.58]\n",
      " [0.93 0.86 0.3  0.6 ]\n",
      " [0.66 0.44 0.85 0.39]\n",
      " [0.56 0.01 0.04 0.44]]\n",
      "-------------------\n",
      "I :  [4 5 6 7] ; J:  [0 1 2 3]\n",
      "[[0.26 0.47 0.6  0.04]\n",
      " [0.34 0.73 0.34 0.26]\n",
      " [0.15 0.81 0.92 0.26]\n",
      " [0.45 0.26 0.73 0.93]]\n",
      "-------------------\n",
      "I :  [4 5 6 7] ; J:  [4 5 6 7]\n",
      "[[0.24 0.92 0.38 0.92]\n",
      " [0.62 0.03 0.73 0.96]\n",
      " [0.74 0.89 0.63 0.45]\n",
      " [0.29 0.96 0.08 0.9 ]]\n",
      "-------------------\n"
     ]
    }
   ],
   "source": [
    "for i in [0,1]:\n",
    "    for j in [0,1]:\n",
    "        I  = np.linspace(4*i, 4*(i+1)-1, 4).astype(int) #np.linspace(2*i, 2*i+1, 2)#[0,1]\n",
    "        J  = np.linspace(4*j, 4*(j+1)-1, 4).astype(int) #[2*j, 2*j+1]\n",
    "        print('I : ', I, '; J: ', J)\n",
    "        print( M3 [np.ix_(I, J)] )\n",
    "        print('-------------------')"
   ]
  },
  {
   "cell_type": "markdown",
   "id": "referenced-anderson",
   "metadata": {},
   "source": [
    "# Lectura de datos de un archivo\n",
    " y escritura"
   ]
  },
  {
   "cell_type": "code",
   "execution_count": 10,
   "id": "endangered-knight",
   "metadata": {},
   "outputs": [],
   "source": [
    "np.savetxt('M3_randdom.dat', M3, fmt='%8.3f')"
   ]
  },
  {
   "cell_type": "code",
   "execution_count": 11,
   "id": "dominican-watson",
   "metadata": {},
   "outputs": [],
   "source": [
    "M3R = np.loadtxt('M3_randdom.dat')"
   ]
  },
  {
   "cell_type": "code",
   "execution_count": 12,
   "id": "anticipated-rocket",
   "metadata": {},
   "outputs": [
    {
     "data": {
      "text/plain": [
       "array([[0.81, 0.33, 0.6 , 0.4 , 0.91, 0.06, 0.23, 0.58],\n",
       "       [0.6 , 0.07, 0.4 , 0.56, 0.93, 0.86, 0.3 , 0.6 ],\n",
       "       [0.42, 0.05, 0.3 , 0.36, 0.66, 0.44, 0.85, 0.39],\n",
       "       [0.92, 0.95, 0.95, 0.95, 0.56, 0.01, 0.04, 0.44],\n",
       "       [0.26, 0.47, 0.6 , 0.04, 0.24, 0.92, 0.38, 0.92],\n",
       "       [0.34, 0.73, 0.34, 0.26, 0.62, 0.03, 0.73, 0.96],\n",
       "       [0.15, 0.81, 0.92, 0.27, 0.74, 0.9 , 0.63, 0.45],\n",
       "       [0.46, 0.27, 0.73, 0.93, 0.29, 0.96, 0.08, 0.9 ]])"
      ]
     },
     "execution_count": 12,
     "metadata": {},
     "output_type": "execute_result"
    }
   ],
   "source": [
    "M3R"
   ]
  },
  {
   "cell_type": "code",
   "execution_count": 13,
   "id": "completed-palmer",
   "metadata": {},
   "outputs": [],
   "source": [
    "with open('M3_randdom.dat', 'r') as f:\n",
    "    M3COPY = f.readlines()"
   ]
  },
  {
   "cell_type": "code",
   "execution_count": 15,
   "id": "psychological-company",
   "metadata": {},
   "outputs": [
    {
     "data": {
      "text/plain": [
       "['   0.814    0.331    0.597    0.402    0.912    0.061    0.235    0.580\\n',\n",
       " '   0.601    0.066    0.397    0.565    0.933    0.860    0.301    0.596\\n',\n",
       " '   0.416    0.051    0.302    0.356    0.660    0.444    0.846    0.390\\n',\n",
       " '   0.917    0.947    0.949    0.955    0.565    0.015    0.044    0.441\\n',\n",
       " '   0.258    0.468    0.599    0.044    0.242    0.915    0.378    0.924\\n',\n",
       " '   0.337    0.728    0.337    0.258    0.618    0.026    0.733    0.958\\n',\n",
       " '   0.151    0.811    0.916    0.265    0.740    0.895    0.630    0.447\\n',\n",
       " '   0.455    0.265    0.731    0.929    0.292    0.956    0.084    0.898\\n']"
      ]
     },
     "execution_count": 15,
     "metadata": {},
     "output_type": "execute_result"
    }
   ],
   "source": [
    "M3COPY"
   ]
  },
  {
   "cell_type": "code",
   "execution_count": 22,
   "id": "analyzed-picture",
   "metadata": {},
   "outputs": [],
   "source": [
    "import re"
   ]
  },
  {
   "cell_type": "code",
   "execution_count": 30,
   "id": "broad-digest",
   "metadata": {},
   "outputs": [
    {
     "name": "stdout",
     "output_type": "stream",
     "text": [
      "['0.814', '0.331', '0.597', '0.402', '0.912', '0.061', '0.235', '0.580']\n",
      "[0.814, 0.331, 0.597, 0.402, 0.912, 0.061, 0.235, 0.58]\n",
      "['0.601', '0.066', '0.397', '0.565', '0.933', '0.860', '0.301', '0.596']\n",
      "[0.601, 0.066, 0.397, 0.565, 0.933, 0.86, 0.301, 0.596]\n",
      "['0.416', '0.051', '0.302', '0.356', '0.660', '0.444', '0.846', '0.390']\n",
      "[0.416, 0.051, 0.302, 0.356, 0.66, 0.444, 0.846, 0.39]\n",
      "['0.917', '0.947', '0.949', '0.955', '0.565', '0.015', '0.044', '0.441']\n",
      "[0.917, 0.947, 0.949, 0.955, 0.565, 0.015, 0.044, 0.441]\n",
      "['0.258', '0.468', '0.599', '0.044', '0.242', '0.915', '0.378', '0.924']\n",
      "[0.258, 0.468, 0.599, 0.044, 0.242, 0.915, 0.378, 0.924]\n",
      "['0.337', '0.728', '0.337', '0.258', '0.618', '0.026', '0.733', '0.958']\n",
      "[0.337, 0.728, 0.337, 0.258, 0.618, 0.026, 0.733, 0.958]\n",
      "['0.151', '0.811', '0.916', '0.265', '0.740', '0.895', '0.630', '0.447']\n",
      "[0.151, 0.811, 0.916, 0.265, 0.74, 0.895, 0.63, 0.447]\n",
      "['0.455', '0.265', '0.731', '0.929', '0.292', '0.956', '0.084', '0.898']\n",
      "[0.455, 0.265, 0.731, 0.929, 0.292, 0.956, 0.084, 0.898]\n"
     ]
    }
   ],
   "source": [
    "M3NUMS = []\n",
    "for line in M3COPY:\n",
    "    fila = re.split('\\s+', line.strip())\n",
    "    print(fila)\n",
    "#   filanum = []\n",
    "#   for f in fila:\n",
    "#       filanum.append(float(f))\n",
    "    filanum = [float(f) for f in fila]\n",
    "    print(filanum)\n",
    "    M3NUMS.append(filanum)"
   ]
  },
  {
   "cell_type": "code",
   "execution_count": 29,
   "id": "genuine-improvement",
   "metadata": {},
   "outputs": [
    {
     "data": {
      "text/plain": [
       "[[0.814, 0.331, 0.597, 0.402, 0.912, 0.061, 0.235, 0.58],\n",
       " [0.601, 0.066, 0.397, 0.565, 0.933, 0.86, 0.301, 0.596],\n",
       " [0.416, 0.051, 0.302, 0.356, 0.66, 0.444, 0.846, 0.39],\n",
       " [0.917, 0.947, 0.949, 0.955, 0.565, 0.015, 0.044, 0.441],\n",
       " [0.258, 0.468, 0.599, 0.044, 0.242, 0.915, 0.378, 0.924],\n",
       " [0.337, 0.728, 0.337, 0.258, 0.618, 0.026, 0.733, 0.958],\n",
       " [0.151, 0.811, 0.916, 0.265, 0.74, 0.895, 0.63, 0.447],\n",
       " [0.455, 0.265, 0.731, 0.929, 0.292, 0.956, 0.084, 0.898]]"
      ]
     },
     "execution_count": 29,
     "metadata": {},
     "output_type": "execute_result"
    }
   ],
   "source": [
    "M3NUMS"
   ]
  },
  {
   "cell_type": "code",
   "execution_count": 31,
   "id": "brown-afternoon",
   "metadata": {},
   "outputs": [],
   "source": [
    "with open('M3WRITE.dat', 'w') as f:\n",
    "    f.writelines(M3COPY)"
   ]
  },
  {
   "cell_type": "markdown",
   "id": "welsh-drilling",
   "metadata": {},
   "source": [
    "# Lectura secuencial"
   ]
  },
  {
   "cell_type": "code",
   "execution_count": 32,
   "id": "retained-ghost",
   "metadata": {},
   "outputs": [],
   "source": [
    "f = open('M3_randdom.dat', 'r')"
   ]
  },
  {
   "cell_type": "code",
   "execution_count": 33,
   "id": "anticipated-battlefield",
   "metadata": {},
   "outputs": [
    {
     "data": {
      "text/plain": [
       "<_io.TextIOWrapper name='M3_randdom.dat' mode='r' encoding='UTF-8'>"
      ]
     },
     "execution_count": 33,
     "metadata": {},
     "output_type": "execute_result"
    }
   ],
   "source": [
    "f"
   ]
  },
  {
   "cell_type": "code",
   "execution_count": 34,
   "id": "contrary-organizer",
   "metadata": {},
   "outputs": [],
   "source": [
    "line1 =  f.readline()"
   ]
  },
  {
   "cell_type": "code",
   "execution_count": 49,
   "id": "cloudy-rescue",
   "metadata": {},
   "outputs": [],
   "source": [
    "linea1_nums = [float(f) for f in re.split('\\s+',line1.strip())]"
   ]
  },
  {
   "cell_type": "code",
   "execution_count": 43,
   "id": "ongoing-airfare",
   "metadata": {},
   "outputs": [
    {
     "data": {
      "text/plain": [
       "[0.814, 0.331, 0.597, 0.402, 0.912, 0.061, 0.235, 0.58]"
      ]
     },
     "execution_count": 43,
     "metadata": {},
     "output_type": "execute_result"
    }
   ],
   "source": [
    "linea1_nums"
   ]
  },
  {
   "cell_type": "code",
   "execution_count": 44,
   "id": "duplicate-consolidation",
   "metadata": {},
   "outputs": [],
   "source": [
    "line2 = f.readline()"
   ]
  },
  {
   "cell_type": "code",
   "execution_count": 45,
   "id": "authentic-weight",
   "metadata": {},
   "outputs": [
    {
     "data": {
      "text/plain": [
       "'   0.601    0.066    0.397    0.565    0.933    0.860    0.301    0.596\\n'"
      ]
     },
     "execution_count": 45,
     "metadata": {},
     "output_type": "execute_result"
    }
   ],
   "source": [
    "line2"
   ]
  },
  {
   "cell_type": "code",
   "execution_count": 50,
   "id": "governing-bidding",
   "metadata": {},
   "outputs": [],
   "source": [
    "linea2_nums = [float(f) for f in re.split('\\s+',line2.strip())]"
   ]
  },
  {
   "cell_type": "code",
   "execution_count": 51,
   "id": "above-hawaii",
   "metadata": {},
   "outputs": [
    {
     "data": {
      "text/plain": [
       "[0.601, 0.066, 0.397, 0.565, 0.933, 0.86, 0.301, 0.596]"
      ]
     },
     "execution_count": 51,
     "metadata": {},
     "output_type": "execute_result"
    }
   ],
   "source": [
    "linea2_nums"
   ]
  },
  {
   "cell_type": "code",
   "execution_count": 52,
   "id": "short-macro",
   "metadata": {},
   "outputs": [],
   "source": [
    "f.close()"
   ]
  },
  {
   "cell_type": "markdown",
   "id": "established-milwaukee",
   "metadata": {},
   "source": [
    "# Repetir hasta el final del archivo"
   ]
  },
  {
   "cell_type": "code",
   "execution_count": 56,
   "id": "protecting-pressing",
   "metadata": {},
   "outputs": [
    {
     "name": "stdout",
     "output_type": "stream",
     "text": [
      "<class 'str'>\n",
      "<class 'str'>\n",
      "<class 'str'>\n",
      "<class 'str'>\n",
      "<class 'str'>\n",
      "<class 'str'>\n",
      "<class 'str'>\n",
      "<class 'str'>\n"
     ]
    }
   ],
   "source": [
    "Nums = []\n",
    "with open('M3_randdom.dat','r') as f:\n",
    "    for line in f:\n",
    "        print(type(line))\n",
    "        linea_nums = [float(f) for f in re.split('\\s+',line.strip())]\n",
    "        Nums.append(linea_nums)\n",
    "        "
   ]
  },
  {
   "cell_type": "code",
   "execution_count": 57,
   "id": "former-retention",
   "metadata": {},
   "outputs": [
    {
     "data": {
      "text/plain": [
       "[[0.814, 0.331, 0.597, 0.402, 0.912, 0.061, 0.235, 0.58],\n",
       " [0.601, 0.066, 0.397, 0.565, 0.933, 0.86, 0.301, 0.596],\n",
       " [0.416, 0.051, 0.302, 0.356, 0.66, 0.444, 0.846, 0.39],\n",
       " [0.917, 0.947, 0.949, 0.955, 0.565, 0.015, 0.044, 0.441],\n",
       " [0.258, 0.468, 0.599, 0.044, 0.242, 0.915, 0.378, 0.924],\n",
       " [0.337, 0.728, 0.337, 0.258, 0.618, 0.026, 0.733, 0.958],\n",
       " [0.151, 0.811, 0.916, 0.265, 0.74, 0.895, 0.63, 0.447],\n",
       " [0.455, 0.265, 0.731, 0.929, 0.292, 0.956, 0.084, 0.898]]"
      ]
     },
     "execution_count": 57,
     "metadata": {},
     "output_type": "execute_result"
    }
   ],
   "source": [
    "Nums"
   ]
  },
  {
   "cell_type": "code",
   "execution_count": 58,
   "id": "matched-frequency",
   "metadata": {},
   "outputs": [],
   "source": [
    "import pickle"
   ]
  },
  {
   "cell_type": "code",
   "execution_count": 61,
   "id": "compact-milwaukee",
   "metadata": {},
   "outputs": [],
   "source": [
    "with open('MyVars.pkl', 'wb') as f:\n",
    "    pickle.dump(Nums, f)\n",
    "    pickle.dump(M3NUMS,f)"
   ]
  },
  {
   "cell_type": "code",
   "execution_count": 62,
   "id": "deadly-comparative",
   "metadata": {},
   "outputs": [],
   "source": [
    "with open('MyVars.pkl', 'rb') as f:\n",
    "    NumsCopy = pickle.load(f)"
   ]
  },
  {
   "cell_type": "code",
   "execution_count": 63,
   "id": "strong-cartridge",
   "metadata": {},
   "outputs": [
    {
     "data": {
      "text/plain": [
       "[[0.814, 0.331, 0.597, 0.402, 0.912, 0.061, 0.235, 0.58],\n",
       " [0.601, 0.066, 0.397, 0.565, 0.933, 0.86, 0.301, 0.596],\n",
       " [0.416, 0.051, 0.302, 0.356, 0.66, 0.444, 0.846, 0.39],\n",
       " [0.917, 0.947, 0.949, 0.955, 0.565, 0.015, 0.044, 0.441],\n",
       " [0.258, 0.468, 0.599, 0.044, 0.242, 0.915, 0.378, 0.924],\n",
       " [0.337, 0.728, 0.337, 0.258, 0.618, 0.026, 0.733, 0.958],\n",
       " [0.151, 0.811, 0.916, 0.265, 0.74, 0.895, 0.63, 0.447],\n",
       " [0.455, 0.265, 0.731, 0.929, 0.292, 0.956, 0.084, 0.898]]"
      ]
     },
     "execution_count": 63,
     "metadata": {},
     "output_type": "execute_result"
    }
   ],
   "source": [
    "NumsCopy"
   ]
  },
  {
   "cell_type": "code",
   "execution_count": null,
   "id": "opening-vanilla",
   "metadata": {},
   "outputs": [],
   "source": []
  }
 ],
 "metadata": {
  "kernelspec": {
   "display_name": "Python 3",
   "language": "python",
   "name": "python3"
  },
  "language_info": {
   "codemirror_mode": {
    "name": "ipython",
    "version": 3
   },
   "file_extension": ".py",
   "mimetype": "text/x-python",
   "name": "python",
   "nbconvert_exporter": "python",
   "pygments_lexer": "ipython3",
   "version": "3.9.2"
  }
 },
 "nbformat": 4,
 "nbformat_minor": 5
}
