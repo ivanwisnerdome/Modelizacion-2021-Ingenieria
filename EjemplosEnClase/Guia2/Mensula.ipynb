{
 "cells": [
  {
   "cell_type": "code",
   "execution_count": 59,
   "id": "soviet-senator",
   "metadata": {},
   "outputs": [],
   "source": [
    "import numpy as np\n",
    "np.set_printoptions(precision = 4, linewidth = 132)\n",
    "kbasic=np.array([[1,0,-1,0],\n",
    "                 [0,0,0,0],\n",
    "                 [-1,0,1,0],\n",
    "                 [0,0,0,0]])\n",
    "\n",
    "m=3 #esta informacion debera ser introducida por un .txt CAMBIAR, es el numero de elementos\n",
    "posicionesnodos=np.array([[0,0],\n",
    "                         [1,0],\n",
    "                         [1,1]]) #esta informacion debera ser introducida por un .txt CAMBIAR ,par (x,y)\n",
    "MC=np.array([[0,1],\n",
    "             [0,2],\n",
    "             [1,2]])  #matriz de conectividad de los nodos, debera ser introducida por  .TXT\n",
    "n=len(posicionesnodos)\n",
    "A=np.array([10,10,10]) #area de cada elemento debera ser introducida por un .TXT CAMBIAR\n",
    "E=210e9   #[Pa]\n",
    "\n",
    "T=np.zeros((4,4))\n",
    "Ttranspuesta=np.zeros((4,4))\n"
   ]
  },
  {
   "cell_type": "code",
   "execution_count": 58,
   "id": "comfortable-reason",
   "metadata": {},
   "outputs": [
    {
     "name": "stdout",
     "output_type": "stream",
     "text": [
      "[[ 2.1e+12  0.0e+00 -2.1e+12  0.0e+00  0.0e+00  0.0e+00]\n",
      " [ 0.0e+00  0.0e+00  0.0e+00  0.0e+00  0.0e+00  0.0e+00]\n",
      " [-2.1e+12  0.0e+00  2.1e+12  0.0e+00  0.0e+00  0.0e+00]\n",
      " [ 0.0e+00  0.0e+00  0.0e+00  0.0e+00  0.0e+00  0.0e+00]\n",
      " [ 0.0e+00  0.0e+00  0.0e+00  0.0e+00  0.0e+00  0.0e+00]\n",
      " [ 0.0e+00  0.0e+00  0.0e+00  0.0e+00  0.0e+00  0.0e+00]]\n",
      "[[ 2.8425e+12  7.4246e+11 -2.1000e+12  0.0000e+00 -7.4246e+11 -7.4246e+11]\n",
      " [ 7.4246e+11  7.4246e+11  0.0000e+00  0.0000e+00 -7.4246e+11 -7.4246e+11]\n",
      " [-2.1000e+12  0.0000e+00  2.1000e+12  0.0000e+00  0.0000e+00  0.0000e+00]\n",
      " [ 0.0000e+00  0.0000e+00  0.0000e+00  0.0000e+00  0.0000e+00  0.0000e+00]\n",
      " [-7.4246e+11 -7.4246e+11  0.0000e+00  0.0000e+00  7.4246e+11  7.4246e+11]\n",
      " [-7.4246e+11 -7.4246e+11  0.0000e+00  0.0000e+00  7.4246e+11  7.4246e+11]]\n",
      "[[ 2.8425e+12  7.4246e+11 -2.1000e+12  0.0000e+00 -7.4246e+11 -7.4246e+11]\n",
      " [ 7.4246e+11  7.4246e+11  0.0000e+00  0.0000e+00 -7.4246e+11 -7.4246e+11]\n",
      " [-2.1000e+12  0.0000e+00  2.1000e+12  0.0000e+00  0.0000e+00  0.0000e+00]\n",
      " [ 0.0000e+00  0.0000e+00  0.0000e+00  2.1000e+12  0.0000e+00 -2.1000e+12]\n",
      " [-7.4246e+11 -7.4246e+11  0.0000e+00  0.0000e+00  7.4246e+11  7.4246e+11]\n",
      " [-7.4246e+11 -7.4246e+11  0.0000e+00 -2.1000e+12  7.4246e+11  2.8425e+12]]\n"
     ]
    }
   ],
   "source": [
    "kelemental=[]\n",
    "kglobal=np.zeros((2*n,2*n))\n",
    "for i in range(0,m):\n",
    "    \n",
    "    nodo1=MC[i,0]\n",
    "    nodo2=MC[i,1]\n",
    "    x1=posicionesnodos[nodo1,0]\n",
    "    y1=posicionesnodos[nodo1,1]\n",
    "    x2=posicionesnodos[nodo2,0]\n",
    "    y2=posicionesnodos[nodo2,1]\n",
    "    L=np.sqrt((x1-x2)**2+(y1-y2)**2)\n",
    "    c=E*A[i]/L\n",
    "    klocal=kbasic*c\n",
    "    angulo=np.arctan2((y2-y1),(x2-x1))\n",
    "    # ahora hay que cambiar la base de la matriz de rigidez a las coordenadas globales\n",
    "    cos=np.cos(angulo)\n",
    "    sen=np.sin(angulo)\n",
    "    #armo la matriz de rotacion\n",
    "    T[0,0]=cos \n",
    "    T[0,1]=sen\n",
    "    T[1,0]=-sen\n",
    "    T[1,1]=cos\n",
    "    T[2,2]=cos\n",
    "    T[2,3]=sen\n",
    "    T[3,2]=-sen\n",
    "    T[3,3]=cos\n",
    "    #la matriz transpuesta de rotacion \n",
    "    Ttranspuesta[0,0]=cos \n",
    "    Ttranspuesta[0,1]=-sen\n",
    "    Ttranspuesta[1,0]=sen\n",
    "    Ttranspuesta[1,1]=cos\n",
    "    Ttranspuesta[2,2]=cos     # usar transpose para hacer las cosas mas facil y no definir a mano las transpuesta \n",
    "    Ttranspuesta[2,3]=-sen\n",
    "    Ttranspuesta[3,2]=sen\n",
    "    Ttranspuesta[3,3]=cos\n",
    "    kelemental.append(np.dot(np.dot(Ttranspuesta,klocal),T))\n",
    "    scale=np.max((np.max(kelemental[-1])))\n",
    "    kelemental[-1][abs(kelemental[-1]/scale)<1e-9]=0  # receta para filtrar elementos de la matriz ,con la condicion que aparece dentro del parentesis \n",
    "    #print(kelemental[-1]/c)\n",
    "    \n",
    "    indices_g=np.array([2*nodo1,2*nodo1+1],dtype=int)  #,2*nodo2,2*nodo2+1])\n",
    "    indices2_g=np.array([2*nodo2,2*nodo2+1],dtype=int) #,2*nodo1,2*nodo1+1])\n",
    "    #indices3_g=np.array([2*nodo2,2*nodo2+1,2*nodo1,2*nodo1+1])\n",
    "    #indices4_g=np.array([2*nodo2,2*nodo2+1,2*nodo2,2*nodo2+1])\n",
    "    \n",
    "    indices=np.array([0,1],dtype=int) #,2,3])\n",
    "    indices2=np.array([2,3],dtype=int) #,2*0,2*0+1])\n",
    "    #indices3=np.array([2*1,2*1+1,2*0,2*0+1])\n",
    "    #indices4=np.array([2*1,2*1+1,2*1,2*1+1])\n",
    "    \n",
    "    kglobal[np.ix_(indices_g,indices_g)]+=kelemental[-1][np.ix_(indices,indices)]\n",
    "    kglobal[np.ix_(indices_g,indices2_g)]+=kelemental[-1][np.ix_(indices,indices2)]\n",
    "    kglobal[np.ix_(indices2_g,indices_g)]+=kelemental[-1][np.ix_(indices2,indices)]\n",
    "    kglobal[np.ix_(indices2_g,indices2_g)]+=kelemental[-1][np.ix_(indices2,indices2)]\n",
    "    \n",
    "    print(kglobal)"
   ]
  },
  {
   "cell_type": "code",
   "execution_count": 52,
   "id": "domestic-spyware",
   "metadata": {},
   "outputs": [
    {
     "data": {
      "text/plain": [
       "[array([[2.1e+12, 0.0e+00, 0.0e+00, 0.0e+00],\n",
       "        [0.0e+00, 0.0e+00, 0.0e+00, 0.0e+00],\n",
       "        [0.0e+00, 0.0e+00, 2.1e+12, 0.0e+00],\n",
       "        [0.0e+00, 0.0e+00, 0.0e+00, 0.0e+00]]),\n",
       " array([[7.4246e+11, 7.4246e+11, 0.0000e+00, 0.0000e+00],\n",
       "        [7.4246e+11, 7.4246e+11, 0.0000e+00, 0.0000e+00],\n",
       "        [0.0000e+00, 0.0000e+00, 7.4246e+11, 7.4246e+11],\n",
       "        [0.0000e+00, 0.0000e+00, 7.4246e+11, 7.4246e+11]]),\n",
       " array([[0.0e+00, 0.0e+00, 0.0e+00, 0.0e+00],\n",
       "        [0.0e+00, 2.1e+12, 0.0e+00, 0.0e+00],\n",
       "        [0.0e+00, 0.0e+00, 0.0e+00, 0.0e+00],\n",
       "        [0.0e+00, 0.0e+00, 0.0e+00, 2.1e+12]])]"
      ]
     },
     "execution_count": 52,
     "metadata": {},
     "output_type": "execute_result"
    }
   ],
   "source": [
    "kelemental"
   ]
  },
  {
   "cell_type": "code",
   "execution_count": 51,
   "id": "inappropriate-cannon",
   "metadata": {},
   "outputs": [
    {
     "data": {
      "text/plain": [
       "array([[0.0e+00, 0.0e+00, 0.0e+00, 0.0e+00],\n",
       "       [0.0e+00, 2.1e+12, 0.0e+00, 0.0e+00],\n",
       "       [0.0e+00, 0.0e+00, 0.0e+00, 0.0e+00],\n",
       "       [0.0e+00, 0.0e+00, 0.0e+00, 2.1e+12]])"
      ]
     },
     "execution_count": 51,
     "metadata": {},
     "output_type": "execute_result"
    }
   ],
   "source": [
    "kelemental[2]"
   ]
  },
  {
   "cell_type": "code",
   "execution_count": null,
   "id": "confused-antigua",
   "metadata": {},
   "outputs": [],
   "source": []
  }
 ],
 "metadata": {
  "kernelspec": {
   "display_name": "Python 3",
   "language": "python",
   "name": "python3"
  },
  "language_info": {
   "codemirror_mode": {
    "name": "ipython",
    "version": 3
   },
   "file_extension": ".py",
   "mimetype": "text/x-python",
   "name": "python",
   "nbconvert_exporter": "python",
   "pygments_lexer": "ipython3",
   "version": "3.9.2"
  }
 },
 "nbformat": 4,
 "nbformat_minor": 5
}
