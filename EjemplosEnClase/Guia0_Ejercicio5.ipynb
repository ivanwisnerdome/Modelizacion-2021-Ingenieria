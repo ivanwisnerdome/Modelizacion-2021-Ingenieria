{
 "cells": [
  {
   "cell_type": "code",
   "execution_count": 116,
   "id": "neural-desktop",
   "metadata": {},
   "outputs": [],
   "source": [
    "import numpy as np\n",
    "import matplotlib.pyplot as plt\n",
    "import copy"
   ]
  },
  {
   "cell_type": "markdown",
   "id": "analyzed-outdoors",
   "metadata": {},
   "source": [
    "# Ejercicio 5\n",
    "\n",
    "El agua de un lago de zonas templadas puede dividirse en estratos térmicos. Cerca de la superficie el agua es\n",
    "tibia y liviana (epilimnion) y en el fondo más fría y densa (hipolimnion). Lo mismo sucede en reactores\n",
    "químicos. Ambas capas están separadas, aproximadamente, por un plano conocido por thermocline, donde la\n",
    "derivada segunda de la temperatura respecto de la profundidad se hace cero (o la derivada primera tiene su\n",
    "máximo). A esta profundidad el flujo de calor de la superficie al fondo de la capa se puede calcular con la ley de\n",
    "Fourier, J=−k\n",
    "dT\n",
    "dz . Dados los datos de la tabla siguiente, correspondientes a la temperatura del líquido de\n",
    "un reactor en función de la profundidad y usando el método de splines, realice un ajuste de la temperatura en\n",
    "función de la profundidad y de su derivada. Encuentre la posición aproximada de la thermocline y calcule el\n",
    "flujo de calor a través de la interfaz (tome k=0.01 cal(s. cmºC) )\n"
   ]
  },
  {
   "cell_type": "code",
   "execution_count": 117,
   "id": "surgical-reliance",
   "metadata": {},
   "outputs": [],
   "source": [
    "z,t = np.loadtxt(\"datos\", unpack=True)\n",
    "n=len(z)"
   ]
  },
  {
   "cell_type": "code",
   "execution_count": 118,
   "id": "honest-planning",
   "metadata": {},
   "outputs": [
    {
     "data": {
      "text/plain": [
       "[<matplotlib.lines.Line2D at 0x1e3625bae50>]"
      ]
     },
     "execution_count": 118,
     "metadata": {},
     "output_type": "execute_result"
    },
    {
     "data": {
      "image/png": "[encoded data removed]",
      "text/plain": [
       "<Figure size 432x288 with 1 Axes>"
      ]
     },
     "metadata": {
      "needs_background": "light"
     },
     "output_type": "display_data"
    }
   ],
   "source": [
    "plt.plot(z,t, \"*\")"
   ]
  },
  {
   "cell_type": "code",
   "execution_count": 119,
   "id": "stupid-middle",
   "metadata": {},
   "outputs": [],
   "source": [
    "H=[]\n",
    "D=np.zeros(n)\n",
    "M=np.zeros([n,n])"
   ]
  },
  {
   "cell_type": "code",
   "execution_count": 120,
   "id": "entertaining-thousand",
   "metadata": {},
   "outputs": [],
   "source": [
    "for i in range(n-1):\n",
    "    H.append(z[i+1]-z[i])"
   ]
  },
  {
   "cell_type": "code",
   "execution_count": 121,
   "id": "rotary-liechtenstein",
   "metadata": {},
   "outputs": [],
   "source": [
    "for i in range(1, n-1):\n",
    "    M[i, i-1]=H[i-1]\n",
    "    M[i,i] = 2* (H[i]+H[i-1])\n",
    "    M[i, i+1]=H[i]\n",
    "    D[i]= (t[i+1]-t[i])/H[i]  - (t[i]-t[i-1])/H[i-1]\n",
    "M[0,0]=1\n",
    "M[n-1,n-1]=1\n",
    "D=np.array(D)*3"
   ]
  },
  {
   "cell_type": "code",
   "execution_count": 122,
   "id": "extra-liver",
   "metadata": {},
   "outputs": [],
   "source": [
    "b=np.linalg.solve(M,D)"
   ]
  },
  {
   "cell_type": "code",
   "execution_count": 123,
   "id": "registered-murder",
   "metadata": {},
   "outputs": [],
   "source": [
    "a = []\n",
    "c = []\n",
    "d = []\n",
    "for i in range(len(b)-1):\n",
    "    a.append((b[i+1]-b[i])/(3*H[i]))\n",
    "    c.append((( (t[i+1]-t[i]) / H[i]) -(b[i]*H[i])-(a[i]*(H[i]**2))))\n",
    "    d.append(t[i])"
   ]
  },
  {
   "cell_type": "code",
   "execution_count": 124,
   "id": "stable-insertion",
   "metadata": {},
   "outputs": [
    {
     "data": {
      "text/plain": [
       "[-1.830769230769231,\n",
       " -8.338461538461537,\n",
       " -54.815384615384616,\n",
       " -48.400000000000006,\n",
       " -3.584615384615386,\n",
       " -3.261538461538461]"
      ]
     },
     "execution_count": 124,
     "metadata": {},
     "output_type": "execute_result"
    }
   ],
   "source": [
    "c"
   ]
  },
  {
   "cell_type": "code",
   "execution_count": 125,
   "id": "current-rehabilitation",
   "metadata": {},
   "outputs": [],
   "source": [
    "b=b[:len(b)-1]\n",
    "P = [np.array(a),b,np.array(c),np.array(d)]"
   ]
  },
  {
   "cell_type": "code",
   "execution_count": 126,
   "id": "naughty-corps",
   "metadata": {},
   "outputs": [],
   "source": [
    "P=np.array(P)\n",
    "p=np.zeros([len(P[0]), 4])\n",
    "for j in range(4):\n",
    "    p[0][j]=P[j][0]\n",
    "    p[1][j]=P[j][1]\n",
    "    p[2][j]=P[j][2]\n",
    "    p[3][j]=P[j][3]\n",
    "    p[4][j]=P[j][4]\n",
    "    p[5][j]=P[j][5]"
   ]
  },
  {
   "cell_type": "markdown",
   "id": "fatty-providence",
   "metadata": {},
   "source": [
    "P(z-z[i])"
   ]
  },
  {
   "cell_type": "code",
   "execution_count": 127,
   "id": "hairy-burns",
   "metadata": {},
   "outputs": [
    {
     "data": {
      "text/plain": [
       "[<matplotlib.lines.Line2D at 0x1e362b9c6d0>]"
      ]
     },
     "execution_count": 127,
     "metadata": {},
     "output_type": "execute_result"
    },
    {
     "data": {
      "image/png": "[encoded data removed]",
      "text/plain": [
       "<Figure size 432x288 with 1 Axes>"
      ]
     },
     "metadata": {
      "needs_background": "light"
     },
     "output_type": "display_data"
    }
   ],
   "source": [
    "for i in range(len(P[0])):\n",
    "    x=np.linspace(z[i],z[i+1],80)\n",
    "    plt.plot(x, np.polyval( p[i] , x-z[i] ) )\n",
    "plt.plot(z,t, \"*\")"
   ]
  },
  {
   "cell_type": "code",
   "execution_count": 128,
   "id": "paperback-bernard",
   "metadata": {},
   "outputs": [
    {
     "data": {
      "text/plain": [
       "array([[ -8.67692308,   0.        ,  -1.83076923,  70.        ],\n",
       "       [-44.61538462, -13.01538462,  -8.33846154,  68.        ],\n",
       "       [115.13846154, -79.93846154, -54.81538462,  55.        ],\n",
       "       [-63.93846154,  92.76923077, -48.4       ,  22.        ],\n",
       "       [  4.61538462,  -3.13846154,  -3.58461538,  13.        ],\n",
       "       [ -2.52307692,   3.78461538,  -3.26153846,  11.        ]])"
      ]
     },
     "execution_count": 128,
     "metadata": {},
     "output_type": "execute_result"
    }
   ],
   "source": [
    "p"
   ]
  },
  {
   "cell_type": "code",
   "execution_count": 129,
   "id": "electrical-mozambique",
   "metadata": {},
   "outputs": [],
   "source": [
    "p1=copy.copy( p[:, :3] )"
   ]
  },
  {
   "cell_type": "code",
   "execution_count": 130,
   "id": "remarkable-quarterly",
   "metadata": {},
   "outputs": [],
   "source": [
    "p1[:,0]=p1[:,0]*3"
   ]
  },
  {
   "cell_type": "code",
   "execution_count": 131,
   "id": "raising-aaron",
   "metadata": {},
   "outputs": [],
   "source": [
    "p1[:,1]=p1[:,1]*2"
   ]
  },
  {
   "cell_type": "code",
   "execution_count": 132,
   "id": "solar-contribution",
   "metadata": {},
   "outputs": [
    {
     "data": {
      "text/plain": [
       "array([[ -26.03076923,    0.        ,   -1.83076923],\n",
       "       [-133.84615385,  -26.03076923,   -8.33846154],\n",
       "       [ 345.41538462, -159.87692308,  -54.81538462],\n",
       "       [-191.81538462,  185.53846154,  -48.4       ],\n",
       "       [  13.84615385,   -6.27692308,   -3.58461538],\n",
       "       [  -7.56923077,    7.56923077,   -3.26153846]])"
      ]
     },
     "execution_count": 132,
     "metadata": {},
     "output_type": "execute_result"
    }
   ],
   "source": [
    "p1"
   ]
  },
  {
   "cell_type": "code",
   "execution_count": 145,
   "id": "ethical-attachment",
   "metadata": {},
   "outputs": [
    {
     "data": {
      "text/plain": [
       "[<matplotlib.lines.Line2D at 0x1e364302790>]"
      ]
     },
     "execution_count": 145,
     "metadata": {},
     "output_type": "execute_result"
    },
    {
     "data": {
      "image/png": "[encoded data removed]",
      "text/plain": [
       "<Figure size 432x288 with 1 Axes>"
      ]
     },
     "metadata": {
      "needs_background": "light"
     },
     "output_type": "display_data"
    }
   ],
   "source": [
    "Pol=[]\n",
    "X=[]\n",
    "for i in range(len(P[0])):\n",
    "    x=np.linspace(z[i],z[i+1],80)\n",
    "    pol1=np.polyval( p1[i] , x-z[i] )\n",
    "    plt.plot(x, pol1 )\n",
    "    plt.plot(x, np.polyval( p[i] , x-z[i] ) )\n",
    "    Pol.append(pol1)\n",
    "    X.append(x)\n",
    "plt.plot(z,t, \"*\")"
   ]
  },
  {
   "cell_type": "code",
   "execution_count": 142,
   "id": "white-metadata",
   "metadata": {},
   "outputs": [
    {
     "data": {
      "text/plain": [
       "-73.31269397162684"
      ]
     },
     "execution_count": 142,
     "metadata": {},
     "output_type": "execute_result"
    }
   ],
   "source": [
    "min(np.array(Pol).ravel())"
   ]
  },
  {
   "cell_type": "code",
   "execution_count": 147,
   "id": "another-sarah",
   "metadata": {},
   "outputs": [],
   "source": [
    "B= np.array(X).ravel()"
   ]
  },
  {
   "cell_type": "code",
   "execution_count": 149,
   "id": "neither-nutrition",
   "metadata": {},
   "outputs": [],
   "source": [
    "I = np.argmin(np.array(Pol).ravel())"
   ]
  },
  {
   "cell_type": "code",
   "execution_count": 150,
   "id": "british-pressing",
   "metadata": {},
   "outputs": [
    {
     "data": {
      "text/plain": [
       "1.2341772151898733"
      ]
     },
     "execution_count": 150,
     "metadata": {},
     "output_type": "execute_result"
    }
   ],
   "source": [
    "B[I]"
   ]
  },
  {
   "cell_type": "code",
   "execution_count": null,
   "id": "confident-affiliation",
   "metadata": {},
   "outputs": [],
   "source": []
  }
 ],
 "metadata": {
  "kernelspec": {
   "display_name": "Python 3",
   "language": "python",
   "name": "python3"
  },
  "language_info": {
   "codemirror_mode": {
    "name": "ipython",
    "version": 3
   },
   "file_extension": ".py",
   "mimetype": "text/x-python",
   "name": "python",
   "nbconvert_exporter": "python",
   "pygments_lexer": "ipython3",
   "version": "3.9.2"
  }
 },
 "nbformat": 4,
 "nbformat_minor": 5
}
