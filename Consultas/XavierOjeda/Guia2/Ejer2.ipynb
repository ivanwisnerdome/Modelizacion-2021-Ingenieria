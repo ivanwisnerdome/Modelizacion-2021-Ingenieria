{
 "cells": [
  {
   "cell_type": "code",
   "execution_count": 1,
   "id": "fitting-timber",
   "metadata": {},
   "outputs": [],
   "source": [
    "import numpy as np\n",
    "np.set_printoptions(precision = 4, linewidth = 132)\n",
    "\n",
    "# E = Modulo_elastico ;  S = seccion (considerando todas iguales)\n",
    "# MC = Matriz conectividad ; MN = Matriz nodos \n",
    "\n",
    "Elementos = 5\n",
    "MC = [(0,1),(0,3),(1,3),(1,2),(2,3)]\n",
    "MN = [(0,0),(8,4),(16,0),(8,0)]\n",
    "E = 210E9\n",
    "SECCIONES = [0.001, 0.001, 0.002, 0.001, 0.001]\n",
    "\n",
    "#1 es condicion de fuerza, 2 es condicion de desplazamiento\n",
    "\n",
    "Vinculos = [(0,0), # x nodo 0\n",
    "            (0,0), # y nodo 0 \n",
    "            (1,0), # x nodo 1\n",
    "            (1,0), # y nodo 1 \n",
    "            (1,0), # x nodo 2\n",
    "            (0,0), # y nodo 2            \n",
    "            (1,0), # x nodo 3\n",
    "            (1,-20E3)] # y nodo 3 \n",
    "\n",
    "#MC = [(0,1),(1,2),(0,2)] #Matriz_conectividad (MC)\n",
    "#MN = [(0,0),(1,0),(1,1)] #Matriz_nodos (MN)\n",
    "\n",
    "#AUXILIARES\n",
    "\n",
    "n = len(MN) \n",
    "Matriz_global = np.zeros([n*2,n*2])\n",
    "Matrices_loc = []\n",
    "Fuerza = []\n",
    "Nodos = []\n",
    "Desplazamientos_f = np.zeros(n*2)\n",
    "Tensiones_elementos = []\n",
    "Desplazamientos_local = np.zeros(Elementos-1)"
   ]
  },
  {
   "cell_type": "code",
   "execution_count": 2,
   "id": "breeding-transportation",
   "metadata": {},
   "outputs": [
    {
     "name": "stdout",
     "output_type": "stream",
     "text": [
      "[[ 4.5033e+07  9.3915e+06 -1.8783e+07 -9.3915e+06  0.0000e+00  0.0000e+00 -2.6250e+07  0.0000e+00]\n",
      " [ 9.3915e+06  4.6957e+06 -9.3915e+06 -4.6957e+06  0.0000e+00  0.0000e+00  0.0000e+00  0.0000e+00]\n",
      " [-1.8783e+07 -9.3915e+06  3.7566e+07  0.0000e+00 -1.8783e+07  9.3915e+06  0.0000e+00  0.0000e+00]\n",
      " [-9.3915e+06 -4.6957e+06  0.0000e+00  1.1439e+08  9.3915e+06 -4.6957e+06  0.0000e+00 -1.0500e+08]\n",
      " [ 0.0000e+00  0.0000e+00 -1.8783e+07  9.3915e+06  4.5033e+07 -9.3915e+06 -2.6250e+07  0.0000e+00]\n",
      " [ 0.0000e+00  0.0000e+00  9.3915e+06 -4.6957e+06 -9.3915e+06  4.6957e+06  0.0000e+00  0.0000e+00]\n",
      " [-2.6250e+07  0.0000e+00  0.0000e+00  0.0000e+00 -2.6250e+07  0.0000e+00  5.2500e+07  0.0000e+00]\n",
      " [ 0.0000e+00  0.0000e+00  0.0000e+00 -1.0500e+08  0.0000e+00  0.0000e+00  0.0000e+00  1.0500e+08]]\n"
     ]
    }
   ],
   "source": [
    "for i in range(Elementos): # si range(n) -- 0 1 2 3 pero yo tengo 0 1 2 3 4 elementos ahora no es general pues si cargo el otro ejercicio tendre un elemento de mas\n",
    "    \n",
    "     Sec = SECCIONES[i]\n",
    "        \n",
    "     p,j = MC[i]\n",
    "    \n",
    "     p1,p2 = MN[p]\n",
    "        \n",
    "     j1,j2 = MN[j]\n",
    "    \n",
    "     Largo = np.sqrt((j1-p1)**2 + (j2-p2)**2) \n",
    "        \n",
    "     angulo = np.arctan2(j2-p2,j1-p1) #angulo con cuadrante definido\n",
    "    \n",
    "     C = np.cos(angulo) \n",
    "        \n",
    "     S = np.sin(angulo)  \n",
    "    \n",
    "     matriz = np.array([[C**2,C*S,-C**2,-C*S],[C*S,S**2,-C*S,-S**2],[-C**2,-C*S,C**2,C*S],[-C*S,-S**2,C*S,S**2]]).round(8)\n",
    "        \n",
    "     K = (E*Sec)/Largo\n",
    "    \n",
    "     componente = K*matriz        \n",
    "        \n",
    "     Matrices_loc.append(componente)  \n",
    "    \n",
    "     A_G = np.array([p*2,p*2+1],dtype = int)\n",
    "     B_G = np.array([j*2,j*2+1],dtype = int) \n",
    "    \n",
    "     A_L = np.array([0,1],dtype = int)\n",
    "     B_L = np.array([2,3],dtype = int)\n",
    "\n",
    "    \n",
    "     Matriz_global[np.ix_(A_G,A_G)] +=  componente [np.ix_(A_L,A_L)]\n",
    "     Matriz_global[np.ix_(B_G,B_G)] +=  componente [np.ix_(B_L,B_L)]\n",
    "     Matriz_global[np.ix_(A_G,B_G)] +=  componente [np.ix_(A_L,B_L)]\n",
    "     Matriz_global[np.ix_(B_G,A_G)] +=  componente [np.ix_(B_L,A_L)]\n",
    "    \n",
    "print(Matriz_global)"
   ]
  },
  {
   "cell_type": "code",
   "execution_count": 3,
   "id": "experimental-aside",
   "metadata": {},
   "outputs": [
    {
     "name": "stdout",
     "output_type": "stream",
     "text": [
      "[ 0.0000e+00  1.0000e+04  0.0000e+00  3.4561e-11  1.4552e-11  1.0000e+04  0.0000e+00 -2.0000e+04]\n",
      "\n",
      "[ 0.      0.      0.0008 -0.0037  0.0015  0.      0.0008 -0.0038]\n"
     ]
    }
   ],
   "source": [
    "\n",
    "\n",
    "for i in range(len(Vinculos)):\n",
    "    tipo,valor = Vinculos[i]  \n",
    "    if tipo == 1:\n",
    "        Fuerza.append(valor)\n",
    "        Nodos.append(i)\n",
    "    if tipo == 0:\n",
    "        Desplazamientos_f[i] = valor\n",
    "\n",
    "Fuerza = np.array(Fuerza).reshape(-1,1)\n",
    "\n",
    "Matriz_res = Matriz_global[np.ix_(Nodos,Nodos)]\n",
    "\n",
    "Desplazamientos_parcial = np.linalg.solve(Matriz_res,Fuerza)\n",
    "\n",
    "\n",
    "o = 0\n",
    "for i in Nodos:\n",
    "    Desplazamientos_f[i] = Desplazamientos_parcial [o]\n",
    "    o += 1\n",
    "  \n",
    "\n",
    "Fuerzas_ = np.dot(Matriz_global,Desplazamientos_f)\n",
    "print(Fuerzas_)\n",
    "print()\n",
    "print(Desplazamientos_f)"
   ]
  },
  {
   "cell_type": "code",
   "execution_count": 4,
   "id": "swiss-component",
   "metadata": {},
   "outputs": [],
   "source": [
    "\n",
    "l = 0\n",
    "for i in range(Elementos):\n",
    "       p,j = MC[i]\n",
    "       Desplazamientos_local [0] = Desplazamientos_f[2*p]\n",
    "       Desplazamientos_local [1] = Desplazamientos_f[2*p+1]\n",
    "       Desplazamientos_local [2] = Desplazamientos_f[2*j]\n",
    "       Desplazamientos_local [3] = Desplazamientos_f[2*j+1]\n",
    "       Desplazamientos_local = Desplazamientos_local.reshape(-1,1)\n",
    "       Matriz_loc = Matrices_loc[l]\n",
    "       l += 1\n",
    "       Tensiones_elementos.append(np.dot(Matriz_loc, Desplazamientos_local))"
   ]
  },
  {
   "cell_type": "code",
   "execution_count": null,
   "id": "continuing-insight",
   "metadata": {},
   "outputs": [],
   "source": [
    "#      A_G = np.array([p*2,p*2+1],dtype = int)\n",
    "        \n",
    "#      B_G = np.array([j*2,j*2+1],dtype = int) \n",
    "\n",
    "\n",
    "        \n",
    "#      Matriz_global[np.ix_(A_G,A_G)] +=  componente\n",
    "#      Matriz_global[np.ix_(B_G,B_G)] +=  componente\n",
    "#      Matriz_global[np.ix_(A_G,B_G)] +=  -componente\n",
    "#      Matriz_global[np.ix_(B_G,A_G)] +=  -componente \n",
    "\n",
    "             "
   ]
  },
  {
   "cell_type": "code",
   "execution_count": null,
   "id": "native-nebraska",
   "metadata": {},
   "outputs": [],
   "source": []
  }
 ],
 "metadata": {
  "kernelspec": {
   "display_name": "Python 3",
   "language": "python",
   "name": "python3"
  },
  "language_info": {
   "codemirror_mode": {
    "name": "ipython",
    "version": 3
   },
   "file_extension": ".py",
   "mimetype": "text/x-python",
   "name": "python",
   "nbconvert_exporter": "python",
   "pygments_lexer": "ipython3",
   "version": "3.9.2"
  }
 },
 "nbformat": 4,
 "nbformat_minor": 5
}
