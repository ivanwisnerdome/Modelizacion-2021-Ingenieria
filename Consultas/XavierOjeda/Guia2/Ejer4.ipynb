{
 "cells": [
  {
   "cell_type": "code",
   "execution_count": 1,
   "id": "tamil-theater",
   "metadata": {},
   "outputs": [],
   "source": [
    "import numpy as np\n",
    "\n",
    "E = 210e9\n",
    "Largo = 6\n",
    "I = 2e-4\n",
    "MC = [(0,1),(1,2)]\n",
    "Elementos = len(MC)\n",
    "k_resorte = 200000\n",
    "    \n",
    "\n",
    "#1 es condicion de fuerza, 0 es condicion de angulo o desplazamiento\n",
    "Vinculos = [(0,0), # x nodo 0\n",
    "            (0,0), # y nodo 0 \n",
    "            (0,0), # x nodo 1\n",
    "            (1,0), # y nodo 1 \n",
    "            (1,-50000), # x nodo 2\n",
    "            (1,0), # y nodo 2            \n",
    "            (0,0), # x nodo 3\n",
    "            (0,0)] # y nodo 3"
   ]
  },
  {
   "cell_type": "code",
   "execution_count": 2,
   "id": "determined-blond",
   "metadata": {},
   "outputs": [],
   "source": [
    "\n",
    "L = Largo/Elementos\n",
    "K = (E*I)/(L**3)\n",
    "n = (Elementos+1)*2 + 2 \n",
    "Matriz_global = np.zeros([n,n])\n",
    "\n",
    "\n",
    "Desplazamientos_f = np.zeros(n)\n",
    "Fuerza = []\n",
    "Nodos = []"
   ]
  },
  {
   "cell_type": "code",
   "execution_count": 3,
   "id": "curious-taste",
   "metadata": {},
   "outputs": [
    {
     "name": "stdout",
     "output_type": "stream",
     "text": [
      "[[ 0.33333333  0.5        -0.33333333  0.5       ]\n",
      " [ 0.5         1.         -0.5         0.5       ]\n",
      " [-0.33333333 -0.5         0.33333333 -0.5       ]\n",
      " [ 0.5         0.5        -0.5         1.        ]]\n",
      "56000000.0\n",
      "[[ 0.33333333  0.5        -0.33333333  0.5       ]\n",
      " [ 0.5         1.         -0.5         0.5       ]\n",
      " [-0.33333333 -0.5         0.33333333 -0.5       ]\n",
      " [ 0.5         0.5        -0.5         1.        ]]\n",
      "56000000.0\n"
     ]
    }
   ],
   "source": [
    "# Resolver primero lo demas menos el resorte:\n",
    "\n",
    "for i in range(Elementos):\n",
    "    \n",
    "     p,j = MC[i]\n",
    "    \n",
    "     Matriz = np.array([[12, 6*L, -12, 6*L],\n",
    "                       [6*L, 4*L**2, -6*L, 2*L**2],\n",
    "                       [-12 , -6*L, 12, -6*L],\n",
    "                       [6*L,2*L**2,-6*L, 4* L**2]])\n",
    "    \n",
    "     componente = K*Matriz\n",
    "\n",
    "     A_G = np.array([p*2,p*2+1],dtype = int)\n",
    "     B_G = np.array([j*2,j*2+1],dtype = int) \n",
    "    \n",
    "     A_L = np.array([0,1],dtype = int)\n",
    "     B_L = np.array([2,3],dtype = int)\n",
    "\n",
    "    \n",
    "     Matriz_global[np.ix_(A_G,A_G)] +=  componente [np.ix_(A_L,A_L)]\n",
    "     Matriz_global[np.ix_(B_G,B_G)] +=  componente [np.ix_(B_L,B_L)]\n",
    "     Matriz_global[np.ix_(A_G,B_G)] +=  componente [np.ix_(A_L,B_L)]\n",
    "     Matriz_global[np.ix_(B_G,A_G)] +=  componente [np.ix_(B_L,A_L)]\n",
    "\n"
   ]
  },
  {
   "cell_type": "code",
   "execution_count": 4,
   "id": "brown-teach",
   "metadata": {},
   "outputs": [],
   "source": [
    "\n",
    "Matriz_resorte = np.array([[1,0,-1,0],\n",
    "                           [0,0,0,0],\n",
    "                           [-1,0,1,0],\n",
    "                           [0,0,0,0]])\n",
    "\n",
    "componente_resorte = k_resorte * Matriz_resorte\n",
    "resorte_1 = np.array([n-4,n-3],dtype = int)\n",
    "resorte_2 = np.array([n-2,n-1],dtype = int) \n",
    "    \n",
    "A_L = np.array([0,1],dtype = int)\n",
    "B_L = np.array([2,3],dtype = int)\n",
    "\n",
    "    \n",
    "Matriz_global[np.ix_(resorte_1,resorte_1)] +=  componente_resorte [np.ix_(A_L,A_L)]\n",
    "Matriz_global[np.ix_(resorte_2,resorte_2)] +=  componente_resorte [np.ix_(B_L,B_L)]\n",
    "Matriz_global[np.ix_(resorte_1,resorte_2)] +=  componente_resorte [np.ix_(A_L,B_L)]\n",
    "Matriz_global[np.ix_(resorte_2,resorte_1)] +=  componente_resorte [np.ix_(B_L,A_L)]\n",
    "   "
   ]
  },
  {
   "cell_type": "code",
   "execution_count": 5,
   "id": "covered-mission",
   "metadata": {},
   "outputs": [
    {
     "name": "stdout",
     "output_type": "stream",
     "text": [
      "[-69767.4419 -69767.4419 116279.0698      0.     -50000.         -0.\n",
      "   3488.3721      0.    ]\n",
      "\n",
      "[ 0.      0.      0.     -0.0025 -0.0174 -0.0075  0.      0.    ]\n"
     ]
    }
   ],
   "source": [
    "\n",
    "for i in range(len(Vinculos)):\n",
    "    tipo,valor = Vinculos[i]  \n",
    "    if tipo == 1:\n",
    "        Fuerza.append(valor)\n",
    "        Nodos.append(i)\n",
    "    if tipo == 0:\n",
    "        Desplazamientos_f[i] = valor\n",
    "\n",
    "Fuerza = np.array(Fuerza).reshape(-1,1)\n",
    "\n",
    "Matriz_res = Matriz_global[np.ix_(Nodos,Nodos)]\n",
    "\n",
    "Desplazamientos_parcial = np.linalg.solve(Matriz_res,Fuerza)\n",
    "\n",
    "\n",
    "o = 0\n",
    "for i in Nodos:\n",
    "    Desplazamientos_f[i] = Desplazamientos_parcial [o]\n",
    "    o += 1\n",
    "  \n",
    "\n",
    "Fuerzas_ = np.dot(Matriz_global,Desplazamientos_f)\n",
    "print(Fuerzas_.round(4))\n",
    "print()\n",
    "print(Desplazamientos_f.round(4))"
   ]
  },
  {
   "cell_type": "code",
   "execution_count": 7,
   "id": "hundred-division",
   "metadata": {},
   "outputs": [
    {
     "name": "stdout",
     "output_type": "stream",
     "text": [
      "[[ 0.1667  0.25   -0.1667  0.25    0.      0.      0.      0.    ]\n",
      " [ 0.25    0.5    -0.25    0.25    0.      0.      0.      0.    ]\n",
      " [-0.1667 -0.25    0.3333  0.     -0.1667  0.25    0.      0.    ]\n",
      " [ 0.25    0.25    0.      1.     -0.25    0.25    0.      0.    ]\n",
      " [ 0.      0.     -0.1667 -0.25    0.1685 -0.25   -0.0018  0.    ]\n",
      " [ 0.      0.      0.25    0.25   -0.25    0.5     0.      0.    ]\n",
      " [ 0.      0.      0.      0.     -0.0018  0.      0.0018  0.    ]\n",
      " [ 0.      0.      0.      0.      0.      0.      0.      0.    ]]\n",
      "112000000.0\n"
     ]
    }
   ],
   "source": [
    "\n",
    "np.set_printoptions(linewidth = 700, precision = 4 )\n",
    "\n",
    "print(Matriz_global/Matriz_global.max())\n",
    "print(Matriz_global.max())"
   ]
  },
  {
   "cell_type": "code",
   "execution_count": null,
   "id": "broken-honor",
   "metadata": {},
   "outputs": [],
   "source": []
  },
  {
   "cell_type": "code",
   "execution_count": null,
   "id": "resident-arnold",
   "metadata": {},
   "outputs": [],
   "source": []
  }
 ],
 "metadata": {
  "kernelspec": {
   "display_name": "Python 3",
   "language": "python",
   "name": "python3"
  },
  "language_info": {
   "codemirror_mode": {
    "name": "ipython",
    "version": 3
   },
   "file_extension": ".py",
   "mimetype": "text/x-python",
   "name": "python",
   "nbconvert_exporter": "python",
   "pygments_lexer": "ipython3",
   "version": "3.9.2"
  }
 },
 "nbformat": 4,
 "nbformat_minor": 5
}
