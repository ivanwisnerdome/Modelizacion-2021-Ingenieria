{
 "cells": [
  {
   "cell_type": "code",
   "execution_count": 1,
   "id": "quiet-convertible",
   "metadata": {},
   "outputs": [],
   "source": [
    "import numpy as np\n",
    "import matplotlib.pyplot as plt\n",
    "\n",
    "E = 210E9 \n",
    "A = 10 # cm^2\n",
    "L = 150\n",
    "T = -20 # N/cm^2\n",
    "Particion = 10\n",
    "\n",
    "# E = 30E6 \n",
    "# A = 2 # cm^2\n",
    "# L = 60\n",
    "# T = -10 # N/cm^2\n",
    "# Particion = 4\n",
    "\n"
   ]
  },
  {
   "cell_type": "code",
   "execution_count": 2,
   "id": "decimal-sacramento",
   "metadata": {},
   "outputs": [],
   "source": [
    "Matriz_global = np.zeros([Particion+1,Particion+1])\n",
    "F = np.zeros (Particion+1)\n",
    "\n",
    "matriz = np.array([[1,-1],[-1,1]])\n",
    "K = (E*A*Particion)/L\n",
    "\n",
    "Ft = (1/2)*T*(L/Particion)**2   \n",
    "f1 =  Ft/3  \n",
    "f2 = (2*Ft)/3      \n",
    "\n",
    "\n",
    "empotramiento = np.array([[0]])"
   ]
  },
  {
   "cell_type": "code",
   "execution_count": 3,
   "id": "piano-utility",
   "metadata": {},
   "outputs": [],
   "source": [
    "# Matriz de rigidez\n",
    "for i in range(Particion):\n",
    "\n",
    "    #matriz global\n",
    "    \n",
    "     Matriz_local = K*matriz         \n",
    "     A_G = np.array([i,i+1],dtype = int)\n",
    "     Matriz_global[np.ix_(A_G,A_G)] +=  Matriz_local\n",
    "     \n",
    "     #Fuerzas    \n",
    "     Fu = Ft * i   \n",
    "     F[i] += (Fu + f1)\n",
    "     F[i+1] += (Fu + f2)\n",
    "\n",
    "\n",
    "F = np.array(F).reshape(-1,1)\n",
    "Desplazamientos = np.linalg.solve (Matriz_global[0:Particion,0:Particion],F[0:Particion])\n",
    "Desplazamientos = np.concatenate((Desplazamientos,empotramiento))\n",
    "Fuerzas = np.dot(Matriz_global,Desplazamientos)\n",
    "Reaccion = Fuerzas[Particion] - F[Particion]"
   ]
  },
  {
   "cell_type": "code",
   "execution_count": 4,
   "id": "british-jewel",
   "metadata": {},
   "outputs": [
    {
     "name": "stdout",
     "output_type": "stream",
     "text": [
      "[[ 1.4e+11 -1.4e+11  0.0e+00  0.0e+00  0.0e+00  0.0e+00  0.0e+00  0.0e+00\n",
      "   0.0e+00  0.0e+00  0.0e+00]\n",
      " [-1.4e+11  2.8e+11 -1.4e+11  0.0e+00  0.0e+00  0.0e+00  0.0e+00  0.0e+00\n",
      "   0.0e+00  0.0e+00  0.0e+00]\n",
      " [ 0.0e+00 -1.4e+11  2.8e+11 -1.4e+11  0.0e+00  0.0e+00  0.0e+00  0.0e+00\n",
      "   0.0e+00  0.0e+00  0.0e+00]\n",
      " [ 0.0e+00  0.0e+00 -1.4e+11  2.8e+11 -1.4e+11  0.0e+00  0.0e+00  0.0e+00\n",
      "   0.0e+00  0.0e+00  0.0e+00]\n",
      " [ 0.0e+00  0.0e+00  0.0e+00 -1.4e+11  2.8e+11 -1.4e+11  0.0e+00  0.0e+00\n",
      "   0.0e+00  0.0e+00  0.0e+00]\n",
      " [ 0.0e+00  0.0e+00  0.0e+00  0.0e+00 -1.4e+11  2.8e+11 -1.4e+11  0.0e+00\n",
      "   0.0e+00  0.0e+00  0.0e+00]\n",
      " [ 0.0e+00  0.0e+00  0.0e+00  0.0e+00  0.0e+00 -1.4e+11  2.8e+11 -1.4e+11\n",
      "   0.0e+00  0.0e+00  0.0e+00]\n",
      " [ 0.0e+00  0.0e+00  0.0e+00  0.0e+00  0.0e+00  0.0e+00 -1.4e+11  2.8e+11\n",
      "  -1.4e+11  0.0e+00  0.0e+00]\n",
      " [ 0.0e+00  0.0e+00  0.0e+00  0.0e+00  0.0e+00  0.0e+00  0.0e+00 -1.4e+11\n",
      "   2.8e+11 -1.4e+11  0.0e+00]\n",
      " [ 0.0e+00  0.0e+00  0.0e+00  0.0e+00  0.0e+00  0.0e+00  0.0e+00  0.0e+00\n",
      "  -1.4e+11  2.8e+11 -1.4e+11]\n",
      " [ 0.0e+00  0.0e+00  0.0e+00  0.0e+00  0.0e+00  0.0e+00  0.0e+00  0.0e+00\n",
      "   0.0e+00 -1.4e+11  1.4e+11]]\n",
      "\n",
      "[[  -750.]\n",
      " [ -4500.]\n",
      " [ -9000.]\n",
      " [-13500.]\n",
      " [-18000.]\n",
      " [-22500.]\n",
      " [-27000.]\n",
      " [-31500.]\n",
      " [-36000.]\n",
      " [-40500.]\n",
      " [-21750.]]\n",
      "\n",
      "[225000.]\n"
     ]
    }
   ],
   "source": [
    "print(Matriz_global)\n",
    "print()\n",
    "print(F)\n",
    "print()\n",
    "print(Reaccion)"
   ]
  },
  {
   "cell_type": "code",
   "execution_count": 5,
   "id": "encouraging-surname",
   "metadata": {},
   "outputs": [
    {
     "data": {
      "image/png": "[encoded data removed]",
      "text/plain": [
       "<Figure size 432x288 with 1 Axes>"
      ]
     },
     "metadata": {
      "needs_background": "light"
     },
     "output_type": "display_data"
    }
   ],
   "source": [
    "espacio = np.linspace(0,150,Particion+1)\n",
    "\n",
    "espacio2 = np.linspace(0,150,100)\n",
    "exacta = lambda x: (-T*(x**3-L**3))/(6*A*E)\n",
    "\n",
    "plt.plot(espacio2,exacta(espacio2),'b')\n",
    "plt.plot(espacio,Desplazamientos,'r')\n",
    "plt.show()"
   ]
  },
  {
   "cell_type": "code",
   "execution_count": 10,
   "id": "weird-teach",
   "metadata": {},
   "outputs": [],
   "source": [
    "auxiliar = np.array([-Particion/L,Particion/L])\n",
    "Tension = np.zeros(Particion)\n",
    "espacio = np.linspace(0,L - (L/(Particion)),Particion) + (L/(Particion*2))\n",
    "\n",
    "for i in range(Particion):\n",
    "    Tension [i] = E * np.dot(auxiliar,Desplazamientos[i:i+2])\n"
   ]
  },
  {
   "cell_type": "code",
   "execution_count": 13,
   "id": "restricted-frame",
   "metadata": {},
   "outputs": [
    {
     "data": {
      "image/png": "[encoded data removed]",
      "text/plain": [
       "<Figure size 432x288 with 1 Axes>"
      ]
     },
     "metadata": {
      "needs_background": "light"
     },
     "output_type": "display_data"
    }
   ],
   "source": [
    "espacio2 = np.linspace(0,L,100) \n",
    "exacta = lambda x: (-T*(x**2))/(2*A) #tomar valores medios\n",
    "\n",
    "plt.plot(espacio2,exacta(espacio2),'b', label = 'exacta') \n",
    "plt.plot(espacio,Tension,'o', label = 'la otra') #un elemento menos\n",
    "plt.legend()\n",
    "plt.show()"
   ]
  },
  {
   "cell_type": "code",
   "execution_count": 8,
   "id": "healthy-apollo",
   "metadata": {},
   "outputs": [
    {
     "name": "stdout",
     "output_type": "stream",
     "text": [
      "[   75.   525.  1425.  2775.  4575.  6825.  9525. 12675. 16275. 20325.]\n"
     ]
    }
   ],
   "source": [
    "print(Tension)"
   ]
  },
  {
   "cell_type": "code",
   "execution_count": 14,
   "id": "stock-eleven",
   "metadata": {},
   "outputs": [],
   "source": [
    "Tension = np.array(Tension)\n",
    "\n",
    "TENY = np.hstack( ([0.0], Tension) )\n",
    "# plt.step(self.MN[:, 0], TENY, 'r',\n",
    "#     where='pre', label='Solución Numérica')"
   ]
  },
  {
   "cell_type": "code",
   "execution_count": 15,
   "id": "ordinary-helen",
   "metadata": {},
   "outputs": [
    {
     "data": {
      "text/plain": [
       "array([    0.,    75.,   525.,  1425.,  2775.,  4575.,  6825.,  9525.,\n",
       "       12675., 16275., 20325.])"
      ]
     },
     "execution_count": 15,
     "metadata": {},
     "output_type": "execute_result"
    }
   ],
   "source": [
    "TENY"
   ]
  },
  {
   "cell_type": "code",
   "execution_count": 21,
   "id": "neutral-metadata",
   "metadata": {},
   "outputs": [
    {
     "data": {
      "image/png": "[encoded data removed]",
      "text/plain": [
       "<Figure size 864x576 with 1 Axes>"
      ]
     },
     "metadata": {
      "needs_background": "light"
     },
     "output_type": "display_data"
    }
   ],
   "source": [
    "plt.figure(figsize = (12,8))\n",
    "plt.plot(espacio2,exacta(espacio2),'b', label = 'exacta') \n",
    "plt.step(np.linspace(0,L,Particion+1),TENY,'r',where = 'pre', label = ' solucion numerica')\n",
    "plt.legend()\n",
    "plt.show()"
   ]
  },
  {
   "cell_type": "code",
   "execution_count": null,
   "id": "enclosed-wheat",
   "metadata": {},
   "outputs": [],
   "source": []
  }
 ],
 "metadata": {
  "kernelspec": {
   "display_name": "Python 3",
   "language": "python",
   "name": "python3"
  },
  "language_info": {
   "codemirror_mode": {
    "name": "ipython",
    "version": 3
   },
   "file_extension": ".py",
   "mimetype": "text/x-python",
   "name": "python",
   "nbconvert_exporter": "python",
   "pygments_lexer": "ipython3",
   "version": "3.9.2"
  }
 },
 "nbformat": 4,
 "nbformat_minor": 5
}
