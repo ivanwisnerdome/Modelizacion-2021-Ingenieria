{
 "cells": [
  {
   "cell_type": "code",
   "execution_count": 1,
   "id": "angry-howard",
   "metadata": {},
   "outputs": [],
   "source": [
    "import numpy as np\n",
    "import copy\n",
    "import matplotlib.pyplot as plt"
   ]
  },
  {
   "cell_type": "code",
   "execution_count": 2,
   "id": "unavailable-nigeria",
   "metadata": {},
   "outputs": [],
   "source": [
    "Largo = 0.1\n",
    "Diametro = 0.012\n",
    "Tizq = 80\n",
    "Tder = 30\n",
    "Tinicial = 30\n",
    "c = 900\n",
    "k = 200\n",
    "densidad = 2700\n",
    "intervalo_temp = 0.1"
   ]
  },
  {
   "cell_type": "code",
   "execution_count": 3,
   "id": "intense-saint",
   "metadata": {},
   "outputs": [],
   "source": [
    "Numero_de_elementos = 4\n",
    "Largo_elemento = Largo/Numero_de_elementos\n",
    "tiempo_limite = 5000\n",
    "\n",
    "\n",
    "\n",
    "Numero_de_Nodos = Numero_de_elementos+1\n",
    "\n",
    "temperatura = np.ones((Numero_de_Nodos)) * Tinicial\n",
    "temperatura[0] = Tizq\n",
    "Matriz_rigidez = np.zeros((Numero_de_Nodos,Numero_de_Nodos)) \n",
    "Matriz_conductancia = np.zeros((Numero_de_Nodos,Numero_de_Nodos)) "
   ]
  },
  {
   "cell_type": "code",
   "execution_count": 4,
   "id": "parallel-airplane",
   "metadata": {},
   "outputs": [
    {
     "name": "stdout",
     "output_type": "stream",
     "text": [
      "[1 2 3] [0 4]\n"
     ]
    }
   ],
   "source": [
    "S = np.array([0,Numero_de_Nodos-1])\n",
    "R = np.arange(1,Numero_de_Nodos-1)\n",
    "print(R,S)"
   ]
  },
  {
   "cell_type": "code",
   "execution_count": 5,
   "id": "disciplinary-harvey",
   "metadata": {},
   "outputs": [],
   "source": [
    "for i in range(Numero_de_elementos):\n",
    "    \n",
    "    p = i\n",
    "    j = i+1\n",
    "    \n",
    "    #matriz de conductancia ('masa concentrada')\n",
    "    Matriz_cond = (densidad*c*Largo_elemento/6) * np.array([\n",
    "                                            [2,1],\n",
    "                                            [1,2]     ])\n",
    "    \n",
    "    #Matriz de rigidez\n",
    "                   \n",
    "    Matriz_local = (k/Largo_elemento) * np.array([\n",
    "                                    [1 ,-1],\n",
    "                                    [-1, 1]    ])\n",
    "    \n",
    "\n",
    "    A_G = np.array([p,p+1],dtype = int)\n",
    "    B_G = np.array([j,j+1],dtype = int) \n",
    "    A_L = np.array([0,1],dtype = int)\n",
    "\n",
    "    \n",
    "    Matriz_rigidez[np.ix_(A_G,A_G)] +=  Matriz_local [np.ix_(A_L,A_L)]\n",
    "    Matriz_conductancia[np.ix_(A_G,A_G)] +=  Matriz_cond [np.ix_(A_L,A_L)]\n"
   ]
  },
  {
   "cell_type": "code",
   "execution_count": 6,
   "id": "quarterly-combining",
   "metadata": {
    "tags": []
   },
   "outputs": [],
   "source": [
    "Evolucion = []\n",
    "tiempo = 0\n",
    "Matriz_conductancia_inv = np.linalg.inv(Matriz_conductancia[np.ix_(R,R)])\n",
    "cuenta = 0\n",
    "diferencias = []\n",
    "\n",
    "\n",
    "while tiempo < tiempo_limite:\n",
    "    \n",
    "    tiempo += intervalo_temp\n",
    "    \n",
    "    intermedio = (np.dot(Matriz_rigidez[np.ix_(R,R)],temperatura[R]) + np.dot(Matriz_rigidez[np.ix_(R,S)],temperatura[S]))\n",
    "    temp_siguiente =  temperatura[R] - np.dot(Matriz_conductancia_inv,intermedio) * intervalo_temp  \n",
    "\n",
    "    \n",
    "    temp_siguiente = np.append(np.array([Tizq]),temp_siguiente) \n",
    "    temp_siguiente = np.append(temp_siguiente ,np.array([Tder]))\n",
    "\n",
    "    \n",
    "    \n",
    "    \n",
    "    \n",
    "    intermedio2 = (temp_siguiente - temperatura)/intervalo_temp\n",
    "    intermedio3 = np.dot(Matriz_rigidez,temperatura)\n",
    "    intermedio4 = np.dot(Matriz_conductancia,intermedio2)#.reshape(-1,1))   \n",
    "    flujo = intermedio3 + intermedio4\n",
    "    diferencia = (abs(flujo[0]) - abs(flujo[-1]))\n",
    "    diferencias.append(diferencia)    \n",
    "    temperatura = copy.copy(temp_siguiente)  \n",
    "    if diferencia < 0.5 :\n",
    "        break\n",
    "\n",
    "    \n",
    "\n",
    "    \n",
    "    Evolucion.append(temp_siguiente)"
   ]
  },
  {
   "cell_type": "code",
   "execution_count": 7,
   "id": "verified-length",
   "metadata": {
    "tags": []
   },
   "outputs": [
    {
     "data": {
      "image/png": "[encoded data removed]",
      "text/plain": [
       "<Figure size 432x288 with 1 Axes>"
      ]
     },
     "metadata": {
      "needs_background": "light"
     },
     "output_type": "display_data"
    }
   ],
   "source": [
    "plt.plot(temperatura)\n",
    "plt.show()\n",
    "    "
   ]
  },
  {
   "cell_type": "code",
   "execution_count": 8,
   "id": "expanded-terrain",
   "metadata": {
    "jupyter": {
     "source_hidden": true
    },
    "tags": []
   },
   "outputs": [
    {
     "name": "stdout",
     "output_type": "stream",
     "text": [
      "0\n"
     ]
    }
   ],
   "source": [
    "print(cuenta)"
   ]
  },
  {
   "cell_type": "code",
   "execution_count": 9,
   "id": "regulated-parcel",
   "metadata": {},
   "outputs": [
    {
     "data": {
      "text/plain": [
       "[<matplotlib.lines.Line2D at 0x20248e1efd0>]"
      ]
     },
     "execution_count": 9,
     "metadata": {},
     "output_type": "execute_result"
    },
    {
     "data": {
      "image/png": "[encoded data removed]",
      "text/plain": [
       "<Figure size 432x288 with 1 Axes>"
      ]
     },
     "metadata": {
      "needs_background": "light"
     },
     "output_type": "display_data"
    }
   ],
   "source": [
    "plt.plot(diferencias)"
   ]
  },
  {
   "cell_type": "code",
   "execution_count": null,
   "id": "successful-antique",
   "metadata": {},
   "outputs": [],
   "source": []
  }
 ],
 "metadata": {
  "kernelspec": {
   "display_name": "Python 3",
   "language": "python",
   "name": "python3"
  },
  "language_info": {
   "codemirror_mode": {
    "name": "ipython",
    "version": 3
   },
   "file_extension": ".py",
   "mimetype": "text/x-python",
   "name": "python",
   "nbconvert_exporter": "python",
   "pygments_lexer": "ipython3",
   "version": "3.9.2"
  }
 },
 "nbformat": 4,
 "nbformat_minor": 5
}
