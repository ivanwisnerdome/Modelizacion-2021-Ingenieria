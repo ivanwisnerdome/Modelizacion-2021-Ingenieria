{
 "cells": [
  {
   "cell_type": "code",
   "execution_count": 1,
   "id": "congressional-mexico",
   "metadata": {},
   "outputs": [],
   "source": [
    "import numpy as np\n",
    "import gmsh\n",
    "\n",
    "'''Inicio la construccion de mi figura y mi mallado'''\n",
    "\n",
    "gmsh.initialize() #inicia Gmsh\n",
    "gmsh.model.add('PROBLEMA2') #genera el modelo\n",
    "\n",
    "#Dimensiones de la figura\n",
    "L1 = 10\n",
    "L2 = 5\n",
    "r = 1\n",
    "Lc = 0.3     #Esto definira el tamaño de mi mallado en toda la figura menos cerca del cuarto de circulo\n",
    "Lcr = 0.01  #Refina aun mas el mallado cerca del circulo\n",
    "\n",
    "#Genero los puntos que definen la chapa\n",
    "p1 = gmsh.model.geo.addPoint(0, 0, 0, Lc)\n",
    "p2 = gmsh.model.geo.addPoint(0, L2, 0, Lc) \n",
    "p3 = gmsh.model.geo.addPoint(L1, L2, 0, Lc) \n",
    "p4 = gmsh.model.geo.addPoint(L1, 0, 0, Lc)\n",
    "\n",
    "#Genero los puntos que definen el cuarto de circulo\n",
    "p5 = gmsh.model.geo.addPoint(0,r,0,Lcr)\n",
    "p6 = gmsh.model.geo.addPoint(r,0,0,Lcr)\n",
    "\n",
    "#Genero las lineas que definen la chapa\n",
    "l1 = gmsh.model.geo.addLine(p5, p2)\n",
    "l2 = gmsh.model.geo.addLine(p2, p3)\n",
    "l3 = gmsh.model.geo.addLine(p3, p4)\n",
    "l4 = gmsh.model.geo.addLine(p4, p6)\n",
    "\n",
    "#Genero el cuarto de circulo\n",
    "semi1 = gmsh.model.geo.addCircleArc(p5,p1 ,p6) \n",
    "\n",
    "#Genero el contorno uniendo todas las lineas y el cuarto de criculo\n",
    "C1 = gmsh.model.geo.addCurveLoop([l1, l2, l3, l4])\n",
    "C2 = gmsh.model.geo.addCurveLoop([semi1])\n",
    "\n",
    "S1 = gmsh.model.geo.addPlaneSurface([C1,C2]) #asi se genera la superifice descontando el circulo\n",
    "\n",
    "\n",
    "#Genero de las condiciones de contorno\n",
    "\n",
    "TrashNodo = gmsh.model.addPhysicalGroup(0, [p1])       #Esto me permitira mas adelante anclar el centro del circulo para evitar problemas de matriz singular\n",
    "gmsh.model.setPhysicalName(0, TrashNodo, 'Trash')\n",
    "\n",
    "Empotradox = gmsh.model.addPhysicalGroup(1, [l1])      #Esto me permitira empotrar en el eje x los nodos de la pared vertical izquierda  \n",
    "gmsh.model.setPhysicalName(1,Empotradox,'Empotradox')\n",
    "\n",
    "\n",
    "Empotradoy = gmsh.model.addPhysicalGroup(1, [l4])      #Esto me permitira empotrar en el eje y los nodos de la pared horizontal inferior  \n",
    "gmsh.model.setPhysicalName(1,Empotradoy,'Empotradoy')\n",
    "\n",
    "\n",
    "Traccionado = gmsh.model.addPhysicalGroup(1, [l3])      #Esto me permitira definir las fuerzas de traccion en el eje y   \n",
    "gmsh.model.setPhysicalName(1,Traccionado,'Traccionado') \n",
    "\n",
    "\n",
    "Superficie = gmsh.model.addPhysicalGroup(2,[S1])         #Esto genera un grupo fisico con todos los nodos de la superficie\n",
    "gmsh.model.setPhysicalName(2,Superficie, 'Superficie')\n",
    "\n",
    "\n",
    "gmsh.model.geo.synchronize() #sincroniza lo que definimos con el modelo que creamos arriba\n",
    "gmsh.model.mesh.generate(2)\n"
   ]
  },
  {
   "cell_type": "code",
   "execution_count": 2,
   "id": "irish-highway",
   "metadata": {},
   "outputs": [],
   "source": [
    "'''En estas lineas recopilo toda la informacion de los nodos que me permite armar las matrices de conectividad (MC) y de posicion de los nodos (MN)'''\n",
    "\n",
    "NodeInfo = gmsh.model.mesh.get_nodes()\n",
    "NodeInfo[1].shape\n",
    "NumeroNodos = NodeInfo[0].shape[0]\n",
    "MN = NodeInfo[1].reshape(NumeroNodos , 3)\n",
    "\n",
    "\n",
    "ElementInfo = gmsh.model.mesh.get_elements()\n",
    "ETAGS, ELEMENTS = gmsh.model.mesh.get_elements_by_type(2)\n",
    "MC = ELEMENTS.reshape([ETAGS.shape[0],3])\n",
    "\n"
   ]
  },
  {
   "cell_type": "code",
   "execution_count": 3,
   "id": "drawn-catalog",
   "metadata": {
    "tags": []
   },
   "outputs": [],
   "source": [
    "'''Calculo las fuerzas sobre cada uno de los elementos de la seccion traccionada\n",
    "   Una ventaja del metodo implementado para hacerlo es que se independiza de los elementos sean simetricos unos con otros'''\n",
    "\n",
    "entityTraccionada = gmsh.model.getEntitiesForPhysicalGroup(1, Traccionado) \n",
    "Tgroup, Ttraccionada, Ltraccionada = gmsh.model.mesh.getElements(1, entityTraccionada[0])\n",
    "Ltraccionada = Ltraccionada[0].reshape(Ttraccionada[0].shape[0],2) \n",
    "espesor = 1\n",
    "tension = 1000 #Pa\n",
    "MNDFuerzas = np.zeros((2*NumeroNodos,1))  #Creo un vector donde ubicare las fuerzas\n",
    "\n",
    "for l, linea in enumerate(Ltraccionada):  #Con esto calculo las fuerzas sobre cada elemento tal y como explique en el PDF\n",
    "    n1 = int(linea[0] - 1)\n",
    "    n2 = int(linea[1] - 1)\n",
    "    longitud = np.abs(MN[n1,1]-MN[n2,1])  #Calculo las longitudes de cada segmento\n",
    "    Flocal = tension*longitud*espesor*1/2\n",
    "    MNDFuerzas[int(2*n1)] += Flocal\n",
    "    MNDFuerzas[int(2*n2)] += Flocal\n",
    "    "
   ]
  },
  {
   "cell_type": "code",
   "execution_count": 4,
   "id": "removed-spectacular",
   "metadata": {
    "tags": []
   },
   "outputs": [],
   "source": [
    "'''Creo los vectores R y S que permiten aplicar las condiciones de contorno del problema'''\n",
    "\n",
    "\n",
    "Sx = 2 * (gmsh.model.mesh.get_nodes_for_physical_group(1,Empotradox)[0] - 1)\n",
    "Sy = 2 * (gmsh.model.mesh.get_nodes_for_physical_group(1,Empotradoy)[0] - 1) +1\n",
    "Strash1 = 2 * (gmsh.model.mesh.get_nodes_for_physical_group(0,TrashNodo)[0] - 1)\n",
    "Strash2 = 2 * (gmsh.model.mesh.get_nodes_for_physical_group(0,TrashNodo)[0] - 1) + 1\n",
    "S = np.hstack([Sx,Sy,Strash1,Strash2])  #Nodos donde aplico condiciones de empotramiento incluyendo al nodo que ya comente antes (el del centro del circulo)\n",
    "R = np.delete(np.arange(2*NumeroNodos),S) #Nodos donde aplico condiciones de fuerza, sea nula o las ya definidas mas arriba"
   ]
  },
  {
   "cell_type": "code",
   "execution_count": 5,
   "id": "standard-weekly",
   "metadata": {},
   "outputs": [],
   "source": [
    "'''Genero todas las matrices y elementos que luego utilizare'''\n",
    "E = 30E6\n",
    "v = 0.3\n",
    "\n",
    "D = (E/(1-v**2))*np.array([[1,v,0],[v,1,0],[0,0,(0.5*(1-v))]])\n",
    "Matriz_coordenadas = np.ones((3,3))\n",
    "Matriz_global = np.zeros([2*len(MN),2*len(MN)])\n",
    "Matrices_Bloc = []\n",
    "Areas = []"
   ]
  },
  {
   "cell_type": "code",
   "execution_count": 6,
   "id": "indirect-grove",
   "metadata": {
    "tags": []
   },
   "outputs": [],
   "source": [
    "for l in range (len(MC)):\n",
    "    \n",
    "    I,M,J = MC[l]  #Nombro cada uno de los nodos leyendo la matriz MC\n",
    "    \n",
    "    i = int(I - 1) ; m = int(M - 1) ; j = int(J - 1) #GMSH enumera desde 1 pero python desde 0 por lo que este paso es necesario\n",
    "    \n",
    "    x = np.array([MN[i,0],MN[m,0],MN[j,0]])  #posiciones en x de los nodos\n",
    "    y = np.array([MN[i,1],MN[m,1],MN[j,1]])  #posiciones en y de los nodos\n",
    "\n",
    "    Bi = y[1] - y[2] ;   Bm = y[2] - y[0] ;    Bj = y[0] - y[1]      #calculo los coeficientes B y G\n",
    "    Gi = x[2] - x[1] ;   Gm = x[0] - x[2] ;    Gj = x[1] - x[0]      \n",
    "    Matriz_coordenadas[:,0] = x\n",
    "    Matriz_coordenadas[:,1] = y\n",
    "    \n",
    "    Area = np.linalg.det(Matriz_coordenadas)/2   #calculo las areas con el determinante de la matriz de coordenadas \n",
    "    \n",
    "    #Calulo las matrices locales y las ubico en la matriz global\n",
    "    \n",
    "    Matriz1 = (1/(2*Area)) * np.array([[Bi,0,Bm,0,Bj,0],[0,Gi,0,Gm,0,Gj],[Gi,Bi,Gm,Bm,Gj,Bj]])  \n",
    "    Matrices_Bloc.append(Matriz1)  \n",
    "    Matriz_local = espesor * abs(Area) * (np.dot(np.transpose(Matriz1), np.dot(D,Matriz1)))\n",
    "\n",
    "    A_G = np.array([i*2,i*2+1,m*2,m*2+1,j*2,j*2+1])  #indices\n",
    "    Matriz_global[np.ix_(A_G,A_G)] += Matriz_local\n",
    "    \n",
    "    "
   ]
  },
  {
   "cell_type": "code",
   "execution_count": 7,
   "id": "divided-cowboy",
   "metadata": {
    "tags": []
   },
   "outputs": [],
   "source": [
    "Desplazamientos_parcial = np.linalg.solve(Matriz_global[np.ix_(R,R)],MNDFuerzas[R]) #encuentro los desplazamientos que faltan\n",
    "\n",
    "Desplazamientos_f = np.zeros(len(MN)*2)\n",
    "\n",
    "o = 0 \n",
    "\n",
    "#Ubico todos los desplazamientos en sus respectivos nodos \n",
    "for i in range(NumeroNodos*2):\n",
    "    if i in R:\n",
    "        Desplazamientos_f[i] = Desplazamientos_parcial[o]\n",
    "        o += 1\n",
    "        \n",
    "    if i in S:\n",
    "        Desplazamientos_f[i] = 0\n",
    "\n",
    "    \n",
    "    \n",
    "Fuerzas_total = np.dot(Matriz_global,Desplazamientos_f)  #Encuentro todas las fuerzas que faltan"
   ]
  },
  {
   "cell_type": "code",
   "execution_count": 8,
   "id": "norwegian-officer",
   "metadata": {},
   "outputs": [],
   "source": [
    "#Caluclo de los esfuerzos\n",
    "\n",
    "Tensiones = []\n",
    "\n",
    "for p in range(len(MC)):\n",
    "    \n",
    "    I,M,J = MC[p]    \n",
    "    \n",
    "    i = int(I - 1) ; m = int(M - 1) ; j = int(J - 1)\n",
    "\n",
    "    \n",
    "    nodos = [2*i,2*i+1,2*m,2*m+1,2*j,2*j+1]\n",
    "    \n",
    "    \n",
    "    A = np.dot(Matrices_Bloc[p],Desplazamientos_f[nodos])\n",
    "    \n",
    "    B = np.dot(D,A)\n",
    "\n",
    "   \n",
    "    Tensiones.append(B)\n",
    "\n",
    "Tensiones_ = np.array(Tensiones)\n",
    "\n"
   ]
  },
  {
   "cell_type": "code",
   "execution_count": 9,
   "id": "wooden-coast",
   "metadata": {},
   "outputs": [],
   "source": [
    "'''agrega todos los datos en el modelo construido al incio'''\n",
    "\n",
    "Problema2 = gmsh.view.add(\"Problema2\")\n",
    "problema2 = gmsh.view.addModelData(Problema2, 0, 'PROBLEMA2', 'ElementData', ETAGS, Tensiones_[:,0].reshape(-1,1) , numComponents=1)"
   ]
  },
  {
   "cell_type": "code",
   "execution_count": 10,
   "id": "worth-declaration",
   "metadata": {},
   "outputs": [],
   "source": [
    "'''agrega todos los datos en el modelo construido al incio'''\n",
    "\n",
    "#Reconstruyo los desplazamientos en un matriz de 3x3 para que el gmsh lo pueda graficar\n",
    "Desplazamientos = np.zeros((len(MN),3))\n",
    "for i in range(len(MN)):\n",
    "    Desplazamientos[i] = [Desplazamientos_f[i*2],Desplazamientos_f[i*2+1],0]\n",
    "\n",
    "Problema12 = gmsh.view.add(\"Problema2\")\n",
    "problema12 = gmsh.view.addModelData(Problema12, 0, 'PROBLEMA2', 'NodeData', NodeInfo[0], Desplazamientos  , numComponents=3)\n"
   ]
  },
  {
   "cell_type": "code",
   "execution_count": 11,
   "id": "incorporated-smile",
   "metadata": {},
   "outputs": [],
   "source": [
    "gmsh.fltk.run() "
   ]
  }
 ],
 "metadata": {
  "kernelspec": {
   "display_name": "Python 3",
   "language": "python",
   "name": "python3"
  },
  "language_info": {
   "codemirror_mode": {
    "name": "ipython",
    "version": 3
   },
   "file_extension": ".py",
   "mimetype": "text/x-python",
   "name": "python",
   "nbconvert_exporter": "python",
   "pygments_lexer": "ipython3",
   "version": "3.9.2"
  }
 },
 "nbformat": 4,
 "nbformat_minor": 5
}
