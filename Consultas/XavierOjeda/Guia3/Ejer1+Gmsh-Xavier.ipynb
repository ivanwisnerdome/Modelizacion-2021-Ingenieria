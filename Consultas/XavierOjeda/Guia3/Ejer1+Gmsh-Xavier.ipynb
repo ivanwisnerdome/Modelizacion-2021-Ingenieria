{
 "cells": [
  {
   "cell_type": "code",
   "execution_count": 1,
   "id": "verbal-preserve",
   "metadata": {},
   "outputs": [],
   "source": [
    "import numpy as np\n",
    "import gmsh\n",
    "\n",
    "\n",
    "gmsh.initialize()\n",
    "gmsh.model.add('PROBLEMA1')\n",
    "\n",
    "\n",
    "# Generado de la figura\n",
    "L1 = 20\n",
    "L2 = 10\n",
    "Lc = 20 #caso del ejercicio con 4 triangulos\n",
    "#Lc = 1\n",
    "\n",
    "p1 = gmsh.model.geo.addPoint(0, 0, 0, Lc)\n",
    "p2 = gmsh.model.geo.addPoint(0, L2, 0, Lc) \n",
    "p3 = gmsh.model.geo.addPoint(L1, L2, 0, Lc) \n",
    "p4 = gmsh.model.geo.addPoint(L1, 0, 0, Lc)\n",
    "\n",
    "l1 = gmsh.model.geo.addLine(p1, p2)\n",
    "l2 = gmsh.model.geo.addLine(p2, p3)\n",
    "l3 = gmsh.model.geo.addLine(p3, p4)\n",
    "l4 = gmsh.model.geo.addLine(p4, p1)\n",
    "\n",
    "C1 = gmsh.model.geo.addCurveLoop([l1, l2, l3, l4])\n",
    "\n",
    "S1 = gmsh.model.geo.addPlaneSurface([C1])\n",
    "\n",
    "\n",
    "\n",
    "\n",
    "#Generado de las condiciones de contorno\n",
    "\n",
    "Empotrado = gmsh.model.addPhysicalGroup(1, [l1]) #1 es para curva o linea!\n",
    "gmsh.model.setPhysicalName(1,Empotrado,'Empotrado')\n",
    "\n",
    "Traccionado = gmsh.model.addPhysicalGroup(1, [l3])\n",
    "gmsh.model.setPhysicalName(1,Traccionado,'Traccionado') #esta funcion le pone nombre a todos los nodos aca\n",
    "\n",
    "Superficie = gmsh.model.addPhysicalGroup(2,[S1]) #2 es para superficies!\n",
    "gmsh.model.setPhysicalName(2,Superficie, 'Superficie')\n",
    "\n",
    "\n",
    "gmsh.model.geo.synchronize() #sincroniza lo que creamos con el modelo que creamos arriba\n",
    "gmsh.model.mesh.generate(2)\n",
    "\n",
    "#gmsh.fltk.run()"
   ]
  },
  {
   "cell_type": "code",
   "execution_count": 2,
   "id": "increasing-season",
   "metadata": {},
   "outputs": [],
   "source": [
    "NodeInfo = gmsh.model.mesh.get_nodes()\n",
    "NodeInfo[1].shape\n",
    "NumeroNodos = NodeInfo[0].shape[0]\n",
    "MN = NodeInfo[1].reshape(NumeroNodos , 3)\n",
    "\n",
    "\n",
    "ElementInfo = gmsh.model.mesh.get_elements()\n",
    "ETAGS, ELEMENTS = gmsh.model.mesh.get_elements_by_type(2)\n",
    "MC = ELEMENTS.reshape([ETAGS.shape[0],3])\n"
   ]
  },
  {
   "cell_type": "code",
   "execution_count": 3,
   "id": "blocked-talent",
   "metadata": {},
   "outputs": [],
   "source": [
    "#Empotrados\n",
    "NodosEmpotrados = gmsh.model.mesh.get_nodes_for_physical_group(1,Empotrado)\n",
    "A = NodosEmpotrados[0].reshape(-1,1)\n",
    "B = np.zeros((len(A),2))\n",
    "MNE = np.concatenate((A,B) , axis = 1)\n",
    "\n",
    "#Traccionados\n",
    "NodosTraccionados = gmsh.model.mesh.get_nodes_for_physical_group(1, Traccionado)\n",
    "C = NodosTraccionados[0].reshape(-1,1)\n",
    "D = np.zeros((len(C),2))\n",
    "MNT = np.concatenate((C,D) , axis = 1)\n",
    "MNT[:,1] = 5000\n",
    "\n",
    "\n",
    "\n",
    "#resto?"
   ]
  },
  {
   "cell_type": "code",
   "execution_count": 4,
   "id": "prepared-composer",
   "metadata": {},
   "outputs": [],
   "source": [
    "Nodoslibres = []\n",
    "\n",
    "Nodos = gmsh.model.mesh.get_nodes_for_physical_group(2, Superficie)\n",
    "for i in Nodos[0]:\n",
    "    if i in NodosTraccionados[0]:\n",
    "        l = 0\n",
    "    elif i in NodosEmpotrados[0]:\n",
    "        l = 0\n",
    "    else:\n",
    "        Nodoslibres.append(i)\n",
    "        \n",
    "E = np.array(Nodoslibres).reshape(-1,1)\n",
    "D = np.zeros((len(E),2))\n",
    "Interior = np.concatenate((E,D) , axis = 1)\n",
    "MNT = np.concatenate((Interior,MNT) , axis = 0)\n",
    "\n",
    "gmsh.finalize()"
   ]
  },
  {
   "cell_type": "code",
   "execution_count": 5,
   "id": "exterior-miller",
   "metadata": {},
   "outputs": [],
   "source": [
    "#MNT[np.argsort(MNT[:,0])]\n"
   ]
  },
  {
   "cell_type": "code",
   "execution_count": 6,
   "id": "ignored-sweden",
   "metadata": {},
   "outputs": [
    {
     "name": "stdout",
     "output_type": "stream",
     "text": [
      "[[ 0.  0.  0.]\n",
      " [ 0. 10.  0.]\n",
      " [20. 10.  0.]\n",
      " [20.  0.  0.]\n",
      " [10.  5.  0.]]\n",
      "\n",
      "[[3 4 5]\n",
      " [1 2 5]\n",
      " [4 1 5]\n",
      " [2 3 5]]\n",
      "\n",
      "[[1. 0. 0.]\n",
      " [2. 0. 0.]]\n",
      "\n",
      "[[5.e+00 0.e+00 0.e+00]\n",
      " [3.e+00 5.e+03 0.e+00]\n",
      " [4.e+00 5.e+03 0.e+00]]\n"
     ]
    }
   ],
   "source": [
    "print(MN)\n",
    "print()\n",
    "print(MC)\n",
    "print()\n",
    "print(MNE)\n",
    "print()\n",
    "print(MNT)"
   ]
  },
  {
   "cell_type": "code",
   "execution_count": 7,
   "id": "interested-custody",
   "metadata": {},
   "outputs": [],
   "source": [
    "espesor = 1\n",
    "E = 30E6\n",
    "v = 0.3"
   ]
  },
  {
   "cell_type": "code",
   "execution_count": 8,
   "id": "valued-confusion",
   "metadata": {},
   "outputs": [],
   "source": [
    "D = (E/(1-v**2))*np.array([[1,v,0],[v,1,0],[0,0,(0.5*(1-v))]])\n",
    "Matriz_coordenadas = np.ones((3,3))\n",
    "Matriz_global = np.zeros([2*len(MN),2*len(MN)])\n",
    "Matrices_Bloc = []\n",
    "Areas = []"
   ]
  },
  {
   "cell_type": "code",
   "execution_count": 9,
   "id": "intermediate-impression",
   "metadata": {},
   "outputs": [
    {
     "name": "stdout",
     "output_type": "stream",
     "text": [
      "[[ 48.   26.   -4.    1.    0.    0.    4.   -1.  -48.  -26. ]\n",
      " [ 26.   87.   -1.  -36.5   0.    0.    1.   36.5 -26.  -87. ]\n",
      " [ -4.   -1.   48.  -26.    4.    1.    0.    0.  -48.   26. ]\n",
      " [  1.  -36.5 -26.   87.   -1.   36.5   0.    0.   26.  -87. ]\n",
      " [  0.    0.    4.   -1.   48.   26.   -4.    1.  -48.  -26. ]\n",
      " [  0.    0.    1.   36.5  26.   87.   -1.  -36.5 -26.  -87. ]\n",
      " [  4.    1.    0.    0.   -4.   -1.   48.  -26.  -48.   26. ]\n",
      " [ -1.   36.5   0.    0.    1.  -36.5 -26.   87.   26.  -87. ]\n",
      " [-48.  -26.  -48.   26.  -48.  -26.  -48.   26.  192.    0. ]\n",
      " [-26.  -87.   26.  -87.  -26.  -87.   26.  -87.    0.  348. ]]\n"
     ]
    }
   ],
   "source": [
    "for i in range (len(MC)):\n",
    "    \n",
    "    I,M,J = MC[i]    \n",
    "    i = int(I - 1) ; m = int(M - 1) ; j = int(J - 1)\n",
    "    \n",
    "    x = np.array([MN[i,0],MN[m,0],MN[j,0]])\n",
    "    y = np.array([MN[i,1],MN[m,1],MN[j,1]])\n",
    "    #Bm = y[0] - y[2] ;   Bi = y[2] - y[1] ;    Bj = y[1] - y[0]\n",
    "    #Gi = x[1] - x[2] ;   Gm = x[2] - x[0] ;    Gj = x[0] - x[1]  \n",
    "    Bi = y[1] - y[2] ;   Bm = y[2] - y[0] ;    Bj = y[0] - y[1]\n",
    "    Gi = x[2] - x[1] ;   Gm = x[0] - x[2] ;    Gj = x[1] - x[0]      \n",
    "    Matriz_coordenadas[:,0] = x\n",
    "    Matriz_coordenadas[:,1] = y\n",
    "    \n",
    "    Area = np.linalg.det(Matriz_coordenadas)/2\n",
    "\n",
    "   # Matriz1 = (1/(2*Area)) * np.array([[Bi,0,Bj,0,Bm,0],[0,Gi,0,Gj,0,Gm],[Gi,Bi,Gj,Bj,Gm,Bm]])\n",
    "    Matriz1 = (1/(2*Area)) * np.array([[Bi,0,Bm,0,Bj,0],[0,Gi,0,Gm,0,Gj],[Gi,Bi,Gm,Bm,Gj,Bj]])\n",
    "    Matrices_Bloc.append(Matriz1)\n",
    "    Matriz_local = espesor * abs(Area) * (np.dot(np.transpose(Matriz1), np.dot(D,Matriz1)))\n",
    "\n",
    "    A_G = np.array([i*2,i*2+1,m*2,m*2+1,j*2,j*2+1]) #aca pasa algo raro\n",
    "    Matriz_global[np.ix_(A_G,A_G)] += Matriz_local\n",
    "    \n",
    "print(Matriz_global*(0.91/375000))"
   ]
  },
  {
   "cell_type": "code",
   "execution_count": 10,
   "id": "light-wound",
   "metadata": {},
   "outputs": [
    {
     "name": "stdout",
     "output_type": "stream",
     "text": [
      "[-5000.     -2002.1356 -5000.      2002.1356  5000.        -0.\n",
      "  5000.        -0.         0.         0.    ]\n",
      "\n",
      "[ 0.00000000e+00  0.00000000e+00  0.00000000e+00  0.00000000e+00\n",
      "  6.46645311e+02 -6.66310731e+01  6.46645311e+02  6.66310731e+01\n",
      "  3.05276740e+02 -2.91735235e-13]\n"
     ]
    }
   ],
   "source": [
    "Desplazamientos_f = np.zeros(len(MN)*2)\n",
    "Fuerza = []\n",
    "Nodos = []\n",
    "\n",
    "\n",
    "for i in MNE:\n",
    "    Nodo,valorx,valory = i \n",
    "    nodo = int(Nodo-1)\n",
    "    Desplazamientos_f[2*nodo] = valorx\n",
    "    Desplazamientos_f[2*nodo+1] = valory\n",
    "\n",
    "\n",
    "for i in MNT:\n",
    "    Nodo,valorx,valory = i\n",
    "    nodo = int(Nodo-1)\n",
    "    Fuerza.append(valorx)\n",
    "    Fuerza.append(valory)\n",
    "    Nodos.append(2*nodo)\n",
    "    Nodos.append(2*nodo+1) \n",
    "\n",
    "\n",
    "Fuerza = np.array(Fuerza).reshape(-1,1)\n",
    "\n",
    "Matriz_res = Matriz_global[np.ix_(Nodos,Nodos)]\n",
    "\n",
    "Desplazamientos_parcial = np.linalg.solve(Matriz_res,Fuerza)\n",
    "\n",
    "\n",
    "o = 0\n",
    "for i in Nodos:\n",
    "    Desplazamientos_f[i] = Desplazamientos_parcial [o]\n",
    "    o += 1\n",
    "  \n",
    "\n",
    "Fuerzas_ = np.dot(Matriz_global,Desplazamientos_f)\n",
    "print(Fuerzas_.round(4))\n",
    "print()\n",
    "print(Desplazamientos_f*1e6)"
   ]
  },
  {
   "cell_type": "code",
   "execution_count": 11,
   "id": "accomplished-independence",
   "metadata": {},
   "outputs": [
    {
     "name": "stdout",
     "output_type": "stream",
     "text": [
      "[ 9.93593166e+02 -1.01708489e+02 -5.43207041e-14]\n",
      "\n",
      "[ 1.00640683e+03  3.01922050e+02 -3.36617579e-13]\n",
      "\n",
      "[1000.          100.10678057   -3.20341698]\n",
      "\n",
      "[1000.          100.10678057    3.20341698]\n",
      "\n"
     ]
    }
   ],
   "source": [
    "#Esfuerzos\n",
    "\n",
    "Tensiones = []\n",
    "\n",
    "for p in range(len(MC)):\n",
    "    \n",
    "    I,M,J = MC[p]    \n",
    "    \n",
    "    i = int(I - 1) ; m = int(M - 1) ; j = int(J - 1)\n",
    "\n",
    "    \n",
    "    nodos = [2*i,2*i+1,2*m,2*m+1,2*j,2*j+1]\n",
    "    \n",
    "    \n",
    "    A = np.dot(Matrices_Bloc[p],Desplazamientos_f[nodos])\n",
    "    \n",
    "    B = np.dot(D,A)\n",
    "\n",
    "   \n",
    "    Tensiones.append(B)\n",
    "\n",
    "for i in range (len(Tensiones)):\n",
    "    print(Tensiones[i])\n",
    "    print()"
   ]
  },
  {
   "cell_type": "code",
   "execution_count": null,
   "id": "excited-collection",
   "metadata": {},
   "outputs": [],
   "source": []
  }
 ],
 "metadata": {
  "kernelspec": {
   "display_name": "Python 3",
   "language": "python",
   "name": "python3"
  },
  "language_info": {
   "codemirror_mode": {
    "name": "ipython",
    "version": 3
   },
   "file_extension": ".py",
   "mimetype": "text/x-python",
   "name": "python",
   "nbconvert_exporter": "python",
   "pygments_lexer": "ipython3",
   "version": "3.9.2"
  }
 },
 "nbformat": 4,
 "nbformat_minor": 5
}
