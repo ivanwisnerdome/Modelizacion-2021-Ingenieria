{
 "cells": [
  {
   "cell_type": "code",
   "execution_count": 86,
   "id": "intense-opinion",
   "metadata": {},
   "outputs": [],
   "source": [
    "import numpy as np\n",
    "import gmsh\n",
    "\n",
    "gmsh.initialize() #inicia Gmsh\n",
    "gmsh.model.add('PROBLEMA2') #genera el modelo\n",
    "\n",
    "\n",
    "# Generado de la figura\n",
    "L1 = 20\n",
    "L2 = 10\n",
    "#Lc = 20 #caso del ejercicio\n",
    "Lc = 1\n",
    "Lcr = 1  #Refina aun mas el mallado cerca del circulo\n",
    "\n",
    "#chapa\n",
    "p1 = gmsh.model.geo.addPoint(0, 0, 0, Lc)\n",
    "p2 = gmsh.model.geo.addPoint(0, L2, 0, Lc) \n",
    "p3 = gmsh.model.geo.addPoint(L1, L2, 0, Lc) \n",
    "p4 = gmsh.model.geo.addPoint(L1, 0, 0, Lc)\n",
    "\n",
    "#circulo\n",
    "p5 = gmsh.model.geo.addPoint(9,L2/2,0,Lcr)\n",
    "p6 = gmsh.model.geo.addPoint(11,L2/2,0,Lcr)\n",
    "Pcentro = gmsh.model.geo.addPoint(10,L2/2,0,Lcr)\n",
    "\n",
    "l1 = gmsh.model.geo.addLine(p1, p2)\n",
    "l2 = gmsh.model.geo.addLine(p2, p3)\n",
    "l3 = gmsh.model.geo.addLine(p3, p4)\n",
    "l4 = gmsh.model.geo.addLine(p4, p1)\n",
    "\n",
    "semi1 = gmsh.model.geo.addCircleArc(p5,Pcentro ,p6) #genera semicirculos , segun como acomode p5 y p6 ira por arriba o por abajo\n",
    "semi2 = gmsh.model.geo.addCircleArc(p6,Pcentro, p5)\n",
    "\n",
    "C1 = gmsh.model.geo.addCurveLoop([l1, l2, l3, l4])\n",
    "C2 = gmsh.model.geo.addCurveLoop([semi1, semi2])\n",
    "\n",
    "S1 = gmsh.model.geo.addPlaneSurface([C1,C2]) #asi se genera la superifice descontando el circulo\n",
    "\n",
    "gmsh.model.geo.synchronize()\n",
    "\n",
    "\n",
    "#Generado de las condiciones de contorno\n",
    "\n",
    "TraccionadoIzq = gmsh.model.addPhysicalGroup(1, [l1]) #1 es para curva o linea!\n",
    "gmsh.model.setPhysicalName(1,TraccionadoIzq,'TraccionadoIzq')\n",
    "\n",
    "TraccionadoDer = gmsh.model.addPhysicalGroup(1, [l3])\n",
    "gmsh.model.setPhysicalName(1,TraccionadoDer,'TraccionadoDer')\n",
    "\n",
    "Superficie = gmsh.model.addPhysicalGroup(2,[S1]) #2 es para superficies!\n",
    "gmsh.model.setPhysicalName(2,Superficie, 'Superficie')\n",
    "\n",
    "\n",
    "\n",
    "\n",
    "gmsh.model.mesh.generate(2)"
   ]
  },
  {
   "cell_type": "code",
   "execution_count": 87,
   "id": "invisible-little",
   "metadata": {},
   "outputs": [],
   "source": [
    "NodeInfo = gmsh.model.mesh.get_nodes()\n",
    "NodeInfo[1].shape\n",
    "NumeroNodos = NodeInfo[0].shape[0]\n",
    "MN = NodeInfo[1].reshape(NumeroNodos , 3)\n",
    "\n",
    "\n",
    "ElementInfo = gmsh.model.mesh.get_elements()\n",
    "ETAGS, ELEMENTS = gmsh.model.mesh.get_elements_by_type(2)\n",
    "MC = ELEMENTS.reshape([ETAGS.shape[0],3])\n"
   ]
  },
  {
   "cell_type": "code",
   "execution_count": 88,
   "id": "frank-contrary",
   "metadata": {},
   "outputs": [],
   "source": [
    "#TraccionadosIzq\n",
    "NodosTraccionadosIzq = gmsh.model.mesh.get_nodes_for_physical_group(1,TraccionadoIzq)\n",
    "A = NodosTraccionadosIzq[0].reshape(-1,1)\n",
    "B = np.zeros((len(A),2))\n",
    "MNTI = np.concatenate((A,B) , axis = 1)\n",
    "MNTI[:,1] = 5000\n",
    "\n",
    "#TraccionadosDer\n",
    "NodosTraccionadosDer = gmsh.model.mesh.get_nodes_for_physical_group(1, TraccionadoDer)\n",
    "C = NodosTraccionadosDer[0].reshape(-1,1)\n",
    "D = np.zeros((len(A),2))\n",
    "MNTD = np.concatenate((C,D) , axis = 1)\n",
    "MNTD[:,1] = 5000\n",
    "\n",
    "\n",
    "Nodoslibres = []\n",
    "\n",
    "Nodos = gmsh.model.mesh.get_nodes_for_physical_group(2, Superficie)\n",
    "for i in Nodos[0]:\n",
    "    if i in NodosTraccionadosDer[0]:\n",
    "        l = 0\n",
    "    elif i in NodosTraccionadosIzq[0]:\n",
    "        l = 0\n",
    "    else:\n",
    "        Nodoslibres.append(i)\n",
    "        \n",
    "E = np.array(Nodoslibres).reshape(-1,1)\n",
    "D = np.zeros((len(E),2))\n",
    "Interior = np.concatenate((E,D) , axis = 1)\n",
    "\n",
    "\n",
    "Fuerzas_mallado = np.concatenate((MNTI,Interior,MNTD) , axis = 0)\n",
    "\n"
   ]
  },
  {
   "cell_type": "code",
   "execution_count": 89,
   "id": "successful-bolivia",
   "metadata": {},
   "outputs": [],
   "source": [
    "gmsh.fltk.run()\n",
    "gmsh.finalize()"
   ]
  },
  {
   "cell_type": "code",
   "execution_count": 80,
   "id": "wound-cosmetic",
   "metadata": {},
   "outputs": [],
   "source": [
    "espesor = 1\n",
    "E = 30E6\n",
    "v = 0.3\n",
    "\n",
    "D = (E/(1-v**2))*np.array([[1,v,0],[v,1,0],[0,0,(0.5*(1-v))]])\n",
    "Matriz_coordenadas = np.ones((3,3))\n",
    "Matriz_global = np.zeros([2*len(MN),2*len(MN)])\n",
    "Matrices_Bloc = []"
   ]
  },
  {
   "cell_type": "code",
   "execution_count": 81,
   "id": "indoor-saying",
   "metadata": {},
   "outputs": [],
   "source": [
    "Fuerza = np.zeros(len(MN)*2)\n",
    "for i in Fuerzas_mallado:\n",
    "    Nodo,valorx,valory = i \n",
    "    nodo = int(Nodo-1)\n",
    "    Fuerza[2*nodo] = valorx\n",
    "    Fuerza[2*nodo+1] = valory\n",
    "\n",
    "fuerza = Fuerza.reshape(-1,1)"
   ]
  },
  {
   "cell_type": "code",
   "execution_count": 82,
   "id": "given-lodge",
   "metadata": {},
   "outputs": [
    {
     "name": "stdout",
     "output_type": "stream",
     "text": [
      "[[ 940.62057796 -506.79160632    0.         ...    0.\n",
      "     0.            0.        ]\n",
      " [-506.79160632 1721.03770698    0.         ...    0.\n",
      "     0.            0.        ]\n",
      " [   0.            0.          601.36925498 ...    0.\n",
      "     0.            0.        ]\n",
      " ...\n",
      " [   0.            0.            0.         ... 4831.64745838\n",
      "     0.            0.        ]\n",
      " [   0.            0.            0.         ...    0.\n",
      "     0.            0.        ]\n",
      " [   0.            0.            0.         ...    0.\n",
      "     0.            0.        ]]\n"
     ]
    }
   ],
   "source": [
    "for i in range (len(MC)):\n",
    "    \n",
    "    I,M,J = MC[i]    \n",
    "    i = int(I - 1) ; m = int(M - 1) ; j = int(J - 1)\n",
    "    \n",
    "    x = np.array([MN[i,0],MN[m,0],MN[j,0]])\n",
    "    y = np.array([MN[i,1],MN[m,1],MN[j,1]])\n",
    "    Bm = y[0] - y[2] ;   Bi = y[2] - y[1] ;    Bj = y[1] - y[0]\n",
    "    Gi = x[1] - x[2] ;   Gm = x[2] - x[0] ;    Gj = x[0] - x[1]  \n",
    "    \n",
    "    Matriz_coordenadas[:,0] = x\n",
    "    Matriz_coordenadas[:,1] = y\n",
    "    \n",
    "    Area = abs(np.linalg.det(Matriz_coordenadas)/2)\n",
    "\n",
    "    Matriz1 = (1/(2*Area)) * np.array([[Bi,0,Bj,0,Bm,0],[0,Gi,0,Gj,0,Gm],[Gi,Bi,Gj,Bj,Gm,Bm]])\n",
    "\n",
    "    Matrices_Bloc.append(Matriz1)\n",
    "    Matriz_local = espesor * Area * (np.dot(np.transpose(Matriz1), np.dot(D,Matriz1)))\n",
    "\n",
    "    A_G = np.array([i*2,i*2+1,j*2,j*2+1,m*2,m*2+1]) #aca pasa algo raro\n",
    "    Matriz_global[np.ix_(A_G,A_G)] += Matriz_local\n",
    "    "
   ]
  },
  {
   "cell_type": "code",
   "execution_count": 90,
   "id": "rocky-physics",
   "metadata": {},
   "outputs": [
    {
     "ename": "ValueError",
     "evalue": "solve: Input operand 1 has a mismatch in its core dimension 0, with gufunc signature (m,m),(m,n)->(m,n) (size 312 is different from 626)",
     "output_type": "error",
     "traceback": [
      "\u001b[1;31m---------------------------------------------------------------------------\u001b[0m",
      "\u001b[1;31mValueError\u001b[0m                                Traceback (most recent call last)",
      "\u001b[1;32m<ipython-input-90-306d8c8ab64a>\u001b[0m in \u001b[0;36m<module>\u001b[1;34m\u001b[0m\n\u001b[1;32m----> 1\u001b[1;33m \u001b[0mDesplazamientos\u001b[0m \u001b[1;33m=\u001b[0m \u001b[0mnp\u001b[0m\u001b[1;33m.\u001b[0m\u001b[0mlinalg\u001b[0m\u001b[1;33m.\u001b[0m\u001b[0msolve\u001b[0m\u001b[1;33m(\u001b[0m\u001b[0mMatriz_global\u001b[0m\u001b[1;33m,\u001b[0m\u001b[0mFuerzas\u001b[0m\u001b[1;33m)\u001b[0m\u001b[1;33m\u001b[0m\u001b[1;33m\u001b[0m\u001b[0m\n\u001b[0m",
      "\u001b[1;32m<__array_function__ internals>\u001b[0m in \u001b[0;36msolve\u001b[1;34m(*args, **kwargs)\u001b[0m\n",
      "\u001b[1;32m~\\Documents\\xavier\\WinPython\\python-3.9.2.amd64\\lib\\site-packages\\numpy\\linalg\\linalg.py\u001b[0m in \u001b[0;36msolve\u001b[1;34m(a, b)\u001b[0m\n\u001b[0;32m    391\u001b[0m     \u001b[0msignature\u001b[0m \u001b[1;33m=\u001b[0m \u001b[1;34m'DD->D'\u001b[0m \u001b[1;32mif\u001b[0m \u001b[0misComplexType\u001b[0m\u001b[1;33m(\u001b[0m\u001b[0mt\u001b[0m\u001b[1;33m)\u001b[0m \u001b[1;32melse\u001b[0m \u001b[1;34m'dd->d'\u001b[0m\u001b[1;33m\u001b[0m\u001b[1;33m\u001b[0m\u001b[0m\n\u001b[0;32m    392\u001b[0m     \u001b[0mextobj\u001b[0m \u001b[1;33m=\u001b[0m \u001b[0mget_linalg_error_extobj\u001b[0m\u001b[1;33m(\u001b[0m\u001b[0m_raise_linalgerror_singular\u001b[0m\u001b[1;33m)\u001b[0m\u001b[1;33m\u001b[0m\u001b[1;33m\u001b[0m\u001b[0m\n\u001b[1;32m--> 393\u001b[1;33m     \u001b[0mr\u001b[0m \u001b[1;33m=\u001b[0m \u001b[0mgufunc\u001b[0m\u001b[1;33m(\u001b[0m\u001b[0ma\u001b[0m\u001b[1;33m,\u001b[0m \u001b[0mb\u001b[0m\u001b[1;33m,\u001b[0m \u001b[0msignature\u001b[0m\u001b[1;33m=\u001b[0m\u001b[0msignature\u001b[0m\u001b[1;33m,\u001b[0m \u001b[0mextobj\u001b[0m\u001b[1;33m=\u001b[0m\u001b[0mextobj\u001b[0m\u001b[1;33m)\u001b[0m\u001b[1;33m\u001b[0m\u001b[1;33m\u001b[0m\u001b[0m\n\u001b[0m\u001b[0;32m    394\u001b[0m \u001b[1;33m\u001b[0m\u001b[0m\n\u001b[0;32m    395\u001b[0m     \u001b[1;32mreturn\u001b[0m \u001b[0mwrap\u001b[0m\u001b[1;33m(\u001b[0m\u001b[0mr\u001b[0m\u001b[1;33m.\u001b[0m\u001b[0mastype\u001b[0m\u001b[1;33m(\u001b[0m\u001b[0mresult_t\u001b[0m\u001b[1;33m,\u001b[0m \u001b[0mcopy\u001b[0m\u001b[1;33m=\u001b[0m\u001b[1;32mFalse\u001b[0m\u001b[1;33m)\u001b[0m\u001b[1;33m)\u001b[0m\u001b[1;33m\u001b[0m\u001b[1;33m\u001b[0m\u001b[0m\n",
      "\u001b[1;31mValueError\u001b[0m: solve: Input operand 1 has a mismatch in its core dimension 0, with gufunc signature (m,m),(m,n)->(m,n) (size 312 is different from 626)"
     ]
    }
   ],
   "source": [
    "Desplazamientos = np.linalg.solve(Matriz_global,Fuerzas)"
   ]
  },
  {
   "cell_type": "code",
   "execution_count": null,
   "id": "focused-roots",
   "metadata": {},
   "outputs": [],
   "source": []
  }
 ],
 "metadata": {
  "kernelspec": {
   "display_name": "Python 3",
   "language": "python",
   "name": "python3"
  },
  "language_info": {
   "codemirror_mode": {
    "name": "ipython",
    "version": 3
   },
   "file_extension": ".py",
   "mimetype": "text/x-python",
   "name": "python",
   "nbconvert_exporter": "python",
   "pygments_lexer": "ipython3",
   "version": "3.9.2"
  }
 },
 "nbformat": 4,
 "nbformat_minor": 5
}
