{
 "cells": [
  {
   "cell_type": "code",
   "execution_count": 1,
   "id": "homeless-owner",
   "metadata": {},
   "outputs": [],
   "source": [
    "import numpy as np\n",
    "import gmsh\n",
    "\n",
    "gmsh.initialize() #inicia Gmsh\n",
    "gmsh.model.add('PROBLEMA2') #genera el modelo\n",
    "\n",
    "\n",
    "# Generado de la figura\n",
    "L1 = 10\n",
    "L2 = 5\n",
    "r = 1\n",
    "#Lc = 20 #caso del ejercicio\n",
    "Lc = 4\n",
    "Lcr = 0.1  #Refina aun mas el mallado cerca del circulo\n",
    "\n",
    "#chapa\n",
    "p1 = gmsh.model.geo.addPoint(0, 0, 0, Lc)\n",
    "p2 = gmsh.model.geo.addPoint(0, L2, 0, Lc) \n",
    "p3 = gmsh.model.geo.addPoint(L1, L2, 0, Lc) \n",
    "p4 = gmsh.model.geo.addPoint(L1, 0, 0, Lc)\n",
    "\n",
    "#circulo\n",
    "p5 = gmsh.model.geo.addPoint(0,r,0,Lcr)\n",
    "p6 = gmsh.model.geo.addPoint(r,0,0,Lcr)\n",
    "\n",
    "\n",
    "l1 = gmsh.model.geo.addLine(p5, p2)\n",
    "l2 = gmsh.model.geo.addLine(p2, p3)\n",
    "l3 = gmsh.model.geo.addLine(p3, p4)\n",
    "l4 = gmsh.model.geo.addLine(p4, p6)\n",
    "\n",
    "semi1 = gmsh.model.geo.addCircleArc(p5,p1 ,p6) \n",
    "\n",
    "\n",
    "C1 = gmsh.model.geo.addCurveLoop([l1, l2, l3, l4])\n",
    "C2 = gmsh.model.geo.addCurveLoop([semi1])\n",
    "\n",
    "S1 = gmsh.model.geo.addPlaneSurface([C1,C2]) #asi se genera la superifice descontando el circulo\n",
    "\n",
    "\n",
    "#Generado de las condiciones de contorno\n",
    "\n",
    "TrashNodo = gmsh.model.addPhysicalGroup(0, [p1])\n",
    "gmsh.model.setPhysicalName(0, TrashNodo, 'Trash')\n",
    "\n",
    "Empotradox = gmsh.model.addPhysicalGroup(1, [l1]) #1 es para curva o linea!\n",
    "gmsh.model.setPhysicalName(1,Empotradox,'Empotradox')\n",
    "\n",
    "\n",
    "Empotradoy = gmsh.model.addPhysicalGroup(1, [l4]) #1 es para curva o linea!\n",
    "gmsh.model.setPhysicalName(1,Empotradoy,'Empotradoy')\n",
    "\n",
    "\n",
    "Traccionado = gmsh.model.addPhysicalGroup(1, [l3])\n",
    "gmsh.model.setPhysicalName(1,Traccionado,'Traccionado') #esta funcion le pone nombre a todos los nodos aca\n",
    "\n",
    "\n",
    "Superficie = gmsh.model.addPhysicalGroup(2,[S1]) #2 es para superficies!\n",
    "gmsh.model.setPhysicalName(2,Superficie, 'Superficie')\n",
    "\n",
    "\n",
    "gmsh.model.geo.synchronize() #sincroniza lo que creamos con el modelo que creamos arriba\n",
    "gmsh.model.mesh.generate(2)"
   ]
  },
  {
   "cell_type": "code",
   "execution_count": 2,
   "id": "specialized-ghost",
   "metadata": {},
   "outputs": [],
   "source": [
    "NodeInfo = gmsh.model.mesh.get_nodes()\n",
    "NodeInfo[1].shape\n",
    "NumeroNodos = NodeInfo[0].shape[0]\n",
    "MN = NodeInfo[1].reshape(NumeroNodos , 3)\n",
    "\n",
    "\n",
    "ElementInfo = gmsh.model.mesh.get_elements()\n",
    "ETAGS, ELEMENTS = gmsh.model.mesh.get_elements_by_type(2)\n",
    "MC = ELEMENTS.reshape([ETAGS.shape[0],3])\n",
    "\n"
   ]
  },
  {
   "cell_type": "code",
   "execution_count": 3,
   "id": "technological-baptist",
   "metadata": {
    "tags": []
   },
   "outputs": [],
   "source": [
    "entityTraccionada = gmsh.model.getEntitiesForPhysicalGroup(1, Traccionado)\n",
    "Tgroup, Ttraccionada, Ltraccionada = gmsh.model.mesh.getElements(1, entityTraccionada[0])\n",
    "Ltraccionada = Ltraccionada[0].reshape(Ttraccionada[0].shape[0],2)\n",
    "espesor = 1\n",
    "tension = 1000 #Pa\n",
    "MNDFuerzas = np.zeros((2*NumeroNodos,1))\n",
    "\n",
    "for l, linea in enumerate(Ltraccionada):\n",
    "    n1 = int(linea[0] - 1)\n",
    "    n2 = int(linea[1] - 1)\n",
    "    longitud = np.abs(MN[n1,1]-MN[n2,1])\n",
    "    Flocal = tension*longitud*espesor*1/2\n",
    "    MNDFuerzas[int(2*n1)] += Flocal\n",
    "    MNDFuerzas[int(2*n2)] += Flocal\n",
    "    "
   ]
  },
  {
   "cell_type": "code",
   "execution_count": 4,
   "id": "tutorial-satin",
   "metadata": {
    "tags": []
   },
   "outputs": [],
   "source": [
    "Sx = 2 * (gmsh.model.mesh.get_nodes_for_physical_group(1,Empotradox)[0] - 1)\n",
    "Sy = 2 * (gmsh.model.mesh.get_nodes_for_physical_group(1,Empotradoy)[0] - 1) +1\n",
    "Strash1 = 2 * (gmsh.model.mesh.get_nodes_for_physical_group(0,TrashNodo)[0] - 1)\n",
    "Strash2 = 2 * (gmsh.model.mesh.get_nodes_for_physical_group(0,TrashNodo)[0] - 1) + 1\n",
    "S = np.hstack([Sx,Sy,Strash1,Strash2])\n",
    "R = np.delete(np.arange(2*NumeroNodos),S) #mas elegante"
   ]
  },
  {
   "cell_type": "code",
   "execution_count": 5,
   "id": "rural-values",
   "metadata": {},
   "outputs": [],
   "source": [
    "E = 30E6\n",
    "v = 0.3\n",
    "\n",
    "D = (E/(1-v**2))*np.array([[1,v,0],[v,1,0],[0,0,(0.5*(1-v))]])\n",
    "Matriz_coordenadas = np.ones((3,3))\n",
    "Matriz_global = np.zeros([2*len(MN),2*len(MN)])\n",
    "Matrices_Bloc = []\n",
    "Areas = []"
   ]
  },
  {
   "cell_type": "code",
   "execution_count": 6,
   "id": "molecular-liabilities",
   "metadata": {
    "tags": []
   },
   "outputs": [],
   "source": [
    "for l in range (len(MC)):\n",
    "    \n",
    "    I,M,J = MC[l]  \n",
    "    \n",
    "    i = int(I - 1) ; m = int(M - 1) ; j = int(J - 1)\n",
    "    \n",
    "    x = np.array([MN[i,0],MN[m,0],MN[j,0]])\n",
    "    y = np.array([MN[i,1],MN[m,1],MN[j,1]])\n",
    "\n",
    "    Bi = y[1] - y[2] ;   Bm = y[2] - y[0] ;    Bj = y[0] - y[1]\n",
    "    Gi = x[2] - x[1] ;   Gm = x[0] - x[2] ;    Gj = x[1] - x[0]      \n",
    "    Matriz_coordenadas[:,0] = x\n",
    "    Matriz_coordenadas[:,1] = y\n",
    "    \n",
    "    Area = np.linalg.det(Matriz_coordenadas)/2\n",
    "    \n",
    "    Matriz1 = (1/(2*Area)) * np.array([[Bi,0,Bm,0,Bj,0],[0,Gi,0,Gm,0,Gj],[Gi,Bi,Gm,Bm,Gj,Bj]])\n",
    "    Matrices_Bloc.append(Matriz1)\n",
    "    Matriz_local = espesor * abs(Area) * (np.dot(np.transpose(Matriz1), np.dot(D,Matriz1)))\n",
    "\n",
    "    A_G = np.array([i*2,i*2+1,m*2,m*2+1,j*2,j*2+1]) #aca pasa algo raro\n",
    "    Matriz_global[np.ix_(A_G,A_G)] += Matriz_local\n",
    "    \n",
    "    "
   ]
  },
  {
   "cell_type": "code",
   "execution_count": 7,
   "id": "dying-spine",
   "metadata": {
    "tags": []
   },
   "outputs": [],
   "source": [
    "Desplazamientos_parcial = np.linalg.solve(Matriz_global[np.ix_(R,R)],MNDFuerzas[R])\n",
    "\n",
    "Desplazamientos_f = np.zeros(len(MN)*2)\n",
    "\n",
    "o = 0 \n",
    "\n",
    "for i in range(NumeroNodos*2):\n",
    "    if i in R:\n",
    "        Desplazamientos_f[i] = Desplazamientos_parcial[o]\n",
    "        o += 1\n",
    "        \n",
    "    if i in S:\n",
    "        Desplazamientos_f[i] = 0\n",
    "        \n",
    "    \n",
    "    \n",
    "Fuerzas_total = np.dot(Matriz_global,Desplazamientos_f)"
   ]
  },
  {
   "cell_type": "code",
   "execution_count": 8,
   "id": "christian-photograph",
   "metadata": {},
   "outputs": [],
   "source": [
    "#Esfuerzos\n",
    "\n",
    "Tensiones = []\n",
    "\n",
    "for p in range(len(MC)):\n",
    "    \n",
    "    I,M,J = MC[p]    \n",
    "    \n",
    "    i = int(I - 1) ; m = int(M - 1) ; j = int(J - 1)\n",
    "\n",
    "    \n",
    "    nodos = [2*i,2*i+1,2*m,2*m+1,2*j,2*j+1]\n",
    "    \n",
    "    \n",
    "    A = np.dot(Matrices_Bloc[p],Desplazamientos_f[nodos])\n",
    "    \n",
    "    B = np.dot(D,A)\n",
    "\n",
    "   \n",
    "    Tensiones.append(B)\n",
    "\n",
    "Tensiones_ = np.array(Tensiones)\n",
    "\n",
    "# for i in range (len(Tensiones)):\n",
    "#    print(Tensiones[i])\n",
    "#    print()"
   ]
  },
  {
   "cell_type": "code",
   "execution_count": 9,
   "id": "unlimited-recycling",
   "metadata": {},
   "outputs": [],
   "source": [
    "Problema2 = gmsh.view.add(\"Problema2\")\n",
    "\n",
    "problema2 = gmsh.view.addModelData(Problema2, 0, 'PROBLEMA2', 'ElementData', ETAGS, Tensiones_[:,0].reshape(-1,1) , numComponents=1)\n",
    "#agrega todos los datos , el 0 viene de dependencias temporarles aca es 0 no varia con t\n",
    "\n"
   ]
  },
  {
   "cell_type": "code",
   "execution_count": 10,
   "id": "unauthorized-acrylic",
   "metadata": {},
   "outputs": [],
   "source": [
    "Desplazamientos = np.zeros((len(MN),3))\n",
    "\n",
    "for i in range(len(MN)):\n",
    "    Desplazamientos[i] = [Desplazamientos_f[i*2],Desplazamientos_f[i*2+1],0]\n",
    "\n",
    "Problema12 = gmsh.view.add(\"Problema2\")\n",
    "\n",
    "problema12 = gmsh.view.addModelData(Problema12, 0, 'PROBLEMA2', 'NodeData', NodeInfo[0], Desplazamientos  , numComponents=3)\n",
    "#agrega todos los datos , el 0 viene de dependencias temporarles aca es 0 no varia con t\n",
    "\n"
   ]
  },
  {
   "cell_type": "code",
   "execution_count": 11,
   "id": "scientific-survivor",
   "metadata": {},
   "outputs": [],
   "source": [
    "gmsh.fltk.run() "
   ]
  },
  {
   "cell_type": "code",
   "execution_count": 12,
   "id": "reasonable-dinner",
   "metadata": {},
   "outputs": [],
   "source": [
    "\n",
    "# for l in range (len(MC)):\n",
    "    \n",
    "#     I,M,J = MC[l]  \n",
    "    \n",
    "#     i = int(I - 1) ; m = int(M - 1) ; j = int(J - 1)\n",
    "    \n",
    "#     x = np.array([MN[i,0],MN[m,0],MN[j,0]])\n",
    "#     y = np.array([MN[i,1],MN[m,1],MN[j,1]])\n",
    "     \n",
    "#     Matriz_coordenadas[:,0] = x\n",
    "#     Matriz_coordenadas[:,1] = y\n",
    "#     Matriz_coordenadas[:,2] = 0\n",
    "    \n",
    "#     print(Matriz_coordenadas[0,:])\n",
    "#     print(Matriz_coordenadas[1,:])\n",
    "#     print(Matriz_coordenadas[2,:])"
   ]
  },
  {
   "cell_type": "code",
   "execution_count": null,
   "id": "responsible-presence",
   "metadata": {},
   "outputs": [],
   "source": []
  }
 ],
 "metadata": {
  "kernelspec": {
   "display_name": "Python 3",
   "language": "python",
   "name": "python3"
  },
  "language_info": {
   "codemirror_mode": {
    "name": "ipython",
    "version": 3
   },
   "file_extension": ".py",
   "mimetype": "text/x-python",
   "name": "python",
   "nbconvert_exporter": "python",
   "pygments_lexer": "ipython3",
   "version": "3.9.2"
  }
 },
 "nbformat": 4,
 "nbformat_minor": 5
}
