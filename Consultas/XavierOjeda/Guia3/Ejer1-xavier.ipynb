{
 "cells": [
  {
   "cell_type": "code",
   "execution_count": 1,
   "id": "incorporate-cookie",
   "metadata": {},
   "outputs": [],
   "source": [
    "import numpy as np\n",
    "\n",
    "\n",
    "\n",
    "\n",
    "MC = np.array([ [0,1,2],\n",
    "                [0,2,3],\n",
    "              ])\n",
    "\n",
    "\n",
    "MN = np.array([ [0,0,0],\n",
    "                [0,10,0],\n",
    "                [20,10,0],\n",
    "                [20,0,0],\n",
    "              ])\n",
    "\n",
    "\n",
    "MNE = np.array([ [0,0,0],\n",
    "                 [1,0,0] ])\n",
    "MNT = np.array([ [2,5000,0],\n",
    "                 [3,5000,0] ])\n",
    "\n",
    "\n",
    "##########################################################\n",
    "\n",
    "# MC = np.array([ [2,3,4],\n",
    "#                 [0,1,4],\n",
    "#                 [3,0,4],\n",
    "#                 [1,2,4],\n",
    "#               ])\n",
    "\n",
    "\n",
    "# MN = np.array([ [0,0],\n",
    "#                 [0,10],\n",
    "#                 [20,10],\n",
    "#                 [20,0],\n",
    "#                 [10,5],\n",
    "#               ])\n",
    "\n",
    "\n",
    "\n",
    "# MNE = np.array([ [0,0,0],\n",
    "#                  [1,0,0] ])\n",
    "# MNT = np.array([ [4,0,0],\n",
    "#                  [2,5000,0],\n",
    "#                  [3,5000,0] ])\n",
    "#####################################################################\n",
    "\n",
    "espesor = 1\n",
    "E = 30E6\n",
    "v = 0.3\n"
   ]
  },
  {
   "cell_type": "code",
   "execution_count": 2,
   "id": "tired-system",
   "metadata": {},
   "outputs": [],
   "source": [
    "D = (E/(1-v**2))*np.array([[1,v,0],[v,1,0],[0,0,(0.5*(1-v))]])\n",
    "Matriz_coordenadas = np.ones((3,3))\n",
    "Matriz_global = np.zeros([2*len(MN),2*len(MN)])\n",
    "Matrices_Bloc = []\n",
    "Areas = []"
   ]
  },
  {
   "cell_type": "code",
   "execution_count": 3,
   "id": "stretch-roots",
   "metadata": {},
   "outputs": [
    {
     "name": "stdout",
     "output_type": "stream",
     "text": [
      "[[ 48.   0. -28.  14.   0. -26. -20.  12.]\n",
      " [  0.  87.  12. -80. -26.   0.  14.  -7.]\n",
      " [-28.  12.  48. -26. -20.  14.   0.   0.]\n",
      " [ 14. -80. -26.  87.  12.  -7.   0.   0.]\n",
      " [  0. -26. -20.  12.  48.   0. -28.  14.]\n",
      " [-26.   0.  14.  -7.   0.  87.  12. -80.]\n",
      " [-20.  14.   0.   0. -28.  12.  48. -26.]\n",
      " [ 12.  -7.   0.   0.  14. -80. -26.  87.]]\n"
     ]
    }
   ],
   "source": [
    "for i in range (len(MC)):\n",
    "    \n",
    "    i,m,j = MC[i]    \n",
    "\n",
    "    x = np.array([MN[i,0],MN[m,0],MN[j,0]])\n",
    "    y = np.array([MN[i,1],MN[m,1],MN[j,1]])\n",
    "#    Bi = y[2] - y[1] ;   Bm = y[0] - y[2] ;    Bj = y[1] - y[0]\n",
    "    Bi = y[1] - y[2] ;   Bm = y[2] - y[0] ;    Bj = y[0] - y[1]\n",
    "# este tambien esta dado vuelta\n",
    "    Gi = x[2] - x[1] ;   Gm = x[0] - x[2] ;    Gj = x[1] - x[0]  \n",
    "    \n",
    "    Matriz_coordenadas[:,0] = x\n",
    "    Matriz_coordenadas[:,1] = y\n",
    "    \n",
    "    Area = np.linalg.det(Matriz_coordenadas)/2\n",
    "    \n",
    "    Areas.append(Area)\n",
    "\n",
    "    Matriz1 = (1/(2*Area)) * np.array(\n",
    "        [ [Bi,0,Bm,0,Bj,0],[0,Gi,0,Gm,0,Gj],[Gi,Bi,Gm,Bm,Gj,Bj]]\n",
    "    )\n",
    "    \n",
    "    \n",
    "    Matrices_Bloc.append(Matriz1)\n",
    "    \n",
    "    Matriz_local = espesor * abs(Area) * (np.dot(np.transpose(Matriz1), np.dot(D,Matriz1)))\n",
    "\n",
    "    A_G = np.array([i*2,i*2+1,m*2,m*2+1,j*2,j*2+1]) #aca pasa algo raro\n",
    "    Matriz_global[np.ix_(A_G,A_G)] += Matriz_local\n",
    "    \n",
    "print(Matriz_global*(0.91/375000))"
   ]
  },
  {
   "cell_type": "code",
   "execution_count": 4,
   "id": "crazy-hybrid",
   "metadata": {},
   "outputs": [
    {
     "data": {
      "text/plain": [
       "[array([[-0.  , -0.  , -0.05, -0.  ,  0.05, -0.  ],\n",
       "        [-0.  , -0.1 , -0.  ,  0.1 , -0.  , -0.  ],\n",
       "        [-0.1 , -0.  ,  0.1 , -0.05, -0.  ,  0.05]]),\n",
       " array([[-0.05, -0.  , -0.  , -0.  ,  0.05, -0.  ],\n",
       "        [-0.  , -0.  , -0.  ,  0.1 , -0.  , -0.1 ],\n",
       "        [-0.  , -0.05,  0.1 , -0.  , -0.1 ,  0.05]])]"
      ]
     },
     "execution_count": 4,
     "metadata": {},
     "output_type": "execute_result"
    }
   ],
   "source": [
    "Matrices_Bloc"
   ]
  },
  {
   "cell_type": "code",
   "execution_count": 5,
   "id": "modular-falls",
   "metadata": {},
   "outputs": [
    {
     "name": "stdout",
     "output_type": "stream",
     "text": [
      "[[  0.   0.  10.   0. -10.   0.]\n",
      " [  0.  20.   0. -20.   0.   0.]\n",
      " [ 20.   0. -20.  10.   0. -10.]]\n",
      "[[ 10.   0.   0.   0. -10.   0.]\n",
      " [  0.   0.   0. -20.   0.  20.]\n",
      " [  0.  10. -20.   0.  20. -10.]]\n"
     ]
    }
   ],
   "source": [
    "for i in Matrices_Bloc:\n",
    "    print(i*2*Area)"
   ]
  },
  {
   "cell_type": "code",
   "execution_count": 6,
   "id": "interested-facility",
   "metadata": {},
   "outputs": [
    {
     "name": "stdout",
     "output_type": "stream",
     "text": [
      "[5000, 0, 5000, 0]\n",
      "[4, 5, 6, 7]\n"
     ]
    }
   ],
   "source": [
    "Desplazamientos_f = np.zeros(len(MN)*2)\n",
    "Fuerza = []\n",
    "Nodos = []\n",
    "\n",
    "\n",
    "for i in MNE:\n",
    "    nodo,valorx,valory = i \n",
    "    Desplazamientos_f[2*nodo] = valorx\n",
    "    Desplazamientos_f[2*nodo+1] = valory\n",
    "\n",
    "\n",
    "for i in MNT:\n",
    "    nodo,valorx,valory = i\n",
    "    Fuerza.append(valorx)\n",
    "    Fuerza.append(valory)\n",
    "    Nodos.append(2*nodo)\n",
    "    Nodos.append(2*nodo+1) \n",
    "\n",
    "print(Fuerza)\n",
    "print(Nodos)\n",
    "\n",
    "Fuerza = np.array(Fuerza).reshape(-1,1)\n",
    "\n",
    "Matriz_res = Matriz_global[np.ix_(Nodos,Nodos)]\n",
    "\n",
    "Desplazamientos_parcial = np.linalg.solve(Matriz_res,Fuerza)\n",
    "\n",
    "\n",
    "o = 0\n",
    "for i in Nodos:\n",
    "    Desplazamientos_f[i] = Desplazamientos_parcial [o]\n",
    "    o += 1\n",
    "  "
   ]
  },
  {
   "cell_type": "code",
   "execution_count": 7,
   "id": "flying-civilization",
   "metadata": {},
   "outputs": [
    {
     "data": {
      "text/plain": [
       "array([0.00000000e+00, 0.00000000e+00, 0.00000000e+00, 0.00000000e+00,\n",
       "       6.09580998e-04, 4.16333066e-06, 6.63704297e-04, 1.04083267e-04])"
      ]
     },
     "execution_count": 7,
     "metadata": {},
     "output_type": "execute_result"
    }
   ],
   "source": [
    "Desplazamientos_f"
   ]
  },
  {
   "cell_type": "code",
   "execution_count": 8,
   "id": "surface-shell",
   "metadata": {},
   "outputs": [
    {
     "name": "stdout",
     "output_type": "stream",
     "text": [
      "[-5000.     -3002.4019 -5000.      3002.4019  5000.         0.\n",
      "  5000.         0.    ]\n",
      "\n",
      "[  0.           0.           0.           0.         609.58099813\n",
      "   4.16333066 663.70429677 104.08326661]\n"
     ]
    }
   ],
   "source": [
    "Fuerzas_ = np.dot(Matriz_global,Desplazamientos_f)\n",
    "print(Fuerzas_.round(4))\n",
    "print()\n",
    "print(Desplazamientos_f*1e6)"
   ]
  },
  {
   "cell_type": "code",
   "execution_count": 9,
   "id": "mediterranean-cycle",
   "metadata": {
    "tags": []
   },
   "outputs": [
    {
     "name": "stdout",
     "output_type": "stream",
     "text": [
      "0 2 1\n",
      "[0.00000000e+00 0.00000000e+00 0.00000000e+00 0.00000000e+00\n",
      " 6.09580998e-04 4.16333066e-06]\n",
      "[[  0.   0.  10.   0. -10.   0.]\n",
      " [  0.  20.   0. -20.   0.   0.]\n",
      " [ 20.   0. -20.  10.   0. -10.]]\n",
      "-100.00000000000006\n",
      "0 3 2\n",
      "[0.00000000e+00 0.00000000e+00 6.09580998e-04 4.16333066e-06\n",
      " 6.63704297e-04 1.04083267e-04]\n",
      "[[ 10.   0.   0.   0. -10.   0.]\n",
      " [  0.   0.   0. -20.   0.  20.]\n",
      " [  0.  10. -20.   0.  20. -10.]]\n",
      "-100.00000000000006\n",
      "[1004.80384307  301.44115292    2.40192154]\n",
      "\n",
      "[995.19615693  -1.20096077  -2.40192154]\n",
      "\n"
     ]
    }
   ],
   "source": [
    "#Esfuerzos\n",
    "\n",
    "Tensiones = []\n",
    "\n",
    "for p in range(len(MC)):\n",
    "    \n",
    "    i,m,j = MC[p]   #MDF_COMMENT si definis un orden de nodos aca, tenes que usar el mismo para los desplazamientos.\n",
    "    \n",
    "    print(i,j,m)\n",
    "    \n",
    "#MDF_COMMENT    nodos = [2*i,2*i+1,2*j,2*j+1,2*m,2*m+1]   <<<<< me parecia que no entendia algo. \n",
    "    nodos = [2*i,2*i+1,2*m,2*m+1,2*j,2*j+1]\n",
    "    \n",
    "    print(Desplazamientos_f[nodos])\n",
    "    # me parece que no es Desplazamientos_f sino \n",
    "    A = np.dot(Matrices_Bloc[p],Desplazamientos_f[nodos])\n",
    "    \n",
    "    print(Matrices_Bloc[p]*2*Areas[p])\n",
    "    \n",
    "    print(Areas[p])\n",
    "    \n",
    "    B = np.dot(D,A)\n",
    "    \n",
    "   \n",
    "    Tensiones.append(B)\n",
    "    \n",
    "for i in range (len(Tensiones)):\n",
    "    print(Tensiones[i])\n",
    "    print()"
   ]
  },
  {
   "cell_type": "code",
   "execution_count": null,
   "id": "threatened-pierce",
   "metadata": {},
   "outputs": [],
   "source": []
  }
 ],
 "metadata": {
  "kernelspec": {
   "display_name": "Python 3",
   "language": "python",
   "name": "python3"
  },
  "language_info": {
   "codemirror_mode": {
    "name": "ipython",
    "version": 3
   },
   "file_extension": ".py",
   "mimetype": "text/x-python",
   "name": "python",
   "nbconvert_exporter": "python",
   "pygments_lexer": "ipython3",
   "version": "3.9.2"
  }
 },
 "nbformat": 4,
 "nbformat_minor": 5
}
