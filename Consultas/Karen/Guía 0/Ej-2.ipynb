{
 "cells": [
  {
   "cell_type": "markdown",
   "id": "golden-idaho",
   "metadata": {},
   "source": [
    "# Ejercicio 2\n",
    "\n",
    "$ e^{x}=1+x+\\frac{x^2}{2}+\\frac{x^3}{3!}+\\frac{x^4}{4!}+...+\\frac{x^n}{n!} $\n",
    "\n",
    "$e^{0.5}$ ?\n"
   ]
  },
  {
   "cell_type": "code",
   "execution_count": 1,
   "id": "dominican-family",
   "metadata": {},
   "outputs": [
    {
     "name": "stdout",
     "output_type": "stream",
     "text": [
      "1.5 0.14872127000000002\n",
      "1.625 0.023721270000000017\n",
      "1.6458333333333333 0.002887936666666757\n",
      "1.6484375 0.0002837700000000165\n",
      "valor final: 1.6484375\n",
      "3 terminos\n",
      "error:0.0002837700000000165\n"
     ]
    }
   ],
   "source": [
    "t=1\n",
    "e=1\n",
    "i=0\n",
    "j=1\n",
    "while abs(1.64872127-e)>0.001:\n",
    "    t*=0.5\n",
    "    i+=1\n",
    "    j*=i\n",
    "    e+=t/j\n",
    "    print(e, abs(1.64872127-e))\n",
    "print(f'valor final: {e}\\n{i-1} terminos\\nerror:{abs(1.64872127-e)}')\n",
    "    "
   ]
  },
  {
   "cell_type": "markdown",
   "id": "decimal-weapon",
   "metadata": {},
   "source": [
    "YY me teriaste un retorno de carro que grandeeee."
   ]
  }
 ],
 "metadata": {
  "kernelspec": {
   "display_name": "Python 3",
   "language": "python",
   "name": "python3"
  },
  "language_info": {
   "codemirror_mode": {
    "name": "ipython",
    "version": 3
   },
   "file_extension": ".py",
   "mimetype": "text/x-python",
   "name": "python",
   "nbconvert_exporter": "python",
   "pygments_lexer": "ipython3",
   "version": "3.9.2"
  }
 },
 "nbformat": 4,
 "nbformat_minor": 5
}
