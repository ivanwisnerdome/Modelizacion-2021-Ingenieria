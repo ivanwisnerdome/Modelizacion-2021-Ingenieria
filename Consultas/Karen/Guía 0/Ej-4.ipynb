{
 "cells": [
  {
   "cell_type": "code",
   "execution_count": 2,
   "id": "unable-agriculture",
   "metadata": {},
   "outputs": [],
   "source": [
    "import numpy as np"
   ]
  },
  {
   "cell_type": "code",
   "execution_count": 12,
   "id": "adjacent-convert",
   "metadata": {},
   "outputs": [],
   "source": [
    "A = np.array([\n",
    "    [1,-3,-2],\n",
    "    [2,-4,-3],\n",
    "    [-3,6,8]\n",
    "])\n",
    "b = np.array([[6,8,-5]])\n",
    "b=b.reshape(-1)"
   ]
  },
  {
   "cell_type": "markdown",
   "id": "adjustable-saturday",
   "metadata": {},
   "source": [
    "En matlab hacíamos:\n",
    "\n",
    "X = A\\B\n",
    "X = inv(A)*B"
   ]
  },
  {
   "cell_type": "code",
   "execution_count": 13,
   "id": "afraid-mortgage",
   "metadata": {},
   "outputs": [],
   "source": [
    "X = np.linalg.solve(A, b)"
   ]
  },
  {
   "cell_type": "code",
   "execution_count": 5,
   "id": "liable-atlanta",
   "metadata": {},
   "outputs": [
    {
     "data": {
      "text/plain": [
       "array([[ 1.],\n",
       "       [-3.],\n",
       "       [ 2.]])"
      ]
     },
     "execution_count": 5,
     "metadata": {},
     "output_type": "execute_result"
    }
   ],
   "source": [
    "X"
   ]
  },
  {
   "cell_type": "code",
   "execution_count": 8,
   "id": "collect-emperor",
   "metadata": {},
   "outputs": [
    {
     "data": {
      "text/plain": [
       "array([ 6,  8, -5])"
      ]
     },
     "execution_count": 8,
     "metadata": {},
     "output_type": "execute_result"
    }
   ],
   "source": [
    "b"
   ]
  },
  {
   "cell_type": "code",
   "execution_count": null,
   "id": "complex-orange",
   "metadata": {},
   "outputs": [],
   "source": []
  }
 ],
 "metadata": {
  "kernelspec": {
   "display_name": "Python 3",
   "language": "python",
   "name": "python3"
  },
  "language_info": {
   "codemirror_mode": {
    "name": "ipython",
    "version": 3
   },
   "file_extension": ".py",
   "mimetype": "text/x-python",
   "name": "python",
   "nbconvert_exporter": "python",
   "pygments_lexer": "ipython3",
   "version": "3.9.2"
  }
 },
 "nbformat": 4,
 "nbformat_minor": 5
}
