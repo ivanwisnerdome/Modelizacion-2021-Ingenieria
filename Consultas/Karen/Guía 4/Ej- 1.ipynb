{
 "cells": [
  {
   "cell_type": "markdown",
   "id": "piano-exception",
   "metadata": {},
   "source": [
    "# Problema 1:\n",
    "\n",
    "Determine los desplazamientos de los bordes libres y los esfuerzos en función de la posición para la\n",
    "placa empotrada mostrada en la figura. Tome las dos particiones en elementos mostradas debajo y\n",
    "compare los resultados. Asuma que E = 30 x 106\n",
    " psi y n = 0.30."
   ]
  },
  {
   "cell_type": "markdown",
   "id": "quarterly-equation",
   "metadata": {},
   "source": [
    "Partición 1"
   ]
  },
  {
   "cell_type": "code",
   "execution_count": 22,
   "id": "exotic-garlic",
   "metadata": {},
   "outputs": [],
   "source": [
    "import numpy as np\n",
    "import matplotlib.pyplot as plt\n",
    "import copy\n",
    "np.set_printoptions(precision = 4, linewidth = 150)\n",
    "\n",
    "E = 30e6     # psi\n",
    "v = 0.3      # Poisson\n",
    "t = 1        # in (espesor)\n",
    "h = 10       # in (altura)\n",
    "l = 20       # in (largo)\n",
    "T = 10000     # psi (tensión aplicada)\n",
    "Fext = T / 2  # lb (fuerzas)\n",
    "\n",
    "MN1 = [[0,0], [0,h], [l,h], [l,0], [l/2, h/2]]\n",
    "MN2 = [[0,0], [0,h], [l,h], [l,0], [l/2, h/2]]\n",
    "\n",
    "MC1 = [[0,2,1], [0,3,2]]\n",
    "MC2 = [[4,0,1], [4,0,3], [4,2,3], [4,2,3]]\n",
    "#CC = [[2, 0], [2, 0], [2, 0], [2, 0], [1, Fext], [1, 0], [1, Fext], [1,0]]\n",
    "r = [4,5,6,7]\n",
    "R = [Fext, 0, Fext, 0]\n",
    "s = [0,1,2,3]\n",
    "S = [0,0,0,0]\n",
    "\n",
    "GL = 2     # Grados de libertad de un nodo\n",
    "\n",
    "\n",
    "def MEF(GL, MN, MC, CC, E, v, t, h, l):\n",
    "    nod = len(MN)    # cantidad de nodos\n",
    "    e = len(MC)      # cantidad de elementos\n",
    "    K = np.zeros([nod*GL, nod*GL])\n",
    "    Esf= []\n",
    "    Bs=[]\n",
    "    for a in range(e):\n",
    "        A = (h*l)/2\n",
    "        B = np.zeros([3,6])\n",
    "        c = []               #coordenadas de los nodos del elemento\n",
    "        for i in MC[a]:\n",
    "            c.append(MN[i])\n",
    "            b=[0,0,0]\n",
    "            g=[0,0,0]\n",
    "        for d in range(3): \n",
    "            b[d] = c[d-2][1]- c[d-1][1]\n",
    "            g[d] = c[d-1][0]- c[d-2][0]\n",
    "        for j in range(3):\n",
    "            B0=[[b[j],0],[0, g[j]], [g[j], b[j]]]\n",
    "            B[0][j*2]=b[j]\n",
    "            B[1][2*j+1]=g[j]\n",
    "            B[2][j*2]=g[j]\n",
    "            B[2][j*2+1]=b[j]\n",
    "        B = B/(2*A)\n",
    "        Bs.append(B)\n",
    "        D = (E/(1-(v**2)))*np.array([[1,v,0],[v,1,0],[0,0,(1-v)/2]])\n",
    "        k = t*abs(A)*np.dot(B.transpose(), np.dot(D,B) )\n",
    "        K0 = np.zeros([nod*2, nod*2])\n",
    "        for i in range(3):\n",
    "            nx=MC[a][i]\n",
    "            for j in range(3):\n",
    "                ny=MC[a][j]\n",
    "                K0[np.ix_([nx*2,nx*2+1], [ny*2,ny*2+1])]+=k[i*2:i*2+2, j*2:j*2+2]\n",
    "        K+=K0\n",
    "\n",
    "    d = np.zeros(nod*GL)\n",
    "    f = np.zeros(nod*GL)\n",
    "\n",
    "    #indices de Fuerzas y desplazamientos conocidxs:\n",
    "    '''\n",
    "    fc=[]\n",
    "    dc=[]\n",
    "    for i in range(len(CC)):\n",
    "        if CC[i][0]==1:\n",
    "            fc.append([i,CC[i][1]])\n",
    "        else: \n",
    "            dc.append([i,CC[i][1]])\n",
    "            d[i]=CC[i][1]\n",
    "\n",
    "    fc=np.array(fc).astype(int)\n",
    "    dc=np.array(dc)\n",
    "    '''\n",
    "    \n",
    "    #dd = np.linalg.solve(K[np.ix_(fc[:,0], fc[:,0])], fc[:,1])\n",
    "    dd = np.linalg.solve(K[np.ix_(r,r)], R)\n",
    "\n",
    "    #for i in range(len(fc)):\n",
    "     #   d[fc[i,0]]=dd[i]\n",
    "    \n",
    "    for i in range(len(r)):\n",
    "        d[r[i]]=dd[i]\n",
    "\n",
    "    F=K.dot(d)\n",
    "    B=np.array(B)\n",
    "    D=np.array(D)\n",
    "\n",
    "    for i in range(e):\n",
    "        j=np.array(MC[i])*2 \n",
    "        Esf.append( np.dot( np.dot(D,Bs[i]), d[[j[0],j[0]+1,j[1],j[1]+1,j[2],j[2]+1]] ) ) \n",
    "    \n",
    "    return d, Esf, F, r, s\n",
    "\n"
   ]
  },
  {
   "cell_type": "code",
   "execution_count": 23,
   "id": "otherwise-azerbaijan",
   "metadata": {},
   "outputs": [
    {
     "name": "stdout",
     "output_type": "stream",
     "text": [
      "d1 = [  0.       0.       0.       0.     609.581    4.1633 663.7043 104.0833   0.       0.    ]\n",
      " Esf1 = [array([1004.8038,  301.4412,    2.4019]), array([995.1962,  -1.201 ,  -2.4019])]\n",
      " F1 = [-5.0000e+03 -3.0024e+03 -5.0000e+03  3.0024e+03  5.0000e+03  1.1369e-13  5.0000e+03 -9.0949e-13  0.0000e+00  0.0000e+00]\n"
     ]
    }
   ],
   "source": [
    "# Particion 1\n",
    "d1, Esf1, F1, fc, dc= MEF(GL, MN1, MC1, CC, E, v, t, h, l)\n",
    "print(f'd1 = {d1/1e-6}\\n Esf1 = {Esf1}\\n F1 = {F1}')"
   ]
  },
  {
   "cell_type": "code",
   "execution_count": 24,
   "id": "german-dryer",
   "metadata": {},
   "outputs": [
    {
     "name": "stdout",
     "output_type": "stream",
     "text": [
      "d2 = [   0.        0.        0.        0.      672.5415 -182.1408  412.7469   11.1553    0.        0.    ]\n",
      " Esf2 = [array([0., 0., 0.]), array([ 334.6596,   83.6649, -234.9053]), array([-798.8824,   50.2794, -100.5588]), array([-798.8824,   50.2794, -100.5588])]\n",
      " F2 = [ 3.3788e+02  1.6894e+02  0.0000e+00  0.0000e+00  5.0000e+03  1.1937e-12  5.0000e+03  0.0000e+00 -1.0338e+04 -1.6894e+02]\n"
     ]
    }
   ],
   "source": [
    "# Particion 2\n",
    "d2, Esf2, F2 , fc, dc= MEF(GL, MN2, MC2, CC, E, v, t, h, l)\n",
    "print(f'd2 = {d2/1e-6}\\n Esf2 = {Esf2}\\n F2 = {F2}')"
   ]
  },
  {
   "cell_type": "code",
   "execution_count": null,
   "id": "advanced-withdrawal",
   "metadata": {},
   "outputs": [],
   "source": []
  }
 ],
 "metadata": {
  "kernelspec": {
   "display_name": "Python 3",
   "language": "python",
   "name": "python3"
  },
  "language_info": {
   "codemirror_mode": {
    "name": "ipython",
    "version": 3
   },
   "file_extension": ".py",
   "mimetype": "text/x-python",
   "name": "python",
   "nbconvert_exporter": "python",
   "pygments_lexer": "ipython3",
   "version": "3.9.2"
  }
 },
 "nbformat": 4,
 "nbformat_minor": 5
}
