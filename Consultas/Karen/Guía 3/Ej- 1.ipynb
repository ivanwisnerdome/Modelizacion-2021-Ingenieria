{
 "cells": [
  {
   "cell_type": "markdown",
   "id": "environmental-continent",
   "metadata": {},
   "source": [
    "# Problema 1:\n",
    "\n",
    "Determine los desplazamientos de los bordes libres y los esfuerzos en función de la posición para la\n",
    "placa empotrada mostrada en la figura. Tome las dos particiones en elementos mostradas debajo y\n",
    "compare los resultados. Asuma que E = 30 x 106\n",
    " psi y n = 0.30."
   ]
  },
  {
   "cell_type": "markdown",
   "id": "complete-variable",
   "metadata": {},
   "source": [
    "Partición 1"
   ]
  },
  {
   "cell_type": "code",
   "execution_count": 7,
   "id": "celtic-november",
   "metadata": {},
   "outputs": [],
   "source": [
    "import numpy as np\n",
    "import matplotlib.pyplot as plt\n",
    "import copy\n",
    "\n",
    "E = 30e6     # psi\n",
    "v = 0.3      # Poisson\n",
    "t = 1        # in (espesor)\n",
    "h = 10       # in (altura)\n",
    "l = 20       # in (largo)\n",
    "T = 10000     # psi (tensión aplicada)\n",
    "Fext = T / 2  # lb (fuerzas)\n",
    "\n",
    "MN1 = [[0,0], [0,h], [l,h], [l,0], [l/2, h/2]]\n",
    "MN2 = [[0,0], [0,h], [l,h], [l,0], [l/2, h/2]]\n",
    "\n",
    "MC1 = [[0,2,1], [0,3,2]]\n",
    "MC2 = [[4,0,1], [4,0,3], [4,2,3], [4,2,3]]\n",
    "CC = [[2, 0], [2, 0], [2, 0], [2, 0], [1, Fext], [1, 0], [1, Fext], [1,0]]\n",
    "\n",
    "GL = 2     # Grados de libertad de un nodo\n",
    "\n",
    "\n",
    "\n",
    "\n",
    "def MEF(GL, MN, MC, CC, E, v, t, h, l):\n",
    "    nod = len(MN)    # cantidad de nodos\n",
    "    e = len(MC)      # cantidad de elementos\n",
    "    K = np.zeros([nod*GL, nod*GL])\n",
    "    Esf= []\n",
    "    Bs=[]\n",
    "    for a in range(e):\n",
    "        A = (h*l)/2\n",
    "        B = np.zeros([3,6])\n",
    "        c = []    #coordenadas de los nodos del elemento\n",
    "        for i in MC[a]: \n",
    "            c.append(MN[i])\n",
    "            b=[0,0,0]\n",
    "            g=[0,0,0]\n",
    "        for d in range(3): \n",
    "            b[d] = c[d-2][1]- c[d-1][1]\n",
    "            g[d] = c[d-1][0]- c[d-2][0]\n",
    "        for j in range(3):\n",
    "            B0=[[b[j],0],[0, g[j]], [g[j], b[j]]]\n",
    "            B[0][j*2]=b[j]\n",
    "            B[1][2*j+1]=g[j]\n",
    "            B[2][j*2]=g[j]\n",
    "            B[2][j*2+1]=b[j]\n",
    "        B = B/(2*A)\n",
    "        Bs.append(B)\n",
    "        D = (E/(1-(v**2)))*np.array([[1,v,0],[v,1,0],[0,0,(1-v)/2]])\n",
    "        k = t*abs(A)*np.dot(B.transpose(), np.dot(D,B) )\n",
    "        K0 = np.zeros([nod*2, nod*2])\n",
    "        for i in range(3):\n",
    "            nx=MC[a][i]\n",
    "            for j in range(3):\n",
    "                ny=MC[a][j]\n",
    "                K0[np.ix_([nx*2,nx*2+1], [ny*2,ny*2+1])]+=k[i*2:i*2+2, j*2:j*2+2]\n",
    "        K+=K0\n",
    "\n",
    "\n",
    "\n",
    "    #indices de Fuerzas y desplazamientos conocidxs:\n",
    "    d = np.zeros(nod*GL)\n",
    "    f = np.zeros(nod*GL)\n",
    "    fc=[]\n",
    "    dc=[]\n",
    "    for i in range(len(CC)):\n",
    "        if CC[i][0]==1:\n",
    "            fc.append([i,CC[i][1]])\n",
    "        else: \n",
    "            dc.append([i,CC[i][1]])\n",
    "            d[i]=CC[i][1]\n",
    "\n",
    "    fc=np.array(fc).astype(int)\n",
    "    dc=np.array(dc)\n",
    "\n",
    "    dd = np.linalg.solve(K[np.ix_(fc[:,0], fc[:,0])], fc[:,1])\n",
    "\n",
    "    for i in range(len(fc)):\n",
    "        d[fc[i,0]]=dd[i]\n",
    "\n",
    "\n",
    "    F=K.dot(d)\n",
    "    B=np.array(B)\n",
    "    D=np.array(D)\n",
    "\n",
    "    for i in range(e):\n",
    "        j=np.array(MC[i])*2 \n",
    "        Esf.append( np.dot( np.dot(D,Bs[i]), d[[j[0],j[0]+1,j[1],j[1]+1,j[2],j[2]+1]] ) ) \n",
    "    \n",
    "    return d, Esf, F\n",
    "\n"
   ]
  },
  {
   "cell_type": "code",
   "execution_count": 8,
   "id": "characteristic-object",
   "metadata": {},
   "outputs": [
    {
     "data": {
      "text/plain": [
       "(array([0.00000000e+00, 0.00000000e+00, 0.00000000e+00, 0.00000000e+00,\n",
       "        6.09580998e-04, 4.16333066e-06, 6.63704297e-04, 1.04083267e-04,\n",
       "        0.00000000e+00, 0.00000000e+00]),\n",
       " [array([1004.80384307,  301.44115292,    2.40192154]),\n",
       "  array([995.19615693,  -1.20096077,  -2.40192154])],\n",
       " array([-5.00000000e+03, -3.00240192e+03, -5.00000000e+03,  3.00240192e+03,\n",
       "         5.00000000e+03,  1.13686838e-13,  5.00000000e+03, -9.09494702e-13,\n",
       "         0.00000000e+00,  0.00000000e+00]))"
      ]
     },
     "execution_count": 8,
     "metadata": {},
     "output_type": "execute_result"
    }
   ],
   "source": [
    "# Particion 1\n",
    "MEF(GL, MN1, MC1, CC, E, v, t, h, l)"
   ]
  },
  {
   "cell_type": "code",
   "execution_count": 9,
   "id": "subject-salad",
   "metadata": {},
   "outputs": [
    {
     "data": {
      "text/plain": [
       "(array([ 0.00000000e+00,  0.00000000e+00,  0.00000000e+00,  0.00000000e+00,\n",
       "         6.72541474e-04, -1.82140761e-04,  4.12746867e-04,  1.11553207e-05,\n",
       "         0.00000000e+00,  0.00000000e+00]),\n",
       " [array([0., 0., 0.]),\n",
       "  array([ 334.65962212,   83.66490553, -234.90531168]),\n",
       "  array([-798.88243863,   50.27939034, -100.55878068]),\n",
       "  array([-798.88243863,   50.27939034, -100.55878068])],\n",
       " array([ 3.37877503e+02,  1.68938752e+02,  0.00000000e+00,  0.00000000e+00,\n",
       "         5.00000000e+03,  1.19371180e-12,  5.00000000e+03,  0.00000000e+00,\n",
       "        -1.03378775e+04, -1.68938752e+02]))"
      ]
     },
     "execution_count": 9,
     "metadata": {},
     "output_type": "execute_result"
    }
   ],
   "source": [
    "# Particion 2\n",
    "MEF(GL, MN2, MC2, CC, E, v, t, h, l)"
   ]
  },
  {
   "cell_type": "code",
   "execution_count": null,
   "id": "advisory-easter",
   "metadata": {},
   "outputs": [],
   "source": []
  }
 ],
 "metadata": {
  "kernelspec": {
   "display_name": "Python 3",
   "language": "python",
   "name": "python3"
  },
  "language_info": {
   "codemirror_mode": {
    "name": "ipython",
    "version": 3
   },
   "file_extension": ".py",
   "mimetype": "text/x-python",
   "name": "python",
   "nbconvert_exporter": "python",
   "pygments_lexer": "ipython3",
   "version": "3.9.2"
  }
 },
 "nbformat": 4,
 "nbformat_minor": 5
}
