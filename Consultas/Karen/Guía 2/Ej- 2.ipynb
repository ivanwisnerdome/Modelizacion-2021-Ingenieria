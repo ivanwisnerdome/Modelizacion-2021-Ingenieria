{
 "cells": [
  {
   "cell_type": "markdown",
   "id": "tired-tract",
   "metadata": {},
   "source": [
    "# Problema 2:\n",
    "Considere el entramado mostrado en la figura, con una fuerza aplicada de 20 kN. Calcule los desplazamientos de cada uno de los nodos y las tensiones que sufre cada elemento. Todos los elementos tienen E = 210 GPa y una sección de 10 cm2, excepto el elemento 3, que tiene una sección de 20 cm2. Los elementos 2 y 5 tienen una longitud de 8 metros y el elemento 3 de 4 metros."
   ]
  },
  {
   "cell_type": "code",
   "execution_count": 1,
   "id": "caroline-stephen",
   "metadata": {},
   "outputs": [],
   "source": [
    "import numpy as np\n",
    "import matplotlib.pyplot as plt\n",
    "import copy\n",
    "\n",
    "def loc_a_glob (z):\n",
    "    c=np.cos(z)\n",
    "    s=np.sin(z)\n",
    "    K=[[ c**2,    c*s ,   -c**2, -c*s] , \n",
    "       [ c*s,      s**2,   -c*s, -s**2] , \n",
    "       [-c**2,    -c*s,    c**2,  c*s], \n",
    "       [-c*s,     -s**2,    c*s,   s**2]]\n",
    "    return np.array(K)"
   ]
  },
  {
   "cell_type": "code",
   "execution_count": 126,
   "id": "tested-flooring",
   "metadata": {},
   "outputs": [
    {
     "data": {
      "text/plain": [
       "(array([     0.,  10000.,      0.,      0.,      0.,  10000.,      0.,\n",
       "        -20000.]),\n",
       " array([ 0.        ,  0.        ,  0.0007619 , -0.0036534 ,  0.00152381,\n",
       "         0.        ,  0.0007619 , -0.00384387]),\n",
       " array([[ 20000000.,  10000000., -20000000., -10000000.],\n",
       "        [ 20000000.,         0., -20000000.,         0.],\n",
       "        [        0., -10000000.,         0.,  10000000.],\n",
       "        [ 20000000., -10000000., -20000000.,  10000000.],\n",
       "        [ 20000000.,         0., -20000000.,         0.]]),\n",
       " array([[ 4.50329710e+07,  9.39148551e+06, -1.87829710e+07,\n",
       "         -9.39148551e+06,  0.00000000e+00,  0.00000000e+00,\n",
       "         -2.62500000e+07,  0.00000000e+00],\n",
       "        [ 9.39148551e+06,  4.69574275e+06, -9.39148551e+06,\n",
       "         -4.69574275e+06,  0.00000000e+00,  0.00000000e+00,\n",
       "          0.00000000e+00,  0.00000000e+00],\n",
       "        [-1.87829710e+07, -9.39148551e+06,  3.75659420e+07,\n",
       "         -5.58793545e-09, -1.87829710e+07,  9.39148551e+06,\n",
       "         -3.93686943e-25,  6.42939570e-09],\n",
       "        [-9.39148551e+06, -4.69574275e+06, -5.58793545e-09,\n",
       "          1.14391486e+08,  9.39148551e+06, -4.69574275e+06,\n",
       "          6.42939570e-09, -1.05000000e+08],\n",
       "        [ 0.00000000e+00,  0.00000000e+00, -1.87829710e+07,\n",
       "          9.39148551e+06,  4.50329710e+07, -9.39148551e+06,\n",
       "         -2.62500000e+07,  0.00000000e+00],\n",
       "        [ 0.00000000e+00,  0.00000000e+00,  9.39148551e+06,\n",
       "         -4.69574275e+06, -9.39148551e+06,  4.69574275e+06,\n",
       "          0.00000000e+00,  0.00000000e+00],\n",
       "        [-2.62500000e+07,  0.00000000e+00, -3.93686943e-25,\n",
       "          6.42939570e-09, -2.62500000e+07,  0.00000000e+00,\n",
       "          5.25000000e+07, -6.42939570e-09],\n",
       "        [ 0.00000000e+00,  0.00000000e+00,  6.42939570e-09,\n",
       "         -1.05000000e+08,  0.00000000e+00,  0.00000000e+00,\n",
       "         -6.42939570e-09,  1.05000000e+08]]))"
      ]
     },
     "execution_count": 126,
     "metadata": {},
     "output_type": "execute_result"
    },
    {
     "data": {
      "image/png": "[encoded data removed]",
      "text/plain": [
       "<Figure size 432x288 with 1 Axes>"
      ]
     },
     "metadata": {
      "needs_background": "light"
     },
     "output_type": "display_data"
    }
   ],
   "source": [
    "N = 4                      # cantidad de nodos = cantidad de elementos -1\n",
    "E = np.ones(N+1)*210e9           # Módulo elástico de cada elemento GPa\n",
    "A = np.ones(N+1)*10e-4          # Area de cada elementos cm2\n",
    "A[2] = 20e-4\n",
    "GL = 2                               # Grados de libertad\n",
    "\n",
    "MN = [[0,0] , [8,4], [16,0] , [8,0]]  # MAtriz de nodos (posiciones de los nodos) (ejercicio)\n",
    "\n",
    "MC = [[0,1] , [3,0] , [3,1] , [1,2] , [2,3]]      # Matriz de conectividad de elementos (el  elemento 0: entre nodo 0: MN[0] y nodo 1 MN[1])  ) (ejercicio)\n",
    "\n",
    "CC = [[2,0] , [2,0] , [1,0] , [1,0] , [1,0] ,  [2,0] ,  [1,0] ,  [1,-20000]] # [ (1: F o 2: u)  , valor conocido]\n",
    "\n",
    "def DifFin(MN, MC, CC, E, A, graf=True):\n",
    "    \n",
    "    N=len(MN)\n",
    "    GL=len(MN[0])\n",
    "    K = np.zeros([N*GL,N*GL])     # Matriz rigidez GLOBAL kN/m\n",
    "    R_locales=[]\n",
    "    for i in range(len(MC)):\n",
    "        dx= MN[MC[i][0]][0] - MN[MC[i][1]][0]\n",
    "        dy = MN[MC[i][0]][1] - MN[MC[i][1]][1]\n",
    "        dL=np.sqrt( dx ** 2 + dy ** 2 )\n",
    "        k=E[i]*A[i]/dL    \n",
    "        z=np.arctan2(dy,dx)         \n",
    "        R=k*loc_a_glob(z)  # Matriz de rigidez local rotada\n",
    "        R_locales.append(R)\n",
    "        for j in MC[i]:\n",
    "            for l in MC[i]:    \n",
    "                n1=j*GL\n",
    "                n2=l*GL\n",
    "                p=MC[i].index(j)*GL\n",
    "                t=MC[i].index(l)*GL\n",
    "                K[n1:n1+GL,n2:n2+GL]+=R[p:p+GL,t:t+GL]\n",
    "\n",
    "\n",
    "    #indices de Fuerzas y desplazamientos conocidxs:\n",
    "    u = np.zeros(N*GL)\n",
    "    fc=[]\n",
    "    uc=[]\n",
    "    for i in range(len(CC)):\n",
    "        if CC[i][0]==1:\n",
    "            fc.append([i,CC[i][1]])\n",
    "        else: \n",
    "            uc.append([i,CC[i][1]])\n",
    "            u[i]=CC[i][1]\n",
    "\n",
    "    fc=np.array(fc)\n",
    "    uc=np.array(uc)\n",
    "\n",
    "    uu = np.linalg.solve(K[np.ix_(fc[:,0], fc[:,0])], fc[:,1]-K[np.ix_(fc[:,0], uc[0,:])].dot(uc[0,:]))\n",
    "\n",
    "    for i in range(len(fc)):\n",
    "        u[fc[i,0]]=uu[i]\n",
    "\n",
    "\n",
    "    F=K.dot(u)\n",
    "    F[np.abs(F) < 1e-8 ]  = 0\n",
    "    u[np.abs(u) < 1e-8 ]  = 0\n",
    "    \n",
    "    T=[]\n",
    "    for i in range(len(MC)):\n",
    "        p,j = MC[i]\n",
    "        T.append( np.dot(R_locales[i],np.concatenate([u[GL*p:GL*p+2], u[GL*j:GL*j+2]])) /A[i] )     #Tensiones\n",
    "    T=np.array(T)\n",
    "    T[np.abs(T) < 1e-8 ]  = 0\n",
    "    T=np.round(T, 3)\n",
    "    \n",
    "    # Gráfico\n",
    "    if graf==True:\n",
    "        for i in MC:    \n",
    "            plt.plot([MN[i[0]][0], MN[i[1]][0]], [MN[i[0]][1], MN[i[1]][1]], \"b\")\n",
    "\n",
    "        MNf=copy.copy(MN) # MN final\n",
    "        for i in range(len(MN)):  \n",
    "            MNf[i][0]+=150*u[i*2]\n",
    "            MNf[i][1]+=150*u[i*2+1]\n",
    "\n",
    "        for i in MC:    \n",
    "            plt.plot([MNf[i[0]][0], MNf[i[1]][0]], [MNf[i[0]][1], MNf[i[1]][1]], \"r\")\n",
    "    \n",
    "    return F, u, T, K\n",
    "\n",
    "DifFin(MN, MC, CC, E, A)"
   ]
  },
  {
   "cell_type": "markdown",
   "id": "trying-medline",
   "metadata": {},
   "source": [
    "# Confirmación de suma de rigidez local en la global:\n",
    "\n",
    "x=np.array([[1,1,1,1], [2,2,2,2],[3,3,3,3],[4,4,4,4]])\n",
    "y=np.array([[5,5,5,5], [6,6,6,6],[7,7,7,7],[8,8,8,8]])\n",
    "z=np.array([[9,9,9,9], [10,10,10,10],[12,12,26,26],[13,13,25,25]])\n",
    "\n",
    "K = np.zeros([6,6])  \n",
    "e=[x,y,z]\n",
    "MC=[[0,1],[1,2],[2,0]]\n",
    "for i in range(len(MC)): \n",
    "    K0=copy.copy(K)\n",
    "    n1=MC[i][0]*2\n",
    "    n2=MC[i][1]*2\n",
    "    if i==0:\n",
    "        kLoc=x\n",
    "    elif i==1:\n",
    "        kLoc=y\n",
    "    else:\n",
    "        kLoc=z\n",
    "    K[n1:n1+2,n1:n1+2]+=kLoc[0:2,0:2]\n",
    "    K[n1:n1+2,n2:n2+2]+=kLoc[0:2,2:4]\n",
    "    K[n2:n2+2,n1:n1+2]+=kLoc[2:4,0:2]\n",
    "    K[n2:n2+2,n2:n2+2]+=kLoc[2:4,2:4]\n",
    "    print(K-K0)"
   ]
  },
  {
   "cell_type": "code",
   "execution_count": 114,
   "id": "electoral-tenant",
   "metadata": {},
   "outputs": [
    {
     "data": {
      "text/plain": [
       "array([ 2,  6,  8, 10])"
      ]
     },
     "execution_count": 114,
     "metadata": {},
     "output_type": "execute_result"
    }
   ],
   "source": [
    "np.array([1,3,4,5])*2"
   ]
  }
 ],
 "metadata": {
  "kernelspec": {
   "display_name": "Python 3",
   "language": "python",
   "name": "python3"
  },
  "language_info": {
   "codemirror_mode": {
    "name": "ipython",
    "version": 3
   },
   "file_extension": ".py",
   "mimetype": "text/x-python",
   "name": "python",
   "nbconvert_exporter": "python",
   "pygments_lexer": "ipython3",
   "version": "3.9.2"
  }
 },
 "nbformat": 4,
 "nbformat_minor": 5
}
