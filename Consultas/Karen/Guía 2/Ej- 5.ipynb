{
 "cells": [
  {
   "cell_type": "markdown",
   "id": "demographic-clock",
   "metadata": {},
   "source": [
    "# Problema 5:\n",
    "\n",
    "Determine los desplazamientos de los nodos y sus pendientes; las fuerzas en cada elemento y las\n",
    "reacciones. Tome E = 29x106 psi (libras por pulgada cuadrada) e I = 200 pulgada4\n"
   ]
  },
  {
   "cell_type": "code",
   "execution_count": 1,
   "id": "varied-illustration",
   "metadata": {},
   "outputs": [],
   "source": [
    "import numpy as np\n",
    "import matplotlib.pyplot as plt\n",
    "import copy\n",
    "GL = 2             # Grados de libertad \n",
    "E = 29e6         # psi (libras por pulgada cuadrada)\n",
    "L = 15           # cm  (por elemento)\n",
    "I = 200           # pulgada^4 (in^4)\n",
    "e = 2              # elementos  → → # nodos =e+1\n",
    "w = 200            # lb/ft"
   ]
  },
  {
   "cell_type": "code",
   "execution_count": 4,
   "id": "oriented-bleeding",
   "metadata": {},
   "outputs": [
    {
     "name": "stdout",
     "output_type": "stream",
     "text": [
      "[0. 0. 0. 0. 0. 0.] [    0.     0. -1500. -3750.     0.     0.]\n"
     ]
    }
   ],
   "source": [
    "D = np.zeros((e+1)*GL)     # (d, fi, d, fi, ...) desplazamientos, angulos\n",
    "F = np.zeros((e+1)*GL)     # (F, M, F, M, ...) fuerzas, momentos\n",
    "KG = np.zeros(((e+1)*GL,(e+1)*GL))\n",
    "d=[]\n",
    "f=[]\n",
    "\n",
    "CC = [[1,0], [1,0], [2,-w*L/2], [2,-w*(L**2)/12], [1,0], [2,0]] # por nodo consecutivamete: [1=d o 2=D, valor conocido], [1=fi, 2=M, valor conocido]\n",
    "'''\n",
    "w=1\n",
    "L=1\n",
    "e=1\n",
    "E=1\n",
    "I=1\n",
    "CC = [[1,0], [1,0], [2,-w*L/2], [2,w*(L**2)/12]]\n",
    "'''\n",
    "\n",
    "for i in range(e):\n",
    "    KL=(E*I)/(L**3)* np.array( [[12, 6*L, -12, 6*L], [6*L, 4*(L**2), -6*L, 2*(L**2)],\n",
    "                     [-12, -6*L, 12, -6*L], [6*L, 2*(L**2), -6*L, 4*(L**2)]])\n",
    "    KG[2*i:2*i+GL*2, 2*i:2*i+GL*2]+= KL\n",
    "    \n",
    "\n",
    "j=-1\n",
    "for i in CC:\n",
    "    j+=1\n",
    "    if i[0]==1:\n",
    "        D[CC.index(i)]=i[1]\n",
    "        f.append(j)   # f/M desconocidos\n",
    "    else:\n",
    "        F[CC.index(i)]=i[1]\n",
    "        d.append(j)  # d/fi desconocidos\n",
    "        \n",
    "dd=np.linalg.solve(KG[np.ix_(d, d)], F[d] )\n",
    "\n",
    "D[d]=dd  # desplazamientos finales\n",
    "\n",
    "FF=np.dot(KG, D)  # fuerzas finales.\n",
    "\n",
    "ECU=[-(w*L)/2, -w*(L**2)/12, -(w*L)/2,  w*(L**2)/12]\n",
    "\n",
    "R=np.zeros((e+1)*GL)\n",
    "for i in range(e):\n",
    "    R[i*GL:i*GL+4]=FF[i*GL:i*GL+4] - ECU"
   ]
  },
  {
   "cell_type": "code",
   "execution_count": 3,
   "id": "photographic-marsh",
   "metadata": {},
   "outputs": [
    {
     "data": {
      "text/plain": [
       "(array([ 0.00000000e+00,  0.00000000e+00, -6.81910022e-05, -3.33378233e-06,\n",
       "         0.00000000e+00,  8.48599138e-06]),\n",
       " array([  890.625,  7968.75 , -1500.   , -3750.   ,   609.375,     0.   ]),\n",
       " array([ 2.39062500e+03,  1.17187500e+04,  4.54747351e-13,  0.00000000e+00,\n",
       "         2.10937500e+03, -3.75000000e+03]))"
      ]
     },
     "execution_count": 3,
     "metadata": {},
     "output_type": "execute_result"
    }
   ],
   "source": [
    "D, FF, R"
   ]
  },
  {
   "cell_type": "code",
   "execution_count": 27,
   "id": "marked-invasion",
   "metadata": {},
   "outputs": [
    {
     "data": {
      "text/plain": [
       "0.08333333333333333"
      ]
     },
     "execution_count": 27,
     "metadata": {},
     "output_type": "execute_result"
    }
   ],
   "source": [
    "d"
   ]
  },
  {
   "cell_type": "code",
   "execution_count": 12,
   "id": "ordinary-mouth",
   "metadata": {},
   "outputs": [
    {
     "data": {
      "text/plain": [
       "array([0., 0., 0., 0., 0., 0.])"
      ]
     },
     "execution_count": 12,
     "metadata": {},
     "output_type": "execute_result"
    }
   ],
   "source": [
    "R"
   ]
  },
  {
   "cell_type": "code",
   "execution_count": null,
   "id": "amber-exhaust",
   "metadata": {},
   "outputs": [],
   "source": []
  }
 ],
 "metadata": {
  "kernelspec": {
   "display_name": "Python 3",
   "language": "python",
   "name": "python3"
  },
  "language_info": {
   "codemirror_mode": {
    "name": "ipython",
    "version": 3
   },
   "file_extension": ".py",
   "mimetype": "text/x-python",
   "name": "python",
   "nbconvert_exporter": "python",
   "pygments_lexer": "ipython3",
   "version": "3.9.2"
  }
 },
 "nbformat": 4,
 "nbformat_minor": 5
}
