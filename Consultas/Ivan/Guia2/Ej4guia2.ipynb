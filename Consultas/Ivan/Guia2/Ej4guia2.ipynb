{
 "cells": [
  {
   "cell_type": "code",
   "execution_count": 2,
   "id": "regular-system",
   "metadata": {},
   "outputs": [],
   "source": [
    "import numpy as np"
   ]
  },
  {
   "cell_type": "code",
   "execution_count": null,
   "id": "southwest-shelter",
   "metadata": {},
   "outputs": [],
   "source": []
  },
  {
   "cell_type": "code",
   "execution_count": 3,
   "id": "changing-morris",
   "metadata": {},
   "outputs": [],
   "source": [
    "matriz_nodos=np.array([[0,0],[3,0],[6,0],[6,-3]])   #cada fila tiene la posición del i-esimo nodo\n",
    "matriz_conectividad=np.array([[0,1],[1,2],[2,3]]) #cada fila dice entre que nodos se encuentra el i-esimo elemento\n",
    "gr_libertad=np.array([[0,0],[0,1],[1,1],[0,0]]) #grados de libertad de cada nodo (2 por nodo, el primero es el gr libertad en x, el segundo en y). 0=restringido, 1=libre\n",
    "n=len(matriz_nodos)\n",
    "matriz_global=np.zeros((2*n,2*n))\n",
    "fuerzas_dato=np.array([0,-50e3,0]) #Cada fila hace referencia a cada nodo, la columna 0 son las proyecciones en x de la fza y la columna 1, las proyecciones en y\n",
    "delta=np.array([0,0,0,0,0])\n",
    "E=210e9\n",
    "\n",
    "\n",
    "r=([0,1,2,6,7]) #nodos vinculados\n",
    "s=([3,4,5])\n",
    "tipo=np.array([[0],[0],[1]]) \n",
    "I=2e-4\n",
    "cte_resorte=200e3\n",
    "np.set_printoptions(precision = 4, linewidth = 132)\n",
    "#scale=np.max((np.max(matriz_global)))\n",
    "#matriz_global[abs(matriz_global/scale) < 1e-9] = 0\n"
   ]
  },
  {
   "cell_type": "code",
   "execution_count": 6,
   "id": "varying-fantasy",
   "metadata": {},
   "outputs": [
    {
     "name": "stdout",
     "output_type": "stream",
     "text": [
      "[[ 3.7333e+07  5.6000e+07 -3.7333e+07  5.6000e+07  0.0000e+00  0.0000e+00  0.0000e+00  0.0000e+00]\n",
      " [ 5.6000e+07  1.1200e+08 -5.6000e+07  5.6000e+07  0.0000e+00  0.0000e+00  0.0000e+00  0.0000e+00]\n",
      " [-3.7333e+07 -5.6000e+07  7.4667e+07  0.0000e+00 -3.7333e+07  5.6000e+07  0.0000e+00  0.0000e+00]\n",
      " [ 5.6000e+07  5.6000e+07  0.0000e+00  2.2400e+08 -5.6000e+07  5.6000e+07  0.0000e+00  0.0000e+00]\n",
      " [ 0.0000e+00  0.0000e+00 -3.7333e+07 -5.6000e+07  3.7733e+07 -5.6000e+07 -4.0000e+05  0.0000e+00]\n",
      " [ 0.0000e+00  0.0000e+00  5.6000e+07  5.6000e+07 -5.6000e+07  1.1200e+08  0.0000e+00  0.0000e+00]\n",
      " [ 0.0000e+00  0.0000e+00  0.0000e+00  0.0000e+00 -4.0000e+05  0.0000e+00  4.0000e+05  0.0000e+00]\n",
      " [ 0.0000e+00  0.0000e+00  0.0000e+00  0.0000e+00  0.0000e+00  0.0000e+00  0.0000e+00  0.0000e+00]]\n"
     ]
    }
   ],
   "source": [
    "for i in range (len(matriz_conectividad)):\n",
    "    (a),(b)=matriz_conectividad[i] \n",
    "    a=int(a)\n",
    "    b=int(b)\n",
    "    x1=matriz_nodos[a,0]\n",
    "    x2=matriz_nodos[b,0]\n",
    "    y1=matriz_nodos[a,1]\n",
    "    y2=matriz_nodos[b,1]\n",
    "\n",
    "    angulo=np.arctan2((y2-y1),(x2-x1)) #angulo entre los elementos y el eje de coordenadas\n",
    "    #print(angulo*180/np.pi)\n",
    "    S=np.sin(angulo)\n",
    "    C=np.cos(angulo)\n",
    "    L=np.sqrt(((y2-y1)**2)+((x2-x1)**2)) #Largo del elemento\n",
    "   \n",
    "    if tipo[i]==0:\n",
    "        coef_k=E*I/L**3\n",
    "        k=coef_k*np.array([[12,6*L,-12,6*L],[6*L,4*L**2,-6*L,2*L**2],[-12,-6*L,12,-6*L],[6*L,2*L**2,-6*L,4*L**2]])\n",
    "        matriz_global[2*a:2*(a+1), 2*a:2*(a+1)] += k [0:2,0:2]\n",
    "        matriz_global[2*(a):2*(a+1), 2*(b):2*(b+1)] += k [0:2,2:4]\n",
    "        matriz_global[2*b:2*(b+1), 2*b:2*(b+1)] += k [2:4,2:4]\n",
    "        matriz_global[2*b:2*(b+1), 2*a:2*(a+1)] += k [2:4,0:2]\n",
    "    else:\n",
    "        coef_k=cte_resorte\n",
    "        k=coef_k*np.array([[1,0,-1,0],[0,0,0,0],[-1,0,1,0],[0,0,0,0]])\n",
    "        matriz_global[2*a:2*(a+1), 2*a:2*(a+1)] += k [0:2,0:2]\n",
    "        matriz_global[2*(a):2*(a+1), 2*(b):2*(b+1)] += k [0:2,2:4]\n",
    "        matriz_global[2*b:2*(b+1), 2*b:2*(b+1)] += k [2:4,2:4]\n",
    "        matriz_global[2*b:2*(b+1), 2*a:2*(a+1)] += k [2:4,0:2]\n",
    "scale=np.max((np.max(matriz_global)))\n",
    "matriz_global[abs(matriz_global/scale) < 1e-9] = 0\n",
    "print(matriz_global)"
   ]
  },
  {
   "cell_type": "code",
   "execution_count": 7,
   "id": "alternate-return",
   "metadata": {},
   "outputs": [
    {
     "name": "stdout",
     "output_type": "stream",
     "text": [
      "[[ 2.2400e+08 -5.6000e+07  5.6000e+07]\n",
      " [-5.6000e+07  3.7733e+07 -5.6000e+07]\n",
      " [ 5.6000e+07 -5.6000e+07  1.1200e+08]] [[ 56000000.      56000000.             0.             0.             0.    ]\n",
      " [        0.             0.     -37333333.3333   -400000.             0.    ]\n",
      " [        0.             0.      56000000.             0.             0.    ]]\n"
     ]
    }
   ],
   "source": [
    "k_reducida=matriz_global[np.ix_(s,s)]\n",
    "k_vinculo=matriz_global[np.ix_(s,r)]\n",
    "print(k_reducida, k_vinculo)"
   ]
  },
  {
   "cell_type": "code",
   "execution_count": 8,
   "id": "previous-symbol",
   "metadata": {},
   "outputs": [
    {
     "name": "stdout",
     "output_type": "stream",
     "text": [
      "[[8.6616e-09 2.4917e-08 8.1277e-09]\n",
      " [2.4917e-08 1.7442e-07 7.4751e-08]\n",
      " [8.1277e-09 7.4751e-08 4.2240e-08]]\n",
      "[-0.0012 -0.0087 -0.0037]\n"
     ]
    }
   ],
   "source": [
    "aux=np.linalg.inv(k_reducida)\n",
    "print(aux)\n",
    "f=[]\n",
    "d=[]\n",
    "for i in range (len(s)):\n",
    "    f.append(fuerzas_dato[i])\n",
    "for i in range (len(r)):\n",
    "    d.append(delta[i])\n",
    "#print(f)\n",
    "#print(d)\n",
    "u=np.dot(aux,f-(np.dot(k_vinculo,d)))\n",
    "print(u)"
   ]
  },
  {
   "cell_type": "code",
   "execution_count": 9,
   "id": "stunning-boards",
   "metadata": {},
   "outputs": [
    {
     "name": "stdout",
     "output_type": "stream",
     "text": [
      "[ 0.      0.      0.     -0.0012 -0.0087 -0.0037  0.      0.    ]\n"
     ]
    }
   ],
   "source": [
    "desplazamientos=np.zeros((2*n))\n",
    "#print(desplazamientos)\n",
    "a=0\n",
    "for i in (s):\n",
    "    desplazamientos[i]=u[a]\n",
    "    a+=1\n",
    "a=0\n",
    "for i in ((r)):\n",
    "    desplazamientos[i]=delta[a]\n",
    "    a+=1\n",
    "print(desplazamientos)"
   ]
  },
  {
   "cell_type": "code",
   "execution_count": 10,
   "id": "younger-association",
   "metadata": {},
   "outputs": [
    {
     "name": "stdout",
     "output_type": "stream",
     "text": [
      "[[ 3.7333e+07  5.6000e+07 -3.7333e+07  5.6000e+07  0.0000e+00  0.0000e+00  0.0000e+00  0.0000e+00]\n",
      " [ 5.6000e+07  1.1200e+08 -5.6000e+07  5.6000e+07  0.0000e+00  0.0000e+00  0.0000e+00  0.0000e+00]\n",
      " [-3.7333e+07 -5.6000e+07  7.4667e+07  0.0000e+00 -3.7333e+07  5.6000e+07  0.0000e+00  0.0000e+00]\n",
      " [ 0.0000e+00  0.0000e+00  0.0000e+00  0.0000e+00 -4.0000e+05  0.0000e+00  4.0000e+05  0.0000e+00]\n",
      " [ 0.0000e+00  0.0000e+00  0.0000e+00  0.0000e+00  0.0000e+00  0.0000e+00  0.0000e+00  0.0000e+00]]\n",
      "[-69767.4419 -69767.4419 116279.0698   3488.3721      0.    ]\n"
     ]
    }
   ],
   "source": [
    "aux=matriz_global[np.ix_(r,np.arange(0,2*n))]\n",
    "print(aux)\n",
    "for i in r:\n",
    "    F=np.dot(aux,desplazamientos)\n",
    "print(F)"
   ]
  },
  {
   "cell_type": "code",
   "execution_count": 11,
   "id": "actual-gasoline",
   "metadata": {},
   "outputs": [
    {
     "name": "stdout",
     "output_type": "stream",
     "text": [
      "[-69767.4419 -69767.4419 116279.0698      0.     -50000.          0.       3488.3721      0.    ]\n",
      "[ 0.      0.      0.     -0.0012 -0.0087 -0.0037  0.      0.    ]\n"
     ]
    }
   ],
   "source": [
    "resultado_fuerzas=np.zeros((2*n))\n",
    "a=0\n",
    "for i in r:\n",
    "    resultado_fuerzas[i]=F[a]\n",
    "    a+=1\n",
    "a=0\n",
    "for i in s:\n",
    "    resultado_fuerzas[i]=fuerzas_dato[a]\n",
    "    a+=1\n",
    "print(resultado_fuerzas)\n",
    "print(desplazamientos)"
   ]
  },
  {
   "cell_type": "code",
   "execution_count": null,
   "id": "american-ridge",
   "metadata": {},
   "outputs": [],
   "source": []
  },
  {
   "cell_type": "code",
   "execution_count": null,
   "id": "unnecessary-asset",
   "metadata": {},
   "outputs": [],
   "source": []
  }
 ],
 "metadata": {
  "kernelspec": {
   "display_name": "Python 3",
   "language": "python",
   "name": "python3"
  },
  "language_info": {
   "codemirror_mode": {
    "name": "ipython",
    "version": 3
   },
   "file_extension": ".py",
   "mimetype": "text/x-python",
   "name": "python",
   "nbconvert_exporter": "python",
   "pygments_lexer": "ipython3",
   "version": "3.9.2"
  }
 },
 "nbformat": 4,
 "nbformat_minor": 5
}
