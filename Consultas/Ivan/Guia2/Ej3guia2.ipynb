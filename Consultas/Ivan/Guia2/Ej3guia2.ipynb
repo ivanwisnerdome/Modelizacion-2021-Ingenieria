{
 "cells": [
  {
   "cell_type": "code",
   "execution_count": 1,
   "id": "informational-motorcycle",
   "metadata": {},
   "outputs": [],
   "source": [
    "#! pip install gmsh\n",
    "import numpy as np\n",
    "#import gmsh\n",
    "import matplotlib.pyplot as plt"
   ]
  },
  {
   "cell_type": "code",
   "execution_count": 2,
   "id": "moved-moses",
   "metadata": {},
   "outputs": [],
   "source": [
    "C=-20\n",
    "E=210e9\n",
    "A=10\n",
    "L=150\n",
    "extremo_empotrado=1 #0=izq 1=der"
   ]
  },
  {
   "cell_type": "code",
   "execution_count": 5,
   "id": "rapid-norman",
   "metadata": {},
   "outputs": [],
   "source": [
    "func=lambda x,C,L,A,E: (np.abs(C)/(6*A*E))*(x**3-L**3)\n",
    "#MDF_COMMAND esta bien, pero las funciones lambda se suelen usar solo para definiciones in line, en estos\n",
    "# casos conviene siempre usar def."
   ]
  },
  {
   "cell_type": "code",
   "execution_count": 14,
   "id": "likely-tunnel",
   "metadata": {},
   "outputs": [],
   "source": [
    "#MDF_COMMENT elementos=3\n",
    "elementos =4\n",
    "x=np.linspace(0,L,elementos+1)"
   ]
  },
  {
   "cell_type": "code",
   "execution_count": 15,
   "id": "settled-recognition",
   "metadata": {},
   "outputs": [],
   "source": [
    "F=np.zeros(len(x))\n",
    "f=np.zeros((2)) \n",
    "Ftot=(C/2)*(L/elementos)**2\n",
    "for i in range (len(x)-1):\n",
    "    f[0]= Ftot/3 + (C/2)*(x[i+1]-x[i])*x[i]\n",
    "    f[1]= Ftot *(2/3)+ (C/2)*(x[i+1]-x[i])*x[i]\n",
    "    F[i]+=f[0]\n",
    "    F[i+1]=f[1]"
   ]
  },
  {
   "cell_type": "code",
   "execution_count": 16,
   "id": "solar-transmission",
   "metadata": {},
   "outputs": [],
   "source": [
    "k=np.array([[1,-1],[-1,1]])\n",
    "K=np.zeros([len(x),len(x)])\n",
    "#print(K)\n",
    "for i in range(len(x)-1):\n",
    "    (K[i:(i+2),i:(i+2)])+=(k [0:2,0:2])\n",
    "    i+=1\n",
    "\n",
    "K=np.dot((A*E/(L/elementos)),K)\n",
    "Kred=K[0:(len(x)-1),0:(len(x)-1)]\n"
   ]
  },
  {
   "cell_type": "code",
   "execution_count": 17,
   "id": "rough-washer",
   "metadata": {},
   "outputs": [],
   "source": [
    "F_=F[0:len(x)-1]"
   ]
  },
  {
   "cell_type": "code",
   "execution_count": 18,
   "id": "binary-drilling",
   "metadata": {},
   "outputs": [],
   "source": [
    "#print(F_)"
   ]
  },
  {
   "cell_type": "code",
   "execution_count": 19,
   "id": "superb-recipe",
   "metadata": {},
   "outputs": [
    {
     "name": "stdout",
     "output_type": "stream",
     "text": [
      "[ -4687.5 -28125.  -56250.  -84375.  173437.5]\n",
      "[-5.35714286e-06 -5.27343750e-06 -4.68750000e-06 -3.09709821e-06\n",
      "  0.00000000e+00]\n"
     ]
    }
   ],
   "source": [
    "d=np.linalg.solve(Kred,F_)\n",
    "#print(d)\n",
    "R=-F[-1]-d[-1]*(A*E/(L/elementos))\n",
    "#print(R)\n",
    "F[-1]=R+F[-1]\n",
    "print(F)\n",
    "if extremo_empotrado ==1:\n",
    "    d=np.insert(d,len(d),0)\n",
    "else:\n",
    "     d=np.insert(d,0,0)\n",
    "print(d)\n",
    "#El array F representa las fuerzas de cada elemento; el array d, los desplazamientos"
   ]
  },
  {
   "cell_type": "code",
   "execution_count": 20,
   "id": "supposed-theorem",
   "metadata": {},
   "outputs": [
    {
     "data": {
      "image/png": "[encoded data removed]",
      "text/plain": [
       "<Figure size 432x288 with 1 Axes>"
      ]
     },
     "metadata": {
      "needs_background": "light"
     },
     "output_type": "display_data"
    }
   ],
   "source": [
    "plt.plot(x,d)\n",
    "#MDF COMMENT me falta la var Largo:\n",
    "Largo = 150\n",
    "plt.plot(np.linspace(0, Largo, 100), func(np.linspace(0, Largo, 100),C,Largo,A,E),'r')\n",
    "plt.show()\n"
   ]
  },
  {
   "cell_type": "code",
   "execution_count": null,
   "id": "functional-sheep",
   "metadata": {},
   "outputs": [],
   "source": []
  },
  {
   "cell_type": "code",
   "execution_count": null,
   "id": "isolated-marketing",
   "metadata": {},
   "outputs": [],
   "source": []
  }
 ],
 "metadata": {
  "kernelspec": {
   "display_name": "Python 3",
   "language": "python",
   "name": "python3"
  },
  "language_info": {
   "codemirror_mode": {
    "name": "ipython",
    "version": 3
   },
   "file_extension": ".py",
   "mimetype": "text/x-python",
   "name": "python",
   "nbconvert_exporter": "python",
   "pygments_lexer": "ipython3",
   "version": "3.9.2"
  }
 },
 "nbformat": 4,
 "nbformat_minor": 5
}
