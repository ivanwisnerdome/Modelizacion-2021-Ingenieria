{
 "cells": [
  {
   "cell_type": "code",
   "execution_count": 1,
   "id": "posted-microphone",
   "metadata": {},
   "outputs": [],
   "source": [
    "import numpy as np"
   ]
  },
  {
   "cell_type": "code",
   "execution_count": 2,
   "id": "together-receipt",
   "metadata": {},
   "outputs": [
    {
     "name": "stdout",
     "output_type": "stream",
     "text": [
      "[0 1 3 5 6 7]\n",
      "[2 4]\n"
     ]
    }
   ],
   "source": [
    "matriz_conectividad=np.loadtxt(\"./datos_ej1/matriz_conectividad.dat\",unpack=True) #En la matriz de conectividad van en cada fila los nodos conectados (de a pares). Si un elemento conecta el nodo 1 y 2, la fila que representa a ese elemento es 1 2.\n",
    "matriz_conectividad=np.transpose(matriz_conectividad)\n",
    "fuerzas_dato, s=np.loadtxt(\"./datos_ej1/fuerzas_dato_s.dat\", unpack=True) #En la primera columna estan las fuerzas que son dato, en la segunda, el nodo de esa fuerza\n",
    "E,A=np.loadtxt(\"./datos_ej1/EA.dat\",unpack=True) #1era columna: valores de E[N/m^2]. 2da: valores de area (m^2)\n",
    "(gr_libertad)=np.loadtxt(\"./datos_ej1/gr_libertad.dat\") #1era columna: grados de libertad de la componente x del nodo. 2da columna: grados de libertad de la componente x del nodo\n",
    "#Valores posibles: 0 ó 1. Si el valor es 0, ese grado de libertad esta restringido. Si es 1, está libre\n",
    "delta,r=np.loadtxt(\"./datos_ej1/delta_r.dat\",unpack=True) #1era columna: Valores conocidos de desplazamiento. 2da columna: posicion del nodo con valor conocido de desplazamiento\n",
    "matriz_nodos=np.loadtxt(\"./datos_ej1/matriz_nodos.dat\") #1era columna: coordenada x. #2da columna: coordenada y. Cada fila corresponde a las coordenadas de un nodo\n",
    "#Ej: Si la fila 2 es \"16 0\", quiere decir que el nodo 2 tiene posicion 16 en x, 0 en y.\n",
    "s=s.astype(int)\n",
    "r=r.astype(int)\n",
    "print(r)\n",
    "print(s)"
   ]
  },
  {
   "cell_type": "code",
   "execution_count": 3,
   "id": "encouraging-hygiene",
   "metadata": {},
   "outputs": [
    {
     "name": "stderr",
     "output_type": "stream",
     "text": [
      "<ipython-input-3-db72cf9a7064>:5: RuntimeWarning: invalid value encountered in true_divide\n",
      "  matriz_global[abs(matriz_global/scale) < 1e-9] = 0\n"
     ]
    }
   ],
   "source": [
    "n=len(matriz_nodos)\n",
    "matriz_global=np.zeros((2*n,2*n))\n",
    "np.set_printoptions(precision = 4, linewidth = 132)\n",
    "scale=np.max((np.max(matriz_global)))\n",
    "matriz_global[abs(matriz_global/scale) < 1e-9] = 0"
   ]
  },
  {
   "cell_type": "code",
   "execution_count": 4,
   "id": "lyric-homeless",
   "metadata": {},
   "outputs": [
    {
     "name": "stdout",
     "output_type": "stream",
     "text": [
      "[0. 0.] [2 4]\n"
     ]
    }
   ],
   "source": [
    "print(fuerzas_dato,s)"
   ]
  },
  {
   "cell_type": "code",
   "execution_count": 5,
   "id": "casual-symposium",
   "metadata": {},
   "outputs": [
    {
     "name": "stdout",
     "output_type": "stream",
     "text": [
      "[200000.0]\n",
      "[200000.0]\n",
      "[200000.0]\n",
      "[[ 200000.       0. -200000.       0.       0.       0.       0.       0.]\n",
      " [      0.       0.       0.       0.       0.       0.       0.       0.]\n",
      " [-200000.       0.  400000.       0. -200000.       0.       0.       0.]\n",
      " [      0.       0.       0.       0.       0.       0.       0.       0.]\n",
      " [      0.       0. -200000.       0.  400000.       0. -200000.       0.]\n",
      " [      0.       0.       0.       0.       0.       0.       0.       0.]\n",
      " [      0.       0.       0.       0. -200000.       0.  200000.       0.]\n",
      " [      0.       0.       0.       0.       0.       0.       0.       0.]]\n"
     ]
    }
   ],
   "source": [
    "#Armado de la matriz global\n",
    "for i in range (len(matriz_conectividad)):\n",
    "    (a),(b)=matriz_conectividad[i] \n",
    "    a=int(a)\n",
    "    b=int(b)\n",
    "    x1=matriz_nodos[a,0]\n",
    "    x2=matriz_nodos[b,0]\n",
    "    y1=matriz_nodos[a,1]\n",
    "    y2=matriz_nodos[b,1]\n",
    "    \n",
    "    angulo=np.arctan2((y2-y1),(x2-x1)) #angulo entre los elementos y el eje de coordenadas\n",
    "    #print(angulo*180/np.pi)\n",
    "    S=np.sin(angulo)\n",
    "    C=np.cos(angulo)\n",
    "   # print(S,C)\n",
    "    L=np.sqrt(((y2-y1)**2)+((x2-x1)**2)) #Largo del elemento\n",
    "    coef_k=[A[i]*E[i]/L] #coeficientes geometricos\n",
    "    print(coef_k)\n",
    "    k=coef_k*np.array([[C**2,C*S,-C**2,-C*S],[C*S,S**2,-C*S,-S**2],[-C**2,-C*S,C**2,C*S],[-C*S,-S**2,C*S,S**2]])\n",
    "    matriz_global[2*a:2*(a+1), 2*a:2*(a+1)] += k [0:2,0:2]\n",
    "    matriz_global[2*(a):2*(a+1), 2*(b):2*(b+1)] += k [0:2,2:4]\n",
    "    matriz_global[2*b:2*(b+1), 2*b:2*(b+1)] += k [2:4,2:4]\n",
    "    matriz_global[2*b:2*(b+1), 2*a:2*(a+1)] += k [2:4,0:2]\n",
    "scale=np.max((np.max(matriz_global)))\n",
    "matriz_global[abs(matriz_global/scale) < 1e-9] = 0  #redondea los valores  menores a 10^-9\n",
    "print(matriz_global) \n",
    "#print(s)"
   ]
  },
  {
   "cell_type": "markdown",
   "id": "hindu-blame",
   "metadata": {},
   "source": [
    "# Comentarios hasta aca\n",
    "\n",
    "No entiendo  por qué te quedan ceros en las diagonales. FIjate que abajo te queda un cero en la matriz de vínculos.\n",
    "Ah, la matriz reducida te queda de 2x2 ? estaria bien, quiere decir que estas usando la matriz de 4x4 para el resorte ?"
   ]
  },
  {
   "cell_type": "code",
   "execution_count": 6,
   "id": "persistent-chambers",
   "metadata": {},
   "outputs": [
    {
     "name": "stdout",
     "output_type": "stream",
     "text": [
      "[[ 400000. -200000.]\n",
      " [-200000.  400000.]] [[-200000.       0.       0.       0.       0.       0.]\n",
      " [      0.       0.       0.       0. -200000.       0.]]\n"
     ]
    }
   ],
   "source": [
    "\n",
    "k_reducida=matriz_global[np.ix_(s,s)]\n",
    "k_vinculo=matriz_global[np.ix_(s,r)]\n",
    "print(k_reducida, k_vinculo)\n"
   ]
  },
  {
   "cell_type": "code",
   "execution_count": 7,
   "id": "configured-hudson",
   "metadata": {},
   "outputs": [],
   "source": [
    "#Calculo de la matriz k reducida y k vinculo\n",
    "aux=np.linalg.inv(k_reducida)\n",
    "f=[]\n",
    "d=[]\n",
    "for i in range (len(s)):\n",
    "    f.append(fuerzas_dato[i])\n",
    "for i in range (len(r)):\n",
    "    d.append(delta[i])\n",
    "u=np.dot(aux,f-(np.dot(k_vinculo,d))) #u es un vector con los desplazamientos que eran incognita\n",
    "#print(u) "
   ]
  },
  {
   "cell_type": "code",
   "execution_count": 8,
   "id": "incorrect-resident",
   "metadata": {},
   "outputs": [],
   "source": [
    "#armado del vector total de desplazamientos (datos e incognitas)\n",
    "desplazamientos=np.zeros((2*n))\n",
    "a=0\n",
    "for i in (s):\n",
    "    desplazamientos[i]=u[a]\n",
    "    a+=1\n",
    "a=0\n",
    "for i in ((r)):\n",
    "    desplazamientos[i]=delta[a]\n",
    "    a+=1\n",
    "#print(desplazamientos)"
   ]
  },
  {
   "cell_type": "code",
   "execution_count": 9,
   "id": "funny-outline",
   "metadata": {},
   "outputs": [
    {
     "name": "stdout",
     "output_type": "stream",
     "text": [
      "[-1333.3333     0.         0.         0.      1333.3333     0.    ]\n"
     ]
    }
   ],
   "source": [
    "#Calculo de las fuerzas incognitas\n",
    "aux=matriz_global[np.ix_(r,np.arange(0,2*n))]\n",
    "a=0 \n",
    "for i in r:\n",
    "    F=np.dot(aux,desplazamientos)\n",
    "   # F[i]=F[i]+fuerzas_dato[a]\n",
    "    #a+=1\n",
    "print(F)"
   ]
  },
  {
   "cell_type": "code",
   "execution_count": 10,
   "id": "loved-camcorder",
   "metadata": {},
   "outputs": [],
   "source": [
    "#Armado del vector total de fuerzas(incognitas y datos)\n",
    "resultado_fuerzas=np.zeros((2*n))\n",
    "a=0\n",
    "for i in r:\n",
    "    resultado_fuerzas[i]=F[a]\n",
    "    a+=1\n",
    "a=0\n",
    "for i in s:\n",
    "    resultado_fuerzas[i]=fuerzas_dato[a]\n",
    "    a+=1\n"
   ]
  },
  {
   "cell_type": "code",
   "execution_count": 11,
   "id": "further-voluntary",
   "metadata": {},
   "outputs": [
    {
     "name": "stdout",
     "output_type": "stream",
     "text": [
      "[-1333.3333     0.         0.         0.         0.         0.      1333.3333     0.    ]\n",
      "[0.     0.     0.0067 0.     0.0133 0.     0.02   0.    ]\n"
     ]
    }
   ],
   "source": [
    "print(resultado_fuerzas)\n",
    "print(desplazamientos)\n"
   ]
  },
  {
   "cell_type": "code",
   "execution_count": 14,
   "id": "amateur-receipt",
   "metadata": {},
   "outputs": [
    {
     "data": {
      "text/plain": [
       "array([2, 4])"
      ]
     },
     "execution_count": 14,
     "metadata": {},
     "output_type": "execute_result"
    }
   ],
   "source": [
    "s"
   ]
  },
  {
   "cell_type": "code",
   "execution_count": null,
   "id": "rotary-riding",
   "metadata": {},
   "outputs": [],
   "source": []
  }
 ],
 "metadata": {
  "kernelspec": {
   "display_name": "Python 3",
   "language": "python",
   "name": "python3"
  },
  "language_info": {
   "codemirror_mode": {
    "name": "ipython",
    "version": 3
   },
   "file_extension": ".py",
   "mimetype": "text/x-python",
   "name": "python",
   "nbconvert_exporter": "python",
   "pygments_lexer": "ipython3",
   "version": "3.9.2"
  }
 },
 "nbformat": 4,
 "nbformat_minor": 5
}
