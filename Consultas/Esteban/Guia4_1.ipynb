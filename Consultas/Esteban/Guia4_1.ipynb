{
 "cells": [
  {
   "cell_type": "code",
   "execution_count": 8,
   "metadata": {},
   "outputs": [],
   "source": [
    "import numpy as np\n",
    "import matplotlib.pyplot as plt\n",
    "from scipy.linalg import eigh "
   ]
  },
  {
   "cell_type": "code",
   "execution_count": 9,
   "metadata": {},
   "outputs": [],
   "source": [
    "densidad= 7850 #\n",
    "A=10E-4\n",
    "L_total =1\n",
    "I=10E-8\n",
    "E= 210E9\n",
    "n_elementos=3\n",
    "n_nodos=n_elementos+1\n",
    "gl=2"
   ]
  },
  {
   "cell_type": "code",
   "execution_count": 10,
   "metadata": {},
   "outputs": [],
   "source": [
    "MN=np.linspace(0,L_total,n_elementos+1).reshape(-1,1)\n",
    "MN=np.hstack([MN, np.zeros_like(MN)])\n",
    "MC = ([[0,1]])\n",
    "for i in range(n_elementos-1):\n",
    "    MC.append([MC[-1][1],MC[-1][1] +1])\n",
    "MC = np.array(MC)\n",
    "\n",
    "K = np.zeros((2*n_nodos,2*n_nodos))\n",
    "C = np.zeros((2*n_nodos,2*n_nodos))\n",
    "L=L_total/n_elementos\n",
    "s=[0,1]\n",
    "r=(np.linspace(2,2*n_nodos-1,2*n_nodos-2)).astype(int)"
   ]
  },
  {
   "cell_type": "code",
   "execution_count": 11,
   "metadata": {},
   "outputs": [],
   "source": [
    "for e in range (len(MC)):\n",
    "    a, b= MC[i] \n",
    "    a=int(a)\n",
    "    b=int(b)\n",
    "    x1, y1 = MN[a]\n",
    "    x2, y2 = MN[b]\n",
    "\n",
    "    \n",
    "    K_local =  ((E*I)/L**3) * np.array(\n",
    "            [(12,6*L,-12,6*L),\n",
    "             (6*L,4*L**2,-6*L,2*L**2),\n",
    "             (-12,-6*L,12,-6*L),\n",
    "             (6*L,2*L**2, -6*L,4*L**2)])\n",
    "    \n",
    "    for i in MC[e]:\n",
    "        columna_i = list(MC[e]).index(i) # identifico en que columna de MC esta el elemento i\n",
    "        index_i = np.linspace(i*gl,(i+1)*gl-1,gl).astype(int)\n",
    "        ind_col_i = np.linspace(columna_i*gl,(columna_i+1)*gl-1,gl).astype(int)\n",
    "        for j in MC[e]:\n",
    "            columna_j = list(MC[e]).index(j) # # identifico en que columna de MC esta el elemento i\n",
    "            index_j = np.linspace(j*gl,(j+1)*gl-1,gl).astype(int)\n",
    "            ind_col_j = np.linspace(columna_j*gl,(columna_j+1)*gl-1,gl).astype(int)\n",
    "            K[np.ix_(index_i, index_j)] +=  K_local[np.ix_(ind_col_i , ind_col_j)]\n",
    "        \n",
    "    C_local = densidad*A*(L/24) * np.array(\n",
    "                [(12,0,0,0),\n",
    "                 (0,L**2,0,0),\n",
    "                 (0,0,12,0),\n",
    "                 (0,0,0,L**2)])\n",
    "\n",
    "    for i in MC[e]:\n",
    "        columna_i = list(MC[e]).index(i) # identifico en que columna de MC esta el elemento i\n",
    "        index_i = np.linspace(i*gl,(i+1)*gl-1,gl).astype(int)\n",
    "        ind_col_i = np.linspace(columna_i*gl,(columna_i+1)*gl-1,gl).astype(int)\n",
    "        for j in MC[e]:\n",
    "            columna_j = list(MC[e]).index(j) # # identifico en que columna de MC esta el elemento i\n",
    "            index_j = np.linspace(j*gl,(j+1)*gl-1,gl).astype(int)\n",
    "            ind_col_j = np.linspace(columna_j*gl,(columna_j+1)*gl-1,gl).astype(int)\n",
    "            C[np.ix_(index_i, index_j)] +=  C_local[np.ix_(ind_col_i , ind_col_j)]\n",
    "\n"
   ]
  },
  {
   "cell_type": "code",
   "execution_count": 12,
   "metadata": {},
   "outputs": [
    {
     "name": "stdout",
     "output_type": "stream",
     "text": [
      "[[ 0.1078782   0.32978952 -0.44635954  0.23469896  0.06939118 -0.05129516]\n",
      " [ 0.59378168  1.13877527  0.10705238 -3.45014763  5.12059322 -1.2202646 ]\n",
      " [ 0.36148961  0.3421096   0.26434642 -0.10119412 -0.21382409 -0.09280017]\n",
      " [ 0.88156788 -1.30291596  2.04871432  3.90822572  1.82482791 -3.99970973]\n",
      " [ 0.67109076 -0.42334539 -0.14405979  0.04403293  0.12318331  0.31125687]\n",
      " [ 0.9537416  -2.90348891 -3.70944928 -3.72463733 -3.30034417 -5.88920122]]\n"
     ]
    }
   ],
   "source": [
    "w, vl_r = eigh(K[np.ix_(r,r)], C[np.ix_(r,r)])\n",
    "print(vl_r)"
   ]
  },
  {
   "cell_type": "raw",
   "metadata": {},
   "source": [
    "Se agregan dos grados de libertad por el nodo empotrado en el extremo.\n",
    "Tambien se calculan las frecuencias y se normalizan los autovectores (para que en el borde libre, el maximo desplazamiento sea 1). "
   ]
  },
  {
   "cell_type": "code",
   "execution_count": 38,
   "metadata": {},
   "outputs": [
    {
     "name": "stdout",
     "output_type": "stream",
     "text": [
      "[[  0.          -0.          -0.           0.           0.\n",
      "    0.        ]\n",
      " [  0.          -0.          -0.           0.           0.\n",
      "    0.        ]\n",
      " [  0.16075054  -0.77900818   3.09843243   5.33007887   0.56331641\n",
      "   -0.1648001 ]\n",
      " [  0.88480086  -2.68994372  -0.74311074 -78.35381374  41.56888739\n",
      "   -3.92044236]\n",
      " [  0.53865979  -0.80810989  -1.83497709  -2.29814666  -1.73582027\n",
      "   -0.29814659]\n",
      " [  1.31363436   3.07766659 -14.22127759  88.75689478  14.81392144\n",
      "  -12.85018959]\n",
      " [  1.           1.           1.           1.           1.\n",
      "    1.        ]\n",
      " [  1.42118125   6.85843991  25.74937235 -84.58755117 -26.79213695\n",
      "  -18.92071111]]\n"
     ]
    }
   ],
   "source": [
    "vl=np.vstack([np.zeros((2,2*(n_nodos-1))),vl_r])\n",
    "frecuencia=np.sqrt(w)/(2*np.pi)\n",
    "vl_normalizado=vl/max(vl[2*n_nodos-2,:]\n",
    "print(vl_normalizado)"
   ]
  },
  {
   "cell_type": "markdown",
   "metadata": {},
   "source": [
    "Los desplazamientos son las posiciones impares de cada fila (las posiciones pares son angulos)."
   ]
  },
  {
   "cell_type": "code",
   "execution_count": 39,
   "metadata": {},
   "outputs": [
    {
     "name": "stdout",
     "output_type": "stream",
     "text": [
      "[[  0.          -0.          -0.           0.           0.\n",
      "    0.        ]\n",
      " [  0.          -0.          -0.           0.           0.\n",
      "    0.        ]\n",
      " [  0.16075054  -0.77900818   3.09843243   5.33007887   0.56331641\n",
      "   -0.1648001 ]\n",
      " [  0.88480086  -2.68994372  -0.74311074 -78.35381374  41.56888739\n",
      "   -3.92044236]\n",
      " [  0.53865979  -0.80810989  -1.83497709  -2.29814666  -1.73582027\n",
      "   -0.29814659]\n",
      " [  1.31363436   3.07766659 -14.22127759  88.75689478  14.81392144\n",
      "  -12.85018959]\n",
      " [  1.           1.           1.           1.           1.\n",
      "    1.        ]\n",
      " [  1.42118125   6.85843991  25.74937235 -84.58755117 -26.79213695\n",
      "  -18.92071111]]\n",
      "\n",
      "[[ 0.         -0.         -0.          0.          0.          0.        ]\n",
      " [ 0.16075054 -0.77900818  3.09843243  5.33007887  0.56331641 -0.1648001 ]\n",
      " [ 0.53865979 -0.80810989 -1.83497709 -2.29814666 -1.73582027 -0.29814659]\n",
      " [ 1.          1.          1.          1.          1.          1.        ]]\n"
     ]
    }
   ],
   "source": [
    "# matriz_desplazamientos = vl_normalizado[:, 0::2]\n",
    "matriz_desplazamientos = vl_normalizado[::2]\n",
    "print(vl_normalizado)\n",
    "print('')\n",
    "print(matriz_desplazamientos)\n"
   ]
  },
  {
   "cell_type": "markdown",
   "metadata": {},
   "source": [
    "Graficando desplazamientos en funcion de posicion: \n",
    "\n"
   ]
  },
  {
   "cell_type": "code",
   "execution_count": 47,
   "metadata": {},
   "outputs": [
    {
     "data": {
      "image/png": "[encoded data removed]",
      "text/plain": [
       "<Figure size 432x288 with 1 Axes>"
      ]
     },
     "metadata": {
      "needs_background": "light"
     },
     "output_type": "display_data"
    }
   ],
   "source": [
    "posicion = MN[:,0]\n",
    "\n",
    "for i in range(0,n_elementos+1):\n",
    "    desplazamientos = matriz_desplazamientos[:,i]\n",
    "    plt.plot(posicion,desplazamientos)"
   ]
  },
  {
   "cell_type": "code",
   "execution_count": null,
   "metadata": {},
   "outputs": [],
   "source": []
  },
  {
   "cell_type": "code",
   "execution_count": null,
   "metadata": {},
   "outputs": [],
   "source": []
  }
 ],
 "metadata": {
  "kernelspec": {
   "display_name": "Python 3",
   "language": "python",
   "name": "python3"
  },
  "language_info": {
   "codemirror_mode": {
    "name": "ipython",
    "version": 3
   },
   "file_extension": ".py",
   "mimetype": "text/x-python",
   "name": "python",
   "nbconvert_exporter": "python",
   "pygments_lexer": "ipython3",
   "version": "3.7.4"
  }
 },
 "nbformat": 4,
 "nbformat_minor": 4
}
