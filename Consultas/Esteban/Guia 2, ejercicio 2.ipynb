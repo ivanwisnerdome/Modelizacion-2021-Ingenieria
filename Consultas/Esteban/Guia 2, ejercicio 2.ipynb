{
 "cells": [
  {
   "cell_type": "markdown",
   "metadata": {},
   "source": [
    "        Hola Mariano, no se porque la matriz reducida me queda singular en el ejercicio del puente. Primero hice el codigo para resolver el ejemplo de la mensula, con ese ejercicio me da bien, pero despues cuando le cargo los datos del puente me dice que es singular, no entiendo porque.\n",
    "\n",
    "Te de be faltar alguna condición de contorno.\n",
    "\n",
    "            Tambien tengo un par de dudas sobre como hice el codigo:\n",
    "            Primero respecto de como calcular los angulos, para los primeros elementos hago la resta entre un elemento y el siguiente, pero para el ultimo, como le quiero restar el primero, lo tengo que hacer aparte, por eso hago un if para los primeros elementos y otro if para el ultimo, pero seguramente hay una mejor manera de hacerlo.\n",
    "\n",
    "lo que pasa es que estabas recorriendo por nodo en vez de elemento, con lo cual te quedaban mal definidos los angulos.\n",
    "\n",
    "            Segundo, para hacer que los valores muy chicos en vez de mostrarse E-33 se muestre como 0, intente usar la forma que vimos en clase pero no se si la escribi mal o que, no me funciono, asi que hice un doble for pero bueno es muy ineficiente. Seria esta parte, igual esta comentada en el codigo:\n",
    "            #    scale = np.max(np.max(MR_global))\n",
    "            #    MR_global[abs(MR_global[i][j]/scale) < 1e-9] = 0\n",
    "            \n",
    "la linea es:\n",
    "```.python\n",
    "    MR_global[abs(MR_global/scale) < 1e-9] = 0\n",
    "```\n"
   ]
  },
  {
   "cell_type": "code",
   "execution_count": 6,
   "metadata": {},
   "outputs": [],
   "source": [
    "import numpy as np\n",
    "import pdb"
   ]
  },
  {
   "cell_type": "code",
   "execution_count": 45,
   "metadata": {},
   "outputs": [],
   "source": [
    "def calculos(MN, MC, K, s, r, U, F):\n",
    "\n",
    "    n = len(MN) #numero de nodos\n",
    "    gl = 2 # grados de libertad\n",
    "    MR_global = np.zeros([gl*n,gl*n])\n",
    "    # un 0 en la matriz F significa que al moverse en esa direccion no hay resistencia\n",
    "    #MDF_COMMENT te falta el numero de elementos:\n",
    "    NE = len(MC)\n",
    "\n",
    "# los elementos estan en la matriz de conectividad:\n",
    "# MDF_CONNECT    for e in range(n):\n",
    "    for e in range(NE):\n",
    "        \n",
    "        # este if es para el ultimo elemento, le resta al ultimo elemento el primer elemento\n",
    "#MDF_COMMENT        if e==(n-1):\n",
    "#MDF_COMMENT            delta_x = MN[0][0] - MN[e][0]\n",
    "#MDF_COMMENT            delta_y = MN[0][1] - MN[e][1]\n",
    "#MDF_COMMENT            angulo = np.arctan2(delta_x, delta_y) # para ver en que cuadrante estoy y no tener problemas de signo\n",
    "#MDF_COMMENT            C = np.cos(angulo)\n",
    "#MDF_COMMENT            S = np.sin(angulo)\n",
    "#MDF_COMMENT            MR_local = np.array([(C**2,C*S,-C**2,-C*S),(C*S,S**2,-C*S,-S**2),(-C**2,-C*S,C**2,C*S),(-C*S,-S**2, C*S,S**2)])\n",
    "#MDF_COMMENT            for i in MC[e]:\n",
    "#MDF_COMMENT                for j in MC[e]:\n",
    "#MDF_COMMENT                    columna_i = list(MC[e]).index(i) # identifico en que columna de MC esta el elemento i\n",
    "#MDF_COMMENT                    columna_j = list(MC[e]).index(j) # # identifico en que columna de MC esta el elemento i\n",
    "#MDF_COMMENT                    MR_global[i*gl:(i+1)*gl , j*gl:(j+1)*gl] += K[e] * (MR_local[columna_i*gl:(columna_i+1)*gl , columna_j*gl:(columna_j+1)*gl])\n",
    "\n",
    "\n",
    "#MDF_COMMENT        else:\n",
    "#MDF_COMMENT los elementos  que tenes que considerar estan en la matriz de conectividad. \n",
    "        Nodo_1 = MC[e,0]\n",
    "        Nodo_2 = MC[e,1]\n",
    "#MDF_COMMENT        delta_x = MN[e][0] - MN[e][0]\n",
    "#MDF_COMMENT        delta_y = MN[e][1] - MN[e][1]\n",
    "        delta_x = MN[Nodo_1][0] - MN[Nodo_2][0]\n",
    "        delta_y = MN[Nodo_1][1] - MN[Nodo_2][1]\n",
    "        #MDF_COMMENT te faltan las longitudes:\n",
    "        L = np.sqrt(delta_x**2 + delta_y**2)\n",
    "        angulo = np.arctan2(delta_y, delta_x) # para ver en que cuadrante estoy y no tener problemas de signo\n",
    "        C = np.cos(angulo)\n",
    "        S = np.sin(angulo)\n",
    "        MR_local =( K[e] / L ) * np.array(\n",
    "            [(C**2,C*S,-C**2,-C*S),\n",
    "             (C*S,S**2,-C*S,-S**2),\n",
    "             (-C**2,-C*S,C**2,C*S),\n",
    "             (-C*S,-S**2, C*S,S**2)])\n",
    "\n",
    "        # esta parte esta eimpecable. ahora vemos que pasa cuando la corremos. \n",
    "        # con esa definición i es el numero de nodo !\n",
    "        for i in MC[e]:\n",
    "            # con esa definición columna_i es el indice local !\n",
    "            columna_i = list(MC[e]).index(i) # identifico en que columna de MC esta el elemento i\n",
    "            #MDF_COMMENT para que te de todos los elementos de matriz que necesitas tenes que \n",
    "            #MDF_COMMENT empezar asi:\n",
    "            index_i = np.linspace(i*gl,(i+1)*gl-1,gl).astype(int)\n",
    "            ind_col_i = np.linspace(columna_i*gl,(columna_i+1)*gl-1,gl).astype(int)\n",
    "            for j in MC[e]:\n",
    "                columna_j = list(MC[e]).index(j) # # identifico en que columna de MC esta el elemento i\n",
    "                index_j = np.linspace(j*gl,(j+1)*gl-1,gl).astype(int)\n",
    "                ind_col_j = np.linspace(columna_j*gl,(columna_j+1)*gl-1,gl).astype(int)\n",
    "                #MDF_COMMENT te falta el truco de np.ix_\n",
    "                #MDF_COMMENT MR_global[i*gl:(i+1)*gl , j*gl:(j+1)*gl] += \\\n",
    "                #MDF_COMMENT K[e] * MR_local[columna_i*gl:(columna_i+1)*gl , columna_j*gl:(columna_j+1)*gl]\n",
    "                MR_global[np.ix_(index_i, index_j)] +=  MR_local[np.ix_(ind_col_i , ind_col_j)]\n",
    "                    \n",
    "\n",
    "    scale = np.max(np.max(MR_global))\n",
    "    #            MR_global[abs(MR_global[i][j]/scale) < 1e-9] = 0\n",
    "    #MDF_COMMENT lo que pasa es que MR_Globlal es np array y no necesitas indexar asi, le mandas toda la matriz y listo:\n",
    "    MR_global[abs(MR_global/scale) < 1e-9] = 0\n",
    "    # basicamente abs(MR_global/scale) < 1e-9 te devuelve una matriz de True en los lugares donde\n",
    "    # se cumple la desigualdad y False donde no. eso como indice the da un slice de MR_Global .\n",
    "    # esta linea de arriba no me funciona, por eso hago el doble for\n",
    "#    for i in range(len(MR_global)):\n",
    "#        for j in range(len(MR_global)):\n",
    " #           if abs(MR_global[i][j]) < 1e-9:\n",
    " #               MR_global[i][j] = 0\n",
    "\n",
    "\n",
    "    # determinante = 0, deja de ser 0 cuando se usa la matriz reducida\n",
    "    MR_reducida = MR_global.copy()\n",
    "    # borro filas y columnas de las posiciones de U que ya tengo\n",
    "    MR_reducida = np.delete(MR_reducida, s, axis=0)\n",
    "    MR_reducida = np.delete(MR_reducida, s, axis=1)\n",
    "\n",
    "    #MDF_COMMENT es una forma razonable de hacerlo, pero:\n",
    "    # - estas copiando la matriz. si el sistema es muy grande esto es ineficiente. \n",
    "    # - también es mas lento borrar filas que simplemente hacer slice. \n",
    "    \n",
    "    nuevas_U = np.linalg.solve(MR_reducida, F) # obtengo las U que no conozco\n",
    "    # -justo anoche hablamos que en esta ecuación te falta la parte de los desplazamientos vinculados. \n",
    "\n",
    "\n",
    "    # armo el vector U completo\n",
    "    U_global = np.zeros(n*gl)\n",
    "    k=0\n",
    "    z=0\n",
    "    # k y z son contadores que van recorriendo en orden los vectores U y nuevas_U\n",
    "\n",
    "    for i in range(len(U_global)):\n",
    "        if i in s:\n",
    "            U_global[i] = U[k]\n",
    "            k += 1\n",
    "\n",
    "        if i in r:\n",
    "            U_global[i] = nuevas_U[z]\n",
    "            z += 1\n",
    "\n",
    "    # ahora obtengo el vector F completo\n",
    "    F = np.matmul(MR_global,U_global)\n",
    "\n",
    "    return(F, U_global, MR_global)\n"
   ]
  },
  {
   "cell_type": "code",
   "execution_count": 41,
   "metadata": {},
   "outputs": [],
   "source": [
    "## EJEMPLO MENSULA\n",
    "MN = np.array([(0,0), (1,0), (1,1)])# matriz_nodos: matriz con las posiciones, en cada fila estan los nodos y cada columna las coordenadas x,y,z, etc\n",
    "MC = np.array([(0,1), (1,2), (2,0)]) # matriz_conectividad: fila cada element, columna cada nodo que forman ese elemento\n",
    "#MDF_COMMENT K = [10,5,20] # vector con las constantes elasticas de cada elemento\n",
    "K = 210E9 / np.array([10e-4, 10e-4,10e-4 ])   # E / A, faltan las longitudes\n",
    "s = [0,1,3] # posiciones de los desplazamientos que conozco\n",
    "r = [2,4,5] # posiciones de las fuerzas que conozco\n",
    "U = [0,0,0] # valores de los desplazamientos, respectivamente a s\n",
    "F = [0,2,1] # valores de las fuerzas, respectivamente a r"
   ]
  },
  {
   "cell_type": "code",
   "execution_count": 46,
   "metadata": {},
   "outputs": [
    {
     "name": "stdout",
     "output_type": "stream",
     "text": [
      "Fuerzas = [-2. -2.  0.  1.  2.  1.]\n",
      "Desplazamientos = [ 0.00000000e+00  0.00000000e+00  0.00000000e+00  0.00000000e+00\n",
      "  3.16993059e-14 -4.76190476e-15]\n"
     ]
    }
   ],
   "source": [
    "F, U, matriz_rigidez = calculos(MN, MC, K, s, r, U, F)\n",
    "\n",
    "print('Fuerzas =', F)\n",
    "print('Desplazamientos =', U)"
   ]
  },
  {
   "cell_type": "code",
   "execution_count": 49,
   "metadata": {},
   "outputs": [],
   "source": [
    "# EJERCICIO 2 GUIA\n",
    "MN = np.array([[0,0] , [800,400] , [1600,0] , [800,0]]) # en mm\n",
    "MC = np.array([[0,1] , [3,0] , [3,1] , [1,2], [2, 3]])\n",
    "\n",
    "\n",
    "A = [1000, 1000, 2000, 1000, 1000] # area en mm2\n",
    "E = 210 * np.ones(len(MC)) # Gpa = N/mm2\n",
    "l0 = np.sqrt(800**2 + 400**2)\n",
    "l3 = np.sqrt(800**2 + 400**2)\n",
    "L = [l0,800,400,l3,800 ]\n",
    "\n",
    "K = np.zeros(len(MC))\n",
    "for i in range(len(K)):\n",
    "    K[i] = (E[i]*A[i])/L[i]\n",
    "\n",
    "U = [0,0,0]\n",
    "s = [0,1,5]\n",
    "\n",
    "F = [0,0,0,0,-20000] # en Newton\n",
    "r = [2,3,4,6,7]"
   ]
  },
  {
   "cell_type": "code",
   "execution_count": 50,
   "metadata": {},
   "outputs": [
    {
     "name": "stdout",
     "output_type": "stream",
     "text": [
      "Fuerzas = [ 7.27595761e-12  1.00000000e+04  0.00000000e+00  7.27595761e-12\n",
      " -7.27595761e-12  1.00000000e+04  0.00000000e+00 -2.00000000e+04]\n",
      "Desplazamientos = [      0.               0.           60952.38095238 -312380.95238095\n",
      "  121904.76190476       0.           60952.38095238 -320000.        ]\n"
     ]
    }
   ],
   "source": [
    "F, U, matriz_rigidez = calculos(MN, MC, K, s, r, U, F)\n",
    "\n",
    "print('Fuerzas =', F)\n",
    "print('Desplazamientos =', U)"
   ]
  },
  {
   "cell_type": "code",
   "execution_count": null,
   "metadata": {},
   "outputs": [],
   "source": []
  }
 ],
 "metadata": {
  "kernelspec": {
   "display_name": "Python 3",
   "language": "python",
   "name": "python3"
  },
  "language_info": {
   "codemirror_mode": {
    "name": "ipython",
    "version": 3
   },
   "file_extension": ".py",
   "mimetype": "text/x-python",
   "name": "python",
   "nbconvert_exporter": "python",
   "pygments_lexer": "ipython3",
   "version": "3.9.2"
  }
 },
 "nbformat": 4,
 "nbformat_minor": 4
}
