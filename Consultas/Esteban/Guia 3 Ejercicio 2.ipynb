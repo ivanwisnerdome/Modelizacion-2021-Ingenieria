{
 "cells": [
  {
   "cell_type": "code",
   "execution_count": 58,
   "metadata": {},
   "outputs": [],
   "source": [
    "import gmsh\n",
    "import numpy as np"
   ]
  },
  {
   "cell_type": "raw",
   "metadata": {},
   "source": [
    "Los datos del problema son:"
   ]
  },
  {
   "cell_type": "code",
   "execution_count": 59,
   "metadata": {},
   "outputs": [],
   "source": [
    "E = 30e6   # en psi \n",
    "v = 0.3    \n",
    "T = 1000   # tension en psi\n",
    "largo = 20  # en pulgadas\n",
    "altura = 10 # en pulgadas\n",
    "espesor = 1 # en pulgadas\n",
    "radio = 1 # en pulgadas\n",
    "gl = 2"
   ]
  },
  {
   "cell_type": "raw",
   "metadata": {},
   "source": [
    "Con el modulo gmsh se genera un mallado. Aunque el problema es una chapa con un agujero en el centro, para optimizar los tiempos de calculo y aprovechando la simetria, el problema se puede reducir a un cuarto de la chapa."
   ]
  },
  {
   "cell_type": "code",
   "execution_count": 60,
   "metadata": {},
   "outputs": [],
   "source": [
    "gmsh.initialize()\n",
    "gmsh.model.add('Chapa 1/4')\n",
    "\n",
    "lc = 1\n",
    "\n",
    "# defino los puntos \n",
    "p1 = gmsh.model.geo.addPoint(0, 0, 0, lc)\n",
    "p2 = gmsh.model.geo.addPoint(0, altura, 0, lc) \n",
    "p3 = gmsh.model.geo.addPoint(largo, altura, 0, lc) \n",
    "p4 = gmsh.model.geo.addPoint(largo, 0, 0, lc) \n",
    "p5 = gmsh.model.geo.addPoint(radio, 0, 0, lc/5)\n",
    "p6 = gmsh.model.geo.addPoint(0, radio, 0, lc/5)\n",
    "\n",
    "# defino las lineas \n",
    "\n",
    "l1 = gmsh.model.geo.addLine(p6, p2)\n",
    "l2 = gmsh.model.geo.addLine(p2, p3)\n",
    "l3 = gmsh.model.geo.addLine(p3, p4)\n",
    "l4 = gmsh.model.geo.addLine(p4, p5)\n",
    "l5 = gmsh.model.geo.addCircleArc(p5,p1,p6) # semicirculo\n",
    "\n",
    "# defino bordes\n",
    "C1 = gmsh.model.geo.addCurveLoop([l1, l2, l3, l4, l5])\n",
    "#C2 = gmsh.model.geo.addCurveLoop([semicirculo])\n",
    "\n",
    "# defino superficie\n",
    "S1 = gmsh.model.geo.addPlaneSurface([C1])\n",
    "\n",
    "gmsh.model.geo.synchronize()\n",
    "\n",
    "# defino grupos fisicos\n",
    "Fijos_X = gmsh.model.addPhysicalGroup(1, [l1])\n",
    "gmsh.model.setPhysicalName(1,Fijos_X,'Fijos_X')\n",
    "\n",
    "Fijos_Y = gmsh.model.addPhysicalGroup(1, [l4])\n",
    "gmsh.model.setPhysicalName(1,Fijos_Y,'Fijos_Y')\n",
    "\n",
    "Traccionado = gmsh.model.addPhysicalGroup(1, [l3])\n",
    "gmsh.model.setPhysicalName(1,Traccionado,'Traccionado')\n",
    "\n",
    "Superficie = gmsh.model.addPhysicalGroup(2,[S1])\n",
    "gmsh.model.setPhysicalName(2,Superficie, 'Superficie')\n",
    "\n",
    "gmsh.model.mesh.generate(2)"
   ]
  },
  {
   "cell_type": "raw",
   "metadata": {},
   "source": [
    "A partir del mallado, obtengo la informacion para resolver el problema:"
   ]
  },
  {
   "cell_type": "code",
   "execution_count": 61,
   "metadata": {},
   "outputs": [
    {
     "name": "stdout",
     "output_type": "stream",
     "text": [
      "(1202, 1)\n"
     ]
    }
   ],
   "source": [
    "NodeInfo = gmsh.model.mesh.get_nodes() \n",
    "NumeroNodos = NodeInfo[0].shape[0]\n",
    "MN = NodeInfo[1].reshape(NumeroNodos , 3) # obtengo la matriz de nodos \n",
    "\n",
    "ElementInfo = gmsh.model.mesh.get_elements()\n",
    "ETAGS, ELEMENTS = gmsh.model.mesh.get_elements_by_type(2) # aca estan los triangulos que forman el mallado\n",
    "MC = ELEMENTS.reshape([ETAGS.shape[0],3]) # matriz de conectividad de los triangulos \n",
    "\n",
    "\n",
    "\n",
    "# Para sacar los índices de los nodos que estan empotrados y traccionados, \n",
    "# defino una 'entidad' para los elements Traccionados:\n",
    "NodosTraccionados = gmsh.model.mesh.get_nodes_for_physical_group(1,Traccionado)\n",
    "entityTraccionada = gmsh.model.getEntitiesForPhysicalGroup(1, Traccionado)\n",
    "Tgroup, Ttraccionada, Ltraccionada = gmsh.model.mesh.getElements(1, entityTraccionada[0])\n",
    "Ltraccionada = Ltraccionada[0].reshape(Ttraccionada[0].shape[0],2)\n",
    "\n",
    "# Con los elementos líneas traccionadas se calculan las longitudes de las lineas, para poder distribuir la fuerza externa\n",
    "\n",
    "Longitudes = np.abs( MN[Ltraccionada[:,0]-1,1] - MN[Ltraccionada[:,1]-1,1] )\n",
    "\n",
    "Fuerzas = np.zeros((2*NumeroNodos,1))\n",
    "\n",
    "for l, linea in enumerate(Ltraccionada):\n",
    "    Flocal = np.array([[1],[1]])*T*espesor*Longitudes[l]\n",
    "    n1 = linea[0]\n",
    "    n2 = linea[1]\n",
    "    Fuerzas[ np.array([2*(n1-1), 2*(n2-1)], dtype=int)] += Flocal\n",
    "\n",
    "print(np.shape(Fuerzas)    )\n",
    "# ahora para los nodos empotrados en X y en Y\n",
    "   \n",
    "NodosFijos_X = gmsh.model.mesh.get_nodes_for_physical_group(1,Fijos_X)\n",
    "NodosFijos_Y = gmsh.model.mesh.get_nodes_for_physical_group(1,Fijos_Y)\n",
    "\n",
    "\n",
    "# genero s (posiciones de los desplazamientos conocidos) y r (posiciones de las fuerzas conocidas)\n",
    "s = []\n",
    "r = np.arange(2*NumeroNodos)\n",
    "\n",
    "for n, nodo in enumerate(NodosFijos_X[0]):\n",
    "    s.append(np.linspace(2*nodo, 2*nodo +1, 2))\n",
    "\n",
    "for n, nodo in enumerate(NodosFijos_Y[0]):\n",
    "    s.append(np.linspace(2*nodo, 2*nodo +1, 2))\n",
    "\n",
    "    \n",
    "s = np.array(s).astype(int).reshape(1,-1)\n",
    "r = np.delete(r, s)  # elimino del vector r lo que esta en s, porque son complementarios\n",
    "\n"
   ]
  },
  {
   "cell_type": "markdown",
   "metadata": {},
   "source": [
    "Genero las matrices D y B. Armo las matrices de rigidez locales y las voy ensamblando en la matriz de rigidez global "
   ]
  },
  {
   "cell_type": "code",
   "execution_count": 62,
   "metadata": {},
   "outputs": [],
   "source": [
    "D = (E/(1-v**2)) * np.array([(1, v, 0), (v,1,0), (0,0,0.5*(1-v))])\n",
    "B=[]\n",
    "matriz_coordenadas = np.ones((3,3))\n",
    "K = np.zeros([gl*NumeroNodos,gl*NumeroNodos])\n",
    "\n",
    "for e in range(len(MC)):\n",
    "    nodo_i = MC[e][0]\n",
    "    nodo_j = MC[e][1]\n",
    "    nodo_m = MC[e][2]\n",
    "\n",
    "    \n",
    "    beta_i = MN[nodo_j][1] - MN[nodo_m][1]\n",
    "    beta_j =  MN[nodo_m][1] - MN[nodo_i][1]\n",
    "    beta_m  = MN[nodo_i][1] - MN[nodo_j][1]\n",
    "    gamma_i = MN[nodo_m][0] - MN[nodo_j][0]\n",
    "    gamma_j = MN[nodo_i][0] - MN[nodo_m][0]\n",
    "    gamma_m = MN[nodo_j][0] - MN[nodo_i][0]\n",
    "\n",
    "        \n",
    "    matriz_coordenadas[:,0] = MN[nodo_i][0],MN[nodo_j][0],MN[nodo_m][0]\n",
    "    matriz_coordenadas[:,1] = MN[nodo_i][1],MN[nodo_j][1],MN[nodo_m][1]\n",
    "    A = np.linalg.det(matriz_coordenadas)/2\n",
    "    \n",
    "    B.append((1/(2*A)) * np.array([(beta_i, 0, beta_j, 0, beta_m, 0),(0,gamma_i, 0, gamma_j, 0, gamma_m),(gamma_i, beta_i, gamma_j, beta_j, gamma_m, beta_m)]))\n",
    "    \n",
    "    k = espesor*A* np.matmul(np.transpose(B[e]), np.matmul(D,B[e]))\n",
    "\n",
    "    for i in MC[e]:\n",
    "        columna_i = list(MC[e]).index(i) # identifico en que columna de MC esta el elemento i\n",
    "        index_i = np.linspace(i*gl,(i+1)*gl-1,gl).astype(int)\n",
    "        ind_col_i = np.linspace(columna_i*gl,(columna_i+1)*gl-1,gl).astype(int)\n",
    "        for j in MC[e]:\n",
    "            columna_j = list(MC[e]).index(j) # # identifico en que columna de MC esta el elemento j\n",
    "            index_j = np.linspace(j*gl,(j+1)*gl-1,gl).astype(int)\n",
    "            ind_col_j = np.linspace(columna_j*gl,(columna_j+1)*gl-1,gl).astype(int)\n",
    "            K[np.ix_(index_i, index_j)] +=  k[np.ix_(ind_col_i , ind_col_j)]\n",
    "           "
   ]
  },
  {
   "cell_type": "markdown",
   "metadata": {},
   "source": [
    "Ahora, armo la matriz reducida y resuelvo. Primero obtengo los desplazamientos que no tenia, luego armo el vector desplazamientos completo y finalmente obtengo el vector tensiones completo. "
   ]
  },
  {
   "cell_type": "code",
   "execution_count": 65,
   "metadata": {},
   "outputs": [
    {
     "ename": "LinAlgError",
     "evalue": "Singular matrix",
     "output_type": "error",
     "traceback": [
      "\u001b[1;31m---------------------------------------------------------------------------\u001b[0m",
      "\u001b[1;31mLinAlgError\u001b[0m                               Traceback (most recent call last)",
      "\u001b[1;32m<ipython-input-65-81877c0fc2a0>\u001b[0m in \u001b[0;36m<module>\u001b[1;34m\u001b[0m\n\u001b[0;32m      4\u001b[0m \u001b[0mK_reducida\u001b[0m \u001b[1;33m=\u001b[0m \u001b[0mnp\u001b[0m\u001b[1;33m.\u001b[0m\u001b[0mdelete\u001b[0m\u001b[1;33m(\u001b[0m\u001b[0mK_reducida\u001b[0m\u001b[1;33m,\u001b[0m \u001b[0ms\u001b[0m\u001b[1;33m,\u001b[0m \u001b[0maxis\u001b[0m\u001b[1;33m=\u001b[0m\u001b[1;36m1\u001b[0m\u001b[1;33m)\u001b[0m\u001b[1;33m\u001b[0m\u001b[1;33m\u001b[0m\u001b[0m\n\u001b[0;32m      5\u001b[0m \u001b[1;33m\u001b[0m\u001b[0m\n\u001b[1;32m----> 6\u001b[1;33m \u001b[0mnuevas_U\u001b[0m \u001b[1;33m=\u001b[0m \u001b[0mnp\u001b[0m\u001b[1;33m.\u001b[0m\u001b[0mlinalg\u001b[0m\u001b[1;33m.\u001b[0m\u001b[0msolve\u001b[0m\u001b[1;33m(\u001b[0m\u001b[0mK_reducida\u001b[0m\u001b[1;33m,\u001b[0m \u001b[0mFuerzas\u001b[0m\u001b[1;33m[\u001b[0m\u001b[0mr\u001b[0m\u001b[1;33m]\u001b[0m\u001b[1;33m)\u001b[0m \u001b[1;31m# obtengo las U que no conozco\u001b[0m\u001b[1;33m\u001b[0m\u001b[1;33m\u001b[0m\u001b[0m\n\u001b[0m\u001b[0;32m      7\u001b[0m \u001b[1;33m\u001b[0m\u001b[0m\n\u001b[0;32m      8\u001b[0m \u001b[0mU_global\u001b[0m \u001b[1;33m=\u001b[0m \u001b[0mnp\u001b[0m\u001b[1;33m.\u001b[0m\u001b[0mzeros\u001b[0m\u001b[1;33m(\u001b[0m\u001b[0mn\u001b[0m\u001b[1;33m*\u001b[0m\u001b[0mgl\u001b[0m\u001b[1;33m)\u001b[0m\u001b[1;33m\u001b[0m\u001b[1;33m\u001b[0m\u001b[0m\n",
      "\u001b[1;32mC:\\ProgramData\\Anaconda3\\lib\\site-packages\\numpy\\linalg\\linalg.py\u001b[0m in \u001b[0;36msolve\u001b[1;34m(a, b)\u001b[0m\n\u001b[0;32m    401\u001b[0m     \u001b[0msignature\u001b[0m \u001b[1;33m=\u001b[0m \u001b[1;34m'DD->D'\u001b[0m \u001b[1;32mif\u001b[0m \u001b[0misComplexType\u001b[0m\u001b[1;33m(\u001b[0m\u001b[0mt\u001b[0m\u001b[1;33m)\u001b[0m \u001b[1;32melse\u001b[0m \u001b[1;34m'dd->d'\u001b[0m\u001b[1;33m\u001b[0m\u001b[1;33m\u001b[0m\u001b[0m\n\u001b[0;32m    402\u001b[0m     \u001b[0mextobj\u001b[0m \u001b[1;33m=\u001b[0m \u001b[0mget_linalg_error_extobj\u001b[0m\u001b[1;33m(\u001b[0m\u001b[0m_raise_linalgerror_singular\u001b[0m\u001b[1;33m)\u001b[0m\u001b[1;33m\u001b[0m\u001b[1;33m\u001b[0m\u001b[0m\n\u001b[1;32m--> 403\u001b[1;33m     \u001b[0mr\u001b[0m \u001b[1;33m=\u001b[0m \u001b[0mgufunc\u001b[0m\u001b[1;33m(\u001b[0m\u001b[0ma\u001b[0m\u001b[1;33m,\u001b[0m \u001b[0mb\u001b[0m\u001b[1;33m,\u001b[0m \u001b[0msignature\u001b[0m\u001b[1;33m=\u001b[0m\u001b[0msignature\u001b[0m\u001b[1;33m,\u001b[0m \u001b[0mextobj\u001b[0m\u001b[1;33m=\u001b[0m\u001b[0mextobj\u001b[0m\u001b[1;33m)\u001b[0m\u001b[1;33m\u001b[0m\u001b[1;33m\u001b[0m\u001b[0m\n\u001b[0m\u001b[0;32m    404\u001b[0m \u001b[1;33m\u001b[0m\u001b[0m\n\u001b[0;32m    405\u001b[0m     \u001b[1;32mreturn\u001b[0m \u001b[0mwrap\u001b[0m\u001b[1;33m(\u001b[0m\u001b[0mr\u001b[0m\u001b[1;33m.\u001b[0m\u001b[0mastype\u001b[0m\u001b[1;33m(\u001b[0m\u001b[0mresult_t\u001b[0m\u001b[1;33m,\u001b[0m \u001b[0mcopy\u001b[0m\u001b[1;33m=\u001b[0m\u001b[1;32mFalse\u001b[0m\u001b[1;33m)\u001b[0m\u001b[1;33m)\u001b[0m\u001b[1;33m\u001b[0m\u001b[1;33m\u001b[0m\u001b[0m\n",
      "\u001b[1;32mC:\\ProgramData\\Anaconda3\\lib\\site-packages\\numpy\\linalg\\linalg.py\u001b[0m in \u001b[0;36m_raise_linalgerror_singular\u001b[1;34m(err, flag)\u001b[0m\n\u001b[0;32m     95\u001b[0m \u001b[1;33m\u001b[0m\u001b[0m\n\u001b[0;32m     96\u001b[0m \u001b[1;32mdef\u001b[0m \u001b[0m_raise_linalgerror_singular\u001b[0m\u001b[1;33m(\u001b[0m\u001b[0merr\u001b[0m\u001b[1;33m,\u001b[0m \u001b[0mflag\u001b[0m\u001b[1;33m)\u001b[0m\u001b[1;33m:\u001b[0m\u001b[1;33m\u001b[0m\u001b[1;33m\u001b[0m\u001b[0m\n\u001b[1;32m---> 97\u001b[1;33m     \u001b[1;32mraise\u001b[0m \u001b[0mLinAlgError\u001b[0m\u001b[1;33m(\u001b[0m\u001b[1;34m\"Singular matrix\"\u001b[0m\u001b[1;33m)\u001b[0m\u001b[1;33m\u001b[0m\u001b[1;33m\u001b[0m\u001b[0m\n\u001b[0m\u001b[0;32m     98\u001b[0m \u001b[1;33m\u001b[0m\u001b[0m\n\u001b[0;32m     99\u001b[0m \u001b[1;32mdef\u001b[0m \u001b[0m_raise_linalgerror_nonposdef\u001b[0m\u001b[1;33m(\u001b[0m\u001b[0merr\u001b[0m\u001b[1;33m,\u001b[0m \u001b[0mflag\u001b[0m\u001b[1;33m)\u001b[0m\u001b[1;33m:\u001b[0m\u001b[1;33m\u001b[0m\u001b[1;33m\u001b[0m\u001b[0m\n",
      "\u001b[1;31mLinAlgError\u001b[0m: Singular matrix"
     ]
    }
   ],
   "source": [
    "K_reducida = K.copy()\n",
    "# borro filas y columnas de las posiciones de U que ya tengo\n",
    "K_reducida = np.delete(K_reducida, s, axis=0)\n",
    "K_reducida = np.delete(K_reducida, s, axis=1)\n",
    "\n",
    "nuevas_U = np.linalg.solve(K_reducida, Fuerzas[r]) # obtengo las U que no conozco\n",
    "\n",
    "U_global = np.zeros(n*gl)\n",
    "k=0\n",
    "z=0\n",
    "# k y z son contadores que van recorriendo en orden los vectores U y nuevas_U\n",
    "\n",
    "for i in range(len(U_global)):\n",
    "    if i in s:\n",
    "        U_global[i] = U[k]\n",
    "        k += 1\n",
    "\n",
    "    if i in r:\n",
    "        U_global[i] = nuevas_U[z]\n",
    "        z += 1\n",
    "        \n",
    "# calculo esfuerzos\n",
    "tensiones = []\n",
    "\n",
    "for e in range(len(MC)):\n",
    "    nodo_i = MC[e][0]\n",
    "    nodo_j = MC[e][1]\n",
    "    nodo_m = MC[e][2]\n",
    "\n",
    "    desplazamientos = np.array([(U_global[2*nodo_i],U_global[(2*nodo_i)+1], U_global[2*nodo_j],U_global[(2*nodo_j)+1], U_global[2*nodo_m],U_global[(2*nodo_m)+1])])\n",
    "    tensiones.append(np.matmul(D, np.matmul(B[e], np.transpose(desplazamientos))))\n",
    "    print(desplazamientos)\n",
    "    print(tension)\n",
    "    print('')\n",
    "    print('')"
   ]
  },
  {
   "cell_type": "code",
   "execution_count": 64,
   "metadata": {},
   "outputs": [
    {
     "ename": "TypeError",
     "evalue": "'numpy.ndarray' object is not callable",
     "output_type": "error",
     "traceback": [
      "\u001b[1;31m---------------------------------------------------------------------------\u001b[0m",
      "\u001b[1;31mTypeError\u001b[0m                                 Traceback (most recent call last)",
      "\u001b[1;32m<ipython-input-64-183030d685e8>\u001b[0m in \u001b[0;36m<module>\u001b[1;34m\u001b[0m\n\u001b[1;32m----> 1\u001b[1;33m \u001b[0mFuerzas\u001b[0m\u001b[1;33m(\u001b[0m\u001b[0mr\u001b[0m\u001b[1;33m)\u001b[0m\u001b[1;33m\u001b[0m\u001b[1;33m\u001b[0m\u001b[0m\n\u001b[0m",
      "\u001b[1;31mTypeError\u001b[0m: 'numpy.ndarray' object is not callable"
     ]
    }
   ],
   "source": []
  },
  {
   "cell_type": "code",
   "execution_count": null,
   "metadata": {},
   "outputs": [],
   "source": []
  }
 ],
 "metadata": {
  "kernelspec": {
   "display_name": "Python 3",
   "language": "python",
   "name": "python3"
  },
  "language_info": {
   "codemirror_mode": {
    "name": "ipython",
    "version": 3
   },
   "file_extension": ".py",
   "mimetype": "text/x-python",
   "name": "python",
   "nbconvert_exporter": "python",
   "pygments_lexer": "ipython3",
   "version": "3.7.4"
  }
 },
 "nbformat": 4,
 "nbformat_minor": 4
}
