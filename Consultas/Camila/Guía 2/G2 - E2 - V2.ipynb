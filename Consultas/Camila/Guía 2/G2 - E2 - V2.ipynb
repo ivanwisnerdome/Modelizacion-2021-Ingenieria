{
 "cells": [
  {
   "cell_type": "markdown",
   "id": "sharp-minnesota",
   "metadata": {},
   "source": [
    "### Guía 2 - Ejercicio 2"
   ]
  },
  {
   "cell_type": "markdown",
   "id": "thorough-valley",
   "metadata": {},
   "source": [
    "Considere el entramado mostrado en la figura, con una fuerza aplicada de 20 kN. Calcule los desplazamientos de cada uno de los nodos y las tensiones que sufre cada elemento. Todos los elementos tienen E = 210 GPa y una sección de 10 cm2, excepto el elemento 3, que tiene una sección de 20 cm2. Los elementos 2 y 5 tienen una longitud de 8 metros y el elemento 3 de 4 metros"
   ]
  },
  {
   "cell_type": "code",
   "execution_count": 1,
   "id": "private-resistance",
   "metadata": {},
   "outputs": [],
   "source": [
    "import numpy as np\n",
    "import numpy.testing as nptest\n",
    "import pdb\n",
    "np.set_printoptions(precision=4, linewidth=132)\n",
    "# np.set_printoptions(linewidth=100)"
   ]
  },
  {
   "cell_type": "markdown",
   "id": "rural-typing",
   "metadata": {},
   "source": [
    "#### Definición de clases"
   ]
  },
  {
   "cell_type": "markdown",
   "id": "veterinary-trash",
   "metadata": {},
   "source": [
    "Defino la clase \"Node\", que va a contener la información de cada nodo. \n",
    "Los parámetros que se tiene que dar van a ser\n",
    "* id: Está relacionado al número de nodo que se le asigne, y por lo tanto, va a decir a qué subdirecciones se refiere.\n",
    "* x: Es la posición en x del nodo, dentro del sistema global.\n",
    "* y: Es la posición en y del nodo, dentro del sistema global"
   ]
  },
  {
   "cell_type": "code",
   "execution_count": 2,
   "id": "applicable-stroke",
   "metadata": {},
   "outputs": [],
   "source": [
    "class Node:\n",
    "    # Default constructor\n",
    "    def __init__(self, id, x, y):\n",
    "        self.id = id\n",
    "        self.x = x\n",
    "        self.y = y"
   ]
  },
  {
   "cell_type": "markdown",
   "id": "chinese-arcade",
   "metadata": {},
   "source": [
    "Se define la clase \"BarElement\", la cual va a contener la información de cada barra. Los parámetros que necesita son:\n",
    "* node1: Le asigno un elemento de clase \"Node\", el cual me brinda la información del primer nodo que compone la barra.\n",
    "* node2: Le asigno un elemento de clase \"Node\", el cual me brinda la información del segundo nodo que compone la barra.\n",
    "* youngModule: Le asigno el módulo de Young de la barra\n",
    "* section: Le asigno la sección que tiene la barra, asumiento que es la misma en toda su extensión.\n",
    "\n",
    "A su vez, ésta clase, define las siguientes funciones, las cuáles permiten el calculo y devuelven:\n",
    "* angle: El ángulo de la barra respecto del sistema global.\n",
    "*stiffMatrix: Da la matriz de rigidez del elemento\n",
    "* length: El largo del elemento\n",
    "* strengthConstant: La constante de rigidez del elemento, calculado como k = E.A/L"
   ]
  },
  {
   "cell_type": "code",
   "execution_count": 3,
   "id": "julian-thomson",
   "metadata": {},
   "outputs": [],
   "source": [
    "class BarElement:\n",
    "    # Default constructor\n",
    "    def __init__(self, node1, node2, youngModule, section):\n",
    "        self.node1 = node1\n",
    "        self.node2 = node2\n",
    "        self.youngModule = youngModule\n",
    "        self.section = section\n",
    "\n",
    "    def angle(self):\n",
    "        return np.arctan2(self.node2.y - self.node1.y, self.node2.x - self.node1.x)\n",
    "\n",
    "    def stiffMatrix(self):\n",
    "        angle = self.angle()\n",
    "        c = np.cos(angle)\n",
    "        s = np.sin(angle)\n",
    "\n",
    "        return self.stiffConstant()*np.array([[c**2, c*s, -c**2, -c*s],\n",
    "                                              [c*s, s**2, -c*s, -s**2],\n",
    "                                              [-c**2, -c*s, c**2, c*s],\n",
    "                                              [-c*s, -s**2, c*s, s**2]])\n",
    "\n",
    "    def length(self):\n",
    "        deltaX = self.node2.x - self.node1.x\n",
    "        deltaY = self.node2.y - self.node1.y\n",
    "        return np.sqrt(deltaX**2 + deltaY**2)\n",
    "\n",
    "    def stiffConstant(self):\n",
    "        return self.youngModule * self.section / self.length()"
   ]
  },
  {
   "cell_type": "markdown",
   "id": "welcome-scholarship",
   "metadata": {},
   "source": [
    "Debería conocer qué fuerzas y desplazamientos conozco, y colocarlos en un mismo vector para cada tipo de matriz. Siempre manteniendo la notación"
   ]
  },
  {
   "cell_type": "markdown",
   "id": "silent-factor",
   "metadata": {},
   "source": [
    "Se define la clase \"Force\", la cual va a contener la información de la fuerza que se tiene como dato. Los parámetros que necesita son:\n",
    "* id: Está relacionado al número de fuerza que le asigno. \n",
    "* value: Le doy el valor, según lo que tenga en el eje, ya sea positivo o negativo \n",
    "* node: Se le asigna el número de nodo al cuál está actuando\n",
    "* axis: Se le asigna 'x', 'y' o 'z', según el eje donde esté actuando la fuerza\n",
    "* section: Le asigno la sección que tiene la barra, asumiento que es la misma en toda su extensión.\n",
    "\n",
    "A su vez, ésta clase, define las siguientes funciones, las cuáles permiten el calculo y devuelven:\n",
    "* s(self): Me devuelve un valor, que corresponde a un \"puntero\" que me dice a qué posición del vector de fuerzas hace refencia"
   ]
  },
  {
   "cell_type": "markdown",
   "id": "institutional-prophet",
   "metadata": {},
   "source": [
    "> Es necesario darle número de id? Es útil a futuro?"
   ]
  },
  {
   "cell_type": "code",
   "execution_count": 4,
   "id": "adjustable-wildlife",
   "metadata": {},
   "outputs": [],
   "source": [
    "class Force:\n",
    "    def __init__(self, id, value, node, axis):\n",
    "        self.id = id\n",
    "        self.value = value\n",
    "        # Doy el número de nodo al cual pertenece\n",
    "        self.node = node\n",
    "        self.axis = axis\n",
    "\n",
    "    def s(self):\n",
    "        if self.axis == 'x':\n",
    "            sPoint = 2 * self.node\n",
    "        # Tomo que siempre va a ser y, a menos que le indique\n",
    "        elif self.axis == 'y':\n",
    "            sPoint = 2 * self.node + 1\n",
    "        else:\n",
    "            print('Me estas dando mal los datos')\n",
    "        return sPoint"
   ]
  },
  {
   "cell_type": "markdown",
   "id": "substantial-meeting",
   "metadata": {},
   "source": [
    "> NOTA:  si quiero pasarlo a tres dimensiones, tendría que ver de reescribir para que me quede el eje Z. Esperaría que puedo poner: \n",
    "\n",
    "* Para X: 3 * self.node\n",
    "* Para Y: 3 * self.node + 1\n",
    "* Para Z: 3 * self.node + 2\n",
    "\n",
    "> El tema es que previamente tengo que haber definido que es un problema de tres variables. Debería ver cómo cambiarlo."
   ]
  },
  {
   "cell_type": "markdown",
   "id": "inappropriate-appointment",
   "metadata": {},
   "source": [
    "Se define la clase \"Displacement\", la cual va a contener la información de los desplazamientos que se tiene como dato. Los parámetros que necesita son:\n",
    "* id: Está relacionado al número de fuerza que le asigno. \n",
    "* value: Le doy el valor, según lo que tenga en el eje, ya sea positivo o negativo \n",
    "* node: Se le asigna el número de nodo al cuál está actuando\n",
    "* axis: Se le asigna 'x', 'y' o 'z', según el eje donde esté actuando la fuerza\n",
    "* section: Le asigno la sección que tiene la barra, asumiento que es la misma en toda su extensión.\n",
    "\n",
    "A su vez, ésta clase, define las siguientes funciones, las cuáles permiten el calculo y devuelven:\n",
    "* r(self): Me devuelve un valor, que corresponde a un \"puntero\" que me dice a qué posición del vector de fuerzas hace refencia"
   ]
  },
  {
   "cell_type": "code",
   "execution_count": 5,
   "id": "treated-pollution",
   "metadata": {},
   "outputs": [],
   "source": [
    "class Displacement:\n",
    "    # Si axis es = 1, entonces está en X\n",
    "    def __init__(self, value, node, axis):\n",
    "        # self.id = id\n",
    "        self.value = value\n",
    "        # Doy el número de nodo al cual pertenece\n",
    "        self.node = node\n",
    "        self.axis = axis\n",
    "        self.id = self.get_id()\n",
    "\n",
    "    def get_id(self):\n",
    "        if self.axis == 'x':\n",
    "            rPoint = 2 * self.node\n",
    "        # Tomo que siempre va a ser y, a menos que le indique\n",
    "        elif self.axis == 'y':\n",
    "            rPoint = 2 * self.node + 1\n",
    "        else:\n",
    "            print('Me estas dando mal los datos, ponete las pilas')\n",
    "        return rPoint"
   ]
  },
  {
   "cell_type": "markdown",
   "id": "tight-portable",
   "metadata": {},
   "source": [
    "#### Definición de funciones"
   ]
  },
  {
   "cell_type": "markdown",
   "id": "reduced-liechtenstein",
   "metadata": {},
   "source": [
    "Se define la función \"globalMatrixCalc(elementsArray)\", la cual realiza el cálculo de la matriz global.\n",
    "- Inputs:\n",
    "    * elementsArray: Se introduce un array de elementos de la clase \"barElement\".\n",
    "- Outputs:\n",
    "    * globalMatrix: Devuelve la matriz global del sistema dado."
   ]
  },
  {
   "cell_type": "code",
   "execution_count": 6,
   "id": "guided-relation",
   "metadata": {},
   "outputs": [],
   "source": [
    "# La función me devuelve la matriz global\n",
    "def globalMatrixCalc(elementsArray, nodeArray):\n",
    "    nodeNumber = len(nodeArray)\n",
    "    elementsNumber = len(elementsArray)\n",
    "    # elementsNumber = elementsArray.size\n",
    "    # Genero la matriz global\n",
    "\n",
    "    globalMatrix = np.zeros((2*nodeNumber, 2*nodeNumber))\n",
    "\n",
    "    for i in range(elementsNumber):\n",
    "        elementMatrix = elementsArray[i].stiffMatrix()\n",
    "        # print('Imprimo la matriz del elemento', i, '\\n', elementMatrix)\n",
    "        cupleA = [2*elementsArray[i].node1.id, 2*elementsArray[i].node1.id + 1]\n",
    "        cupleB = [2*elementsArray[i].node2.id, 2*elementsArray[i].node2.id + 1]\n",
    "\n",
    "        indice1 = np.array([0, 1])\n",
    "        indice2 = np.array([2, 3])\n",
    "\n",
    "        # pdb.set_trace()\n",
    "\n",
    "        globalMatrix[np.ix_(cupleA, cupleA)] += elementMatrix[np.ix_(indice1, indice1)]\n",
    "        globalMatrix[np.ix_(cupleB, cupleA)] += elementMatrix[np.ix_(indice2, indice1)]\n",
    "        globalMatrix[np.ix_(cupleB, cupleB)] += elementMatrix[np.ix_(indice2, indice2)]\n",
    "        globalMatrix[np.ix_(cupleA, cupleB)] += elementMatrix[np.ix_(indice1, indice2)]\n",
    "\n",
    "    return globalMatrix"
   ]
  },
  {
   "cell_type": "markdown",
   "id": "satisfactory-newcastle",
   "metadata": {},
   "source": [
    "Se define la función \"vectorsRS(forcesData, displacementData)\", la cual genera los vec tores de indices de incognicas o de vinculos, según la información que se dé.\n",
    "- Inputs:\n",
    "    * dataVector: Se introduce un array de elementos de la clase \"Force\", en el caso de querer calcular el vector de índices de incógnitas 'r' o de la clase \"Displacement\", en el caso de querer calcular el vector de índices de vinculos\n",
    "- Outputs:\n",
    "    * dataVectorIndex: Devuelve el vector de índices, según los datos suministrados."
   ]
  },
  {
   "cell_type": "code",
   "execution_count": 7,
   "id": "developing-month",
   "metadata": {},
   "outputs": [],
   "source": [
    "def vectorRS(dataVector):\n",
    "    dataNumber = len(dataVector)\n",
    "    dataVectorIndex = []\n",
    "\n",
    "    for i in range(0, dataNumber):\n",
    "        dataVectorIndex.append(dataVector[i].id)\n",
    "\n",
    "    return dataVectorIndex"
   ]
  },
  {
   "cell_type": "markdown",
   "id": "valued-range",
   "metadata": {},
   "source": [
    "#### Sección de testeo"
   ]
  },
  {
   "cell_type": "markdown",
   "id": "exact-spank",
   "metadata": {},
   "source": [
    "Se realiza el testeo de la matriz de rigidez de un elemento. Se compara el resultado con el dado en la presentación \"Método de Elementos\n",
    "Finitos, Ensamble de Matrices Elementales\" de la materia"
   ]
  },
  {
   "cell_type": "code",
   "execution_count": 8,
   "id": "straight-gibraltar",
   "metadata": {},
   "outputs": [],
   "source": [
    "# Test Element\n",
    "def stiffMatrixTest():\n",
    "    n1 = Node(0, 0, 0)\n",
    "    n2 = Node(1, 1, 0)\n",
    "    young = 210E9  # En GPa\n",
    "    # Las secciones estan en metros cuadradoS\n",
    "    e1 = BarElement(n1, n2, young, 0.001)\n",
    "    correct = np.array([[1, 0, -1, 0],\n",
    "                        [0, 0, 0, 0],\n",
    "                        [-1, 0, 1, 0],\n",
    "                        [0, 0, 0, 0]])\n",
    "\n",
    "    nptest.assert_almost_equal(e1.stiffMatrix(), e1.stiffConstant()*correct)\n",
    "\n",
    "\n",
    "stiffMatrixTest()"
   ]
  },
  {
   "cell_type": "markdown",
   "id": "played-uncle",
   "metadata": {},
   "source": [
    ">Acá se pretende hacer el testeo de la matriz global. Que sigue sin darme"
   ]
  },
  {
   "cell_type": "code",
   "execution_count": 9,
   "id": "iraqi-ideal",
   "metadata": {},
   "outputs": [
    {
     "name": "stdout",
     "output_type": "stream",
     "text": [
      "[[ 4.5033e+07  9.3915e+06 -1.8783e+07 -9.3915e+06  0.0000e+00  0.0000e+00 -2.6250e+07  0.0000e+00]\n",
      " [ 9.3915e+06  4.6957e+06 -9.3915e+06 -4.6957e+06  0.0000e+00  0.0000e+00  0.0000e+00  0.0000e+00]\n",
      " [-1.8783e+07 -9.3915e+06  3.7566e+07 -5.5879e-09 -1.8783e+07  9.3915e+06 -3.9369e-25  6.4294e-09]\n",
      " [-9.3915e+06 -4.6957e+06 -5.5879e-09  1.1439e+08  9.3915e+06 -4.6957e+06  6.4294e-09 -1.0500e+08]\n",
      " [ 0.0000e+00  0.0000e+00 -1.8783e+07  9.3915e+06  4.5033e+07 -9.3915e+06 -2.6250e+07  3.2147e-09]\n",
      " [ 0.0000e+00  0.0000e+00  9.3915e+06 -4.6957e+06 -9.3915e+06  4.6957e+06  3.2147e-09 -3.9369e-25]\n",
      " [-2.6250e+07  0.0000e+00 -3.9369e-25  6.4294e-09 -2.6250e+07  3.2147e-09  5.2500e+07 -9.6441e-09]\n",
      " [ 0.0000e+00  0.0000e+00  6.4294e-09 -1.0500e+08  3.2147e-09 -3.9369e-25 -9.6441e-09  1.0500e+08]]\n"
     ]
    },
    {
     "ename": "AssertionError",
     "evalue": "\nArrays are not almost equal to 4 decimals\n\nMismatched elements: 31 / 64 (48.4%)\nMax absolute difference: 45032971.011\nMax relative difference: 1.\n x: array([[ 4.5033e+07,  9.3915e+06, -1.8783e+07, -9.3915e+06,  0.0000e+00,  0.0000e+00, -2.6250e+07,  0.0000e+00],\n       [ 9.3915e+06,  4.6957e+06, -9.3915e+06, -4.6957e+06,  0.0000e+00,  0.0000e+00,  0.0000e+00,  0.0000e+00],\n       [-1.8783e+07, -9.3915e+06,  3.7566e+07, -5.5879e-09, -1.8783e+07,  9.3915e+06, -3.9369e-25,  6.4294e-09],...\n y: array([[ 4.5033e+07,  9.3915e+06, -1.8783e+07, -9.3915e+06,  0.0000e+00,  0.0000e+00, -2.6250e+07,  0.0000e+00],\n       [ 9.3915e+06,  4.6957e+06, -9.3915e+06, -4.6957e+06,  0.0000e+00,  0.0000e+00,  0.0000e+00,  0.0000e+00],\n       [-1.8783e+07, -9.3915e+06,  1.8783e+07,  9.3915e+06,  0.0000e+00,  0.0000e+00,  0.0000e+00,  0.0000e+00],...",
     "output_type": "error",
     "traceback": [
      "\u001b[1;31m---------------------------------------------------------------------------\u001b[0m",
      "\u001b[1;31mAssertionError\u001b[0m                            Traceback (most recent call last)",
      "\u001b[1;32m<ipython-input-9-356f0f41b2b6>\u001b[0m in \u001b[0;36m<module>\u001b[1;34m\u001b[0m\n\u001b[0;32m     32\u001b[0m \u001b[1;33m\u001b[0m\u001b[0m\n\u001b[0;32m     33\u001b[0m \u001b[1;33m\u001b[0m\u001b[0m\n\u001b[1;32m---> 34\u001b[1;33m \u001b[0mglobalMatrixTest\u001b[0m\u001b[1;33m(\u001b[0m\u001b[1;33m)\u001b[0m\u001b[1;33m\u001b[0m\u001b[1;33m\u001b[0m\u001b[0m\n\u001b[0m",
      "\u001b[1;32m<ipython-input-9-356f0f41b2b6>\u001b[0m in \u001b[0;36mglobalMatrixTest\u001b[1;34m()\u001b[0m\n\u001b[0;32m     29\u001b[0m     \u001b[0mcalcMatrix\u001b[0m \u001b[1;33m=\u001b[0m \u001b[0mglobalMatrixCalc\u001b[0m\u001b[1;33m(\u001b[0m\u001b[0melementArray\u001b[0m\u001b[1;33m,\u001b[0m \u001b[0mnodeArray\u001b[0m\u001b[1;33m)\u001b[0m\u001b[1;33m\u001b[0m\u001b[1;33m\u001b[0m\u001b[0m\n\u001b[0;32m     30\u001b[0m     \u001b[0mprint\u001b[0m\u001b[1;33m(\u001b[0m\u001b[0mcalcMatrix\u001b[0m\u001b[1;33m)\u001b[0m\u001b[1;33m\u001b[0m\u001b[1;33m\u001b[0m\u001b[0m\n\u001b[1;32m---> 31\u001b[1;33m     \u001b[0mnptest\u001b[0m\u001b[1;33m.\u001b[0m\u001b[0massert_almost_equal\u001b[0m\u001b[1;33m(\u001b[0m\u001b[0mcalcMatrix\u001b[0m\u001b[1;33m,\u001b[0m \u001b[0mtest\u001b[0m\u001b[1;33m,\u001b[0m \u001b[1;36m4\u001b[0m\u001b[1;33m)\u001b[0m\u001b[1;33m\u001b[0m\u001b[1;33m\u001b[0m\u001b[0m\n\u001b[0m\u001b[0;32m     32\u001b[0m \u001b[1;33m\u001b[0m\u001b[0m\n\u001b[0;32m     33\u001b[0m \u001b[1;33m\u001b[0m\u001b[0m\n",
      "    \u001b[1;31m[... skipping hidden 2 frame]\u001b[0m\n",
      "\u001b[1;32mC:\\WPy64-3920\\python-3.9.2.amd64\\lib\\site-packages\\numpy\\testing\\_private\\utils.py\u001b[0m in \u001b[0;36massert_array_compare\u001b[1;34m(comparison, x, y, err_msg, verbose, header, precision, equal_nan, equal_inf)\u001b[0m\n\u001b[0;32m    840\u001b[0m                                 \u001b[0mverbose\u001b[0m\u001b[1;33m=\u001b[0m\u001b[0mverbose\u001b[0m\u001b[1;33m,\u001b[0m \u001b[0mheader\u001b[0m\u001b[1;33m=\u001b[0m\u001b[0mheader\u001b[0m\u001b[1;33m,\u001b[0m\u001b[1;33m\u001b[0m\u001b[1;33m\u001b[0m\u001b[0m\n\u001b[0;32m    841\u001b[0m                                 names=('x', 'y'), precision=precision)\n\u001b[1;32m--> 842\u001b[1;33m             \u001b[1;32mraise\u001b[0m \u001b[0mAssertionError\u001b[0m\u001b[1;33m(\u001b[0m\u001b[0mmsg\u001b[0m\u001b[1;33m)\u001b[0m\u001b[1;33m\u001b[0m\u001b[1;33m\u001b[0m\u001b[0m\n\u001b[0m\u001b[0;32m    843\u001b[0m     \u001b[1;32mexcept\u001b[0m \u001b[0mValueError\u001b[0m\u001b[1;33m:\u001b[0m\u001b[1;33m\u001b[0m\u001b[1;33m\u001b[0m\u001b[0m\n\u001b[0;32m    844\u001b[0m         \u001b[1;32mimport\u001b[0m \u001b[0mtraceback\u001b[0m\u001b[1;33m\u001b[0m\u001b[1;33m\u001b[0m\u001b[0m\n",
      "\u001b[1;31mAssertionError\u001b[0m: \nArrays are not almost equal to 4 decimals\n\nMismatched elements: 31 / 64 (48.4%)\nMax absolute difference: 45032971.011\nMax relative difference: 1.\n x: array([[ 4.5033e+07,  9.3915e+06, -1.8783e+07, -9.3915e+06,  0.0000e+00,  0.0000e+00, -2.6250e+07,  0.0000e+00],\n       [ 9.3915e+06,  4.6957e+06, -9.3915e+06, -4.6957e+06,  0.0000e+00,  0.0000e+00,  0.0000e+00,  0.0000e+00],\n       [-1.8783e+07, -9.3915e+06,  3.7566e+07, -5.5879e-09, -1.8783e+07,  9.3915e+06, -3.9369e-25,  6.4294e-09],...\n y: array([[ 4.5033e+07,  9.3915e+06, -1.8783e+07, -9.3915e+06,  0.0000e+00,  0.0000e+00, -2.6250e+07,  0.0000e+00],\n       [ 9.3915e+06,  4.6957e+06, -9.3915e+06, -4.6957e+06,  0.0000e+00,  0.0000e+00,  0.0000e+00,  0.0000e+00],\n       [-1.8783e+07, -9.3915e+06,  1.8783e+07,  9.3915e+06,  0.0000e+00,  0.0000e+00,  0.0000e+00,  0.0000e+00],..."
     ]
    }
   ],
   "source": [
    "# Test de GlobalMatrix\n",
    "def globalMatrixTest():\n",
    "    # En GPa, pero al agregar el E9 lo paso a pascales\n",
    "    young = 210E9\n",
    "\n",
    "    n1 = Node(0, 0, 0)\n",
    "    n2 = Node(1, 8, 4)\n",
    "    n3 = Node(2, 16, 0)\n",
    "    n4 = Node(3, 8, 0)\n",
    "    nodeArray = [n1, n2, n3, n4]\n",
    "\n",
    "    # Las secciones estan en metros cuadrados.\n",
    "    e1 = BarElement(n1, n2, young, 0.001)\n",
    "    e2 = BarElement(n1, n4, young, 0.001)\n",
    "    e3 = BarElement(n2, n4, young, 0.002)\n",
    "    e4 = BarElement(n2, n3, young, 0.001)\n",
    "    e5 = BarElement(n3, n4, young, 0.001)\n",
    "\n",
    "    elementArray = [e1, e2, e3, e4, e5]\n",
    "    test = np.array([[4.5033e+07,  9.3915e+06, -1.8783e+07, -9.3915e+06,  0.0000e+00,  0.0000e+00, -2.6250e+07,  0.0000e+00],\n",
    "                     [9.3915e+06,  4.6957e+06, -9.3915e+06, -4.6957e+06,  0.0000e+00,  0.0000e+00,  0.0000e+00,  0.0000e+00],\n",
    "                     [-1.8783e+07, -9.3915e+06,  1.8783e+07,  9.3915e+06,  0.0000e+00,  0.0000e+00,  0.0000e+00,  0.0000e+00],\n",
    "                     [-9.3915e+06, -4.6957e+06,  9.3915e+06,  1.0970e+08,  0.0000e+00,  0.0000e+00,  0.0000e+00, -1.0500e+08],\n",
    "                     [0.0000e+00,  0.0000e+00,  0.0000e+00,  0.0000e+00,  0.0000e+00,  0.0000e+00,  0.0000e+00,  0.0000e+00],\n",
    "                     [0.0000e+00,  0.0000e+00,  0.0000e+00,  0.0000e+00,  0.0000e+00,  0.0000e+00,  0.0000e+00,  0.0000e+00],\n",
    "                     [-2.6250e+07,  0.0000e+00,  0.0000e+00,  0.0000e+00,  0.0000e+00,  0.0000e+00,  2.6250e+07,  0.0000e+00],\n",
    "                     [0.0000e+00,  0.0000e+00,  0.0000e+00, -1.0500e+08,  0.0000e+00,  0.0000e+00,  0.0000e+00,  1.0500e+08]])\n",
    "    # print(globalMatrixCalc(elementArray, nodeArray))\n",
    "    calcMatrix = globalMatrixCalc(elementArray, nodeArray)\n",
    "    print(calcMatrix)\n",
    "    nptest.assert_almost_equal(calcMatrix, test, 4)\n",
    "\n",
    "\n",
    "globalMatrixTest()"
   ]
  },
  {
   "cell_type": "markdown",
   "id": "tutorial-hotel",
   "metadata": {},
   "source": [
    "> Cuando hago la matriz, los elementos del centro me quedan mal. Estoy indexando mal, al parecer, pero no entiendo cómo hacer que quede bien. Por eso no me pasa el test. Se puede ver en el print de la matriz."
   ]
  },
  {
   "cell_type": "markdown",
   "id": "stuffed-constitution",
   "metadata": {},
   "source": [
    "#### Definición de nodos y elementos"
   ]
  },
  {
   "cell_type": "code",
   "execution_count": 10,
   "id": "olympic-delivery",
   "metadata": {},
   "outputs": [],
   "source": [
    "n1 = Node(0, 0, 0)\n",
    "n2 = Node(1, 8, 4)\n",
    "n3 = Node(2, 16, 0)\n",
    "n4 = Node(3, 8, 0)\n",
    "nodeArray = [n1, n2, n3, n4]"
   ]
  },
  {
   "cell_type": "code",
   "execution_count": 11,
   "id": "mental-prompt",
   "metadata": {
    "tags": []
   },
   "outputs": [],
   "source": [
    "young = 210E9  # En Pa\n",
    "# Las secciones estan en metros cuadrados.\n",
    "e1 = BarElement(n1, n2, young, 0.001)\n",
    "e2 = BarElement(n1, n4, young, 0.001)\n",
    "e3 = BarElement(n2, n4, young, 0.002)\n",
    "e4 = BarElement(n2, n3, young, 0.001)\n",
    "e5 = BarElement(n3, n4, young, 0.001)\n",
    "\n",
    "elementsArray = [e1, e2, e3, e4, e5]"
   ]
  },
  {
   "cell_type": "markdown",
   "id": "smaller-certification",
   "metadata": {},
   "source": [
    "> Debería hacer algún for para que me arme directamente el array de elementos. Lo mismo con las fuerzas y los desplazamientos"
   ]
  },
  {
   "cell_type": "code",
   "execution_count": 12,
   "id": "white-efficiency",
   "metadata": {},
   "outputs": [],
   "source": [
    "# Calculo la matrix global\n",
    "globalMatrix = globalMatrixCalc(elementsArray, nodeArray)"
   ]
  },
  {
   "cell_type": "code",
   "execution_count": 21,
   "id": "satisfied-handling",
   "metadata": {},
   "outputs": [],
   "source": [
    "# Datos de fuerzas y desplazamientos que conozco para el ejercicio 2\n",
    "# Puse el value de las fuerzas en NEWTONS\n",
    "f2 = Force(2, 0, 1, 'x')\n",
    "f3 = Force(3, 0, 1, 'y')\n",
    "f4 = Force(4, 0, 2, 'x')\n",
    "f6 = Force(6, -20000, 3, 'y')\n",
    "f7 = Force(7, 0, 3, 'x')\n",
    "# forcesData = [f2.value, f3.value, f4.value, f6.value, f7.value]\n",
    "forcesData = [f2, f3, f4, f6, f7]\n",
    "\n",
    "# Desplazamientos\n",
    "u0 = Displacement(0, 0, 'x')\n",
    "u1 = Displacement(0, 0, 'y')\n",
    "u5 = Displacement(0, 2, 'y')\n",
    "displacementData = [u0, u1, u5]"
   ]
  },
  {
   "cell_type": "markdown",
   "id": "arabic-connectivity",
   "metadata": {},
   "source": [
    "> A comprobar: Si va con las fuerzas en Newton o en otra escala. Sí, van en Newton"
   ]
  },
  {
   "cell_type": "code",
   "execution_count": 22,
   "id": "compatible-occasion",
   "metadata": {},
   "outputs": [
    {
     "data": {
      "text/plain": [
       "[0, 1, 5]"
      ]
     },
     "execution_count": 22,
     "metadata": {},
     "output_type": "execute_result"
    }
   ],
   "source": [
    "rVector = vectorRS(forcesData)\n",
    "sVector = vectorRS(displacementData)\n",
    "# sVector"
   ]
  },
  {
   "cell_type": "code",
   "execution_count": 23,
   "id": "induced-national",
   "metadata": {},
   "outputs": [],
   "source": [
    "# Colocando 2*cantidad de nodos, me aseguro que me funcione siempre que tenga 2D.\n",
    "U = np.zeros((2*len(nodeArray), 1))\n",
    "F = np.zeros((2*len(nodeArray), 1))\n",
    "\n",
    "# Acá tengo una forma de ver todos los .value de un array de clases.\n",
    "U[sVector] = [[d.value] for d in displacementData]\n",
    "F[rVector] = [[d.value] for d in forcesData]"
   ]
  },
  {
   "cell_type": "code",
   "execution_count": 24,
   "id": "prepared-ensemble",
   "metadata": {},
   "outputs": [
    {
     "name": "stdout",
     "output_type": "stream",
     "text": [
      "[[0.]\n",
      " [0.]\n",
      " [0.]]\n",
      "[[ 4.5033e+07  9.3915e+06 -1.8783e+07 -9.3915e+06  0.0000e+00  0.0000e+00 -2.6250e+07  0.0000e+00]\n",
      " [ 9.3915e+06  4.6957e+06 -9.3915e+06 -4.6957e+06  0.0000e+00  0.0000e+00  0.0000e+00  0.0000e+00]\n",
      " [ 0.0000e+00  0.0000e+00  9.3915e+06 -4.6957e+06 -9.3915e+06  4.6957e+06  3.2147e-09 -3.9369e-25]]\n",
      "[[ 0.    ]\n",
      " [ 0.    ]\n",
      " [-0.0004]\n",
      " [ 0.0008]\n",
      " [-0.0008]\n",
      " [ 0.    ]\n",
      " [-0.0008]\n",
      " [ 0.0008]]\n"
     ]
    }
   ],
   "source": [
    "# Cálculo de los desplazamientos y fuerzas\n",
    "auxiliarF = F[rVector] - globalMatrix[np.ix_(rVector, sVector)].dot(U[sVector])\n",
    "U[rVector] = np.linalg.solve(globalMatrix[np.ix_(rVector, rVector)], auxiliarF)\n",
    "# print(F[sVector])\n",
    "# print(globalMatrix[sVector, :])\n",
    "# print(U)\n",
    "F[sVector] = globalMatrix[sVector, :].dot(U)"
   ]
  }
 ],
 "metadata": {
  "kernelspec": {
   "display_name": "Python 3",
   "language": "python",
   "name": "python3"
  },
  "language_info": {
   "codemirror_mode": {
    "name": "ipython",
    "version": 3
   },
   "file_extension": ".py",
   "mimetype": "text/x-python",
   "name": "python",
   "nbconvert_exporter": "python",
   "pygments_lexer": "ipython3",
   "version": "3.9.2"
  }
 },
 "nbformat": 4,
 "nbformat_minor": 5
}
