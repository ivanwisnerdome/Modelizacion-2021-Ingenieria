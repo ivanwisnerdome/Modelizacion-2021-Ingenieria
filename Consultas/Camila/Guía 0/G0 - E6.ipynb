{
 "cells": [
  {
   "cell_type": "markdown",
   "id": "canadian-runner",
   "metadata": {},
   "source": [
    "# Guía 0 - Ejercicio 6"
   ]
  },
  {
   "cell_type": "markdown",
   "id": "prime-language",
   "metadata": {},
   "source": [
    "La fuerza efectiva que realiza el viento sobre el mástil de un bote de velas puede aproximarse por la siguiente\n",
    "expresión:\n",
    "\n",
    "$F = \\int_0^{30} 200(\\frac{z}{5+z})exp\\frac{-2z}{300}dz $ \n",
    "\n",
    "donde F está dada en lbs y las distancias en pies).\n",
    "Estime, utilizando los métodos de trapecios y de Simpson 1/3, cuánto vale la fuerza total y dónde será el punto\n",
    "de acción efectiva de esta fuerza\n",
    "\n",
    "Utilice varios tamaños de paso de integración, entre 5 y 0.05 pies, y estudie la convergencia de cada método.\n"
   ]
  },
  {
   "cell_type": "code",
   "execution_count": 2,
   "id": "successful-image",
   "metadata": {},
   "outputs": [],
   "source": [
    "# Importo todas las librerías\n",
    "import numpy as np\n",
    "# import matplotlib.pyplot as plt\n",
    "import copy\n",
    "# mport random"
   ]
  },
  {
   "cell_type": "markdown",
   "id": "surrounded-recipe",
   "metadata": {},
   "source": [
    "Una forma rápida de definir funciones, es hacerlo através de lambdas, es decir definirlo de la siguiente manera: \n",
    "   \n",
    "   f = lambda argumentos: resultado\n",
    "\n",
    "en lugar de la convencional qeu sería:\n",
    "   \n",
    "   def f(argumentos):\n",
    "        return resultado"
   ]
  },
  {
   "cell_type": "code",
   "execution_count": 1,
   "id": "engaging-craps",
   "metadata": {},
   "outputs": [],
   "source": [
    "# Defino la función que quiero integrar y el intervalo de integración\n",
    "\n",
    "interval = [0, 30]\n",
    "\n",
    "# function = lambda z: 200 * (z / (5 + z)) * np.exp((-2 * z) / 300)\n",
    "\n",
    "\n",
    "def function(z):\n",
    "    result = 200 * (z / (5 + z)) * np.exp((-2 * z) / 300)\n",
    "    return result"
   ]
  },
  {
   "cell_type": "markdown",
   "id": "boxed-relation",
   "metadata": {},
   "source": [
    "Defino los dos métodos de integración por separado, de manera tal de poder llamarlos cuando sean necesario."
   ]
  },
  {
   "cell_type": "markdown",
   "id": "musical-indianapolis",
   "metadata": {},
   "source": [
    "> Preguntar: Cuando en la teorica habla de a - b, es de todo el intervalo o sólo para ese segmento? Es decir, si el intervalo de interés es [-10, 8] y la primer cuenta es el segmento de -10 a 2, el a y el b son -10, 2 o -10 ,5?"
   ]
  },
  {
   "cell_type": "markdown",
   "id": "internal-colonial",
   "metadata": {},
   "source": [
    "Definición de la integración por regla de trapecios"
   ]
  },
  {
   "cell_type": "code",
   "execution_count": 3,
   "id": "about-worship",
   "metadata": {},
   "outputs": [],
   "source": [
    "'''# Estoy asumiendo que todo el intervalo es lo que tengo que poner\n",
    "en las constantes\n",
    "# Definición función: trapezoids\n",
    "# - Realiza la integración por regla del trapecio\n",
    "# Argumentos: (function, interval, step)\n",
    "# - function: Es la función que quiero integrar\n",
    "# - interval: Es el intervalo donde se quiere integrar\n",
    "# - step: Es el paso o tamaño de secciones donde quiero integrar\n",
    "# Devolución: integration\n",
    "# - Devuelve un número correspondiente al valor de la integración de la función\n",
    "# en el intervalo dado'''\n",
    "\n",
    "\n",
    "def trapezoids(function, interval, step):\n",
    "    spacing = np.linspace(interval[0], interval[-1], step)\n",
    "    aux = function(interval[0])\n",
    "\n",
    "    for i in range(1, len(spacing) - 1):\n",
    "        aux += 2 * function(spacing[i])\n",
    "\n",
    "    integration = ((interval[-1] - interval[0]) / 2) * function(interval[-1]) * aux / 2\n",
    "\n",
    "    return integration"
   ]
  },
  {
   "cell_type": "markdown",
   "id": "threatened-registration",
   "metadata": {},
   "source": [
    "> PREGUNTAR: Cómo veo el error en trapecios?\n"
   ]
  },
  {
   "cell_type": "markdown",
   "id": "distinct-spouse",
   "metadata": {},
   "source": [
    "Definición de integración por Simpson"
   ]
  },
  {
   "cell_type": "code",
   "execution_count": 4,
   "id": "specified-deviation",
   "metadata": {},
   "outputs": [],
   "source": [
    "# Estoy asumiendo que todo el intervalo es lo que tengo que poner en las constantes\n",
    "\n",
    "# Definición función: simpson\n",
    "# - Realiza la integración por método de Simpson\n",
    "# Argumentos: (function, interval, step)\n",
    "# - function: Es la función que quiero integrar\n",
    "# - interval: Es el intervalo donde se quiere integrar\n",
    "# - step: Es el paso o tamaño de secciones donde quiero integrar\n",
    "# Devolución: integration\n",
    "# - Devuelve un número correspondiente al valor de la integración de la función\n",
    "# en el intervalo dado\n",
    "\n",
    "def simpson(function, interval, step):\n",
    "    spacing = np.linspace(interval[0], interval[-1], step)\n",
    "    aux = function[0]\n",
    "\n",
    "    for i in range(interval[0], interval[-1], step):\n",
    "        # Separo los n pares de los impares\n",
    "        if i % 2 == 0:\n",
    "            aux += 4 * function(spacing[i])\n",
    "        else:\n",
    "            aux += 2 * function(spacing[i])\n",
    "\n",
    "    integration = (interval[-1] - interval[0]) / (len(interval) - 1) * aux / 3\n",
    "\n",
    "    return integration"
   ]
  },
  {
   "cell_type": "markdown",
   "id": "confused-journey",
   "metadata": {},
   "source": [
    "*Definición de integración por Gauss*"
   ]
  },
  {
   "cell_type": "markdown",
   "id": "cutting-fellowship",
   "metadata": {},
   "source": [
    "Integración numérica por medio de la cuadratura de Gauss. En lugar de definir a priori la posición de los n+1 puntos de muestreo, s elos determinará de manera de obtener el mayor orden de precisión par an dado.\n",
    "\n",
    "Lo que hace es elegir los intervalos de manera tal de disminuir el error en lugar de hacerlo en intervalos iguales."
   ]
  },
  {
   "cell_type": "markdown",
   "id": "stone-beginning",
   "metadata": {},
   "source": [
    "Tengo que definir una función que al llamarla, me dé los valores de coeficientes y valores de y, para poder realizar la cuadratura de Gauss"
   ]
  },
  {
   "cell_type": "code",
   "execution_count": 5,
   "id": "noble-beverage",
   "metadata": {},
   "outputs": [],
   "source": [
    "'''# Definición función: gaussCoef\n",
    "# - Genera los coeficientes necesarios para poder hacer la cuadratura por Gauss\n",
    "# Argumentos: (points)\n",
    "# - points: Doy la cantidad de puntos en los que quiero realizar la cuadratura\n",
    "# Devolución: abscissae, weight\n",
    "# - Devuelve el vector abscissae que contiene las abscisas y los pesos\n",
    "para poder usar Gauss'''\n",
    "\n",
    "\n",
    "def gaussCoef(points):\n",
    "    # Defino previamente los vectores que voy a usar.\n",
    "    abscissae = []\n",
    "    weight = []\n",
    "\n",
    "    if points == 1:\n",
    "        abscissae[0] = 0\n",
    "        weight[0] = 2\n",
    "\n",
    "    elif points == 2:\n",
    "        abscissae[0] = 1/np.sqrt(3)\n",
    "        abscissae[1] = copy.copy(-abscissae[0])\n",
    "\n",
    "        weight[0] = 1\n",
    "        weight[1] = copy.copy(weight[0])\n",
    "\n",
    "    elif points == 3:\n",
    "        abscissae[0] = np.sqrt(0.6)\n",
    "        abscissae[1] = copy.copy(-abscissae[0])\n",
    "        abscissae[2] = 0\n",
    "\n",
    "        weight[0] = 5 / 9\n",
    "        weight[1] = copy.copy(weight[0])\n",
    "        weight[2] = 8 / 9\n",
    "\n",
    "    elif points == 4:\n",
    "        abscissae[0] = 0.861136311594953\n",
    "        abscissae[1] = copy.copy(-abscissae[0])\n",
    "        abscissae[2] = 0.339981043584856\n",
    "        abscissae[3] = copy.copy(-abscissae[2])\n",
    "\n",
    "        weight[0] = 0.347854845137454\n",
    "        weight[1] = copy.copy(weight[0])\n",
    "        weight[2] = 0.652145154862546\n",
    "\n",
    "    elif points == 5:\n",
    "        abscissae[0] = 0.906179845938664\n",
    "        abscissae[1] = copy.copy(-abscissae[0])\n",
    "        abscissae[2] = 0.538469310105683\n",
    "        abscissae[3] = copy.copy(-abscissae[2])\n",
    "        abscissae[4] = 0\n",
    "\n",
    "        weight[0] = 0.236926885056189\n",
    "        weight[1] = copy.copy(weight[0])\n",
    "        weight[2] = 0.478628670499366\n",
    "        weight[3] = copy.copy(weight[0])\n",
    "        weight[4] = 0.568888888888889\n",
    "\n",
    "    elif points == 6:\n",
    "        abscissae[0] = 0.932469514203152\n",
    "        abscissae[1] = copy.copy(-abscissae[0])\n",
    "        abscissae[2] = 0.661209386466265\n",
    "        abscissae[3] = copy.copy(-abscissae[2])\n",
    "        abscissae[4] = 0.238619186083197\n",
    "        abscissae[5] = copy.copy(-abscissae[4])\n",
    "\n",
    "        weight[0] = 0.171324492379170\n",
    "        weight[1] = copy.copy(weight[0])\n",
    "        weight[2] = 0.360761573048139\n",
    "        weight[3] = copy.copy(weight[0])\n",
    "        weight[4] = 0.467913934572691\n",
    "        weight[5] = copy.copy(weight[0])\n",
    "\n",
    "    elif points == 7:\n",
    "        abscissae[0] = 0.949107912342759\n",
    "        abscissae[1] = copy.copy(-abscissae[0])\n",
    "        abscissae[2] = 0.741531185599394\n",
    "        abscissae[3] = copy.copy(-abscissae[2])\n",
    "        abscissae[4] = 0.405845151377397\n",
    "        abscissae[5] = copy.copy(-abscissae[2])\n",
    "        abscissae[7] = 0\n",
    "\n",
    "        weight[0] = 0.129484966168870\n",
    "        weight[1] = copy.copy(weight[0])\n",
    "        weight[2] = 0.279705391489277\n",
    "        weight[3] = copy.copy(weight[0])\n",
    "        weight[4] = 0.381830050505119\n",
    "        weight[5] = copy.copy(weight[0])\n",
    "        weight[6] = 0.417959183673469\n",
    "\n",
    "    else:\n",
    "        print('Sólo puedo calcular con 1 a 7 puntos, volvé a intentar')\n",
    "    return abscissae, weight"
   ]
  },
  {
   "cell_type": "code",
   "execution_count": 6,
   "id": "thermal-fountain",
   "metadata": {},
   "outputs": [],
   "source": [
    "'''Defino la integración por cuadratura de Gauss\n",
    "# Estoy asumiendo que todo el intervalo es lo que tengo que poner\n",
    "en las constantes\n",
    "# El order va a ser la cantidad de puntos que uso y va a determinar\n",
    "qué coeficientes uso en la integración\n",
    "\n",
    "# Definición función: gauss\n",
    "# - Realiza la integración por cuadratura de Gauss\n",
    "# Argumentos: (function, interval, order)\n",
    "# - function: Es la función que quiero integrar\n",
    "# - interval: Es el intervalo donde se quiere integrar\n",
    "# - order: Es el orden de la función que quiero integrar\n",
    "# Devolución: integration\n",
    "# - Devuelve un número correspondiente al valor de la integración de la función\n",
    "# en el intervalo dado\n",
    "'''\n",
    "\n",
    "\n",
    "def gauss(interval, function, order):\n",
    "    # Primero tengo que transformar de t a x\n",
    "    slope = (interval[-1] - interval[0]) / 2\n",
    "    intercept = (interval[-1] + interval[0]) / 2\n",
    "\n",
    "    abscissae, weight = gaussCoef(order)\n",
    "    aux = 0\n",
    "    for i in range(0, order):\n",
    "        # Tengo que evaluar la función en el punto de interés\n",
    "        aux += function(slope * abscissae[i] + intercept) * weight[i]\n",
    "\n",
    "    integration = slope * aux\n",
    "    return integration"
   ]
  }
 ],
 "metadata": {
  "kernelspec": {
   "display_name": "Python 3",
   "language": "python",
   "name": "python3"
  },
  "language_info": {
   "codemirror_mode": {
    "name": "ipython",
    "version": 3
   },
   "file_extension": ".py",
   "mimetype": "text/x-python",
   "name": "python",
   "nbconvert_exporter": "python",
   "pygments_lexer": "ipython3",
   "version": "3.9.2"
  }
 },
 "nbformat": 4,
 "nbformat_minor": 5
}
