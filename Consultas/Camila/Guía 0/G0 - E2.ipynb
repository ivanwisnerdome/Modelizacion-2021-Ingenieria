{
 "cells": [
  {
   "cell_type": "markdown",
   "id": "later-slide",
   "metadata": {},
   "source": [
    "### Guia 0 - Ejercicio 2"
   ]
  },
  {
   "cell_type": "markdown",
   "id": "induced-retreat",
   "metadata": {},
   "source": [
    "La función exponencial se puede calcular como la serie:\n",
    "\n",
    "* Evalúe la serie para calcular  $e^{0,5}$ , agregando sucesivos términos hasta asegurarse al menos 3 cifras\n",
    "significativas correctas. \n",
    "* Comparar con el valor 1.64872127…\n",
    "* Analice los resultados.\n"
   ]
  },
  {
   "cell_type": "code",
   "execution_count": 24,
   "id": "defensive-wisconsin",
   "metadata": {},
   "outputs": [],
   "source": [
    "# Parámetros\n",
    "exp = 0.5         # Es el exponente que voy a evaluar\n",
    "error = 1e-3      # Me va a marcar cuando tenga error menor a 3 cifras\n",
    "e = 1             # Va a controlar el error que estoy teniendo\n",
    "i = 0             # Controlo la cantidad de pasos\n",
    "divisor = 1       # El divisor de cada término\n",
    "dividendo = 1\n",
    "ref = 1.64872127  # Valor de referencia\n",
    "t = 1             # La siempre va a dar un valor mayor a 1 + expontente"
   ]
  },
  {
   "cell_type": "code",
   "execution_count": 25,
   "id": "employed-douglas",
   "metadata": {},
   "outputs": [],
   "source": [
    "# Comienzo a realizar la suma, hasta que el error es menor a 3 cifras\n",
    "while e > error:\n",
    "    i = i + 1\n",
    "    divisor = divisor * i\n",
    "    dividendo = dividendo * exp\n",
    "    t = t + dividendo/divisor\n",
    "\n",
    "    # Compruebo si llegué al valor maximo del error\n",
    "    e = abs(ref - t)"
   ]
  },
  {
   "cell_type": "code",
   "execution_count": 26,
   "id": "hidden-topic",
   "metadata": {},
   "outputs": [
    {
     "name": "stdout",
     "output_type": "stream",
     "text": [
      "Cantidad de términos utilizados: 6\n",
      "El valor obtenido de la serie es: 1.6484375 mientras que el esperable es: 1.64872127\n"
     ]
    }
   ],
   "source": [
    "print(\"Cantidad de términos utilizados:\", i + 2)\n",
    "print(\"El valor obtenido de la serie es:\", t,\n",
    "      'mientras que el esperable es:', ref)"
   ]
  }
 ],
 "metadata": {
  "kernelspec": {
   "display_name": "Python 3",
   "language": "python",
   "name": "python3"
  },
  "language_info": {
   "codemirror_mode": {
    "name": "ipython",
    "version": 3
   },
   "file_extension": ".py",
   "mimetype": "text/x-python",
   "name": "python",
   "nbconvert_exporter": "python",
   "pygments_lexer": "ipython3",
   "version": "3.9.2"
  }
 },
 "nbformat": 4,
 "nbformat_minor": 5
}
