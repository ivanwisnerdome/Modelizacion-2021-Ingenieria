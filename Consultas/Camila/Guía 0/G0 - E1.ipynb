{
 "cells": [
  {
   "cell_type": "markdown",
   "id": "intelligent-walnut",
   "metadata": {},
   "source": [
    "### Guia 0 - Ejercicio 1."
   ]
  },
  {
   "cell_type": "markdown",
   "id": "addressed-shelf",
   "metadata": {},
   "source": [
    "Haga un programa que lea una serie de datos, los asigne a un vector, que los ordene en forma ascendente y que\n",
    "muestre tanto el vector ordenado en pantalla como lo guarde en un archivo."
   ]
  },
  {
   "cell_type": "markdown",
   "id": "damaged-massage",
   "metadata": {},
   "source": [
    "----- Desarrollo-----"
   ]
  },
  {
   "cell_type": "markdown",
   "id": "persistent-remains",
   "metadata": {},
   "source": [
    "Función que lee un archivo, toma los datos y genera una lista"
   ]
  },
  {
   "cell_type": "markdown",
   "id": "environmental-victorian",
   "metadata": {},
   "source": [
    "Función principal que lee una lista de números y la ordena según el criterio de inserción"
   ]
  },
  {
   "cell_type": "code",
   "execution_count": 19,
   "id": "handed-father",
   "metadata": {},
   "outputs": [],
   "source": [
    "def ordenar_ins(lista):\n",
    "    for i in range(len(lista) - 1):\n",
    "        # Si el elemtento de la posición i+1 está desordenado respecto al de la\n",
    "        # posición i, lo reubica dentro del segmento [0,i]\n",
    "        if lista[i + 1] < lista[i]:\n",
    "            reubicar(lista, i + 1)"
   ]
  },
  {
   "cell_type": "markdown",
   "id": "little-tattoo",
   "metadata": {},
   "source": [
    "Función secundaria que reubica el elemento que se encuentra en posición p dentro del segmento"
   ]
  },
  {
   "cell_type": "code",
   "execution_count": 10,
   "id": "heard-premium",
   "metadata": {},
   "outputs": [],
   "source": [
    "def reubicar(lista, p):\n",
    "    # Reubica el elemento que está en posición p de la lista, dentro del\n",
    "    # segmento [0:p-1].\n",
    "\n",
    "    v = lista[p]\n",
    "\n",
    "    # Recorro el segmento [0:p-1] de derecha a izquierda hasta encontrar\n",
    "    # la posición j tal que lista [j-1] <= < lista[j]\n",
    "    j = p\n",
    "\n",
    "    while j > 0 and v < lista[j - 1]:\n",
    "        # Desplazo los elementos a la derecha, para dejar lugar e insertar\n",
    "        # el elemento v donde corresponde\n",
    "        lista[j] = lista[j - 1]\n",
    "        j -= 1\n",
    "\n",
    "    lista[j] = v"
   ]
  },
  {
   "cell_type": "code",
   "execution_count": 20,
   "id": "liked-rental",
   "metadata": {},
   "outputs": [
    {
     "name": "stdout",
     "output_type": "stream",
     "text": [
      "[-1, 0, 2, 2, 3, 5]\n"
     ]
    }
   ],
   "source": [
    "list = [3, 2, -1, 5, 0, 2]\n",
    "ordenar_ins(list)\n",
    "print(list)"
   ]
  }
 ],
 "metadata": {
  "kernelspec": {
   "display_name": "Python 3",
   "language": "python",
   "name": "python3"
  },
  "language_info": {
   "codemirror_mode": {
    "name": "ipython",
    "version": 3
   },
   "file_extension": ".py",
   "mimetype": "text/x-python",
   "name": "python",
   "nbconvert_exporter": "python",
   "pygments_lexer": "ipython3",
   "version": "3.9.2"
  }
 },
 "nbformat": 4,
 "nbformat_minor": 5
}
