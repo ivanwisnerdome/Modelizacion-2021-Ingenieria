{
 "cells": [
  {
   "cell_type": "markdown",
   "id": "respective-hamburg",
   "metadata": {},
   "source": [
    "### Guía 0 - Ejercicio 4"
   ]
  },
  {
   "cell_type": "markdown",
   "id": "proprietary-retirement",
   "metadata": {},
   "source": [
    "Encuentre la solución al sistema [ A]{x }={b} correspondiente el siguiente sistema de ecuaciones:\n",
    "{ x−3 y−2 z = 6\n",
    "2 x−4 y−3 z = 8\n",
    "−3 x+6 y+8 z = −5"
   ]
  },
  {
   "cell_type": "code",
   "execution_count": 11,
   "id": "micro-stroke",
   "metadata": {},
   "outputs": [],
   "source": [
    "# Importo las librerías\n",
    "import numpy as np\n",
    "# import matplotlib.pyplot as plt\n",
    "# import copy\n",
    "# import random"
   ]
  },
  {
   "cell_type": "code",
   "execution_count": 12,
   "id": "straight-hostel",
   "metadata": {},
   "outputs": [],
   "source": [
    "# Defino la matriz\n",
    "A = [[1, -3, -2],\n",
    "     [2, -4, -3],\n",
    "     [-3, 6, 8]]\n",
    "# Ab = np.array([1, -3, -2], [2, -4, -3], [-3, 6, 8])"
   ]
  },
  {
   "cell_type": "code",
   "execution_count": 13,
   "id": "cardiovascular-playing",
   "metadata": {},
   "outputs": [],
   "source": [
    "# Defino mi vector de cargas\n",
    "b = [6, 8, -5]\n",
    "# bb = np.array([6, 8, -5])"
   ]
  },
  {
   "cell_type": "code",
   "execution_count": 14,
   "id": "relative-italic",
   "metadata": {},
   "outputs": [],
   "source": [
    "solution = np.linalg.solve(A, b)\n",
    "# solutionB = np.linalg.solve(Ab, bb)"
   ]
  },
  {
   "cell_type": "code",
   "execution_count": 15,
   "id": "beautiful-scheme",
   "metadata": {},
   "outputs": [
    {
     "data": {
      "text/plain": [
       "array([ 1., -3.,  2.])"
      ]
     },
     "execution_count": 15,
     "metadata": {},
     "output_type": "execute_result"
    }
   ],
   "source": [
    "solution"
   ]
  },
  {
   "cell_type": "code",
   "execution_count": 18,
   "id": "surface-citizen",
   "metadata": {},
   "outputs": [
    {
     "name": "stdout",
     "output_type": "stream",
     "text": [
      "La solución del problema es:\n",
      "x = 1.0 y = -3.0 z = 2.0\n"
     ]
    }
   ],
   "source": [
    "print('La solución del problema es:')\n",
    "print('x =', solution[0], 'y =', solution[1], 'z =', solution[2])"
   ]
  }
 ],
 "metadata": {
  "kernelspec": {
   "display_name": "Python 3",
   "language": "python",
   "name": "python3"
  },
  "language_info": {
   "codemirror_mode": {
    "name": "ipython",
    "version": 3
   },
   "file_extension": ".py",
   "mimetype": "text/x-python",
   "name": "python",
   "nbconvert_exporter": "python",
   "pygments_lexer": "ipython3",
   "version": "3.9.2"
  }
 },
 "nbformat": 4,
 "nbformat_minor": 5
}
