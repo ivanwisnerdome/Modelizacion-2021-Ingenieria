{
 "cells": [
  {
   "cell_type": "markdown",
   "id": "herbal-teddy",
   "metadata": {},
   "source": [
    "### Guía 0 - Ejercicio 5"
   ]
  },
  {
   "cell_type": "markdown",
   "id": "injured-notion",
   "metadata": {},
   "source": [
    "El agua de un lago de zonas templadas puede dividirse en estratos térmicos. Cerca de la superficie el agua es\n",
    "tibia y liviana (epilimnion) y en el fondo más fría y densa (hipolimnion). Lo mismo sucede en reactores\n",
    "químicos. Ambas capas están separadas, aproximadamente, por un plano conocido por thermocline, donde la\n",
    "derivada segunda de la temperatura respecto de la profundidad se hace cero (o la derivada primera tiene su\n",
    "máximo). A esta profundidad el flujo de calor de la superficie al fondo de la capa se puede calcular con la ley de\n",
    "Fourier, $$ J=−k dT/dz $$\n",
    ". Dados los datos de la tabla siguiente, correspondientes a la temperatura del líquido de\n",
    "un reactor en función de la profundidad y usando el método de splines, realice un ajuste de la temperatura en\n",
    "función de la profundidad y de su derivada. Encuentre la posición aproximada de la thermocline y calcule el\n",
    "flujo de calor a través de la interfaz (tome k=0.01 cal(s . cmºC) )\n",
    "\n",
    "\n",
    "z(m) 0 0.5 1.0 1.5 2.0 2.5 3.0\n",
    "\n",
    "T (C) 70 68 55 22 13 11 10"
   ]
  },
  {
   "cell_type": "code",
   "execution_count": 1,
   "id": "supported-fight",
   "metadata": {},
   "outputs": [],
   "source": [
    "import matplotlib.pyplot as plt\n",
    "import numpy as np\n",
    "# tiene las herramientas de algebra lineal y otras herramientas\n",
    "import copy\n",
    "# Tengo que importarlo, porque python autom'aticamente genera punteros,\n",
    "# y de esta manera, genero que se salve haicendo una copia."
   ]
  },
  {
   "cell_type": "code",
   "execution_count": 2,
   "id": "otherwise-creativity",
   "metadata": {},
   "outputs": [],
   "source": [
    "z, T = np.loadtxt('DATOS_Guia0_Problema6.dat.txt', unpack=True)\n",
    "# El unpack hace que pueda separarlo en columnas distintas.\n",
    "n = len(T)"
   ]
  },
  {
   "cell_type": "markdown",
   "id": "novel-belief",
   "metadata": {},
   "source": [
    "Cuando tengo # en una fila al principio lo toma como un comentario"
   ]
  },
  {
   "cell_type": "markdown",
   "id": "presidential-direction",
   "metadata": {},
   "source": [
    "Ahora recordando la clase de Rubén, donde explicabamos los splines...S"
   ]
  },
  {
   "cell_type": "code",
   "execution_count": 3,
   "id": "tested-moisture",
   "metadata": {},
   "outputs": [
    {
     "data": {
      "text/plain": [
       "Text(0, 0.5, 'T')"
      ]
     },
     "execution_count": 3,
     "metadata": {},
     "output_type": "execute_result"
    },
    {
     "data": {
      "image/png": "[encoded data removed]",
      "text/plain": [
       "<Figure size 432x288 with 1 Axes>"
      ]
     },
     "metadata": {
      "needs_background": "light"
     },
     "output_type": "display_data"
    }
   ],
   "source": [
    "plt.plot(z, T, 'o', ms=10)\n",
    "# ms es \"marker size\"', que es el tamaño de los puntitos'\n",
    "plt.xlabel('Z')\n",
    "plt.ylabel('T')"
   ]
  },
  {
   "cell_type": "markdown",
   "id": "nearby-payment",
   "metadata": {},
   "source": [
    "* Tengo que generar los vectores h. Los vectores bi van a ser el resultado del calculo de la matriz. \n",
    "* El vector de carga es D. Aprovecho a formularlo en uno de los for.\n",
    "\n",
    "* Tengo n-1 intervalos y n-2 polinomios continuos y dos veces derivable\n",
    "* los polimeros y las derivadas tienen que valer lo mismo en las intersecciones para las condiciones de contorno que me faltan, impogo que la derivada segunda es cero"
   ]
  },
  {
   "cell_type": "code",
   "execution_count": 4,
   "id": "starting-interference",
   "metadata": {},
   "outputs": [],
   "source": [
    "H = []\n",
    "# D = np.zeros([n]) #también podria usar 1,n\n",
    "D = []\n",
    "for i in range(n-1):\n",
    "    # los range nunca incluyen el extremo derecho,\n",
    "    # entonces el ultimo umero que hace es n-1 si pongo n.\n",
    "    H.append(z[i+1] - z[i])  # Defino el vector de intervalos"
   ]
  },
  {
   "cell_type": "code",
   "execution_count": 5,
   "id": "circular-polls",
   "metadata": {},
   "outputs": [
    {
     "data": {
      "text/plain": [
       "[0.5, 0.5, 0.5, 0.5, 0.5, 0.5]"
      ]
     },
     "execution_count": 5,
     "metadata": {},
     "output_type": "execute_result"
    }
   ],
   "source": [
    "H"
   ]
  },
  {
   "cell_type": "markdown",
   "id": "attached-japanese",
   "metadata": {},
   "source": [
    "Defino la matriz"
   ]
  },
  {
   "cell_type": "code",
   "execution_count": 6,
   "id": "acquired-waste",
   "metadata": {},
   "outputs": [],
   "source": [
    "matriz = np.zeros([n, n])"
   ]
  },
  {
   "cell_type": "code",
   "execution_count": 7,
   "id": "statewide-afternoon",
   "metadata": {},
   "outputs": [],
   "source": [
    "for i in range(1, n-1):\n",
    "    matriz[i, i-1] = H[i-1]\n",
    "    matriz[i, i] = 2 * (H[i] + H[i-1])\n",
    "    matriz[i, i+1] = H[i]\n",
    "\n",
    "    D.append((T[i+1]-T[i])/H[i]-(T[i]-T[i-1])/H[i-1])\n",
    "    # D[i] = (T[i+1] - T[i])/H[i] - (T[i] - T[i-1])/H[i-1]\n",
    "\n",
    "D.insert(0, 0)\n",
    "D.append(0)\n",
    "D = np.array(D) * 3\n",
    "\n",
    "matriz[0, 0] = 1\n",
    "matriz[n-1, n-1] = 1"
   ]
  },
  {
   "cell_type": "code",
   "execution_count": 8,
   "id": "practical-father",
   "metadata": {},
   "outputs": [
    {
     "data": {
      "text/plain": [
       "array([[1. , 0. , 0. , 0. , 0. , 0. , 0. ],\n",
       "       [0.5, 2. , 0.5, 0. , 0. , 0. , 0. ],\n",
       "       [0. , 0.5, 2. , 0.5, 0. , 0. , 0. ],\n",
       "       [0. , 0. , 0.5, 2. , 0.5, 0. , 0. ],\n",
       "       [0. , 0. , 0. , 0.5, 2. , 0.5, 0. ],\n",
       "       [0. , 0. , 0. , 0. , 0.5, 2. , 0.5],\n",
       "       [0. , 0. , 0. , 0. , 0. , 0. , 1. ]])"
      ]
     },
     "execution_count": 8,
     "metadata": {},
     "output_type": "execute_result"
    }
   ],
   "source": [
    "matriz"
   ]
  },
  {
   "cell_type": "markdown",
   "id": "protective-separation",
   "metadata": {},
   "source": [
    "Queda como tarea escribir el vector de cargas"
   ]
  },
  {
   "cell_type": "code",
   "execution_count": 9,
   "id": "intense-charlotte",
   "metadata": {},
   "outputs": [
    {
     "data": {
      "text/plain": [
       "array([   0.,  -66., -120.,  144.,   42.,    6.,    0.])"
      ]
     },
     "execution_count": 9,
     "metadata": {},
     "output_type": "execute_result"
    }
   ],
   "source": [
    "D"
   ]
  },
  {
   "cell_type": "markdown",
   "id": "productive-vault",
   "metadata": {},
   "source": [
    "Defino el vector b, que será resultante de la matriz y el vector de cargas D"
   ]
  },
  {
   "cell_type": "code",
   "execution_count": 10,
   "id": "brave-mattress",
   "metadata": {},
   "outputs": [],
   "source": [
    "b = np.linalg.solve(matriz, D)"
   ]
  },
  {
   "cell_type": "markdown",
   "id": "informative-brain",
   "metadata": {},
   "source": [
    "Defino los vectores para resolver los spline"
   ]
  },
  {
   "cell_type": "code",
   "execution_count": 11,
   "id": "noticed-worth",
   "metadata": {},
   "outputs": [],
   "source": [
    "a = []\n",
    "c = []\n",
    "d = []\n",
    "\n",
    "for i in range(len(b)-1):\n",
    "    a.append((b[i+1] - b[i]) / (3 * H[i]))\n",
    "    c.append(((T[i+1] - T[i]) / H[i]) - (b[i] * H[i]) - (a[i] * (H[i]**2)))\n",
    "    d.append(T[i])"
   ]
  },
  {
   "cell_type": "markdown",
   "id": "quantitative-functionality",
   "metadata": {},
   "source": [
    "Evalúo los vectores que tengo"
   ]
  },
  {
   "cell_type": "code",
   "execution_count": 12,
   "id": "other-narrow",
   "metadata": {},
   "outputs": [
    {
     "data": {
      "text/plain": [
       "[-1.830769230769231,\n",
       " -8.338461538461537,\n",
       " -54.815384615384616,\n",
       " -48.400000000000006,\n",
       " -3.584615384615386,\n",
       " -3.261538461538461]"
      ]
     },
     "execution_count": 12,
     "metadata": {},
     "output_type": "execute_result"
    }
   ],
   "source": [
    "c"
   ]
  },
  {
   "cell_type": "code",
   "execution_count": 13,
   "id": "enormous-contractor",
   "metadata": {},
   "outputs": [],
   "source": [
    "b = b[:len(b) - 1]"
   ]
  },
  {
   "cell_type": "code",
   "execution_count": 14,
   "id": "objective-recruitment",
   "metadata": {},
   "outputs": [],
   "source": [
    "P = [np.array(a), b, np.array(c), np.array(d)]\n",
    "\n",
    "P = np.array(P)\n",
    "p = np.zeros([len(P[0]), 4])\n",
    "\n",
    "for j in range(4):\n",
    "    p[0][j] = P[j][0]\n",
    "    p[1][j] = P[j][1]\n",
    "    p[2][j] = P[j][2]\n",
    "    p[3][j] = P[j][3]\n",
    "    p[4][j] = P[j][4]\n",
    "    p[5][j] = P[j][5]"
   ]
  },
  {
   "cell_type": "markdown",
   "id": "arranged-shopping",
   "metadata": {},
   "source": [
    "Tengo que centrar los polinomios, para que se genere la continuidad\n",
    "P(z-z[i])"
   ]
  },
  {
   "cell_type": "code",
   "execution_count": 15,
   "id": "valid-artist",
   "metadata": {},
   "outputs": [
    {
     "data": {
      "text/plain": [
       "[<matplotlib.lines.Line2D at 0x2709e9d42b0>]"
      ]
     },
     "execution_count": 15,
     "metadata": {},
     "output_type": "execute_result"
    },
    {
     "data": {
      "image/png": "[encoded data removed]",
      "text/plain": [
       "<Figure size 432x288 with 1 Axes>"
      ]
     },
     "metadata": {
      "needs_background": "light"
     },
     "output_type": "display_data"
    }
   ],
   "source": [
    "for i in range(len(P[0])):\n",
    "    x = np.linspace(z[i], z[i+1], 80)\n",
    "    plt.plot(x, np.polyval(p[i], x - z[i]))\n",
    "plt.plot(z, T, 'o')"
   ]
  },
  {
   "cell_type": "markdown",
   "id": "distributed-championship",
   "metadata": {},
   "source": [
    "Los polinomios quedaron como"
   ]
  },
  {
   "cell_type": "code",
   "execution_count": 16,
   "id": "united-auckland",
   "metadata": {},
   "outputs": [
    {
     "data": {
      "text/plain": [
       "array([[ -8.67692308,   0.        ,  -1.83076923,  70.        ],\n",
       "       [-44.61538462, -13.01538462,  -8.33846154,  68.        ],\n",
       "       [115.13846154, -79.93846154, -54.81538462,  55.        ],\n",
       "       [-63.93846154,  92.76923077, -48.4       ,  22.        ],\n",
       "       [  4.61538462,  -3.13846154,  -3.58461538,  13.        ],\n",
       "       [ -2.52307692,   3.78461538,  -3.26153846,  11.        ]])"
      ]
     },
     "execution_count": 16,
     "metadata": {},
     "output_type": "execute_result"
    }
   ],
   "source": [
    "p"
   ]
  },
  {
   "cell_type": "code",
   "execution_count": 17,
   "id": "compatible-conditions",
   "metadata": {},
   "outputs": [],
   "source": [
    "p1 = copy.copy(p[:, :3])"
   ]
  },
  {
   "cell_type": "markdown",
   "id": "heard-guyana",
   "metadata": {},
   "source": [
    "> Por qué se hace el copy de esta manera? "
   ]
  },
  {
   "cell_type": "code",
   "execution_count": 18,
   "id": "municipal-dakota",
   "metadata": {},
   "outputs": [],
   "source": [
    "p1[:, 0] = p1[:, 0] * 3"
   ]
  },
  {
   "cell_type": "code",
   "execution_count": 19,
   "id": "consistent-samuel",
   "metadata": {},
   "outputs": [],
   "source": [
    "p1[:, 1] = p1[:, 1] * 2"
   ]
  },
  {
   "cell_type": "code",
   "execution_count": 20,
   "id": "bacterial-shark",
   "metadata": {},
   "outputs": [
    {
     "data": {
      "text/plain": [
       "array([[ -26.03076923,    0.        ,   -1.83076923],\n",
       "       [-133.84615385,  -26.03076923,   -8.33846154],\n",
       "       [ 345.41538462, -159.87692308,  -54.81538462],\n",
       "       [-191.81538462,  185.53846154,  -48.4       ],\n",
       "       [  13.84615385,   -6.27692308,   -3.58461538],\n",
       "       [  -7.56923077,    7.56923077,   -3.26153846]])"
      ]
     },
     "execution_count": 20,
     "metadata": {},
     "output_type": "execute_result"
    }
   ],
   "source": [
    "p1"
   ]
  },
  {
   "cell_type": "code",
   "execution_count": 21,
   "id": "wireless-tokyo",
   "metadata": {},
   "outputs": [
    {
     "data": {
      "text/plain": [
       "[<matplotlib.lines.Line2D at 0x2709ea5aa90>]"
      ]
     },
     "execution_count": 21,
     "metadata": {},
     "output_type": "execute_result"
    },
    {
     "data": {
      "image/png": "[encoded data removed]",
      "text/plain": [
       "<Figure size 432x288 with 1 Axes>"
      ]
     },
     "metadata": {
      "needs_background": "light"
     },
     "output_type": "display_data"
    }
   ],
   "source": [
    "Pol = []\n",
    "X = []\n",
    "\n",
    "for i in range(len(P[0])):\n",
    "    x = np.linspace(z[i], z[i+1], 80)\n",
    "    pol1 = np.polyval(p1[i], x - z[i])\n",
    "    plt.plot(x, pol1)\n",
    "    plt.plot(x, np.polyval(p[i], x - z[i]))\n",
    "    Pol.append(pol1)\n",
    "    X.append(x)\n",
    "plt.plot(z, T, 'o')"
   ]
  },
  {
   "cell_type": "code",
   "execution_count": 22,
   "id": "breathing-oakland",
   "metadata": {},
   "outputs": [
    {
     "data": {
      "text/plain": [
       "(0.0, 80.0)"
      ]
     },
     "execution_count": 22,
     "metadata": {},
     "output_type": "execute_result"
    },
    {
     "data": {
      "image/png": "[encoded data removed]",
      "text/plain": [
       "<Figure size 432x288 with 1 Axes>"
      ]
     },
     "metadata": {
      "needs_background": "light"
     },
     "output_type": "display_data"
    }
   ],
   "source": [
    "xx = np.linspace(0, 3, 100)\n",
    "for i in range(len(P[0])):\n",
    "    pol2 = np.polyval(p[i], xx - z[i])\n",
    "    plt.plot(xx, pol2)\n",
    "    # plt.plot(x, np.polyval(p[i], x - z[i]))\n",
    "\n",
    "plt.plot(z, T, 'o')\n",
    "plt.ylim(0, 80)"
   ]
  },
  {
   "cell_type": "markdown",
   "id": "front-income",
   "metadata": {},
   "source": [
    "Lo que hace ravel() es concatenar los arrays que estan en el argumento anterior (matriz)"
   ]
  },
  {
   "cell_type": "code",
   "execution_count": 23,
   "id": "medium-sheriff",
   "metadata": {},
   "outputs": [
    {
     "data": {
      "text/plain": [
       "-73.31269397162684"
      ]
     },
     "execution_count": 23,
     "metadata": {},
     "output_type": "execute_result"
    }
   ],
   "source": [
    "min(np.array(Pol).ravel())"
   ]
  },
  {
   "cell_type": "code",
   "execution_count": 24,
   "id": "former-development",
   "metadata": {},
   "outputs": [],
   "source": [
    "B = np.array(X).ravel()"
   ]
  },
  {
   "cell_type": "code",
   "execution_count": 25,
   "id": "peripheral-intent",
   "metadata": {},
   "outputs": [
    {
     "data": {
      "text/plain": [
       "array([0.        , 0.00632911, 0.01265823, 0.01898734, 0.02531646,\n",
       "       0.03164557, 0.03797468, 0.0443038 , 0.05063291, 0.05696203,\n",
       "       0.06329114, 0.06962025, 0.07594937, 0.08227848, 0.08860759,\n",
       "       0.09493671, 0.10126582, 0.10759494, 0.11392405, 0.12025316,\n",
       "       0.12658228, 0.13291139, 0.13924051, 0.14556962, 0.15189873,\n",
       "       0.15822785, 0.16455696, 0.17088608, 0.17721519, 0.1835443 ,\n",
       "       0.18987342, 0.19620253, 0.20253165, 0.20886076, 0.21518987,\n",
       "       0.22151899, 0.2278481 , 0.23417722, 0.24050633, 0.24683544,\n",
       "       0.25316456, 0.25949367, 0.26582278, 0.2721519 , 0.27848101,\n",
       "       0.28481013, 0.29113924, 0.29746835, 0.30379747, 0.31012658,\n",
       "       0.3164557 , 0.32278481, 0.32911392, 0.33544304, 0.34177215,\n",
       "       0.34810127, 0.35443038, 0.36075949, 0.36708861, 0.37341772,\n",
       "       0.37974684, 0.38607595, 0.39240506, 0.39873418, 0.40506329,\n",
       "       0.41139241, 0.41772152, 0.42405063, 0.43037975, 0.43670886,\n",
       "       0.44303797, 0.44936709, 0.4556962 , 0.46202532, 0.46835443,\n",
       "       0.47468354, 0.48101266, 0.48734177, 0.49367089, 0.5       ,\n",
       "       0.5       , 0.50632911, 0.51265823, 0.51898734, 0.52531646,\n",
       "       0.53164557, 0.53797468, 0.5443038 , 0.55063291, 0.55696203,\n",
       "       0.56329114, 0.56962025, 0.57594937, 0.58227848, 0.58860759,\n",
       "       0.59493671, 0.60126582, 0.60759494, 0.61392405, 0.62025316,\n",
       "       0.62658228, 0.63291139, 0.63924051, 0.64556962, 0.65189873,\n",
       "       0.65822785, 0.66455696, 0.67088608, 0.67721519, 0.6835443 ,\n",
       "       0.68987342, 0.69620253, 0.70253165, 0.70886076, 0.71518987,\n",
       "       0.72151899, 0.7278481 , 0.73417722, 0.74050633, 0.74683544,\n",
       "       0.75316456, 0.75949367, 0.76582278, 0.7721519 , 0.77848101,\n",
       "       0.78481013, 0.79113924, 0.79746835, 0.80379747, 0.81012658,\n",
       "       0.8164557 , 0.82278481, 0.82911392, 0.83544304, 0.84177215,\n",
       "       0.84810127, 0.85443038, 0.86075949, 0.86708861, 0.87341772,\n",
       "       0.87974684, 0.88607595, 0.89240506, 0.89873418, 0.90506329,\n",
       "       0.91139241, 0.91772152, 0.92405063, 0.93037975, 0.93670886,\n",
       "       0.94303797, 0.94936709, 0.9556962 , 0.96202532, 0.96835443,\n",
       "       0.97468354, 0.98101266, 0.98734177, 0.99367089, 1.        ,\n",
       "       1.        , 1.00632911, 1.01265823, 1.01898734, 1.02531646,\n",
       "       1.03164557, 1.03797468, 1.0443038 , 1.05063291, 1.05696203,\n",
       "       1.06329114, 1.06962025, 1.07594937, 1.08227848, 1.08860759,\n",
       "       1.09493671, 1.10126582, 1.10759494, 1.11392405, 1.12025316,\n",
       "       1.12658228, 1.13291139, 1.13924051, 1.14556962, 1.15189873,\n",
       "       1.15822785, 1.16455696, 1.17088608, 1.17721519, 1.1835443 ,\n",
       "       1.18987342, 1.19620253, 1.20253165, 1.20886076, 1.21518987,\n",
       "       1.22151899, 1.2278481 , 1.23417722, 1.24050633, 1.24683544,\n",
       "       1.25316456, 1.25949367, 1.26582278, 1.2721519 , 1.27848101,\n",
       "       1.28481013, 1.29113924, 1.29746835, 1.30379747, 1.31012658,\n",
       "       1.3164557 , 1.32278481, 1.32911392, 1.33544304, 1.34177215,\n",
       "       1.34810127, 1.35443038, 1.36075949, 1.36708861, 1.37341772,\n",
       "       1.37974684, 1.38607595, 1.39240506, 1.39873418, 1.40506329,\n",
       "       1.41139241, 1.41772152, 1.42405063, 1.43037975, 1.43670886,\n",
       "       1.44303797, 1.44936709, 1.4556962 , 1.46202532, 1.46835443,\n",
       "       1.47468354, 1.48101266, 1.48734177, 1.49367089, 1.5       ,\n",
       "       1.5       , 1.50632911, 1.51265823, 1.51898734, 1.52531646,\n",
       "       1.53164557, 1.53797468, 1.5443038 , 1.55063291, 1.55696203,\n",
       "       1.56329114, 1.56962025, 1.57594937, 1.58227848, 1.58860759,\n",
       "       1.59493671, 1.60126582, 1.60759494, 1.61392405, 1.62025316,\n",
       "       1.62658228, 1.63291139, 1.63924051, 1.64556962, 1.65189873,\n",
       "       1.65822785, 1.66455696, 1.67088608, 1.67721519, 1.6835443 ,\n",
       "       1.68987342, 1.69620253, 1.70253165, 1.70886076, 1.71518987,\n",
       "       1.72151899, 1.7278481 , 1.73417722, 1.74050633, 1.74683544,\n",
       "       1.75316456, 1.75949367, 1.76582278, 1.7721519 , 1.77848101,\n",
       "       1.78481013, 1.79113924, 1.79746835, 1.80379747, 1.81012658,\n",
       "       1.8164557 , 1.82278481, 1.82911392, 1.83544304, 1.84177215,\n",
       "       1.84810127, 1.85443038, 1.86075949, 1.86708861, 1.87341772,\n",
       "       1.87974684, 1.88607595, 1.89240506, 1.89873418, 1.90506329,\n",
       "       1.91139241, 1.91772152, 1.92405063, 1.93037975, 1.93670886,\n",
       "       1.94303797, 1.94936709, 1.9556962 , 1.96202532, 1.96835443,\n",
       "       1.97468354, 1.98101266, 1.98734177, 1.99367089, 2.        ,\n",
       "       2.        , 2.00632911, 2.01265823, 2.01898734, 2.02531646,\n",
       "       2.03164557, 2.03797468, 2.0443038 , 2.05063291, 2.05696203,\n",
       "       2.06329114, 2.06962025, 2.07594937, 2.08227848, 2.08860759,\n",
       "       2.09493671, 2.10126582, 2.10759494, 2.11392405, 2.12025316,\n",
       "       2.12658228, 2.13291139, 2.13924051, 2.14556962, 2.15189873,\n",
       "       2.15822785, 2.16455696, 2.17088608, 2.17721519, 2.1835443 ,\n",
       "       2.18987342, 2.19620253, 2.20253165, 2.20886076, 2.21518987,\n",
       "       2.22151899, 2.2278481 , 2.23417722, 2.24050633, 2.24683544,\n",
       "       2.25316456, 2.25949367, 2.26582278, 2.2721519 , 2.27848101,\n",
       "       2.28481013, 2.29113924, 2.29746835, 2.30379747, 2.31012658,\n",
       "       2.3164557 , 2.32278481, 2.32911392, 2.33544304, 2.34177215,\n",
       "       2.34810127, 2.35443038, 2.36075949, 2.36708861, 2.37341772,\n",
       "       2.37974684, 2.38607595, 2.39240506, 2.39873418, 2.40506329,\n",
       "       2.41139241, 2.41772152, 2.42405063, 2.43037975, 2.43670886,\n",
       "       2.44303797, 2.44936709, 2.4556962 , 2.46202532, 2.46835443,\n",
       "       2.47468354, 2.48101266, 2.48734177, 2.49367089, 2.5       ,\n",
       "       2.5       , 2.50632911, 2.51265823, 2.51898734, 2.52531646,\n",
       "       2.53164557, 2.53797468, 2.5443038 , 2.55063291, 2.55696203,\n",
       "       2.56329114, 2.56962025, 2.57594937, 2.58227848, 2.58860759,\n",
       "       2.59493671, 2.60126582, 2.60759494, 2.61392405, 2.62025316,\n",
       "       2.62658228, 2.63291139, 2.63924051, 2.64556962, 2.65189873,\n",
       "       2.65822785, 2.66455696, 2.67088608, 2.67721519, 2.6835443 ,\n",
       "       2.68987342, 2.69620253, 2.70253165, 2.70886076, 2.71518987,\n",
       "       2.72151899, 2.7278481 , 2.73417722, 2.74050633, 2.74683544,\n",
       "       2.75316456, 2.75949367, 2.76582278, 2.7721519 , 2.77848101,\n",
       "       2.78481013, 2.79113924, 2.79746835, 2.80379747, 2.81012658,\n",
       "       2.8164557 , 2.82278481, 2.82911392, 2.83544304, 2.84177215,\n",
       "       2.84810127, 2.85443038, 2.86075949, 2.86708861, 2.87341772,\n",
       "       2.87974684, 2.88607595, 2.89240506, 2.89873418, 2.90506329,\n",
       "       2.91139241, 2.91772152, 2.92405063, 2.93037975, 2.93670886,\n",
       "       2.94303797, 2.94936709, 2.9556962 , 2.96202532, 2.96835443,\n",
       "       2.97468354, 2.98101266, 2.98734177, 2.99367089, 3.        ])"
      ]
     },
     "execution_count": 25,
     "metadata": {},
     "output_type": "execute_result"
    }
   ],
   "source": [
    "B"
   ]
  },
  {
   "cell_type": "markdown",
   "id": "industrial-measurement",
   "metadata": {},
   "source": [
    "Ahora, argmin hace lo mismo que ravel, pero ademas, me da el indice."
   ]
  },
  {
   "cell_type": "code",
   "execution_count": 29,
   "id": "superior-forty",
   "metadata": {},
   "outputs": [],
   "source": [
    "Ind = np.argmin(np.array(Pol))"
   ]
  },
  {
   "cell_type": "code",
   "execution_count": 30,
   "id": "ordered-triumph",
   "metadata": {},
   "outputs": [
    {
     "data": {
      "text/plain": [
       "197"
      ]
     },
     "execution_count": 30,
     "metadata": {},
     "output_type": "execute_result"
    }
   ],
   "source": [
    "Ind"
   ]
  },
  {
   "cell_type": "code",
   "execution_count": 31,
   "id": "egyptian-inspiration",
   "metadata": {},
   "outputs": [
    {
     "data": {
      "text/plain": [
       "1.2341772151898733"
      ]
     },
     "execution_count": 31,
     "metadata": {},
     "output_type": "execute_result"
    }
   ],
   "source": [
    "B[Ind]"
   ]
  }
 ],
 "metadata": {
  "kernelspec": {
   "display_name": "Python 3",
   "language": "python",
   "name": "python3"
  },
  "language_info": {
   "codemirror_mode": {
    "name": "ipython",
    "version": 3
   },
   "file_extension": ".py",
   "mimetype": "text/x-python",
   "name": "python",
   "nbconvert_exporter": "python",
   "pygments_lexer": "ipython3",
   "version": "3.9.2"
  }
 },
 "nbformat": 4,
 "nbformat_minor": 5
}
