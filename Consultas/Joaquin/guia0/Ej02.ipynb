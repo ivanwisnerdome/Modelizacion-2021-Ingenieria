{
 "cells": [
  {
   "cell_type": "code",
   "execution_count": 2,
   "metadata": {},
   "outputs": [],
   "source": [
    "# -*- coding: utf-8 -*-\n",
    "\"\"\"\n",
    "Spyder Editor\n",
    "\n",
    "This is a temporary script file.\n",
    "\"\"\"\n",
    "##Ejercicio 02 Guia 0: Modelizacion\n",
    "\n",
    "import numpy as np  # Importo algebra Lineal\n",
    "\n",
    "def factorial(numero):\n",
    "    fact_total = 1\n",
    "    while numero > 1:\n",
    "        fact_total *= numero\n",
    "        numero -= 1\n",
    "    return fact_total"
   ]
  },
  {
   "cell_type": "markdown",
   "metadata": {},
   "source": [
    "# Ejemplo en clase"
   ]
  },
  {
   "cell_type": "markdown",
   "metadata": {},
   "source": [
    "## Comentario de Forti\n",
    "una tolerancia de $1^{-100}$  es como querer ver un quark en el sol desde el borde del universo. A demas, por cuestiones numéricas, no se puede esperar ver diferencias de más de $10^{-16}$. ¿Esto puse yo en clase ? se ve que no quería que converja."
   ]
  },
  {
   "cell_type": "code",
   "execution_count": 3,
   "metadata": {},
   "outputs": [
    {
     "name": "stdout",
     "output_type": "stream",
     "text": [
      "el valor de e es:  0.5 en el paso  1\n",
      "el valor de e es:  0.1111111111111111 en el paso  2\n",
      "el valor de e es:  0.047058823529411785 en el paso  3\n",
      "el valor de e es:  0.025787965616045846 en el paso  4\n",
      "el valor de e es:  0.016236328785657922 en el paso  5\n",
      "el valor de e es:  0.01114951499609763 en el paso  6\n",
      "el valor de e es:  0.0081249252394031 en el paso  7\n",
      "el valor de e es:  0.006182188679837767 en el paso  8\n",
      "el valor de e es:  0.004860948054755874 en el paso  9\n",
      "el valor de e es:  0.0039219258592721705 en el paso  10\n",
      "el valor de e es:  0.0032307892095253315 en el paso  11\n",
      "el valor de e es:  0.0027074104069501025 en el paso  12\n",
      "el valor de e es:  0.0023015963426776397 en el paso  13\n",
      "el valor de e es:  0.0019806091062267543 en el paso  14\n",
      "el valor de e es:  0.0017223589605843337 en el paso  15\n",
      "el valor de e es:  0.0015115039525264008 en el paso  16\n",
      "el valor de e es:  0.0013371197924318915 en el paso  17\n",
      "el valor de e es:  0.0011912570536566094 en el paso  18\n",
      "el valor de e es:  0.0010680195700017267 en el paso  19\n",
      "el valor de e es:  0.0009629594771674928 en el paso  20\n",
      "la serie conver(gj)e en  20 pasos\n",
      "el valor final de S es: 2.596163243913023\n",
      "la serie no converge\n"
     ]
    }
   ],
   "source": [
    "#EJEMPLO SERIES\n",
    "S=1\n",
    "# Serie: 1/n**2\n",
    "for i in range(1,100):\n",
    "    Sout = S\n",
    "    S += 1/i**2\n",
    "    e = np.abs((Sout-S)/S)     #Error\n",
    "    print('el valor de e es: ', e , 'en el paso ', i)\n",
    "    if e < 1e-3:\n",
    "        print('la serie conver(gj)e en ', i, 'pasos')\n",
    "        break\n",
    "\n",
    "print('el valor final de S es:', S)\n",
    "\n",
    "#Con while\n",
    "e = [1]\n",
    "S = [1]\n",
    "i = 1\n",
    "while e[-1] > 1e-100: \n",
    "    i += 1\n",
    "    S.append( S[-1] + 1/i**2 )\n",
    "    e.append( np.abs((S[-2]-S[-1])/S[-1]) )\n",
    "    if i > 100:\n",
    "        print('la serie no converge')\n",
    "        break\n",
    "\n",
    "\n"
   ]
  },
  {
   "cell_type": "markdown",
   "metadata": {},
   "source": [
    "En cambio una tolerancia de $10^{-3}$ es razonable"
   ]
  },
  {
   "cell_type": "code",
   "execution_count": 4,
   "metadata": {},
   "outputs": [
    {
     "name": "stdout",
     "output_type": "stream",
     "text": [
      "1.6486979166666667 1.64872127 cantidad de pasos: 6 , y con un error de 0.00015795293002684302\n"
     ]
    }
   ],
   "source": [
    "#EJERCICIO 02    \n",
    "#Serie e a la x\n",
    "#1.64872127\n",
    "S = [1]\n",
    "e = [1]\n",
    "i = 1\n",
    "x = 0.5\n",
    "\n",
    "while e[-1] > 1e-3:\n",
    "    S.append(S[-1] + x**i/factorial(i))\n",
    "    e.append(np.abs((S[-2]-S[-1])/S[-1]))\n",
    "    i += 1\n",
    "\n",
    "print(S[-1], '1.64872127', f'cantidad de pasos: {i} , y con un error de {e[-1]}')"
   ]
  },
  {
   "cell_type": "markdown",
   "metadata": {},
   "source": [
    "tambien:"
   ]
  },
  {
   "cell_type": "code",
   "execution_count": 4,
   "metadata": {},
   "outputs": [
    {
     "name": "stdout",
     "output_type": "stream",
     "text": [
      "5! = 120\n"
     ]
    }
   ],
   "source": [
    "print(\n",
    "     \"5! = {}\".format(\n",
    "         np.math.factorial(5)\n",
    "     )\n",
    ")"
   ]
  }
 ],
 "metadata": {
  "kernelspec": {
   "display_name": "Python 3",
   "language": "python",
   "name": "python3"
  },
  "language_info": {
   "codemirror_mode": {
    "name": "ipython",
    "version": 3
   },
   "file_extension": ".py",
   "mimetype": "text/x-python",
   "name": "python",
   "nbconvert_exporter": "python",
   "pygments_lexer": "ipython3",
   "version": "3.9.2"
  }
 },
 "nbformat": 4,
 "nbformat_minor": 4
}
