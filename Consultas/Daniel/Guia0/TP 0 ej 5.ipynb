{
 "cells": [
  {
   "cell_type": "code",
   "execution_count": 1,
   "id": "statutory-minutes",
   "metadata": {},
   "outputs": [],
   "source": [
    "#Ejercicio Splines\n",
    "\n",
    "import numpy as np # Importo algebra Lineal\n",
    "import matplotlib.pyplot as plt # Importo librería de gráficos \n",
    "import copy"
   ]
  },
  {
   "cell_type": "code",
   "execution_count": 2,
   "id": "finished-canvas",
   "metadata": {},
   "outputs": [],
   "source": [
    "#con esta funcion importo los datos de un txt, matriz \n",
    "\n",
    "z,T=np.loadtxt('Datosej5.txt',unpack=True) #Con unpack se da cuenta que tiene dos vectores distintos\n",
    "conductividadtermica=0.01\n"
   ]
  },
  {
   "cell_type": "code",
   "execution_count": 3,
   "id": "norwegian-investigator",
   "metadata": {},
   "outputs": [
    {
     "data": {
      "text/plain": [
       "array([0. , 0.5, 1. , 1.5, 2. , 2.5, 3. ])"
      ]
     },
     "execution_count": 3,
     "metadata": {},
     "output_type": "execute_result"
    }
   ],
   "source": [
    "z"
   ]
  },
  {
   "cell_type": "code",
   "execution_count": 4,
   "id": "integrated-reminder",
   "metadata": {},
   "outputs": [
    {
     "data": {
      "text/plain": [
       "array([70., 68., 55., 22., 13., 11., 10.])"
      ]
     },
     "execution_count": 4,
     "metadata": {},
     "output_type": "execute_result"
    }
   ],
   "source": [
    "T"
   ]
  },
  {
   "cell_type": "code",
   "execution_count": 5,
   "id": "referenced-panic",
   "metadata": {},
   "outputs": [
    {
     "data": {
      "text/plain": [
       "Text(0, 0.5, 'T (ºC)')"
      ]
     },
     "execution_count": 5,
     "metadata": {},
     "output_type": "execute_result"
    },
    {
     "data": {
      "image/png": "[encoded data removed]",
      "text/plain": [
       "<Figure size 432x288 with 1 Axes>"
      ]
     },
     "metadata": {
      "needs_background": "light"
     },
     "output_type": "display_data"
    }
   ],
   "source": [
    "plt.plot(z,T,'o',ms=10) #ms es el tamaño del punto\n",
    "plt.xlabel('z (m)')\n",
    "plt.ylabel('T (ºC)')\n"
   ]
  },
  {
   "cell_type": "code",
   "execution_count": 6,
   "id": "pleasant-victim",
   "metadata": {},
   "outputs": [],
   "source": [
    "#SPLINES\n",
    "# Tengo n puntos, n-1 intervalos entonces voy a encontrar n-1 polinomios\n",
    "#El ensamble de polinomios debe ser continuo,tener derivada primera y segunda continua\n",
    "#Faltan 2 ecuaciones, eso sale dandole las condiciones de borde, por ejemplo que la segunda derivada en los extremos sea nula, \n",
    "# siempre las ecs de contorno tienen diferente forma\n"
   ]
  },
  {
   "cell_type": "code",
   "execution_count": 7,
   "id": "proprietary-hungarian",
   "metadata": {},
   "outputs": [
    {
     "data": {
      "text/plain": [
       "[0.5, 0.5, 0.5, 0.5, 0.5, 0.5]"
      ]
     },
     "execution_count": 7,
     "metadata": {},
     "output_type": "execute_result"
    }
   ],
   "source": [
    "#y=H*b\n",
    "\n",
    "h=[]\n",
    "n=len(z)\n",
    "\n",
    "for i in range (n-1):\n",
    "    h.append(z[i+1]-z[i])   \n",
    "h\n",
    "\n",
    "\n",
    "    \n",
    "\n"
   ]
  },
  {
   "cell_type": "code",
   "execution_count": null,
   "id": "occasional-cooper",
   "metadata": {},
   "outputs": [],
   "source": []
  },
  {
   "cell_type": "code",
   "execution_count": 8,
   "id": "ahead-train",
   "metadata": {},
   "outputs": [
    {
     "name": "stdout",
     "output_type": "stream",
     "text": [
      "[[1.  0.  0.  0.  0.  0.  0. ]\n",
      " [0.5 2.  0.5 0.  0.  0.  0. ]\n",
      " [0.  0.5 2.  0.5 0.  0.  0. ]\n",
      " [0.  0.  0.5 2.  0.5 0.  0. ]\n",
      " [0.  0.  0.  0.5 2.  0.5 0. ]\n",
      " [0.  0.  0.  0.  0.5 2.  0.5]\n",
      " [0.  0.  0.  0.  0.  0.  1. ]]\n",
      "\n",
      "[   0.  -66. -120.  144.   42.    6.    0.]\n"
     ]
    }
   ],
   "source": [
    "#Defino la matriz\n",
    "    \n",
    "matriz=np.zeros([n,n])\n",
    "matriz[0,0]=1\n",
    "matriz[n-1,n-1]=1\n",
    "    \n",
    "\n",
    "# Tambien puedo definir matriz[n-1,n-1]=np.eyes([n,n])\n",
    "y=[]\n",
    "y.append(0)\n",
    "\n",
    "\n",
    "for i in range (1,n-1):\n",
    "    matriz[i,i-1]=h[i-1]\n",
    "    matriz[i,i]=2*(h[i]+h[i-1])\n",
    "    matriz[i,i+1]=h[i]\n",
    "    y.append(((T[i+1]-T[i])/h[i])-((T[i]-T[i-1])/h[i-1]))\n",
    "    \n",
    "\n",
    "y.append(0)\n",
    "y=np.array(y)*3\n",
    "print(matriz)\n",
    "print('')\n",
    "print(y)"
   ]
  },
  {
   "cell_type": "code",
   "execution_count": 9,
   "id": "alien-pulse",
   "metadata": {},
   "outputs": [
    {
     "name": "stdout",
     "output_type": "stream",
     "text": [
      "[  0.         -13.01538462 -79.93846154  92.76923077  -3.13846154\n",
      "   3.78461538   0.        ]\n"
     ]
    }
   ],
   "source": [
    "b=np.linalg.solve(matriz,y)\n",
    "print(b)"
   ]
  },
  {
   "cell_type": "code",
   "execution_count": 10,
   "id": "therapeutic-jimmy",
   "metadata": {},
   "outputs": [],
   "source": [
    "#Ahora voy a calcular los coeficientes de los polinomios"
   ]
  },
  {
   "cell_type": "code",
   "execution_count": 11,
   "id": "cross-velvet",
   "metadata": {},
   "outputs": [
    {
     "name": "stdout",
     "output_type": "stream",
     "text": [
      "[ -8.67692308 -44.61538462 115.13846154 -63.93846154   4.61538462\n",
      "  -2.52307692]\n",
      "[  0.         -13.01538462 -79.93846154  92.76923077  -3.13846154\n",
      "   3.78461538]\n",
      "[ -1.83076923  -8.33846154 -54.81538462 -48.4         -3.58461538\n",
      "  -3.26153846]\n",
      "[70. 68. 55. 22. 13. 11. 10.]\n"
     ]
    }
   ],
   "source": [
    "n=len(b)\n",
    "\n",
    "a=[]\n",
    "c=[]\n",
    "d=T\n",
    "\n",
    "for i in range(1,n):\n",
    "    a.append((1/3)*(b[i]-b[i-1])/h[i-1])\n",
    "    c.append(((T[i]-T[i-1])/h[i-1])-b[i-1]*h[i-1]-a[i-1]*h[i-1]**2)\n",
    "\n",
    "b=b[0:6]\n",
    "d=d[0:6]\n",
    "a=np.array(a)\n",
    "b=np.array(b)\n",
    "c=np.array(c)\n",
    "d=np.array(T)\n",
    "\n",
    "print(a)\n",
    "print(b)\n",
    "print(c)\n",
    "print(d)\n",
    "\n",
    "\n",
    "\n",
    "\n"
   ]
  },
  {
   "cell_type": "code",
   "execution_count": 12,
   "id": "destroyed-living",
   "metadata": {
    "scrolled": true
   },
   "outputs": [],
   "source": [
    "#Crear una matriz con los coeficientes de los polinomios, la transpongo para que queden como filas los polinomios\n",
    "P=[a,b,c,d]"
   ]
  },
  {
   "cell_type": "code",
   "execution_count": 13,
   "id": "plain-juice",
   "metadata": {},
   "outputs": [
    {
     "data": {
      "text/plain": [
       "[array([ -8.67692308, -44.61538462, 115.13846154, -63.93846154,\n",
       "          4.61538462,  -2.52307692]),\n",
       " array([  0.        , -13.01538462, -79.93846154,  92.76923077,\n",
       "         -3.13846154,   3.78461538]),\n",
       " array([ -1.83076923,  -8.33846154, -54.81538462, -48.4       ,\n",
       "         -3.58461538,  -3.26153846]),\n",
       " array([70., 68., 55., 22., 13., 11., 10.])]"
      ]
     },
     "execution_count": 13,
     "metadata": {},
     "output_type": "execute_result"
    }
   ],
   "source": [
    "# mdf_comment\n",
    "P"
   ]
  },
  {
   "cell_type": "markdown",
   "id": "built-welcome",
   "metadata": {},
   "source": [
    "Fijate entonces que P es un objeto de 1 D: es una lista de np.arrays, seguramente la operación transpose no hace lo que buscamos. \n",
    "Por otro lado:"
   ]
  },
  {
   "cell_type": "code",
   "execution_count": 14,
   "id": "effective-event",
   "metadata": {},
   "outputs": [
    {
     "data": {
      "text/plain": [
       "6"
      ]
     },
     "execution_count": 14,
     "metadata": {},
     "output_type": "execute_result"
    }
   ],
   "source": [
    "len(a)"
   ]
  },
  {
   "cell_type": "code",
   "execution_count": 15,
   "id": "express-profit",
   "metadata": {},
   "outputs": [
    {
     "data": {
      "text/plain": [
       "6"
      ]
     },
     "execution_count": 15,
     "metadata": {},
     "output_type": "execute_result"
    }
   ],
   "source": [
    "len(b)"
   ]
  },
  {
   "cell_type": "code",
   "execution_count": 16,
   "id": "considered-implement",
   "metadata": {},
   "outputs": [
    {
     "data": {
      "text/plain": [
       "6"
      ]
     },
     "execution_count": 16,
     "metadata": {},
     "output_type": "execute_result"
    }
   ],
   "source": [
    "len(c)"
   ]
  },
  {
   "cell_type": "code",
   "execution_count": 17,
   "id": "attached-giant",
   "metadata": {},
   "outputs": [
    {
     "data": {
      "text/plain": [
       "7"
      ]
     },
     "execution_count": 17,
     "metadata": {},
     "output_type": "execute_result"
    }
   ],
   "source": [
    "len(d)"
   ]
  },
  {
   "cell_type": "markdown",
   "id": "racial-abuse",
   "metadata": {},
   "source": [
    "una forma más atinada de concatenar estos objetos de  manera adecuada podría ser:"
   ]
  },
  {
   "cell_type": "code",
   "execution_count": 18,
   "id": "promising-database",
   "metadata": {},
   "outputs": [],
   "source": [
    "P = np.vstack([a, b, c, d[:-1]])"
   ]
  },
  {
   "cell_type": "code",
   "execution_count": 19,
   "id": "bulgarian-statistics",
   "metadata": {},
   "outputs": [
    {
     "data": {
      "text/plain": [
       "array([[ -8.67692308, -44.61538462, 115.13846154, -63.93846154,\n",
       "          4.61538462,  -2.52307692],\n",
       "       [  0.        , -13.01538462, -79.93846154,  92.76923077,\n",
       "         -3.13846154,   3.78461538],\n",
       "       [ -1.83076923,  -8.33846154, -54.81538462, -48.4       ,\n",
       "         -3.58461538,  -3.26153846],\n",
       "       [ 70.        ,  68.        ,  55.        ,  22.        ,\n",
       "         13.        ,  11.        ]])"
      ]
     },
     "execution_count": 19,
     "metadata": {},
     "output_type": "execute_result"
    }
   ],
   "source": [
    "P"
   ]
  },
  {
   "cell_type": "markdown",
   "id": "tired-lighting",
   "metadata": {},
   "source": [
    "la función `np.vstac`apila los vectores a lo largo de la dimensión 0 (las filas) que es lo que vos buscás."
   ]
  },
  {
   "cell_type": "code",
   "execution_count": 20,
   "id": "dietary-trading",
   "metadata": {
    "scrolled": true
   },
   "outputs": [
    {
     "name": "stdout",
     "output_type": "stream",
     "text": [
      "Los polinomios son\n",
      "[[ -8.67692308   0.          -1.83076923  70.        ]\n",
      " [-44.61538462 -13.01538462  -8.33846154  68.        ]\n",
      " [115.13846154 -79.93846154 -54.81538462  55.        ]\n",
      " [-63.93846154  92.76923077 -48.4         22.        ]\n",
      " [  4.61538462  -3.13846154  -3.58461538  13.        ]\n",
      " [ -2.52307692   3.78461538  -3.26153846  11.        ]]\n",
      "\n"
     ]
    }
   ],
   "source": [
    "#Transponer la matriz\n",
    "fila=len(P[0]) #6\n",
    "columna=len(P) #4\n",
    "\n",
    "\n",
    "p=np.zeros([fila,columna])\n",
    "\n",
    "for i in range(0,fila): #Fijarse lo raro (0:6) pero imprime 0,1,2,3,4,5 !que garompa!\n",
    "    for j in range(0,columna):\n",
    "        p[i][j]=P[j][i]\n",
    "        \n",
    "print('Los polinomios son')    \n",
    "print(p)\n",
    "print('')\n",
    "\n",
    "# Por que no sirvio usar np.transpose() con P ????????????????\n",
    "\n",
    "\n",
    "\n",
    "#Vamos a derivar\n",
    "\n",
    "#p[:,0] columnas\n",
    "#p[0,:] filas \n",
    "\n",
    "# SE VE QUE POR ALGUNA RAZON MISTERIOSA ESTO NO SIRVE\n",
    "#aux=p"
   ]
  },
  {
   "cell_type": "markdown",
   "id": "going-newman",
   "metadata": {},
   "source": [
    "Esto mismo que vos observás acá nos pasó en la clase (era pasada la hora y yo estaba que me caía dormido y capaz se marearon todos). lo vamos a repasar la próxima.\n",
    "\n",
    "Los _punteros_ punteros son referencias a otras variables. si el tipo de datos a cada lado del igual lo permite, el intérprete de python crea un puntero de la variable a la derecha del operador de asignación. eso quiere decir que cuando escribas aux en realidad el intérprete busca en memoria a la variabla a la cul el puntero apunta, en este caso p. entonces, cuando cambies aux, en realidad vas a estar cambiando p. La forma de hacerlo es usando `copy`\n",
    "\n",
    "que es lo que hiciste acá abajo. de esta forma creas una copia de p en pdif, que es lo que buscabas al principio."
   ]
  },
  {
   "cell_type": "code",
   "execution_count": 21,
   "id": "tracked-statement",
   "metadata": {},
   "outputs": [
    {
     "name": "stdout",
     "output_type": "stream",
     "text": [
      "Los polinomios derivados son\n",
      "[[ -26.03076923    0.           -1.83076923]\n",
      " [-133.84615385  -26.03076923   -8.33846154]\n",
      " [ 345.41538462 -159.87692308  -54.81538462]\n",
      " [-191.81538462  185.53846154  -48.4       ]\n",
      " [  13.84615385   -6.27692308   -3.58461538]\n",
      " [  -7.56923077    7.56923077   -3.26153846]]\n",
      "\n",
      "En verde es spline\n",
      "En azul la derivada\n"
     ]
    },
    {
     "data": {
      "image/png": "[encoded data removed]",
      "text/plain": [
       "<Figure size 432x288 with 1 Axes>"
      ]
     },
     "metadata": {
      "needs_background": "light"
     },
     "output_type": "display_data"
    }
   ],
   "source": [
    "#pdif=aux[0:fila,0:columna-1]  #y hacerlo con copy SI SIRVE\n",
    "\n",
    "pdif=copy.copy(p[:, :3])\n",
    "\n",
    "contadorinv=columna\n",
    "for i in range(0,columna-1):\n",
    "    contadorinv=contadorinv-1\n",
    "    pdif[:,i]=contadorinv*pdif[:,i]\n",
    "    \n",
    "print('Los polinomios derivados son')\n",
    "print(pdif)\n",
    "print('')\n",
    "\n",
    "#Vamos a graficar el polinomio, la derivada\n",
    "\n",
    "polderivado=[]\n",
    "profundidades=[]\n",
    "\n",
    "for i in range(fila):  #esto imprime 0,1,2,3,4,5\n",
    "    \n",
    "    x=np.linspace(z[i],z[i+1],80)\n",
    "    aux=np.polyval(pdif[i],x-z[i])\n",
    "    lf = plt.plot(x, np.polyval( p[i] , x-z[i] ),'g')[0]\n",
    "    ld = plt.plot(x,aux,'b')[0]\n",
    "    profundidades.append(x)\n",
    "    polderivado.append(aux)\n",
    "    \n",
    "    \n",
    "plt.plot(z,T,'o',ms=10) #ms es el tamaño del punto\n",
    "plt.xlabel('z (m)')\n",
    "plt.ylabel('T (ºC)')\n",
    "plt.legend([lf, ld], ['Función Interpolada', 'Derivada de los polinomios'])\n",
    "\n",
    "print('En verde es spline')\n",
    "print('En azul la derivada')"
   ]
  },
  {
   "cell_type": "code",
   "execution_count": 22,
   "id": "subtle-albuquerque",
   "metadata": {},
   "outputs": [
    {
     "name": "stdout",
     "output_type": "stream",
     "text": [
      "El minimo es: -73.31269397162684\n",
      "El flujo de calor es: 0.7331269397162684 cal/cm^2\n"
     ]
    }
   ],
   "source": [
    "\n",
    "# Calculo ahora el minimo\n",
    "\n",
    "min=np.amin(polderivado)\n",
    "print('El minimo es:',min)\n",
    "\n",
    "#Flujo de calor es en ese punto J=-conductividadtermica*(dT/dz) \n",
    "flujodecalor=-conductividadtermica*min\n",
    "print('El flujo de calor es:',flujodecalor,'cal/cm^2')\n"
   ]
  }
 ],
 "metadata": {
  "kernelspec": {
   "display_name": "Python 3",
   "language": "python",
   "name": "python3"
  },
  "language_info": {
   "codemirror_mode": {
    "name": "ipython",
    "version": 3
   },
   "file_extension": ".py",
   "mimetype": "text/x-python",
   "name": "python",
   "nbconvert_exporter": "python",
   "pygments_lexer": "ipython3",
   "version": "3.9.2"
  }
 },
 "nbformat": 4,
 "nbformat_minor": 5
}
