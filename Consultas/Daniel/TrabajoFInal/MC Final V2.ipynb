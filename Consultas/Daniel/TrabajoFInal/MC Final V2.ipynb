{
 "cells": [
  {
   "cell_type": "markdown",
   "id": "homeless-press",
   "metadata": {},
   "source": [
    "# Simulación del crecimiento de grano de un policristal, red cuadrada en 2D"
   ]
  },
  {
   "cell_type": "markdown",
   "id": "criminal-ordinary",
   "metadata": {},
   "source": [
    "Se utiliza el modelo de Potts y Monte Carlo para la simulacion "
   ]
  },
  {
   "cell_type": "code",
   "execution_count": 1,
   "id": "settled-smoke",
   "metadata": {},
   "outputs": [],
   "source": [
    "import numpy as np #Importo algebra Lineal\n",
    "import matplotlib.pyplot as plt  #Importo librería de gráficos \n",
    "import copy"
   ]
  },
  {
   "cell_type": "code",
   "execution_count": 2,
   "id": "complimentary-sapphire",
   "metadata": {},
   "outputs": [],
   "source": [
    "\n",
    "#Cargar los parametros iniciales \n",
    "\n",
    "# Carga de datos de la red y simulacion\n",
    "\n",
    "n=10 #Tamaño de la red, tamaño de la matriz\n",
    "q=1 #Numero de orientaciones de los granos \"q=1, orientacion es 0 y 1\"\n",
    "MCS=2 #Numero de pasos de MC\n",
    "\n",
    "#Carga de los parametros fisicos\n",
    "Jota=1 #Energia del BDG \n",
    "k=1 #Cte boltzmann\n",
    "T=1 #Temperatura\n"
   ]
  },
  {
   "cell_type": "code",
   "execution_count": 3,
   "id": "informed-richards",
   "metadata": {},
   "outputs": [
    {
     "name": "stdout",
     "output_type": "stream",
     "text": [
      "[[1 0 0 1 0 1 0 1 0 0]\n",
      " [1 1 0 0 1 0 1 1 1 0]\n",
      " [1 1 0 1 0 0 1 1 1 1]\n",
      " [0 1 0 1 1 0 1 1 0 1]\n",
      " [1 1 0 1 0 0 1 1 1 1]\n",
      " [0 0 1 1 0 0 0 1 0 1]\n",
      " [0 0 0 1 0 0 0 0 0 1]\n",
      " [0 1 1 0 0 1 1 0 0 1]\n",
      " [1 1 1 1 1 0 1 0 1 1]\n",
      " [0 1 1 1 1 0 0 1 1 1]]\n",
      "La energia inicial es 44\n"
     ]
    }
   ],
   "source": [
    "# Genero la matriz inicial con las distintas orientaciones\n",
    "\n",
    "Mi=np.round(np.random.rand(n,n)*(q)).astype(int) #Matriz con las orientaciones, matriz de estado, matriz inicial Mi\n",
    "print(Mi)\n",
    "#Primero tengo que calcular la energia de M con la configuracion inicial\n",
    "Ei=0 #Energia inicial\n",
    "\n",
    "for i in range(0,n):\n",
    "    for j in range(0,n):\n",
    "        if Mi[i,j]==1:\n",
    "            aux=1\n",
    "        else:\n",
    "            aux=0\n",
    "            \n",
    "        Ei=Ei+Jota*(1-aux) #Hamiltoniano\n",
    "        \n",
    "print('La energia inicial es', Ei)"
   ]
  },
  {
   "cell_type": "markdown",
   "id": "considered-bride",
   "metadata": {},
   "source": [
    "La idea es que, como es una red cuadrada, voy a elegir un elemento al azar, ese elemento va ser el (1,1), y lo voy a comparar con los primeros vecinos, es decir tengo que agarrar una matriz de 3x3 alrededor de ese elemento. \"Notacion de indices de phyton\""
   ]
  },
  {
   "cell_type": "code",
   "execution_count": 4,
   "id": "joint-favorite",
   "metadata": {},
   "outputs": [],
   "source": [
    "#Calculo de la diferencia de energia y pasos de MC\n",
    "\n",
    "contadorMCS=0\n",
    "\n",
    "MCSvector=[]\n",
    "EnergiaTotvector=[]\n",
    "matricesM=[]\n",
    "\n",
    "M=copy.copy(Mi) # M es Una copia de la matriz inicial, esta es la que voy a modificar\n",
    "\n",
    "\n",
    "for pasosmontecarlo in range(1,MCS+1): #Pasos de MC \n",
    "    contadorMCS=contadorMCS+1  \n",
    "    for puntos in range(0,n*n): #Todos los puntos de la red cuadrada\n",
    "        \n",
    "        E1=0 #Inicializo La energia de comparacion sin el cambio\n",
    "        E2=0 #Inicializo La energia de comparacion con el cambio\n",
    "        \n",
    "        #Tengo que elegir la matriz Index Element State Matrix – IES, es la matriz local asociada de 3x3 \n",
    "        #El medio es infinito, no tiene bordes el problema\n",
    "        #Lo unico que se me ocurre es hacerlo por medio de una matriz ampliada\n",
    "        \n",
    "        matrizampliada=np.zeros([n+2,n+2])\n",
    "\n",
    "        matrizampliada[1:n+1,1:n+1]=M #Cargo la matriz M\n",
    "        matrizampliada[0,1:n+1]=M[n-1,0:n] #Hago la fila de arriba (la fila de arriba seria la abajo de M)\n",
    "        matrizampliada[n+1,1:n+1]=M[0,0:n] #Hago la fila de abajo (la fila de abajo seria la de arriba de M)\n",
    "        matrizampliada[1:n+1,0]=M[0:n,n-1] #Hago la fila de la izquierda\n",
    "        matrizampliada[1:n+1,n+1]=M[0:n,0] #Hago la fila de la derecha\n",
    "        #Asigno los valores de los extremos\n",
    "        matrizampliada[0,0]=M[n-1,n-1]\n",
    "        matrizampliada[0,n+1]=M[n-1,0]\n",
    "        matrizampliada[n+1,0]=M[0,n-1]\n",
    "        matrizampliada[n+1,n+1]=M[0,0]\n",
    "       \n",
    "        # Agarro un punto de red aleatorio\n",
    "        \n",
    "        auxi=(np.round(np.random.rand(1)*(n-1))).astype(int)\n",
    "        auxj=(np.round(np.random.rand(1)*(n-1))).astype(int)\n",
    "        auxantiguo=M[auxi,auxj] #Orientacion del punto aleatorio que elegi, ese punto es en IES es el (1,1)\n",
    "\n",
    "        #Sumo 1 a los indices porque estos son los indices para agarrar de la matriz ampliada\n",
    "        \n",
    "        i=auxi[0]+1\n",
    "        j=auxj[0]+1\n",
    "        \n",
    "        #La matriz IES de 3x3, tengo que calcular la energia sin el cambio IES y con el cambio IES2\n",
    "        IES=matrizampliada[i-1:i+2,j-1:j+2]\n",
    "        IES2=copy.copy(IES)\n",
    "        \n",
    "        #Elijo una orientacion aleatorio para reemplazar en el punto\n",
    "        aleatorio=np.round(np.random.rand(1)*(q)).astype(int)\n",
    "        IES2[1,1]=aleatorio\n",
    "        \n",
    "        #Tengo que recorrer los vecinos de M(1,1) de las matrices locales\n",
    "        #Si son iguales es 1, si no lo son 0\n",
    "        \n",
    "        for l in range(0,3):\n",
    "            for m in range(0,3):\n",
    "                if IES[l,m]==IES[1,1]:\n",
    "                    aux=1\n",
    "                else:\n",
    "                    aux=0\n",
    "                    \n",
    "                E1=E1+Jota*(1-aux) #Hamiltoniano\n",
    "\n",
    "                if IES2[l,m]==IES2[1,1]:\n",
    "                    aux2=1\n",
    "                else:\n",
    "                    aux2=0\n",
    "\n",
    "                E2=E2+Jota*(1-aux2) #Hamiltoniano\n",
    "        \n",
    "\n",
    "        #Aca tengo que evaluar la diferencia de energia E2-E1, y si hago el cambio o no\n",
    "        #Algoritmo de metropolis\n",
    "        \n",
    "        deltaE=E1-E2 #Energiasinelcambio-Energiaconelcambio\n",
    "        \n",
    "        #print('El paso montecarlo es', contadorMCS)\n",
    "        #print('los puntos son', puntos)   \n",
    "        #print('El valor de E1 es', E1)\n",
    "        #print('El valor de E2 es', E2)\n",
    "        #print('El valor de delta',deltaE)\n",
    "        \n",
    "        if deltaE<=0:\n",
    "            M[auxi,auxj]=aleatorio\n",
    "            \n",
    "        elif deltaE>0:\n",
    "            prob=np.exp(-deltaE/(k*T))\n",
    "            aleatorioprob=np.random.rand(1)\n",
    "            if prob>aleatorioprob: \n",
    "                M[auxi,auxj]=aleatorio\n",
    "\n",
    "    Emcs=0   #Energia de M por cada paso monte carlo\n",
    "    for i in range(0,n):\n",
    "        for j in range(0,n):\n",
    "            if M[i,j]==1:\n",
    "                aux=1\n",
    "            else:\n",
    "                aux=0\n",
    "            Emcs=Emcs+Jota*(1-aux) #Hamiltoniano\n",
    "\n",
    "\n",
    "    EnergiaTotvector.append(Emcs)\n",
    "    MCSvector.append(contadorMCS)\n",
    "    matricesM.append(M) \n"
   ]
  },
  {
   "cell_type": "code",
   "execution_count": 5,
   "id": "median-grace",
   "metadata": {},
   "outputs": [
    {
     "name": "stdout",
     "output_type": "stream",
     "text": [
      "[1, 2]\n",
      "[50, 50]\n",
      "[[ 0  0  0  0  0  0  0  0  0  0]\n",
      " [ 0  1 -1 -1  1  0  1  0  1  0]\n",
      " [ 0  1  0  1 -1 -1  1  0  1  0]\n",
      " [ 0  0 -1  0  0  0  0  0  0  0]\n",
      " [ 1  0  0  1  0 -1  1  1  1  0]\n",
      " [ 0 -1  0  0  0  0 -1  0  0  0]\n",
      " [ 0 -1  0  0 -1  0 -1  0  0  0]\n",
      " [-1  0  1  0  0  0  0 -1  0  0]\n",
      " [ 1  0  0  0  0  0  0  0  1  1]\n",
      " [ 0  0  1  1  1  0 -1  0  0  0]]\n",
      "[[0 0 0 0 0 0 0 0 0 0]\n",
      " [0 0 0 0 0 0 0 0 0 0]\n",
      " [0 0 0 0 0 0 0 0 0 0]\n",
      " [0 0 0 0 0 0 0 0 0 0]\n",
      " [0 0 0 0 0 0 0 0 0 0]\n",
      " [0 0 0 0 0 0 0 0 0 0]\n",
      " [0 0 0 0 0 0 0 0 0 0]\n",
      " [0 0 0 0 0 0 0 0 0 0]\n",
      " [0 0 0 0 0 0 0 0 0 0]\n",
      " [0 0 0 0 0 0 0 0 0 0]]\n"
     ]
    }
   ],
   "source": [
    "#Para probar como cambian las matrices\n",
    "\n",
    "print(MCSvector)\n",
    "print(EnergiaTotvector)\n",
    "print(Mi-matricesM[0])\n",
    "print(matricesM[0]-matricesM[1])\n",
    "#print(matricesM[1]-matricesM[2])\n",
    "#print(matricesM[2]-matricesM[3])\n",
    "#print(matricesM[3]-matricesM[4])"
   ]
  },
  {
   "cell_type": "code",
   "execution_count": 10,
   "id": "departmental-festival",
   "metadata": {},
   "outputs": [
    {
     "name": "stdout",
     "output_type": "stream",
     "text": [
      "Matriz inicial\n"
     ]
    },
    {
     "data": {
      "image/png": "[encoded data removed]",
      "text/plain": [
       "<Figure size 432x288 with 1 Axes>"
      ]
     },
     "metadata": {
      "needs_background": "light"
     },
     "output_type": "display_data"
    },
    {
     "name": "stdout",
     "output_type": "stream",
     "text": [
      "Matrices de paso MC del paso i\n"
     ]
    },
    {
     "data": {
      "image/png": "[encoded data removed]",
      "text/plain": [
       "<Figure size 432x288 with 1 Axes>"
      ]
     },
     "metadata": {
      "needs_background": "light"
     },
     "output_type": "display_data"
    }
   ],
   "source": [
    "print('Matriz inicial')\n",
    "plt.imshow(Mi)\n",
    "plt.show()\n",
    "print('Matrices de paso MC del paso i')\n",
    "plt.imshow(matricesM[0])\n",
    "plt.show()"
   ]
  },
  {
   "cell_type": "code",
   "execution_count": null,
   "id": "simplified-patient",
   "metadata": {},
   "outputs": [],
   "source": [
    "\n",
    "\n"
   ]
  },
  {
   "cell_type": "code",
   "execution_count": null,
   "id": "going-harvard",
   "metadata": {},
   "outputs": [],
   "source": []
  },
  {
   "cell_type": "code",
   "execution_count": null,
   "id": "beginning-andrews",
   "metadata": {},
   "outputs": [],
   "source": []
  },
  {
   "cell_type": "code",
   "execution_count": null,
   "id": "prime-belgium",
   "metadata": {},
   "outputs": [],
   "source": []
  },
  {
   "cell_type": "code",
   "execution_count": null,
   "id": "outer-welding",
   "metadata": {},
   "outputs": [],
   "source": []
  },
  {
   "cell_type": "code",
   "execution_count": null,
   "id": "unexpected-championship",
   "metadata": {},
   "outputs": [],
   "source": []
  },
  {
   "cell_type": "code",
   "execution_count": null,
   "id": "iraqi-depth",
   "metadata": {},
   "outputs": [],
   "source": []
  },
  {
   "cell_type": "code",
   "execution_count": null,
   "id": "compact-payment",
   "metadata": {},
   "outputs": [],
   "source": []
  },
  {
   "cell_type": "code",
   "execution_count": null,
   "id": "raised-borough",
   "metadata": {},
   "outputs": [],
   "source": []
  },
  {
   "cell_type": "code",
   "execution_count": null,
   "id": "metric-dealing",
   "metadata": {},
   "outputs": [],
   "source": []
  },
  {
   "cell_type": "code",
   "execution_count": null,
   "id": "departmental-hindu",
   "metadata": {},
   "outputs": [],
   "source": []
  },
  {
   "cell_type": "code",
   "execution_count": null,
   "id": "signed-declaration",
   "metadata": {},
   "outputs": [],
   "source": []
  },
  {
   "cell_type": "code",
   "execution_count": null,
   "id": "actual-award",
   "metadata": {},
   "outputs": [],
   "source": []
  },
  {
   "cell_type": "code",
   "execution_count": null,
   "id": "monthly-stuart",
   "metadata": {},
   "outputs": [],
   "source": []
  }
 ],
 "metadata": {
  "kernelspec": {
   "display_name": "Python 3",
   "language": "python",
   "name": "python3"
  },
  "language_info": {
   "codemirror_mode": {
    "name": "ipython",
    "version": 3
   },
   "file_extension": ".py",
   "mimetype": "text/x-python",
   "name": "python",
   "nbconvert_exporter": "python",
   "pygments_lexer": "ipython3",
   "version": "3.9.2"
  }
 },
 "nbformat": 4,
 "nbformat_minor": 5
}
