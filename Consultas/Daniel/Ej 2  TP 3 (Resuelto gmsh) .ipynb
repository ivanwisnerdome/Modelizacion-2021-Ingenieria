{
 "cells": [
  {
   "cell_type": "code",
   "execution_count": 1,
   "id": "color-picnic",
   "metadata": {},
   "outputs": [],
   "source": [
    "import numpy as np # Importo algebra Lineal\n",
    "import matplotlib.pyplot as plt # Importo librería de gráficos \n",
    "import copy\n",
    "import gmsh #Para hacer el mallado"
   ]
  },
  {
   "cell_type": "code",
   "execution_count": 2,
   "id": "metropolitan-illness",
   "metadata": {},
   "outputs": [],
   "source": [
    "#Cargo los datos del problema\n",
    "\n",
    "cp=0.3 #Coeficiente de poisson\n",
    "E=30E6 #[Psi]\n",
    "t=1 # espesor [inch] \n",
    "largo=20 #[inch]\n",
    "altura=10 #[inch]\n",
    "T=1000 #[PSI]\n"
   ]
  },
  {
   "cell_type": "code",
   "execution_count": 3,
   "id": "together-winter",
   "metadata": {},
   "outputs": [],
   "source": [
    "gmsh.initialize() #Abre el programa en phyton"
   ]
  },
  {
   "cell_type": "code",
   "execution_count": 4,
   "id": "norwegian-credits",
   "metadata": {},
   "outputs": [],
   "source": [
    "gmsh.model.add('Agujero') #Armamos el modelo que vamos modificar"
   ]
  },
  {
   "cell_type": "code",
   "execution_count": 5,
   "id": "ethical-western",
   "metadata": {},
   "outputs": [],
   "source": [
    "\n",
    "lc=1 #Factor de escala\n",
    "\n",
    "#La idea es resolver 1/4 de la chapa porque el problema es simetrico\n",
    "p1 = gmsh.model.geo.addPoint(0, 0, 0,lc)\n",
    "p2 = gmsh.model.geo.addPoint(0, altura/2, 0,lc)\n",
    "p3 = gmsh.model.geo.addPoint(largo/2, altura/2, 0,lc) \n",
    "p4 = gmsh.model.geo.addPoint(largo/2, 0, 0,lc)\n",
    "p5 = gmsh.model.geo.addPoint(0,1,0,lc/2)\n",
    "p6 = gmsh.model.geo.addPoint(1,0,0,lc/2)"
   ]
  },
  {
   "cell_type": "code",
   "execution_count": 6,
   "id": "roman-offering",
   "metadata": {},
   "outputs": [],
   "source": [
    "# Hay que definir todo de forma jerargica\n",
    "#Con esto creo las lineas que componen la geometria\n",
    "\n",
    "l1 = gmsh.model.geo.addLine(p5, p2)\n",
    "l2 = gmsh.model.geo.addLine(p2, p3)\n",
    "l3 = gmsh.model.geo.addLine(p3, p4)\n",
    "l4 = gmsh.model.geo.addLine(p4, p6)\n",
    "l5= gmsh.model.geo.addCircleArc(p5,p1 ,p6)  #Creo una parte circular\n",
    "\n",
    "\n",
    "C1 = gmsh.model.geo.addCurveLoop([l1, l2, l3, l4])\n",
    "C2 = gmsh.model.geo.addCurveLoop([l5])\n",
    "\n",
    "#Definos la superficie usando el borde\n",
    "\n",
    "S1 = gmsh.model.geo.addPlaneSurface([C1,C2]) #asi se genera la superifice descontando el circulo"
   ]
  },
  {
   "cell_type": "code",
   "execution_count": 7,
   "id": "thousand-conversation",
   "metadata": {},
   "outputs": [],
   "source": [
    "gmsh.model.geo.synchronize() #Vuelve a sincronizar"
   ]
  },
  {
   "cell_type": "code",
   "execution_count": null,
   "id": "invalid-stewart",
   "metadata": {},
   "outputs": [],
   "source": []
  },
  {
   "cell_type": "code",
   "execution_count": 8,
   "id": "configured-milwaukee",
   "metadata": {},
   "outputs": [],
   "source": [
    "#Physical groups\n",
    "\n",
    "Empotradoy=gmsh.model.addPhysicalGroup(1,[l4])\n",
    "gmsh.model.setPhysicalName(1,Empotradoy,'Empotradoy')\n",
    "\n",
    "Traccionado=gmsh.model.addPhysicalGroup(1,[l3])\n",
    "gmsh.model.setPhysicalName(1,Traccionado,'Traccionado')\n",
    "\n",
    "Empotradox=gmsh.model.addPhysicalGroup(1,[l1])\n",
    "gmsh.model.setPhysicalName(1,Empotradox,'Empotrado x')\n",
    "\n",
    "Superficie = gmsh.model.addPhysicalGroup(2,[S1])\n",
    "gmsh.model.setPhysicalName(2,Superficie, 'Superficie')\n",
    "\n",
    "NodoAgujero= gmsh.model.addPhysicalGroup(0, [p1])\n",
    "gmsh.model.setPhysicalName(0, NodoAgujero, 'Nodo agujero')\n"
   ]
  },
  {
   "cell_type": "code",
   "execution_count": 9,
   "id": "talented-management",
   "metadata": {},
   "outputs": [],
   "source": [
    "gmsh.model.mesh.generate(2)\n",
    "gmsh.fltk.run()"
   ]
  },
  {
   "cell_type": "code",
   "execution_count": 10,
   "id": "hispanic-portuguese",
   "metadata": {},
   "outputs": [],
   "source": [
    "NodeInfo = gmsh.model.mesh.get_nodes()\n",
    "NumeroNodos=NodeInfo[0].shape[0]\n",
    "MN=NodeInfo[1].reshape(NumeroNodos,3)"
   ]
  },
  {
   "cell_type": "code",
   "execution_count": 11,
   "id": "technological-atlas",
   "metadata": {},
   "outputs": [
    {
     "name": "stdout",
     "output_type": "stream",
     "text": [
      "La cantidad de elementos es 60\n"
     ]
    }
   ],
   "source": [
    "ETAGS,ELEMENTS=gmsh.model.mesh.get_elements_by_type(2)\n",
    "MC=ELEMENTS.reshape([ETAGS.shape[0],3])\n",
    "MC=(MC-1).astype(int)\n",
    "print('La cantidad de elementos es',len(MC))\n"
   ]
  },
  {
   "cell_type": "code",
   "execution_count": 12,
   "id": "extensive-reasoning",
   "metadata": {},
   "outputs": [],
   "source": [
    "\n",
    "NodosEmpotrados=gmsh.model.mesh.get_nodes_for_physical_group(1,Empotradox)\n",
    "NodosEmpotrados2=gmsh.model.mesh.get_nodes_for_physical_group(1,Empotradoy)\n",
    "\n",
    "s1=NodosEmpotrados[0].reshape(len(NodosEmpotrados[0]),1) # etiquetas de los nodos empotrados\n",
    "s2=NodosEmpotrados2[0].reshape(len(NodosEmpotrados2[0]),1) #etiquetas de los nodos empotrados 2 \n",
    "S=np.vstack((s1,s2))\n",
    "z=np.zeros([len(NodosEmpotrados[0])+len(NodosEmpotrados2[0]),2])\n",
    "MNE=np.concatenate((S-1,z),axis=1) # indices python\n",
    "MNE=MNE.astype(int) \n",
    "\n",
    "NodosTraccionados=gmsh.model.mesh.get_nodes_for_physical_group(1,Traccionado)\n",
    "\n",
    "s=NodosTraccionados[0].reshape(len(NodosTraccionados[0]),1).astype(int) # etiquetas de los nodos traccionados\n",
    "z=np.zeros([len(NodosTraccionados[0]),2]).astype(int)\n",
    "MNT=np.concatenate((s-1,z),axis=1) # indices python\n",
    "\n",
    "\n"
   ]
  },
  {
   "cell_type": "code",
   "execution_count": 13,
   "id": "starting-complex",
   "metadata": {},
   "outputs": [],
   "source": [
    "#El desplazamiento nulo  a: Borde izquierdo (solo en x), Borde inferior (solo en y) ,Punto del medio de la chapa (en x e y)\n",
    "\n",
    "agujero1 = 2 * (gmsh.model.mesh.get_nodes_for_physical_group(0,NodoAgujero)[0] - 1).astype(int)\n",
    "agujero2= (2 * (gmsh.model.mesh.get_nodes_for_physical_group(0,NodoAgujero)[0] - 1) + 1).astype(int)\n",
    "Smx = 2 * (gmsh.model.mesh.get_nodes_for_physical_group(1,Empotradox)[0] - 1).astype(int)\n",
    "Smy = (2 * (gmsh.model.mesh.get_nodes_for_physical_group(1,Empotradoy)[0] - 1) +1).astype(int)\n"
   ]
  },
  {
   "cell_type": "code",
   "execution_count": 14,
   "id": "controlled-kingdom",
   "metadata": {},
   "outputs": [
    {
     "name": "stdout",
     "output_type": "stream",
     "text": [
      "[[  2  83   0]\n",
      " [  3  83   0]\n",
      " [ 12 166   0]\n",
      " [ 13 166   0]]\n"
     ]
    }
   ],
   "source": [
    "\n",
    "entityTraccionada=gmsh.model.getEntitiesForPhysicalGroup(1,Traccionado)\n",
    "Tgroup,Ttraccionada,Ltraccionada=gmsh.model.mesh.getElements(1,entityTraccionada[0])\n",
    "Ltraccionada=Ltraccionada[0].reshape(Ttraccionada[0].shape[0],2) #es la matriz de conectividad del extremo traccionado\n",
    "\n",
    "#Para distribuir la tension en los elementos de la linea derecha\n",
    "\n",
    "Longitudes=np.abs(MN[Ltraccionada[:,0]-1,1]-MN[Ltraccionada[:,1]-1,1])\n",
    "Tension_ext=T/(altura)\n",
    "\n",
    "#Calculo de las fuerzas sobre la linea derecha\n",
    "\n",
    "for l,linea in enumerate(Ltraccionada-1):\n",
    "    n1 = int(linea[0])   # el -1 es para numerar desde cero\n",
    "    n2 = int(linea[1])\n",
    "    flocal=Tension_ext*Longitudes[l]*t/2\n",
    "    flocal=round(flocal)\n",
    "    MNT[MNT[:,0]==n1,1] += flocal\n",
    "    MNT[MNT[:,0]==n2,1] += flocal\n",
    "    \n",
    "\n",
    "print(MNT)"
   ]
  },
  {
   "cell_type": "code",
   "execution_count": null,
   "id": "front-martial",
   "metadata": {},
   "outputs": [],
   "source": []
  },
  {
   "cell_type": "code",
   "execution_count": 15,
   "id": "intellectual-mitchell",
   "metadata": {},
   "outputs": [
    {
     "name": "stdout",
     "output_type": "stream",
     "text": [
      "el numero de nodos es 42\n"
     ]
    }
   ],
   "source": [
    "#ACA EMPIEZAN LOS CALCULOS\n",
    "\n",
    "nb=len(MNE)\n",
    "nc=len(MNT)\n",
    "n=len(MN)\n",
    "print('el numero de nodos es',n)\n",
    "\n",
    "D=np.array([[1,cp,0],\n",
    "            [cp,1,0],\n",
    "            [0,0,0.5*(1-cp)]] )*E/(1-cp**2)\n",
    "\n"
   ]
  },
  {
   "cell_type": "code",
   "execution_count": 16,
   "id": "higher-warrant",
   "metadata": {},
   "outputs": [],
   "source": [
    "#Matriz de rigidez k global\n",
    "\n",
    "kglobal=np.zeros([n*2,n*2])\n",
    "B=[]\n",
    "for i in range (len(MC)):\n",
    "    A=np.linalg.det([[1,MN[MC[i,0],0],MN[MC[i,0],1]],\n",
    "                    [1,MN[MC[i,2],0],MN[MC[i,2],1]],\n",
    "                    [1,MN[MC[i,1],0],MN[MC[i,1],1]]])/2\n",
    "    \n",
    "    \n",
    "    betai=MN[MC[i,2],1]-MN[MC[i,1],1]\n",
    "    gammai=MN[MC[i,1],0]-MN[MC[i,2],0]\n",
    "    \n",
    "    betaj=MN[MC[i,1],1]-MN[MC[i,0],1]\n",
    "    gammaj=MN[MC[i,0],0]-MN[MC[i,1],0]\n",
    "    \n",
    "    betam=MN[MC[i,0],1]-MN[MC[i,2],1]\n",
    "    gammam=MN[MC[i,2],0]-MN[MC[i,0],0]\n",
    "    \n",
    "    B.append(np.array([[betai,0,betaj,0,betam,0],\n",
    "                       [0,gammai,0,gammaj,0,gammam],\n",
    "                       [gammai,betai,gammaj,betaj,gammam,betam]])*(1/(2*A)))\n",
    "    \n",
    "\n",
    "    k= t * abs(A) * (np.dot(np.transpose(B[i]), np.dot(D,B[i])))\n",
    "    \n",
    "    i,m,j = MC[i,:]    \n",
    "    index=np.array([i*2,i*2+1,j*2,j*2+1,m*2,m*2+1])\n",
    "    kglobal[np.ix_(index,index)]+=k\n"
   ]
  },
  {
   "cell_type": "code",
   "execution_count": 17,
   "id": "sophisticated-administration",
   "metadata": {},
   "outputs": [],
   "source": [
    "#CONDICIONES DE CONTORNO\n",
    "\n",
    "#f[i,0]=1 se conoce la fuerza\n",
    "#f[i,0]=0 no se conoce la fuerza\n",
    "#f[i,1]=valor, su valor estara en la segunda columna.\n",
    "\n",
    "f=np.zeros([2*n,2])\n",
    "\n",
    "# introduzco a la matriz f las fuerzas conocidas\n",
    "\n",
    "for i in range (nc):\n",
    "    s=MNT[i,0]\n",
    "    f[2*s,0]=1\n",
    "    f[2*s,1]=MNT[i,1]\n",
    "    f[2*s+1,0]=1\n",
    "    f[2*s+1,1]=MNT[i,2]\n",
    "    \n",
    "# introduzco al vector f las fuerzas que son 0 porque no conozco su desplazamiento\n",
    "\n",
    "for j in range (nb):\n",
    "    if MNE[j,1]==1:\n",
    "        s=MNE[j,0]\n",
    "        f[2*s,0]=1\n",
    "        f[2*s,1]=0\n",
    "    if MNE[j,2]==1:\n",
    "        s=MNE[j,0]\n",
    "        f[2*s+1,0]=1\n",
    "        f[2*s+1,1]=0\n",
    "        \n",
    "        \n",
    "x=np.arange(n) \n",
    "x=np.delete(x,[np.concatenate((MNE[:,0].astype(int),MNT[:,0].astype(int)))]) #tiene adentro los nodos en los que no se pusieron condiciones\n",
    "       \n",
    "\n",
    "if nb+nc <n:\n",
    "    f[2*x,0]=1\n",
    "    f[2*x,1]=0\n",
    "    f[2*x+1,0]=1\n",
    "    f[2*x+1,1]=0\n"
   ]
  },
  {
   "cell_type": "code",
   "execution_count": null,
   "id": "swedish-murder",
   "metadata": {},
   "outputs": [],
   "source": []
  },
  {
   "cell_type": "code",
   "execution_count": 18,
   "id": "social-depth",
   "metadata": {},
   "outputs": [],
   "source": [
    "#El desplazamiento nulo a: Borde izquierdo (solo en x), Borde inferior (solo en y) ,Punto del medio de la chapa (en x e y)\n",
    "\n",
    "indexd=np.sort( np.hstack((agujero1,agujero2,Smx,Smy)))\n",
    "indexf = np.delete( np.arange(2*NumeroNodos) , indexd)\n",
    "\n"
   ]
  },
  {
   "cell_type": "code",
   "execution_count": 19,
   "id": "surprised-taiwan",
   "metadata": {},
   "outputs": [],
   "source": [
    "# selecciono las componentes de Kglobal y resuelvo [F]=[K'][u] como [K']^-1[F]=[u] \n",
    "#teniendo K' las componentes seleccionadas \n",
    "#segun las fuerzas conocidas desde un principio:\n",
    "\n",
    "desplazamientos=np.dot(np.linalg.inv(kglobal[np.ix_(indexf,indexf)]),f[indexf,1])\n",
    "\n",
    "#creo el vector desplazamientos, la notacion es igual que en el vector fuerzas:\n",
    "\n",
    "d=np.zeros([2*NumeroNodos,2])\n",
    "d[indexd,0]=1 \n",
    "d[indexf,1]=desplazamientos\n",
    "f[:,1]=np.dot(kglobal,d[:,1]) # fuerzas faltantes"
   ]
  },
  {
   "cell_type": "code",
   "execution_count": 20,
   "id": "covered-instrument",
   "metadata": {},
   "outputs": [],
   "source": [
    "#Calculo de las tensiones de los elementos\n",
    "\n",
    "tension=[] \n",
    "\n",
    "for s in range (len(MC)) :\n",
    "    i,m,j = MC[s,:]    \n",
    "    index=np.array([i*2,i*2+1,j*2,j*2+1,m*2,m*2+1])\n",
    "    valor=np.dot(np.dot(B[s],d[index,1]),D)\n",
    "    tension.append(valor)\n",
    "    \n",
    "tension = np.array(tension)"
   ]
  },
  {
   "cell_type": "code",
   "execution_count": 21,
   "id": "static-american",
   "metadata": {},
   "outputs": [],
   "source": [
    "#Calculo de las tensiones principales\n",
    "\n",
    "tensionmax=[]\n",
    "tensionmin=[]\n",
    "\n",
    "\n",
    "for p in range (len(tension)):\n",
    "    maximo=(tension[p,0]+tension[p,1])/2+np.sqrt(((tension[p,0]-tension[p,1])/2)**2+tension[p,2]**2)\n",
    "    minimo=(tension[p,0]+tension[p,1])/2-np.sqrt(((tension[p,0]-tension[p,1])/2)**2+tension[p,2]**2)\n",
    "\n",
    "    tensionmax.append(maximo)\n",
    "    tensionmin.append(minimo)\n",
    "    \n",
    "\n",
    "tensionmax = np.array(tensionmax)\n",
    "tensionmin = np.array(tensionmin)\n",
    "\n",
    "#Criterio Tresca, promediotens> (tension de fluencia /2) , entra en fluencia\n",
    "\n",
    "promediotens=(tensionmax-tensionmin)/2\n"
   ]
  },
  {
   "cell_type": "code",
   "execution_count": 22,
   "id": "prepared-dallas",
   "metadata": {},
   "outputs": [],
   "source": [
    "Despx = d[:-1:2,1].reshape(-1,1)\n",
    "Despy = d[1::2,1].reshape(-1,1)"
   ]
  },
  {
   "cell_type": "code",
   "execution_count": 23,
   "id": "public-freeware",
   "metadata": {},
   "outputs": [],
   "source": [
    "DESP=np.hstack((Despx,Despy,np.zeros([NumeroNodos,1])))"
   ]
  },
  {
   "cell_type": "code",
   "execution_count": 24,
   "id": "adequate-coach",
   "metadata": {},
   "outputs": [],
   "source": [
    "desps = gmsh.view.add(\"Desplazamientos\")"
   ]
  },
  {
   "cell_type": "code",
   "execution_count": 25,
   "id": "seventh-reason",
   "metadata": {},
   "outputs": [],
   "source": [
    "Desps = gmsh.view.addModelData(desps, 0, 'Agujero', 'NodeData', NodeInfo[0], DESP, numComponents=3)"
   ]
  },
  {
   "cell_type": "code",
   "execution_count": 26,
   "id": "annual-surfing",
   "metadata": {},
   "outputs": [],
   "source": [
    "Tensiones=gmsh.view.add('Tensiones promedio')"
   ]
  },
  {
   "cell_type": "code",
   "execution_count": 27,
   "id": "advanced-raising",
   "metadata": {},
   "outputs": [],
   "source": [
    "Tensiones = gmsh.view.addModelData(Tensiones, 0, 'Agujero', 'ElementData', ETAGS, promediotens.reshape(-1,1) , numComponents=1 )"
   ]
  },
  {
   "cell_type": "code",
   "execution_count": 28,
   "id": "adequate-praise",
   "metadata": {},
   "outputs": [
    {
     "name": "stdout",
     "output_type": "stream",
     "text": [
      "La cantidad de elementos es 60\n",
      "La cantidad de nodos es 42\n"
     ]
    }
   ],
   "source": [
    "print('La cantidad de elementos es',len(MC))\n",
    "print('La cantidad de nodos es',n)"
   ]
  },
  {
   "cell_type": "code",
   "execution_count": 29,
   "id": "friendly-disaster",
   "metadata": {},
   "outputs": [],
   "source": [
    "gmsh.fltk.run()"
   ]
  },
  {
   "cell_type": "code",
   "execution_count": 30,
   "id": "industrial-memorial",
   "metadata": {},
   "outputs": [],
   "source": [
    "gmsh.finalize()"
   ]
  },
  {
   "cell_type": "code",
   "execution_count": null,
   "id": "forbidden-layout",
   "metadata": {},
   "outputs": [],
   "source": []
  }
 ],
 "metadata": {
  "kernelspec": {
   "display_name": "Python 3",
   "language": "python",
   "name": "python3"
  },
  "language_info": {
   "codemirror_mode": {
    "name": "ipython",
    "version": 3
   },
   "file_extension": ".py",
   "mimetype": "text/x-python",
   "name": "python",
   "nbconvert_exporter": "python",
   "pygments_lexer": "ipython3",
   "version": "3.9.2"
  }
 },
 "nbformat": 4,
 "nbformat_minor": 5
}
